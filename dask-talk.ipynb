{
 "cells": [
  {
   "cell_type": "code",
   "execution_count": 49,
   "metadata": {
    "collapsed": true
   },
   "outputs": [],
   "source": [
    "import os\n",
    "import json\n",
    "import shutil"
   ]
  },
  {
   "cell_type": "code",
   "execution_count": 349,
   "metadata": {
    "collapsed": false
   },
   "outputs": [],
   "source": [
    "pth = os.path.join(os.path.expanduser(\"~/\"), \"bundestag\")\n",
    "files = [os.path.join(pth, f) for f in os.listdir(pth) if os.path.isfile(os.path.join(pth, f))]"
   ]
  },
  {
   "cell_type": "code",
   "execution_count": 51,
   "metadata": {
    "collapsed": false
   },
   "outputs": [
    {
     "data": {
      "text/plain": [
       "(413,\n",
       " ['/home/ubuntu/bundestag/17236.json', '/home/ubuntu/bundestag/17111.json'])"
      ]
     },
     "execution_count": 51,
     "metadata": {},
     "output_type": "execute_result"
    }
   ],
   "source": [
    "len(files), files[:2]"
   ]
  },
  {
   "cell_type": "code",
   "execution_count": 352,
   "metadata": {
    "collapsed": false
   },
   "outputs": [],
   "source": [
    "!mkdir ../bundestag/unravelled"
   ]
  },
  {
   "cell_type": "code",
   "execution_count": 353,
   "metadata": {
    "collapsed": false,
    "scrolled": true
   },
   "outputs": [],
   "source": [
    "speakers = set()\n",
    "for f in files:\n",
    "    if (os.path.isdir(f)):\n",
    "        continue\n",
    "    with open(f) as fh, open(os.path.join(pth, \"unravelled\", os.path.basename(f)), 'w') as fh_out:\n",
    "        docs = json.load(fh)\n",
    "        for d in docs:\n",
    "            speakers.add((d['speaker_fp'], d['speaker_party']))\n",
    "            s = json.dumps(d, fh_out)\n",
    "            fh_out.write(s)\n",
    "            fh_out.write('\\n')"
   ]
  },
  {
   "cell_type": "code",
   "execution_count": 354,
   "metadata": {
    "collapsed": false
   },
   "outputs": [
    {
     "data": {
      "text/plain": [
       "('thomas-koenigs', 'gruene')"
      ]
     },
     "execution_count": 354,
     "metadata": {},
     "output_type": "execute_result"
    }
   ],
   "source": [
    "next(iter(speakers))"
   ]
  },
  {
   "cell_type": "code",
   "execution_count": 355,
   "metadata": {
    "collapsed": false
   },
   "outputs": [
    {
     "data": {
      "text/plain": [
       "3665"
      ]
     },
     "execution_count": 355,
     "metadata": {},
     "output_type": "execute_result"
    }
   ],
   "source": [
    "len(speakers)"
   ]
  },
  {
   "cell_type": "code",
   "execution_count": 356,
   "metadata": {
    "collapsed": false
   },
   "outputs": [
    {
     "data": {
      "text/plain": [
       "1363"
      ]
     },
     "execution_count": 356,
     "metadata": {},
     "output_type": "execute_result"
    }
   ],
   "source": [
    "len(docs)"
   ]
  },
  {
   "cell_type": "code",
   "execution_count": 357,
   "metadata": {
    "collapsed": false
   },
   "outputs": [
    {
     "data": {
      "text/plain": [
       "{'filename': 'data/txt/17170.txt',\n",
       " 'in_writing': False,\n",
       " 'sequence': 1362,\n",
       " 'sitzung': 170,\n",
       " 'speaker': 'Jörg von Polheim (FDP)',\n",
       " 'speaker_cleaned': 'Jörg von Polheim',\n",
       " 'speaker_fp': 'jorg-polheim',\n",
       " 'speaker_party': 'fdp',\n",
       " 'text': '',\n",
       " 'type': 'speech',\n",
       " 'wahlperiode': 17}"
      ]
     },
     "execution_count": 357,
     "metadata": {},
     "output_type": "execute_result"
    }
   ],
   "source": [
    "docs[0]"
   ]
  },
  {
   "cell_type": "code",
   "execution_count": 418,
   "metadata": {
    "collapsed": false
   },
   "outputs": [],
   "source": [
    "import dask.bag as db\n",
    "import json\n",
    "\n",
    "records = db.read_text('../bundestag/unravelled/*.json').map(json.loads)"
   ]
  },
  {
   "cell_type": "code",
   "execution_count": 441,
   "metadata": {
    "collapsed": false
   },
   "outputs": [],
   "source": [
    "records = db.read_text('../bundestag/unravelled/*.json').map(json.loads)\n",
    "g = records.pluck('speaker_fp').distinct()\n",
    "g.visualize(optimize_graph=False, format='pdf')"
   ]
  },
  {
   "cell_type": "markdown",
   "metadata": {},
   "source": [
    "[dask graph](mydask.pdf)"
   ]
  },
  {
   "cell_type": "code",
   "execution_count": 443,
   "metadata": {
    "collapsed": false
   },
   "outputs": [],
   "source": [
    "records.filter(lambda d: d['type'] == 'speech')\\\n",
    "    .pluck('text').map(len)\\\n",
    "    .mean().visualize(filename='dask2', optimize_graph=False, format='pdf')"
   ]
  },
  {
   "cell_type": "markdown",
   "metadata": {},
   "source": [
    "[dask graph](dask2.pdf.pdf)"
   ]
  },
  {
   "cell_type": "code",
   "execution_count": 359,
   "metadata": {
    "collapsed": false
   },
   "outputs": [
    {
     "data": {
      "text/plain": [
       "3548"
      ]
     },
     "execution_count": 359,
     "metadata": {},
     "output_type": "execute_result"
    }
   ],
   "source": [
    "len(records.pluck('speaker_fp').distinct().compute())"
   ]
  },
  {
   "cell_type": "code",
   "execution_count": 360,
   "metadata": {
    "collapsed": false
   },
   "outputs": [
    {
     "data": {
      "text/plain": [
       "3364"
      ]
     },
     "execution_count": 360,
     "metadata": {},
     "output_type": "execute_result"
    }
   ],
   "source": [
    "len(records.filter(lambda d: d['type'] == 'speech').pluck('speaker_fp').distinct().compute())"
   ]
  },
  {
   "cell_type": "code",
   "execution_count": 361,
   "metadata": {
    "collapsed": false
   },
   "outputs": [
    {
     "data": {
      "text/plain": [
       "22"
      ]
     },
     "execution_count": 361,
     "metadata": {},
     "output_type": "execute_result"
    }
   ],
   "source": [
    "len(records.pluck('speaker_party').distinct().compute())"
   ]
  },
  {
   "cell_type": "code",
   "execution_count": 363,
   "metadata": {
    "collapsed": false
   },
   "outputs": [
    {
     "data": {
      "text/plain": [
       "({'filename': 'data/txt/17001.txt',\n",
       "  'in_writing': False,\n",
       "  'sequence': 165,\n",
       "  'sitzung': 1,\n",
       "  'speaker': 'Katrin Göring-Eckardt (BÜNDNIS 90/DIE GRÜNEN)',\n",
       "  'speaker_cleaned': 'Katrin Göring-Eckardt',\n",
       "  'speaker_fp': 'katrin-goring-eckardt',\n",
       "  'speaker_party': 'gruene',\n",
       "  'text': '',\n",
       "  'type': 'speech',\n",
       "  'wahlperiode': 17},)"
      ]
     },
     "execution_count": 363,
     "metadata": {},
     "output_type": "execute_result"
    }
   ],
   "source": [
    "records.filter(lambda d: d['type'] == 'speech').take(1)"
   ]
  },
  {
   "cell_type": "markdown",
   "metadata": {},
   "source": [
    "-----"
   ]
  },
  {
   "cell_type": "code",
   "execution_count": 1,
   "metadata": {
    "collapsed": false
   },
   "outputs": [
    {
     "name": "stderr",
     "output_type": "stream",
     "text": [
      "Using Theano backend.\n"
     ]
    }
   ],
   "source": [
    "from keras.models import Sequential\n",
    "from keras.layers import Dense, Dropout, Activation\n",
    "from keras.optimizers import SGD\n",
    "\n",
    "model = Sequential()\n",
    "# Dense(64) is a fully-connected layer with 64 hidden units.\n",
    "# in the first layer, you must specify the expected input data shape:\n",
    "# here, 20-dimensional vectors.\n",
    "model.add(Dense(64, input_dim=70, init='uniform'))\n",
    "model.add(Activation('tanh'))\n",
    "model.add(Dropout(0.5))\n",
    "model.add(Dense(64, init='uniform'))\n",
    "model.add(Activation('tanh'))\n",
    "model.add(Dropout(0.5))\n",
    "model.add(Dense(10, init='uniform'))\n",
    "model.add(Activation('softmax'))\n",
    "\n",
    "sgd = SGD(lr=0.1, decay=1e-6, momentum=0.9, nesterov=True)\n",
    "model.compile(loss='categorical_crossentropy',\n",
    "              optimizer=sgd,\n",
    "              metrics=['accuracy'])"
   ]
  },
  {
   "cell_type": "code",
   "execution_count": 4,
   "metadata": {
    "collapsed": false,
    "scrolled": true
   },
   "outputs": [
    {
     "data": {
      "image/svg+xml": [
       "<svg height=\"638pt\" viewBox=\"0.00 0.00 222.00 638.00\" width=\"222pt\" xmlns=\"http://www.w3.org/2000/svg\" xmlns:xlink=\"http://www.w3.org/1999/xlink\">\n",
       "<g class=\"graph\" id=\"graph0\" transform=\"scale(1 1) rotate(0) translate(4 634)\">\n",
       "<title>G</title>\n",
       "<polygon fill=\"white\" points=\"-4,4 -4,-634 218,-634 218,4 -4,4\" stroke=\"none\"/>\n",
       "<!-- 140345910608000 -->\n",
       "<g class=\"node\" id=\"node1\"><title>140345910608000</title>\n",
       "<polygon fill=\"none\" points=\"-0.5,-593 -0.5,-629 214.5,-629 214.5,-593 -0.5,-593\" stroke=\"black\"/>\n",
       "<text font-family=\"Times,serif\" font-size=\"14.00\" text-anchor=\"middle\" x=\"107\" y=\"-607.3\">dense_input_1 (InputLayer)</text>\n",
       "</g>\n",
       "<!-- 140345910640424 -->\n",
       "<g class=\"node\" id=\"node2\"><title>140345910640424</title>\n",
       "<polygon fill=\"none\" points=\"40,-519 40,-555 174,-555 174,-519 40,-519\" stroke=\"black\"/>\n",
       "<text font-family=\"Times,serif\" font-size=\"14.00\" text-anchor=\"middle\" x=\"107\" y=\"-533.3\">dense_1 (Dense)</text>\n",
       "</g>\n",
       "<!-- 140345910608000&#45;&gt;140345910640424 -->\n",
       "<g class=\"edge\" id=\"edge1\"><title>140345910608000-&gt;140345910640424</title>\n",
       "<path d=\"M107,-592.937C107,-584.807 107,-574.876 107,-565.705\" fill=\"none\" stroke=\"black\"/>\n",
       "<polygon fill=\"black\" points=\"110.5,-565.441 107,-555.441 103.5,-565.441 110.5,-565.441\" stroke=\"black\"/>\n",
       "</g>\n",
       "<!-- 140345910640480 -->\n",
       "<g class=\"node\" id=\"node3\"><title>140345910640480</title>\n",
       "<polygon fill=\"none\" points=\"10.5,-445 10.5,-481 203.5,-481 203.5,-445 10.5,-445\" stroke=\"black\"/>\n",
       "<text font-family=\"Times,serif\" font-size=\"14.00\" text-anchor=\"middle\" x=\"107\" y=\"-459.3\">activation_1 (Activation)</text>\n",
       "</g>\n",
       "<!-- 140345910640424&#45;&gt;140345910640480 -->\n",
       "<g class=\"edge\" id=\"edge2\"><title>140345910640424-&gt;140345910640480</title>\n",
       "<path d=\"M107,-518.937C107,-510.807 107,-500.876 107,-491.705\" fill=\"none\" stroke=\"black\"/>\n",
       "<polygon fill=\"black\" points=\"110.5,-491.441 107,-481.441 103.5,-491.441 110.5,-491.441\" stroke=\"black\"/>\n",
       "</g>\n",
       "<!-- 140345221786144 -->\n",
       "<g class=\"node\" id=\"node4\"><title>140345221786144</title>\n",
       "<polygon fill=\"none\" points=\"25.5,-371 25.5,-407 188.5,-407 188.5,-371 25.5,-371\" stroke=\"black\"/>\n",
       "<text font-family=\"Times,serif\" font-size=\"14.00\" text-anchor=\"middle\" x=\"107\" y=\"-385.3\">dropout_1 (Dropout)</text>\n",
       "</g>\n",
       "<!-- 140345910640480&#45;&gt;140345221786144 -->\n",
       "<g class=\"edge\" id=\"edge3\"><title>140345910640480-&gt;140345221786144</title>\n",
       "<path d=\"M107,-444.937C107,-436.807 107,-426.876 107,-417.705\" fill=\"none\" stroke=\"black\"/>\n",
       "<polygon fill=\"black\" points=\"110.5,-417.441 107,-407.441 103.5,-417.441 110.5,-417.441\" stroke=\"black\"/>\n",
       "</g>\n",
       "<!-- 140345221787040 -->\n",
       "<g class=\"node\" id=\"node5\"><title>140345221787040</title>\n",
       "<polygon fill=\"none\" points=\"40,-297 40,-333 174,-333 174,-297 40,-297\" stroke=\"black\"/>\n",
       "<text font-family=\"Times,serif\" font-size=\"14.00\" text-anchor=\"middle\" x=\"107\" y=\"-311.3\">dense_2 (Dense)</text>\n",
       "</g>\n",
       "<!-- 140345221786144&#45;&gt;140345221787040 -->\n",
       "<g class=\"edge\" id=\"edge4\"><title>140345221786144-&gt;140345221787040</title>\n",
       "<path d=\"M107,-370.937C107,-362.807 107,-352.876 107,-343.705\" fill=\"none\" stroke=\"black\"/>\n",
       "<polygon fill=\"black\" points=\"110.5,-343.441 107,-333.441 103.5,-343.441 110.5,-343.441\" stroke=\"black\"/>\n",
       "</g>\n",
       "<!-- 140345219661896 -->\n",
       "<g class=\"node\" id=\"node6\"><title>140345219661896</title>\n",
       "<polygon fill=\"none\" points=\"10.5,-223 10.5,-259 203.5,-259 203.5,-223 10.5,-223\" stroke=\"black\"/>\n",
       "<text font-family=\"Times,serif\" font-size=\"14.00\" text-anchor=\"middle\" x=\"107\" y=\"-237.3\">activation_2 (Activation)</text>\n",
       "</g>\n",
       "<!-- 140345221787040&#45;&gt;140345219661896 -->\n",
       "<g class=\"edge\" id=\"edge5\"><title>140345221787040-&gt;140345219661896</title>\n",
       "<path d=\"M107,-296.937C107,-288.807 107,-278.876 107,-269.705\" fill=\"none\" stroke=\"black\"/>\n",
       "<polygon fill=\"black\" points=\"110.5,-269.441 107,-259.441 103.5,-269.441 110.5,-269.441\" stroke=\"black\"/>\n",
       "</g>\n",
       "<!-- 140345219664472 -->\n",
       "<g class=\"node\" id=\"node7\"><title>140345219664472</title>\n",
       "<polygon fill=\"none\" points=\"25.5,-149 25.5,-185 188.5,-185 188.5,-149 25.5,-149\" stroke=\"black\"/>\n",
       "<text font-family=\"Times,serif\" font-size=\"14.00\" text-anchor=\"middle\" x=\"107\" y=\"-163.3\">dropout_2 (Dropout)</text>\n",
       "</g>\n",
       "<!-- 140345219661896&#45;&gt;140345219664472 -->\n",
       "<g class=\"edge\" id=\"edge6\"><title>140345219661896-&gt;140345219664472</title>\n",
       "<path d=\"M107,-222.937C107,-214.807 107,-204.876 107,-195.705\" fill=\"none\" stroke=\"black\"/>\n",
       "<polygon fill=\"black\" points=\"110.5,-195.441 107,-185.441 103.5,-195.441 110.5,-195.441\" stroke=\"black\"/>\n",
       "</g>\n",
       "<!-- 140345219665424 -->\n",
       "<g class=\"node\" id=\"node8\"><title>140345219665424</title>\n",
       "<polygon fill=\"none\" points=\"40,-75 40,-111 174,-111 174,-75 40,-75\" stroke=\"black\"/>\n",
       "<text font-family=\"Times,serif\" font-size=\"14.00\" text-anchor=\"middle\" x=\"107\" y=\"-89.3\">dense_3 (Dense)</text>\n",
       "</g>\n",
       "<!-- 140345219664472&#45;&gt;140345219665424 -->\n",
       "<g class=\"edge\" id=\"edge7\"><title>140345219664472-&gt;140345219665424</title>\n",
       "<path d=\"M107,-148.937C107,-140.807 107,-130.876 107,-121.705\" fill=\"none\" stroke=\"black\"/>\n",
       "<polygon fill=\"black\" points=\"110.5,-121.441 107,-111.441 103.5,-121.441 110.5,-121.441\" stroke=\"black\"/>\n",
       "</g>\n",
       "<!-- 140345219731752 -->\n",
       "<g class=\"node\" id=\"node9\"><title>140345219731752</title>\n",
       "<polygon fill=\"none\" points=\"10.5,-1 10.5,-37 203.5,-37 203.5,-1 10.5,-1\" stroke=\"black\"/>\n",
       "<text font-family=\"Times,serif\" font-size=\"14.00\" text-anchor=\"middle\" x=\"107\" y=\"-15.3\">activation_3 (Activation)</text>\n",
       "</g>\n",
       "<!-- 140345219665424&#45;&gt;140345219731752 -->\n",
       "<g class=\"edge\" id=\"edge8\"><title>140345219665424-&gt;140345219731752</title>\n",
       "<path d=\"M107,-74.937C107,-66.8072 107,-56.8761 107,-47.7047\" fill=\"none\" stroke=\"black\"/>\n",
       "<polygon fill=\"black\" points=\"110.5,-47.4406 107,-37.4407 103.5,-47.4407 110.5,-47.4406\" stroke=\"black\"/>\n",
       "</g>\n",
       "</g>\n",
       "</svg>"
      ],
      "text/plain": [
       "<IPython.core.display.SVG object>"
      ]
     },
     "execution_count": 4,
     "metadata": {},
     "output_type": "execute_result"
    }
   ],
   "source": [
    "from IPython.display import SVG\n",
    "from keras.utils.visualize_util import model_to_dot\n",
    "\n",
    "SVG(model_to_dot(model).create(prog='dot', format='svg'))"
   ]
  },
  {
   "cell_type": "code",
   "execution_count": 57,
   "metadata": {
    "collapsed": false
   },
   "outputs": [
    {
     "ename": "NameError",
     "evalue": "name 'X_train' is not defined",
     "output_type": "error",
     "traceback": [
      "\u001b[0;31m---------------------------------------------------------------------------\u001b[0m",
      "\u001b[0;31mNameError\u001b[0m                                 Traceback (most recent call last)",
      "\u001b[0;32m<ipython-input-57-a1f7a088a6c2>\u001b[0m in \u001b[0;36m<module>\u001b[0;34m()\u001b[0m\n\u001b[1;32m     21\u001b[0m               metrics=['accuracy'])\n\u001b[1;32m     22\u001b[0m \u001b[0;34m\u001b[0m\u001b[0m\n\u001b[0;32m---> 23\u001b[0;31m model.fit(X_train, y_train,\n\u001b[0m\u001b[1;32m     24\u001b[0m           \u001b[0mnb_epoch\u001b[0m\u001b[0;34m=\u001b[0m\u001b[0;36m20\u001b[0m\u001b[0;34m,\u001b[0m\u001b[0;34m\u001b[0m\u001b[0m\n\u001b[1;32m     25\u001b[0m           batch_size=16)\n",
      "\u001b[0;31mNameError\u001b[0m: name 'X_train' is not defined"
     ]
    }
   ],
   "source": [
    "model.fit(X_train, y_train,\n",
    "          nb_epoch=20,\n",
    "          batch_size=16)\n",
    "score = model.evaluate(X_test, y_test, batch_size=16)"
   ]
  },
  {
   "cell_type": "markdown",
   "metadata": {},
   "source": [
    "---\n",
    "---"
   ]
  },
  {
   "cell_type": "code",
   "execution_count": 461,
   "metadata": {
    "collapsed": false
   },
   "outputs": [
    {
     "name": "stdout",
     "output_type": "stream",
     "text": [
      "Downloading data from https://s3.amazonaws.com/text-datasets/imdb_full.pkl\n",
      "65511424/65552540 [============================>.] - ETA: 0s"
     ]
    }
   ],
   "source": [
    "from keras.datasets import imdb\n",
    "\n",
    "(X_train, y_train), (X_test, y_test) = imdb.load_data(nb_words=5000)"
   ]
  },
  {
   "cell_type": "code",
   "execution_count": 465,
   "metadata": {
    "collapsed": false
   },
   "outputs": [
    {
     "data": {
      "text/plain": [
       "(25000, 218, 189)"
      ]
     },
     "execution_count": 465,
     "metadata": {},
     "output_type": "execute_result"
    }
   ],
   "source": [
    "len(X_train), len(X_train[0]), len(X_train[1])"
   ]
  },
  {
   "cell_type": "code",
   "execution_count": 466,
   "metadata": {
    "collapsed": true
   },
   "outputs": [],
   "source": [
    "from keras.preprocessing import sequence"
   ]
  },
  {
   "cell_type": "code",
   "execution_count": 467,
   "metadata": {
    "collapsed": true
   },
   "outputs": [],
   "source": [
    "X_train = sequence.pad_sequences(X_train, maxlen=400)\n",
    "X_test = sequence.pad_sequences(X_test, maxlen=400)"
   ]
  },
  {
   "cell_type": "code",
   "execution_count": 469,
   "metadata": {
    "collapsed": false
   },
   "outputs": [
    {
     "data": {
      "text/plain": [
       "(400, 400)"
      ]
     },
     "execution_count": 469,
     "metadata": {},
     "output_type": "execute_result"
    }
   ],
   "source": [
    "len(X_train[0]), len(X_train[1])"
   ]
  },
  {
   "cell_type": "code",
   "execution_count": 471,
   "metadata": {
    "collapsed": true
   },
   "outputs": [],
   "source": [
    "from keras.layers import Embedding\n",
    "from keras.layers import Convolution1D, MaxPooling1D"
   ]
  },
  {
   "cell_type": "code",
   "execution_count": 470,
   "metadata": {
    "collapsed": true
   },
   "outputs": [],
   "source": [
    "model = Sequential()\n",
    "model.add(Embedding(5000, 50, input_length=400, dropout=0.2))"
   ]
  },
  {
   "cell_type": "markdown",
   "metadata": {},
   "source": [
    "---\n",
    "---"
   ]
  },
  {
   "cell_type": "code",
   "execution_count": 47,
   "metadata": {
    "collapsed": false
   },
   "outputs": [],
   "source": [
    "from keras.models import Sequential\n",
    "from keras.layers.convolutional import Convolution1D\n",
    "from keras.layers.pooling import MaxPooling1D\n",
    "from keras.layers.core import Dense, Flatten, Dropout"
   ]
  },
  {
   "cell_type": "code",
   "execution_count": 455,
   "metadata": {
    "collapsed": true
   },
   "outputs": [],
   "source": [
    "model = Sequential()\n",
    "model.add(Convolution1D(256, 7, border_mode='same', input_length=1014, input_dim=132))\n",
    "model.add(Activation('relu'))\n",
    "model.add(MaxPooling1D(pool_length=3, stride=1, border_mode='valid'))\n",
    "\n",
    "model.add(Convolution1D(256, 7, border_mode='same', input_dim=132))\n",
    "model.add(Activation('relu'))\n",
    "model.add(MaxPooling1D(pool_length=3, stride=1, border_mode='valid'))\n",
    "\n",
    "model.add(Convolution1D(256, 3, border_mode='same', input_dim=132))\n",
    "model.add(Activation('relu'))\n",
    "model.add(MaxPooling1D(pool_length=3, stride=1, border_mode='valid'))\n",
    "\n",
    "model.add(Convolution1D(256, 3, border_mode='same', input_dim=132))\n",
    "model.add(Activation('relu'))\n",
    "model.add(MaxPooling1D(pool_length=3, stride=1, border_mode='valid'))\n",
    "\n",
    "model.add(Convolution1D(256, 3, border_mode='same', input_dim=132))\n",
    "model.add(Activation('relu'))\n",
    "model.add(MaxPooling1D(pool_length=3, stride=1, border_mode='valid'))\n",
    "\n",
    "model.add(Convolution1D(256, 3, border_mode='same', input_dim=132))\n",
    "model.add(Activation('relu'))\n",
    "model.add(MaxPooling1D(pool_length=3, stride=1, border_mode='valid'))"
   ]
  },
  {
   "cell_type": "code",
   "execution_count": 457,
   "metadata": {
    "collapsed": false
   },
   "outputs": [],
   "source": [
    "model.add(Flatten())"
   ]
  },
  {
   "cell_type": "code",
   "execution_count": 458,
   "metadata": {
    "collapsed": false
   },
   "outputs": [],
   "source": [
    "model.add(Dense(1024, init='normal', input_dim=\n",
    "    activation='relu', weights=None, W_regularizer=None,\n",
    "    b_regularizer=None, activity_regularizer=None, W_constraint=None,\n",
    "    b_constraint=None, bias=True))\n",
    "\n",
    "model.add(Dropout(0.5))\n",
    "\n",
    "model.add(Dense(1024, init='normal',\n",
    "    activation='relu', weights=None, W_regularizer=None,\n",
    "    b_regularizer=None, activity_regularizer=None, W_constraint=None,\n",
    "    b_constraint=None, bias=True))\n",
    "\n",
    "model.add(Dropout(0.5))\n",
    "\n",
    "n_classes = len(records.pluck('speaker_party').distinct().compute())\n",
    "model.add(Dense(n_classes, input_dim=256, init='normal',\n",
    "    activation='softmax', weights=None, W_regularizer=None,\n",
    "    b_regularizer=None, activity_regularizer=None, W_constraint=None,\n",
    "    b_constraint=None, bias=True))"
   ]
  },
  {
   "cell_type": "code",
   "execution_count": 459,
   "metadata": {
    "collapsed": true
   },
   "outputs": [],
   "source": [
    "sgd = SGD(lr=0.1, decay=1e-6, momentum=0.9, nesterov=True)\n",
    "model.compile(loss='categorical_crossentropy',\n",
    "              optimizer=sgd,\n",
    "              metrics=['accuracy'])"
   ]
  },
  {
   "cell_type": "code",
   "execution_count": 64,
   "metadata": {
    "collapsed": false,
    "scrolled": true
   },
   "outputs": [
    {
     "data": {
      "image/svg+xml": [
       "<svg height=\"1822pt\" viewBox=\"0.00 0.00 292.00 1822.00\" width=\"292pt\" xmlns=\"http://www.w3.org/2000/svg\" xmlns:xlink=\"http://www.w3.org/1999/xlink\">\n",
       "<g class=\"graph\" id=\"graph0\" transform=\"scale(1 1) rotate(0) translate(4 1818)\">\n",
       "<title>G</title>\n",
       "<polygon fill=\"white\" points=\"-4,4 -4,-1818 288,-1818 288,4 -4,4\" stroke=\"none\"/>\n",
       "<!-- 140345205308496 -->\n",
       "<g class=\"node\" id=\"node1\"><title>140345205308496</title>\n",
       "<polygon fill=\"none\" points=\"0,-1777 0,-1813 284,-1813 284,-1777 0,-1777\" stroke=\"black\"/>\n",
       "<text font-family=\"Times,serif\" font-size=\"14.00\" text-anchor=\"middle\" x=\"142\" y=\"-1791.3\">convolution1d_input_10 (InputLayer)</text>\n",
       "</g>\n",
       "<!-- 140345204878640 -->\n",
       "<g class=\"node\" id=\"node2\"><title>140345204878640</title>\n",
       "<polygon fill=\"none\" points=\"9.5,-1703 9.5,-1739 274.5,-1739 274.5,-1703 9.5,-1703\" stroke=\"black\"/>\n",
       "<text font-family=\"Times,serif\" font-size=\"14.00\" text-anchor=\"middle\" x=\"142\" y=\"-1717.3\">convolution1d_55 (Convolution1D)</text>\n",
       "</g>\n",
       "<!-- 140345205308496&#45;&gt;140345204878640 -->\n",
       "<g class=\"edge\" id=\"edge1\"><title>140345205308496-&gt;140345204878640</title>\n",
       "<path d=\"M142,-1776.94C142,-1768.81 142,-1758.88 142,-1749.7\" fill=\"none\" stroke=\"black\"/>\n",
       "<polygon fill=\"black\" points=\"145.5,-1749.44 142,-1739.44 138.5,-1749.44 145.5,-1749.44\" stroke=\"black\"/>\n",
       "</g>\n",
       "<!-- 140345204878696 -->\n",
       "<g class=\"node\" id=\"node3\"><title>140345204878696</title>\n",
       "<polygon fill=\"none\" points=\"41,-1629 41,-1665 243,-1665 243,-1629 41,-1629\" stroke=\"black\"/>\n",
       "<text font-family=\"Times,serif\" font-size=\"14.00\" text-anchor=\"middle\" x=\"142\" y=\"-1643.3\">activation_58 (Activation)</text>\n",
       "</g>\n",
       "<!-- 140345204878640&#45;&gt;140345204878696 -->\n",
       "<g class=\"edge\" id=\"edge2\"><title>140345204878640-&gt;140345204878696</title>\n",
       "<path d=\"M142,-1702.94C142,-1694.81 142,-1684.88 142,-1675.7\" fill=\"none\" stroke=\"black\"/>\n",
       "<polygon fill=\"black\" points=\"145.5,-1675.44 142,-1665.44 138.5,-1675.44 145.5,-1675.44\" stroke=\"black\"/>\n",
       "</g>\n",
       "<!-- 140345205841536 -->\n",
       "<g class=\"node\" id=\"node4\"><title>140345205841536</title>\n",
       "<polygon fill=\"none\" points=\"11,-1555 11,-1591 273,-1591 273,-1555 11,-1555\" stroke=\"black\"/>\n",
       "<text font-family=\"Times,serif\" font-size=\"14.00\" text-anchor=\"middle\" x=\"142\" y=\"-1569.3\">maxpooling1d_55 (MaxPooling1D)</text>\n",
       "</g>\n",
       "<!-- 140345204878696&#45;&gt;140345205841536 -->\n",
       "<g class=\"edge\" id=\"edge3\"><title>140345204878696-&gt;140345205841536</title>\n",
       "<path d=\"M142,-1628.94C142,-1620.81 142,-1610.88 142,-1601.7\" fill=\"none\" stroke=\"black\"/>\n",
       "<polygon fill=\"black\" points=\"145.5,-1601.44 142,-1591.44 138.5,-1601.44 145.5,-1601.44\" stroke=\"black\"/>\n",
       "</g>\n",
       "<!-- 140345205767864 -->\n",
       "<g class=\"node\" id=\"node5\"><title>140345205767864</title>\n",
       "<polygon fill=\"none\" points=\"9.5,-1481 9.5,-1517 274.5,-1517 274.5,-1481 9.5,-1481\" stroke=\"black\"/>\n",
       "<text font-family=\"Times,serif\" font-size=\"14.00\" text-anchor=\"middle\" x=\"142\" y=\"-1495.3\">convolution1d_56 (Convolution1D)</text>\n",
       "</g>\n",
       "<!-- 140345205841536&#45;&gt;140345205767864 -->\n",
       "<g class=\"edge\" id=\"edge4\"><title>140345205841536-&gt;140345205767864</title>\n",
       "<path d=\"M142,-1554.94C142,-1546.81 142,-1536.88 142,-1527.7\" fill=\"none\" stroke=\"black\"/>\n",
       "<polygon fill=\"black\" points=\"145.5,-1527.44 142,-1517.44 138.5,-1527.44 145.5,-1527.44\" stroke=\"black\"/>\n",
       "</g>\n",
       "<!-- 140345205776056 -->\n",
       "<g class=\"node\" id=\"node6\"><title>140345205776056</title>\n",
       "<polygon fill=\"none\" points=\"41,-1407 41,-1443 243,-1443 243,-1407 41,-1407\" stroke=\"black\"/>\n",
       "<text font-family=\"Times,serif\" font-size=\"14.00\" text-anchor=\"middle\" x=\"142\" y=\"-1421.3\">activation_59 (Activation)</text>\n",
       "</g>\n",
       "<!-- 140345205767864&#45;&gt;140345205776056 -->\n",
       "<g class=\"edge\" id=\"edge5\"><title>140345205767864-&gt;140345205776056</title>\n",
       "<path d=\"M142,-1480.94C142,-1472.81 142,-1462.88 142,-1453.7\" fill=\"none\" stroke=\"black\"/>\n",
       "<polygon fill=\"black\" points=\"145.5,-1453.44 142,-1443.44 138.5,-1453.44 145.5,-1453.44\" stroke=\"black\"/>\n",
       "</g>\n",
       "<!-- 140345205553304 -->\n",
       "<g class=\"node\" id=\"node7\"><title>140345205553304</title>\n",
       "<polygon fill=\"none\" points=\"11,-1333 11,-1369 273,-1369 273,-1333 11,-1333\" stroke=\"black\"/>\n",
       "<text font-family=\"Times,serif\" font-size=\"14.00\" text-anchor=\"middle\" x=\"142\" y=\"-1347.3\">maxpooling1d_56 (MaxPooling1D)</text>\n",
       "</g>\n",
       "<!-- 140345205776056&#45;&gt;140345205553304 -->\n",
       "<g class=\"edge\" id=\"edge6\"><title>140345205776056-&gt;140345205553304</title>\n",
       "<path d=\"M142,-1406.94C142,-1398.81 142,-1388.88 142,-1379.7\" fill=\"none\" stroke=\"black\"/>\n",
       "<polygon fill=\"black\" points=\"145.5,-1379.44 142,-1369.44 138.5,-1379.44 145.5,-1379.44\" stroke=\"black\"/>\n",
       "</g>\n",
       "<!-- 140345205551232 -->\n",
       "<g class=\"node\" id=\"node8\"><title>140345205551232</title>\n",
       "<polygon fill=\"none\" points=\"9.5,-1259 9.5,-1295 274.5,-1295 274.5,-1259 9.5,-1259\" stroke=\"black\"/>\n",
       "<text font-family=\"Times,serif\" font-size=\"14.00\" text-anchor=\"middle\" x=\"142\" y=\"-1273.3\">convolution1d_57 (Convolution1D)</text>\n",
       "</g>\n",
       "<!-- 140345205553304&#45;&gt;140345205551232 -->\n",
       "<g class=\"edge\" id=\"edge7\"><title>140345205553304-&gt;140345205551232</title>\n",
       "<path d=\"M142,-1332.94C142,-1324.81 142,-1314.88 142,-1305.7\" fill=\"none\" stroke=\"black\"/>\n",
       "<polygon fill=\"black\" points=\"145.5,-1305.44 142,-1295.44 138.5,-1305.44 145.5,-1305.44\" stroke=\"black\"/>\n",
       "</g>\n",
       "<!-- 140345205572552 -->\n",
       "<g class=\"node\" id=\"node9\"><title>140345205572552</title>\n",
       "<polygon fill=\"none\" points=\"41,-1185 41,-1221 243,-1221 243,-1185 41,-1185\" stroke=\"black\"/>\n",
       "<text font-family=\"Times,serif\" font-size=\"14.00\" text-anchor=\"middle\" x=\"142\" y=\"-1199.3\">activation_60 (Activation)</text>\n",
       "</g>\n",
       "<!-- 140345205551232&#45;&gt;140345205572552 -->\n",
       "<g class=\"edge\" id=\"edge8\"><title>140345205551232-&gt;140345205572552</title>\n",
       "<path d=\"M142,-1258.94C142,-1250.81 142,-1240.88 142,-1231.7\" fill=\"none\" stroke=\"black\"/>\n",
       "<polygon fill=\"black\" points=\"145.5,-1231.44 142,-1221.44 138.5,-1231.44 145.5,-1231.44\" stroke=\"black\"/>\n",
       "</g>\n",
       "<!-- 140345217080680 -->\n",
       "<g class=\"node\" id=\"node10\"><title>140345217080680</title>\n",
       "<polygon fill=\"none\" points=\"11,-1111 11,-1147 273,-1147 273,-1111 11,-1111\" stroke=\"black\"/>\n",
       "<text font-family=\"Times,serif\" font-size=\"14.00\" text-anchor=\"middle\" x=\"142\" y=\"-1125.3\">maxpooling1d_57 (MaxPooling1D)</text>\n",
       "</g>\n",
       "<!-- 140345205572552&#45;&gt;140345217080680 -->\n",
       "<g class=\"edge\" id=\"edge9\"><title>140345205572552-&gt;140345217080680</title>\n",
       "<path d=\"M142,-1184.94C142,-1176.81 142,-1166.88 142,-1157.7\" fill=\"none\" stroke=\"black\"/>\n",
       "<polygon fill=\"black\" points=\"145.5,-1157.44 142,-1147.44 138.5,-1157.44 145.5,-1157.44\" stroke=\"black\"/>\n",
       "</g>\n",
       "<!-- 140345205526480 -->\n",
       "<g class=\"node\" id=\"node11\"><title>140345205526480</title>\n",
       "<polygon fill=\"none\" points=\"9.5,-1037 9.5,-1073 274.5,-1073 274.5,-1037 9.5,-1037\" stroke=\"black\"/>\n",
       "<text font-family=\"Times,serif\" font-size=\"14.00\" text-anchor=\"middle\" x=\"142\" y=\"-1051.3\">convolution1d_58 (Convolution1D)</text>\n",
       "</g>\n",
       "<!-- 140345217080680&#45;&gt;140345205526480 -->\n",
       "<g class=\"edge\" id=\"edge10\"><title>140345217080680-&gt;140345205526480</title>\n",
       "<path d=\"M142,-1110.94C142,-1102.81 142,-1092.88 142,-1083.7\" fill=\"none\" stroke=\"black\"/>\n",
       "<polygon fill=\"black\" points=\"145.5,-1083.44 142,-1073.44 138.5,-1083.44 145.5,-1083.44\" stroke=\"black\"/>\n",
       "</g>\n",
       "<!-- 140345217079168 -->\n",
       "<g class=\"node\" id=\"node12\"><title>140345217079168</title>\n",
       "<polygon fill=\"none\" points=\"41,-963 41,-999 243,-999 243,-963 41,-963\" stroke=\"black\"/>\n",
       "<text font-family=\"Times,serif\" font-size=\"14.00\" text-anchor=\"middle\" x=\"142\" y=\"-977.3\">activation_61 (Activation)</text>\n",
       "</g>\n",
       "<!-- 140345205526480&#45;&gt;140345217079168 -->\n",
       "<g class=\"edge\" id=\"edge11\"><title>140345205526480-&gt;140345217079168</title>\n",
       "<path d=\"M142,-1036.94C142,-1028.81 142,-1018.88 142,-1009.7\" fill=\"none\" stroke=\"black\"/>\n",
       "<polygon fill=\"black\" points=\"145.5,-1009.44 142,-999.441 138.5,-1009.44 145.5,-1009.44\" stroke=\"black\"/>\n",
       "</g>\n",
       "<!-- 140345205751480 -->\n",
       "<g class=\"node\" id=\"node13\"><title>140345205751480</title>\n",
       "<polygon fill=\"none\" points=\"11,-889 11,-925 273,-925 273,-889 11,-889\" stroke=\"black\"/>\n",
       "<text font-family=\"Times,serif\" font-size=\"14.00\" text-anchor=\"middle\" x=\"142\" y=\"-903.3\">maxpooling1d_58 (MaxPooling1D)</text>\n",
       "</g>\n",
       "<!-- 140345217079168&#45;&gt;140345205751480 -->\n",
       "<g class=\"edge\" id=\"edge12\"><title>140345217079168-&gt;140345205751480</title>\n",
       "<path d=\"M142,-962.937C142,-954.807 142,-944.876 142,-935.705\" fill=\"none\" stroke=\"black\"/>\n",
       "<polygon fill=\"black\" points=\"145.5,-935.441 142,-925.441 138.5,-935.441 145.5,-935.441\" stroke=\"black\"/>\n",
       "</g>\n",
       "<!-- 140345215099904 -->\n",
       "<g class=\"node\" id=\"node14\"><title>140345215099904</title>\n",
       "<polygon fill=\"none\" points=\"9.5,-815 9.5,-851 274.5,-851 274.5,-815 9.5,-815\" stroke=\"black\"/>\n",
       "<text font-family=\"Times,serif\" font-size=\"14.00\" text-anchor=\"middle\" x=\"142\" y=\"-829.3\">convolution1d_59 (Convolution1D)</text>\n",
       "</g>\n",
       "<!-- 140345205751480&#45;&gt;140345215099904 -->\n",
       "<g class=\"edge\" id=\"edge13\"><title>140345205751480-&gt;140345215099904</title>\n",
       "<path d=\"M142,-888.937C142,-880.807 142,-870.876 142,-861.705\" fill=\"none\" stroke=\"black\"/>\n",
       "<polygon fill=\"black\" points=\"145.5,-861.441 142,-851.441 138.5,-861.441 145.5,-861.441\" stroke=\"black\"/>\n",
       "</g>\n",
       "<!-- 140345215180024 -->\n",
       "<g class=\"node\" id=\"node15\"><title>140345215180024</title>\n",
       "<polygon fill=\"none\" points=\"41,-741 41,-777 243,-777 243,-741 41,-741\" stroke=\"black\"/>\n",
       "<text font-family=\"Times,serif\" font-size=\"14.00\" text-anchor=\"middle\" x=\"142\" y=\"-755.3\">activation_62 (Activation)</text>\n",
       "</g>\n",
       "<!-- 140345215099904&#45;&gt;140345215180024 -->\n",
       "<g class=\"edge\" id=\"edge14\"><title>140345215099904-&gt;140345215180024</title>\n",
       "<path d=\"M142,-814.937C142,-806.807 142,-796.876 142,-787.705\" fill=\"none\" stroke=\"black\"/>\n",
       "<polygon fill=\"black\" points=\"145.5,-787.441 142,-777.441 138.5,-787.441 145.5,-787.441\" stroke=\"black\"/>\n",
       "</g>\n",
       "<!-- 140345205457304 -->\n",
       "<g class=\"node\" id=\"node16\"><title>140345205457304</title>\n",
       "<polygon fill=\"none\" points=\"11,-667 11,-703 273,-703 273,-667 11,-667\" stroke=\"black\"/>\n",
       "<text font-family=\"Times,serif\" font-size=\"14.00\" text-anchor=\"middle\" x=\"142\" y=\"-681.3\">maxpooling1d_59 (MaxPooling1D)</text>\n",
       "</g>\n",
       "<!-- 140345215180024&#45;&gt;140345205457304 -->\n",
       "<g class=\"edge\" id=\"edge15\"><title>140345215180024-&gt;140345205457304</title>\n",
       "<path d=\"M142,-740.937C142,-732.807 142,-722.876 142,-713.705\" fill=\"none\" stroke=\"black\"/>\n",
       "<polygon fill=\"black\" points=\"145.5,-713.441 142,-703.441 138.5,-713.441 145.5,-713.441\" stroke=\"black\"/>\n",
       "</g>\n",
       "<!-- 140345205458032 -->\n",
       "<g class=\"node\" id=\"node17\"><title>140345205458032</title>\n",
       "<polygon fill=\"none\" points=\"9.5,-593 9.5,-629 274.5,-629 274.5,-593 9.5,-593\" stroke=\"black\"/>\n",
       "<text font-family=\"Times,serif\" font-size=\"14.00\" text-anchor=\"middle\" x=\"142\" y=\"-607.3\">convolution1d_60 (Convolution1D)</text>\n",
       "</g>\n",
       "<!-- 140345205457304&#45;&gt;140345205458032 -->\n",
       "<g class=\"edge\" id=\"edge16\"><title>140345205457304-&gt;140345205458032</title>\n",
       "<path d=\"M142,-666.937C142,-658.807 142,-648.876 142,-639.705\" fill=\"none\" stroke=\"black\"/>\n",
       "<polygon fill=\"black\" points=\"145.5,-639.441 142,-629.441 138.5,-639.441 145.5,-639.441\" stroke=\"black\"/>\n",
       "</g>\n",
       "<!-- 140345206064576 -->\n",
       "<g class=\"node\" id=\"node18\"><title>140345206064576</title>\n",
       "<polygon fill=\"none\" points=\"41,-519 41,-555 243,-555 243,-519 41,-519\" stroke=\"black\"/>\n",
       "<text font-family=\"Times,serif\" font-size=\"14.00\" text-anchor=\"middle\" x=\"142\" y=\"-533.3\">activation_63 (Activation)</text>\n",
       "</g>\n",
       "<!-- 140345205458032&#45;&gt;140345206064576 -->\n",
       "<g class=\"edge\" id=\"edge17\"><title>140345205458032-&gt;140345206064576</title>\n",
       "<path d=\"M142,-592.937C142,-584.807 142,-574.876 142,-565.705\" fill=\"none\" stroke=\"black\"/>\n",
       "<polygon fill=\"black\" points=\"145.5,-565.441 142,-555.441 138.5,-565.441 145.5,-565.441\" stroke=\"black\"/>\n",
       "</g>\n",
       "<!-- 140345215563872 -->\n",
       "<g class=\"node\" id=\"node19\"><title>140345215563872</title>\n",
       "<polygon fill=\"none\" points=\"11,-445 11,-481 273,-481 273,-445 11,-445\" stroke=\"black\"/>\n",
       "<text font-family=\"Times,serif\" font-size=\"14.00\" text-anchor=\"middle\" x=\"142\" y=\"-459.3\">maxpooling1d_60 (MaxPooling1D)</text>\n",
       "</g>\n",
       "<!-- 140345206064576&#45;&gt;140345215563872 -->\n",
       "<g class=\"edge\" id=\"edge18\"><title>140345206064576-&gt;140345215563872</title>\n",
       "<path d=\"M142,-518.937C142,-510.807 142,-500.876 142,-491.705\" fill=\"none\" stroke=\"black\"/>\n",
       "<polygon fill=\"black\" points=\"145.5,-491.441 142,-481.441 138.5,-491.441 145.5,-491.441\" stroke=\"black\"/>\n",
       "</g>\n",
       "<!-- 140345204909168 -->\n",
       "<g class=\"node\" id=\"node20\"><title>140345204909168</title>\n",
       "<polygon fill=\"none\" points=\"69,-371 69,-407 215,-407 215,-371 69,-371\" stroke=\"black\"/>\n",
       "<text font-family=\"Times,serif\" font-size=\"14.00\" text-anchor=\"middle\" x=\"142\" y=\"-385.3\">flatten_6 (Flatten)</text>\n",
       "</g>\n",
       "<!-- 140345215563872&#45;&gt;140345204909168 -->\n",
       "<g class=\"edge\" id=\"edge19\"><title>140345215563872-&gt;140345204909168</title>\n",
       "<path d=\"M142,-444.937C142,-436.807 142,-426.876 142,-417.705\" fill=\"none\" stroke=\"black\"/>\n",
       "<polygon fill=\"black\" points=\"145.5,-417.441 142,-407.441 138.5,-417.441 145.5,-417.441\" stroke=\"black\"/>\n",
       "</g>\n",
       "<!-- 140345201250656 -->\n",
       "<g class=\"node\" id=\"node21\"><title>140345201250656</title>\n",
       "<polygon fill=\"none\" points=\"75,-297 75,-333 209,-333 209,-297 75,-297\" stroke=\"black\"/>\n",
       "<text font-family=\"Times,serif\" font-size=\"14.00\" text-anchor=\"middle\" x=\"142\" y=\"-311.3\">dense_9 (Dense)</text>\n",
       "</g>\n",
       "<!-- 140345204909168&#45;&gt;140345201250656 -->\n",
       "<g class=\"edge\" id=\"edge20\"><title>140345204909168-&gt;140345201250656</title>\n",
       "<path d=\"M142,-370.937C142,-362.807 142,-352.876 142,-343.705\" fill=\"none\" stroke=\"black\"/>\n",
       "<polygon fill=\"black\" points=\"145.5,-343.441 142,-333.441 138.5,-343.441 145.5,-343.441\" stroke=\"black\"/>\n",
       "</g>\n",
       "<!-- 140345201250376 -->\n",
       "<g class=\"node\" id=\"node22\"><title>140345201250376</title>\n",
       "<polygon fill=\"none\" points=\"60.5,-223 60.5,-259 223.5,-259 223.5,-223 60.5,-223\" stroke=\"black\"/>\n",
       "<text font-family=\"Times,serif\" font-size=\"14.00\" text-anchor=\"middle\" x=\"142\" y=\"-237.3\">dropout_3 (Dropout)</text>\n",
       "</g>\n",
       "<!-- 140345201250656&#45;&gt;140345201250376 -->\n",
       "<g class=\"edge\" id=\"edge21\"><title>140345201250656-&gt;140345201250376</title>\n",
       "<path d=\"M142,-296.937C142,-288.807 142,-278.876 142,-269.705\" fill=\"none\" stroke=\"black\"/>\n",
       "<polygon fill=\"black\" points=\"145.5,-269.441 142,-259.441 138.5,-269.441 145.5,-269.441\" stroke=\"black\"/>\n",
       "</g>\n",
       "<!-- 140345205488048 -->\n",
       "<g class=\"node\" id=\"node23\"><title>140345205488048</title>\n",
       "<polygon fill=\"none\" points=\"70.5,-149 70.5,-185 213.5,-185 213.5,-149 70.5,-149\" stroke=\"black\"/>\n",
       "<text font-family=\"Times,serif\" font-size=\"14.00\" text-anchor=\"middle\" x=\"142\" y=\"-163.3\">dense_10 (Dense)</text>\n",
       "</g>\n",
       "<!-- 140345201250376&#45;&gt;140345205488048 -->\n",
       "<g class=\"edge\" id=\"edge22\"><title>140345201250376-&gt;140345205488048</title>\n",
       "<path d=\"M142,-222.937C142,-214.807 142,-204.876 142,-195.705\" fill=\"none\" stroke=\"black\"/>\n",
       "<polygon fill=\"black\" points=\"145.5,-195.441 142,-185.441 138.5,-195.441 145.5,-195.441\" stroke=\"black\"/>\n",
       "</g>\n",
       "<!-- 140345205488496 -->\n",
       "<g class=\"node\" id=\"node24\"><title>140345205488496</title>\n",
       "<polygon fill=\"none\" points=\"60.5,-75 60.5,-111 223.5,-111 223.5,-75 60.5,-75\" stroke=\"black\"/>\n",
       "<text font-family=\"Times,serif\" font-size=\"14.00\" text-anchor=\"middle\" x=\"142\" y=\"-89.3\">dropout_4 (Dropout)</text>\n",
       "</g>\n",
       "<!-- 140345205488048&#45;&gt;140345205488496 -->\n",
       "<g class=\"edge\" id=\"edge23\"><title>140345205488048-&gt;140345205488496</title>\n",
       "<path d=\"M142,-148.937C142,-140.807 142,-130.876 142,-121.705\" fill=\"none\" stroke=\"black\"/>\n",
       "<polygon fill=\"black\" points=\"145.5,-121.441 142,-111.441 138.5,-121.441 145.5,-121.441\" stroke=\"black\"/>\n",
       "</g>\n",
       "<!-- 140345204442896 -->\n",
       "<g class=\"node\" id=\"node25\"><title>140345204442896</title>\n",
       "<polygon fill=\"none\" points=\"70.5,-1 70.5,-37 213.5,-37 213.5,-1 70.5,-1\" stroke=\"black\"/>\n",
       "<text font-family=\"Times,serif\" font-size=\"14.00\" text-anchor=\"middle\" x=\"142\" y=\"-15.3\">dense_11 (Dense)</text>\n",
       "</g>\n",
       "<!-- 140345205488496&#45;&gt;140345204442896 -->\n",
       "<g class=\"edge\" id=\"edge24\"><title>140345205488496-&gt;140345204442896</title>\n",
       "<path d=\"M142,-74.937C142,-66.8072 142,-56.8761 142,-47.7047\" fill=\"none\" stroke=\"black\"/>\n",
       "<polygon fill=\"black\" points=\"145.5,-47.4406 142,-37.4407 138.5,-47.4407 145.5,-47.4406\" stroke=\"black\"/>\n",
       "</g>\n",
       "</g>\n",
       "</svg>"
      ],
      "text/plain": [
       "<IPython.core.display.SVG object>"
      ]
     },
     "execution_count": 64,
     "metadata": {},
     "output_type": "execute_result"
    }
   ],
   "source": [
    "from IPython.display import SVG\n",
    "from keras.utils.visualize_util import model_to_dot\n",
    "\n",
    "SVG(model_to_dot(model).create(prog='dot', format='svg'))"
   ]
  },
  {
   "cell_type": "markdown",
   "metadata": {},
   "source": [
    "----"
   ]
  },
  {
   "cell_type": "code",
   "execution_count": 364,
   "metadata": {
    "collapsed": true
   },
   "outputs": [],
   "source": [
    "%matplotlib inline"
   ]
  },
  {
   "cell_type": "code",
   "execution_count": 365,
   "metadata": {
    "collapsed": false
   },
   "outputs": [],
   "source": [
    "import re\n",
    "import pandas as pd\n",
    "import seaborn as sns"
   ]
  },
  {
   "cell_type": "code",
   "execution_count": 376,
   "metadata": {
    "collapsed": true
   },
   "outputs": [],
   "source": [
    "def preprocess(d):\n",
    "    text = d['text'].lower()\n",
    "    text = re.sub('\\s+', ' ', text)\n",
    "    d['text'] = text\n",
    "    return d"
   ]
  },
  {
   "cell_type": "code",
   "execution_count": 377,
   "metadata": {
    "collapsed": true
   },
   "outputs": [],
   "source": [
    "records = db.read_text('../bundestag/unravelled/*.json').map(json.loads)\n",
    "speeches = records.filter(lambda d: d['type'] == 'speech').filter(lambda d: d['text'] != '').map(preprocess)"
   ]
  },
  {
   "cell_type": "code",
   "execution_count": 378,
   "metadata": {
    "collapsed": false
   },
   "outputs": [
    {
     "data": {
      "text/plain": [
       "({'filename': 'data/txt/17001.txt',\n",
       "  'in_writing': False,\n",
       "  'sequence': 163,\n",
       "  'sitzung': 1,\n",
       "  'speaker': 'Katrin Göring-Eckardt (BÜNDNIS 90/DIE GRÜNEN)',\n",
       "  'speaker_cleaned': 'Katrin Göring-Eckardt',\n",
       "  'speaker_fp': 'katrin-goring-eckardt',\n",
       "  'speaker_party': 'gruene',\n",
       "  'text': 'ich nehme die wahl an und bedanke mich sehr herzlich.',\n",
       "  'type': 'speech',\n",
       "  'wahlperiode': 17},)"
      ]
     },
     "execution_count": 378,
     "metadata": {},
     "output_type": "execute_result"
    }
   ],
   "source": [
    "speeches.take(1)"
   ]
  },
  {
   "cell_type": "code",
   "execution_count": 379,
   "metadata": {
    "collapsed": false
   },
   "outputs": [],
   "source": [
    "texts = ' '.join(speeches.pluck('text').compute())\n",
    "char_freq = pd.DataFrame([{'char': k, 'count': texts.count(k)} for k in set(texts)])"
   ]
  },
  {
   "cell_type": "code",
   "execution_count": 380,
   "metadata": {
    "collapsed": false
   },
   "outputs": [
    {
     "data": {
      "text/plain": [
       "(132, 2)"
      ]
     },
     "execution_count": 380,
     "metadata": {},
     "output_type": "execute_result"
    }
   ],
   "source": [
    "char_freq.shape"
   ]
  },
  {
   "cell_type": "code",
   "execution_count": 381,
   "metadata": {
    "collapsed": true
   },
   "outputs": [],
   "source": [
    "char_freq['probability'] = char_freq['count'] / char_freq['count'].sum()"
   ]
  },
  {
   "cell_type": "code",
   "execution_count": 382,
   "metadata": {
    "collapsed": false
   },
   "outputs": [
    {
     "data": {
      "text/html": [
       "<div>\n",
       "<table border=\"1\" class=\"dataframe\">\n",
       "  <thead>\n",
       "    <tr style=\"text-align: right;\">\n",
       "      <th></th>\n",
       "      <th>char</th>\n",
       "      <th>count</th>\n",
       "      <th>probability</th>\n",
       "    </tr>\n",
       "  </thead>\n",
       "  <tbody>\n",
       "    <tr>\n",
       "      <th>43</th>\n",
       "      <td></td>\n",
       "      <td>24595626</td>\n",
       "      <td>0.142090</td>\n",
       "    </tr>\n",
       "    <tr>\n",
       "      <th>122</th>\n",
       "      <td>e</td>\n",
       "      <td>23286313</td>\n",
       "      <td>0.134526</td>\n",
       "    </tr>\n",
       "    <tr>\n",
       "      <th>28</th>\n",
       "      <td>n</td>\n",
       "      <td>15130883</td>\n",
       "      <td>0.087412</td>\n",
       "    </tr>\n",
       "    <tr>\n",
       "      <th>123</th>\n",
       "      <td>i</td>\n",
       "      <td>12112309</td>\n",
       "      <td>0.069973</td>\n",
       "    </tr>\n",
       "    <tr>\n",
       "      <th>45</th>\n",
       "      <td>r</td>\n",
       "      <td>10461510</td>\n",
       "      <td>0.060437</td>\n",
       "    </tr>\n",
       "  </tbody>\n",
       "</table>\n",
       "</div>"
      ],
      "text/plain": [
       "    char     count  probability\n",
       "43        24595626     0.142090\n",
       "122    e  23286313     0.134526\n",
       "28     n  15130883     0.087412\n",
       "123    i  12112309     0.069973\n",
       "45     r  10461510     0.060437"
      ]
     },
     "execution_count": 382,
     "metadata": {},
     "output_type": "execute_result"
    }
   ],
   "source": [
    "char_freq.sort_values('count', ascending=False).head()"
   ]
  },
  {
   "cell_type": "code",
   "execution_count": 383,
   "metadata": {
    "collapsed": false
   },
   "outputs": [
    {
     "data": {
      "text/html": [
       "<div>\n",
       "<table border=\"1\" class=\"dataframe\">\n",
       "  <thead>\n",
       "    <tr style=\"text-align: right;\">\n",
       "      <th></th>\n",
       "      <th>char</th>\n",
       "      <th>count</th>\n",
       "      <th>probability</th>\n",
       "    </tr>\n",
       "  </thead>\n",
       "  <tbody>\n",
       "    <tr>\n",
       "      <th>7</th>\n",
       "      <td>û</td>\n",
       "      <td>1</td>\n",
       "      <td>5.777037e-09</td>\n",
       "    </tr>\n",
       "    <tr>\n",
       "      <th>100</th>\n",
       "      <td></td>\n",
       "      <td>1</td>\n",
       "      <td>5.777037e-09</td>\n",
       "    </tr>\n",
       "    <tr>\n",
       "      <th>103</th>\n",
       "      <td></td>\n",
       "      <td>1</td>\n",
       "      <td>5.777037e-09</td>\n",
       "    </tr>\n",
       "    <tr>\n",
       "      <th>104</th>\n",
       "      <td></td>\n",
       "      <td>1</td>\n",
       "      <td>5.777037e-09</td>\n",
       "    </tr>\n",
       "    <tr>\n",
       "      <th>44</th>\n",
       "      <td></td>\n",
       "      <td>1</td>\n",
       "      <td>5.777037e-09</td>\n",
       "    </tr>\n",
       "  </tbody>\n",
       "</table>\n",
       "</div>"
      ],
      "text/plain": [
       "    char  count   probability\n",
       "7      û      1  5.777037e-09\n",
       "100          1  5.777037e-09\n",
       "103          1  5.777037e-09\n",
       "104          1  5.777037e-09\n",
       "44           1  5.777037e-09"
      ]
     },
     "execution_count": 383,
     "metadata": {},
     "output_type": "execute_result"
    }
   ],
   "source": [
    "char_freq.sort_values('count', ascending=False).tail()"
   ]
  },
  {
   "cell_type": "code",
   "execution_count": 385,
   "metadata": {
    "collapsed": false
   },
   "outputs": [
    {
     "data": {
      "image/png": "[encoded data removed]",
      "text/plain": [
       "<matplotlib.figure.Figure at 0x7fa3ecc52828>"
      ]
     },
     "metadata": {},
     "output_type": "display_data"
    }
   ],
   "source": [
    "_ = char_freq.set_index('char').sort_values('count')['probability'].tail(35).plot(kind='barh', figsize=(8, 8))"
   ]
  },
  {
   "cell_type": "code",
   "execution_count": 386,
   "metadata": {
    "collapsed": false
   },
   "outputs": [],
   "source": [
    "chars = list(char_freq['char'].values)"
   ]
  },
  {
   "cell_type": "code",
   "execution_count": 407,
   "metadata": {
    "collapsed": false
   },
   "outputs": [
    {
     "data": {
      "text/plain": [
       "132"
      ]
     },
     "execution_count": 407,
     "metadata": {},
     "output_type": "execute_result"
    }
   ],
   "source": [
    "len(chars)"
   ]
  },
  {
   "cell_type": "code",
   "execution_count": 387,
   "metadata": {
    "collapsed": false
   },
   "outputs": [],
   "source": [
    "import numpy as np\n",
    "\n",
    "from sklearn.preprocessing import Binarizer\n",
    "from sklearn.preprocessing import OneHotEncoder\n",
    "from sklearn.preprocessing import LabelEncoder"
   ]
  },
  {
   "cell_type": "code",
   "execution_count": 388,
   "metadata": {
    "collapsed": false
   },
   "outputs": [],
   "source": [
    "vocabulary = {c: i for i, c in enumerate(chars)}"
   ]
  },
  {
   "cell_type": "code",
   "execution_count": 389,
   "metadata": {
    "collapsed": false
   },
   "outputs": [],
   "source": [
    "def quantize(document, vocabulary, max_entries_per_document=1014):\n",
    "    output = np.zeros((max_entries_per_document, len(vocabulary)))\n",
    "    for i in range(min(len(document), 1014)):\n",
    "        output[i, vocabulary[document[i]]] = 1\n",
    "    return output.flatten()"
   ]
  },
  {
   "cell_type": "code",
   "execution_count": 390,
   "metadata": {
    "collapsed": false
   },
   "outputs": [],
   "source": [
    "labels = [l if l is not None else 'n/a' for l in speeches.pluck('speaker_party').distinct().compute()]"
   ]
  },
  {
   "cell_type": "code",
   "execution_count": 391,
   "metadata": {
    "collapsed": false
   },
   "outputs": [
    {
     "data": {
      "text/plain": [
       "['cducsu:spd',\n",
       " 'n/a',\n",
       " 'spd',\n",
       " 'gruene',\n",
       " 'fdp',\n",
       " 'fdp:gruene',\n",
       " 'cducsu:fdp',\n",
       " 'cducsu',\n",
       " 'linke']"
      ]
     },
     "execution_count": 391,
     "metadata": {},
     "output_type": "execute_result"
    }
   ],
   "source": [
    "labels"
   ]
  },
  {
   "cell_type": "code",
   "execution_count": 392,
   "metadata": {
    "collapsed": false
   },
   "outputs": [
    {
     "data": {
      "text/plain": [
       "array([6])"
      ]
     },
     "execution_count": 392,
     "metadata": {},
     "output_type": "execute_result"
    }
   ],
   "source": [
    "label_encoder.transform(['linke'])"
   ]
  },
  {
   "cell_type": "code",
   "execution_count": 393,
   "metadata": {
    "collapsed": false
   },
   "outputs": [],
   "source": [
    "label_encoder = LabelEncoder()\n",
    "label_encoder.fit(labels)\n",
    "\n",
    "def transform_data(json_docs, vocabulary, x_field='text', y_field='speaker_party'):\n",
    "    for d in json_docs:\n",
    "        yield label_encoder.transform([d[y_field]]), quantize(d[x_field], vocabulary)"
   ]
  },
  {
   "cell_type": "code",
   "execution_count": 396,
   "metadata": {
    "collapsed": false
   },
   "outputs": [],
   "source": [
    "docs = speeches.take(1)"
   ]
  },
  {
   "cell_type": "code",
   "execution_count": 397,
   "metadata": {
    "collapsed": false
   },
   "outputs": [
    {
     "data": {
      "text/plain": [
       "({'filename': 'data/txt/17001.txt',\n",
       "  'in_writing': False,\n",
       "  'sequence': 163,\n",
       "  'sitzung': 1,\n",
       "  'speaker': 'Katrin Göring-Eckardt (BÜNDNIS 90/DIE GRÜNEN)',\n",
       "  'speaker_cleaned': 'Katrin Göring-Eckardt',\n",
       "  'speaker_fp': 'katrin-goring-eckardt',\n",
       "  'speaker_party': 'gruene',\n",
       "  'text': 'ich nehme die wahl an und bedanke mich sehr herzlich.',\n",
       "  'type': 'speech',\n",
       "  'wahlperiode': 17},)"
      ]
     },
     "execution_count": 397,
     "metadata": {},
     "output_type": "execute_result"
    }
   ],
   "source": [
    "docs"
   ]
  },
  {
   "cell_type": "code",
   "execution_count": 412,
   "metadata": {
    "collapsed": false
   },
   "outputs": [],
   "source": [
    "y, X = next(iter(transform_data(speeches.take(15, npartitions=5), vocabulary)))"
   ]
  },
  {
   "cell_type": "code",
   "execution_count": 404,
   "metadata": {
    "collapsed": false
   },
   "outputs": [
    {
     "data": {
      "text/plain": [
       "array([5])"
      ]
     },
     "execution_count": 404,
     "metadata": {},
     "output_type": "execute_result"
    }
   ],
   "source": [
    "y"
   ]
  },
  {
   "cell_type": "code",
   "execution_count": 415,
   "metadata": {
    "collapsed": false
   },
   "outputs": [
    {
     "data": {
      "text/plain": [
       "array([[ 0.,  0.,  0., ...,  0.,  0.,  0.],\n",
       "       [ 0.,  0.,  0., ...,  0.,  0.,  0.],\n",
       "       [ 0.,  0.,  0., ...,  1.,  0.,  0.],\n",
       "       ..., \n",
       "       [ 0.,  0.,  0., ...,  0.,  0.,  0.],\n",
       "       [ 0.,  0.,  0., ...,  0.,  0.,  0.],\n",
       "       [ 0.,  0.,  0., ...,  0.,  0.,  0.]])"
      ]
     },
     "execution_count": 415,
     "metadata": {},
     "output_type": "execute_result"
    }
   ],
   "source": [
    "X.reshape(1014, len(chars))"
   ]
  },
  {
   "cell_type": "code",
   "execution_count": 460,
   "metadata": {
    "collapsed": false
   },
   "outputs": [
    {
     "ename": "Exception",
     "evalue": "Error when checking model target: expected dense_21 to have shape (None, 22) but got array with shape (1, 1)",
     "output_type": "error",
     "traceback": [
      "\u001b[0;31m---------------------------------------------------------------------------\u001b[0m",
      "\u001b[0;31mException\u001b[0m                                 Traceback (most recent call last)",
      "\u001b[0;32m<ipython-input-460-7e72a8834796>\u001b[0m in \u001b[0;36m<module>\u001b[0;34m()\u001b[0m\n\u001b[1;32m      1\u001b[0m model.fit(X.reshape(-1, 1014, len(chars)), y,\n\u001b[1;32m      2\u001b[0m           \u001b[0mnb_epoch\u001b[0m\u001b[0;34m=\u001b[0m\u001b[0;36m20\u001b[0m\u001b[0;34m,\u001b[0m\u001b[0;34m\u001b[0m\u001b[0m\n\u001b[0;32m----> 3\u001b[0;31m           batch_size=16)\n\u001b[0m\u001b[1;32m      4\u001b[0m \u001b[0mscore\u001b[0m \u001b[0;34m=\u001b[0m \u001b[0mmodel\u001b[0m\u001b[0;34m.\u001b[0m\u001b[0mevaluate\u001b[0m\u001b[0;34m(\u001b[0m\u001b[0mX_test\u001b[0m\u001b[0;34m,\u001b[0m \u001b[0my_test\u001b[0m\u001b[0;34m,\u001b[0m \u001b[0mbatch_size\u001b[0m\u001b[0;34m=\u001b[0m\u001b[0;36m16\u001b[0m\u001b[0;34m)\u001b[0m\u001b[0;34m\u001b[0m\u001b[0m\n",
      "\u001b[0;32m/home/ubuntu/.conda/envs/keras/lib/python3.5/site-packages/keras/models.py\u001b[0m in \u001b[0;36mfit\u001b[0;34m(self, x, y, batch_size, nb_epoch, verbose, callbacks, validation_split, validation_data, shuffle, class_weight, sample_weight, **kwargs)\u001b[0m\n\u001b[1;32m    618\u001b[0m                               \u001b[0mshuffle\u001b[0m\u001b[0;34m=\u001b[0m\u001b[0mshuffle\u001b[0m\u001b[0;34m,\u001b[0m\u001b[0;34m\u001b[0m\u001b[0m\n\u001b[1;32m    619\u001b[0m                               \u001b[0mclass_weight\u001b[0m\u001b[0;34m=\u001b[0m\u001b[0mclass_weight\u001b[0m\u001b[0;34m,\u001b[0m\u001b[0;34m\u001b[0m\u001b[0m\n\u001b[0;32m--> 620\u001b[0;31m                               sample_weight=sample_weight)\n\u001b[0m\u001b[1;32m    621\u001b[0m \u001b[0;34m\u001b[0m\u001b[0m\n\u001b[1;32m    622\u001b[0m     def evaluate(self, x, y, batch_size=32, verbose=1,\n",
      "\u001b[0;32m/home/ubuntu/.conda/envs/keras/lib/python3.5/site-packages/keras/engine/training.py\u001b[0m in \u001b[0;36mfit\u001b[0;34m(self, x, y, batch_size, nb_epoch, verbose, callbacks, validation_split, validation_data, shuffle, class_weight, sample_weight)\u001b[0m\n\u001b[1;32m   1032\u001b[0m                                                            \u001b[0mclass_weight\u001b[0m\u001b[0;34m=\u001b[0m\u001b[0mclass_weight\u001b[0m\u001b[0;34m,\u001b[0m\u001b[0;34m\u001b[0m\u001b[0m\n\u001b[1;32m   1033\u001b[0m                                                            \u001b[0mcheck_batch_dim\u001b[0m\u001b[0;34m=\u001b[0m\u001b[0;32mFalse\u001b[0m\u001b[0;34m,\u001b[0m\u001b[0;34m\u001b[0m\u001b[0m\n\u001b[0;32m-> 1034\u001b[0;31m                                                            batch_size=batch_size)\n\u001b[0m\u001b[1;32m   1035\u001b[0m         \u001b[0;31m# prepare validation data\u001b[0m\u001b[0;34m\u001b[0m\u001b[0;34m\u001b[0m\u001b[0m\n\u001b[1;32m   1036\u001b[0m         \u001b[0;32mif\u001b[0m \u001b[0mvalidation_data\u001b[0m\u001b[0;34m:\u001b[0m\u001b[0;34m\u001b[0m\u001b[0m\n",
      "\u001b[0;32m/home/ubuntu/.conda/envs/keras/lib/python3.5/site-packages/keras/engine/training.py\u001b[0m in \u001b[0;36m_standardize_user_data\u001b[0;34m(self, x, y, sample_weight, class_weight, check_batch_dim, batch_size)\u001b[0m\n\u001b[1;32m    963\u001b[0m                                    \u001b[0moutput_shapes\u001b[0m\u001b[0;34m,\u001b[0m\u001b[0;34m\u001b[0m\u001b[0m\n\u001b[1;32m    964\u001b[0m                                    \u001b[0mcheck_batch_dim\u001b[0m\u001b[0;34m=\u001b[0m\u001b[0;32mFalse\u001b[0m\u001b[0;34m,\u001b[0m\u001b[0;34m\u001b[0m\u001b[0m\n\u001b[0;32m--> 965\u001b[0;31m                                    exception_prefix='model target')\n\u001b[0m\u001b[1;32m    966\u001b[0m         sample_weights = standardize_sample_weights(sample_weight,\n\u001b[1;32m    967\u001b[0m                                                     self.output_names)\n",
      "\u001b[0;32m/home/ubuntu/.conda/envs/keras/lib/python3.5/site-packages/keras/engine/training.py\u001b[0m in \u001b[0;36mstandardize_input_data\u001b[0;34m(data, names, shapes, check_batch_dim, exception_prefix)\u001b[0m\n\u001b[1;32m    106\u001b[0m                                         \u001b[0;34m' to have shape '\u001b[0m \u001b[0;34m+\u001b[0m \u001b[0mstr\u001b[0m\u001b[0;34m(\u001b[0m\u001b[0mshapes\u001b[0m\u001b[0;34m[\u001b[0m\u001b[0mi\u001b[0m\u001b[0;34m]\u001b[0m\u001b[0;34m)\u001b[0m \u001b[0;34m+\u001b[0m\u001b[0;34m\u001b[0m\u001b[0m\n\u001b[1;32m    107\u001b[0m                                         \u001b[0;34m' but got array with shape '\u001b[0m \u001b[0;34m+\u001b[0m\u001b[0;34m\u001b[0m\u001b[0m\n\u001b[0;32m--> 108\u001b[0;31m                                         str(array.shape))\n\u001b[0m\u001b[1;32m    109\u001b[0m     \u001b[0;32mreturn\u001b[0m \u001b[0marrays\u001b[0m\u001b[0;34m\u001b[0m\u001b[0m\n\u001b[1;32m    110\u001b[0m \u001b[0;34m\u001b[0m\u001b[0m\n",
      "\u001b[0;31mException\u001b[0m: Error when checking model target: expected dense_21 to have shape (None, 22) but got array with shape (1, 1)"
     ]
    }
   ],
   "source": [
    "model.fit(X.reshape(-1, 1014, len(chars)), y,\n",
    "          nb_epoch=20,\n",
    "          batch_size=16)\n",
    "score = model.evaluate(X_test, y_test, batch_size=16)"
   ]
  }
 ],
 "metadata": {
  "anaconda-cloud": {},
  "kernelspec": {
   "display_name": "Python [default]",
   "language": "python",
   "name": "python3"
  },
  "language_info": {
   "codemirror_mode": {
    "name": "ipython",
    "version": 3
   },
   "file_extension": ".py",
   "mimetype": "text/x-python",
   "name": "python",
   "nbconvert_exporter": "python",
   "pygments_lexer": "ipython3",
   "version": "3.5.2"
  }
 },
 "nbformat": 4,
 "nbformat_minor": 1
}
