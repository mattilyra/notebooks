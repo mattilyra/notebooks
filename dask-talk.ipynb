{
 "cells": [
  {
   "cell_type": "markdown",
   "metadata": {},
   "source": [
    "# Overview\n",
    "\n",
    "- data\n",
    "- `dask` (http://dask.pydata.org/en/latest)\n",
    "- `dask.bag`\n",
    "- `distributed`\n",
    "\n",
    "# Links\n",
    "- Matthew Rocklin on `dask` at PyData Berlin 2015 https://www.youtube.com/watch?v=HLME2WKTJJ8\n",
    "- Matthew Rocklin on `dask` at PyData Seattle 2015 https://www.youtube.com/watch?v=PAGjm4BMKlk\n",
    "- Blog and examples about `dask` and `dask.distributed` https://www.opendatascience.com/blog/introducing-dask-distributed/\n",
    "\n",
    "# Packages used in the notebook\n",
    "You can install all of these with `pip` or `conda`, with the exception of `graphviz` which for some reason I couldn't get to work on `conda`, so use `pip` for that.\n",
    "- dask\n",
    "- pandas\n",
    "- seaborn\n",
    "- graphviz"
   ]
  },
  {
   "cell_type": "code",
   "execution_count": 2,
   "metadata": {
    "ExecuteTime": {
     "end_time": "2016-10-12T22:25:52.390952",
     "start_time": "2016-10-12T22:25:52.387053"
    },
    "collapsed": true
   },
   "outputs": [],
   "source": [
    "import os\n",
    "import json\n",
    "import shutil"
   ]
  },
  {
   "cell_type": "code",
   "execution_count": 3,
   "metadata": {
    "ExecuteTime": {
     "end_time": "2016-10-12T22:25:53.385623",
     "start_time": "2016-10-12T22:25:53.362179"
    },
    "collapsed": false
   },
   "outputs": [],
   "source": [
    "pth = os.path.join(os.path.expanduser('~/'), 'pydata_hackathon', 'bundestag')\n",
    "files = [os.path.join(pth, f) for f in os.listdir(pth) if os.path.isfile(os.path.join(pth, f))]"
   ]
  },
  {
   "cell_type": "code",
   "execution_count": 6,
   "metadata": {
    "ExecuteTime": {
     "end_time": "2016-10-12T19:50:28.271357",
     "start_time": "2016-10-12T19:50:28.257963"
    },
    "collapsed": false
   },
   "outputs": [
    {
     "data": {
      "text/plain": [
       "(412,\n",
       " ['/Users/mattilyra/pydata_hackathon/bundestag/17001.json',\n",
       "  '/Users/mattilyra/pydata_hackathon/bundestag/17002.json',\n",
       "  '/Users/mattilyra/pydata_hackathon/bundestag/17003.json',\n",
       "  '/Users/mattilyra/pydata_hackathon/bundestag/17004.json',\n",
       "  '/Users/mattilyra/pydata_hackathon/bundestag/17005.json'])"
      ]
     },
     "execution_count": 6,
     "metadata": {},
     "output_type": "execute_result"
    }
   ],
   "source": [
    "len(files), files[:5]"
   ]
  },
  {
   "cell_type": "code",
   "execution_count": 7,
   "metadata": {
    "ExecuteTime": {
     "end_time": "2016-10-12T19:50:32.167941",
     "start_time": "2016-10-12T19:50:32.157340"
    },
    "collapsed": false
   },
   "outputs": [],
   "source": [
    "with open('../pydata_hackathon/bundestag/17001.json', 'r') as fh:\n",
    "    data = json.load(fh)"
   ]
  },
  {
   "cell_type": "code",
   "execution_count": 8,
   "metadata": {
    "ExecuteTime": {
     "end_time": "2016-10-12T19:50:32.494308",
     "start_time": "2016-10-12T19:50:32.485309"
    },
    "collapsed": false
   },
   "outputs": [
    {
     "data": {
      "text/plain": [
       "{'filename': 'data/txt/17001.txt',\n",
       " 'in_writing': False,\n",
       " 'sequence': 159,\n",
       " 'sitzung': 1,\n",
       " 'speaker': 'Petra Pau (DIE LINKE)',\n",
       " 'speaker_cleaned': 'Petra Pau',\n",
       " 'speaker_fp': 'petra-pau',\n",
       " 'speaker_party': 'linke',\n",
       " 'text': 'Ich nehme die Wahl gerne an und freue mich auf die weitere Zusammenarbeit mit allen Kolleginnen und Kollegen.',\n",
       " 'type': 'speech',\n",
       " 'wahlperiode': 17}"
      ]
     },
     "execution_count": 8,
     "metadata": {},
     "output_type": "execute_result"
    }
   ],
   "source": [
    "data[10]"
   ]
  },
  {
   "cell_type": "markdown",
   "metadata": {},
   "source": [
    "Instead of doing something silly and loading all the data into memory:\n",
    "\n",
    "```python\n",
    "pth = os.path.join(os.path.expanduser('~/'), 'pydata_hackathon', 'bundestag')\n",
    "files = [os.path.join(pth, f) for f in os.listdir(pth) if os.path.isfile(os.path.join(pth, f))]\n",
    "documents = []\n",
    "for f in files:\n",
    "  with open(f, r) as fh:\n",
    "    data = json.load(fh)\n",
    "    documents.extend(data)```"
   ]
  },
  {
   "cell_type": "markdown",
   "metadata": {},
   "source": [
    "# What to do?\n",
    "- how much does each party / speaker get to speak\n",
    "- which words are the most frequent per party / speaker"
   ]
  },
  {
   "cell_type": "code",
   "execution_count": 4,
   "metadata": {
    "ExecuteTime": {
     "end_time": "2016-10-12T22:25:58.148708",
     "start_time": "2016-10-12T22:25:57.521799"
    },
    "collapsed": false
   },
   "outputs": [],
   "source": [
    "import dask.bag as db\n",
    "import json\n",
    "\n",
    "records = db.read_text('../pydata_hackathon/bundestag/*.json').map(json.loads)"
   ]
  },
  {
   "cell_type": "markdown",
   "metadata": {},
   "source": [
    "### Each partition will have the computations applied to them in parallel"
   ]
  },
  {
   "cell_type": "code",
   "execution_count": 20,
   "metadata": {
    "ExecuteTime": {
     "end_time": "2016-10-12T18:29:47.207680",
     "start_time": "2016-10-12T18:29:47.199055"
    },
    "collapsed": false
   },
   "outputs": [
    {
     "data": {
      "text/plain": [
       "412"
      ]
     },
     "execution_count": 20,
     "metadata": {},
     "output_type": "execute_result"
    }
   ],
   "source": [
    "records.npartitions"
   ]
  },
  {
   "cell_type": "code",
   "execution_count": 19,
   "metadata": {
    "ExecuteTime": {
     "end_time": "2016-10-12T18:29:32.045883",
     "start_time": "2016-10-12T18:29:31.844978"
    },
    "collapsed": false
   },
   "outputs": [
    {
     "data": {
      "text/plain": [
       "([{'filename': 'data/txt/17001.txt',\n",
       "   'in_writing': False,\n",
       "   'sequence': 169,\n",
       "   'sitzung': 1,\n",
       "   'speaker': None,\n",
       "   'speaker_cleaned': None,\n",
       "   'speaker_fp': None,\n",
       "   'speaker_party': None,\n",
       "   'text': 'Beifall',\n",
       "   'type': 'poi',\n",
       "   'wahlperiode': 17},\n",
       "  {'filename': 'data/txt/17001.txt',\n",
       "   'in_writing': False,\n",
       "   'sequence': 168,\n",
       "   'sitzung': 1,\n",
       "   'speaker': 'Präsident Dr. Norbert Lammert',\n",
       "   'speaker_cleaned': 'Dr. Norbert Lammert',\n",
       "   'speaker_fp': 'norbert-lammert',\n",
       "   'speaker_party': None,\n",
       "   'text': 'im Rahmen eines kleinen Empfangs in der Fraktionsebene Gelegenheit zum Gespräch mit den neu gewählten Mitgliedern des Präsidiums ist.',\n",
       "   'type': 'chair',\n",
       "   'wahlperiode': 17},\n",
       "  {'filename': 'data/txt/17001.txt',\n",
       "   'in_writing': False,\n",
       "   'sequence': 167,\n",
       "   'sitzung': 1,\n",
       "   'speaker': None,\n",
       "   'speaker_cleaned': None,\n",
       "   'speaker_fp': None,\n",
       "   'speaker_party': None,\n",
       "   'text': 'Heiterkeit',\n",
       "   'type': 'poi',\n",
       "   'wahlperiode': 17},\n",
       "  {'filename': 'data/txt/17001.txt',\n",
       "   'in_writing': False,\n",
       "   'sequence': 166,\n",
       "   'sitzung': 1,\n",
       "   'speaker': 'Präsident Dr. Norbert Lammert',\n",
       "   'speaker_cleaned': 'Dr. Norbert Lammert',\n",
       "   'speaker_fp': 'norbert-lammert',\n",
       "   'speaker_party': None,\n",
       "   'text': 'Ich möchte alle gewählten Kolleginnen und Kollegen auch im Namen des ganzen Hauses herzlich zu der Wahl beglückwünschen, verbunden mit allen guten Wünschen für eine ohnehin schon seit Jahren erprobte und bewährte gute Zusammenarbeit, die ich gerne fortsetze.\\n\\nLiebe Kolleginnen und Kollegen, wir sind damit am Schluss unserer heutigen Tagesordnung. Ich will Sie aber noch auf zwei Dinge aufmerksam machen.\\n\\nInterfraktionell ist vereinbart worden, dass an den Sitzungstagen, an denen die Kanzlerwahl stattfindet, die Bundesregierung vereidigt wird oder die Regierungserklärung abgegeben und eine Aussprache hierüber durchgeführt wird, keine Regierungsbefragung, keine Fragestunde und keine Aktuellen Stunden stattfinden sollen. Sind Sie damit einverstanden? - Das ist offenkundig der Fall. Dann ist das so beschlossen.\\n\\nDie nächste Sitzung des Bundestages berufe ich ein auf morgen, Mittwoch, den 28. Oktober 2009, 10 Uhr. Sie sind bitte darauf eingerichtet, dass es nach einem Wahlgang, der dann auch wieder mit Namensaufruf stattfindet, Unterbrechungen der Sitzung geben wird, nicht nur bis zur Feststellung des Ergebnisses, sondern dann auch bis zur späteren Vereidigung der Kanzlerin und des Kabinetts, sodass Sie das bitte für Ihre weitere Terminplanung berücksichtigen.\\n\\nSchließlich möchte ich, bevor ich die Sitzung schließe, daran erinnern, dass nach Ende dieser Sitzung - Günter Schabowski hätte gesagt: nach meiner Kenntnis ab sofort -',\n",
       "   'type': 'chair',\n",
       "   'wahlperiode': 17},\n",
       "  {'filename': 'data/txt/17001.txt',\n",
       "   'in_writing': False,\n",
       "   'sequence': 165,\n",
       "   'sitzung': 1,\n",
       "   'speaker': 'Katrin Göring-Eckardt (BÜNDNIS 90/DIE GRÜNEN)',\n",
       "   'speaker_cleaned': 'Katrin Göring-Eckardt',\n",
       "   'speaker_fp': 'katrin-goring-eckardt',\n",
       "   'speaker_party': 'gruene',\n",
       "   'text': '',\n",
       "   'type': 'speech',\n",
       "   'wahlperiode': 17},\n",
       "  {'filename': 'data/txt/17001.txt',\n",
       "   'in_writing': False,\n",
       "   'sequence': 164,\n",
       "   'sitzung': 1,\n",
       "   'speaker': None,\n",
       "   'speaker_cleaned': None,\n",
       "   'speaker_fp': None,\n",
       "   'speaker_party': None,\n",
       "   'text': 'Beifall im ganzen Hause',\n",
       "   'type': 'poi',\n",
       "   'wahlperiode': 17},\n",
       "  {'filename': 'data/txt/17001.txt',\n",
       "   'in_writing': False,\n",
       "   'sequence': 163,\n",
       "   'sitzung': 1,\n",
       "   'speaker': 'Katrin Göring-Eckardt (BÜNDNIS 90/DIE GRÜNEN)',\n",
       "   'speaker_cleaned': 'Katrin Göring-Eckardt',\n",
       "   'speaker_fp': 'katrin-goring-eckardt',\n",
       "   'speaker_party': 'gruene',\n",
       "   'text': 'Ich nehme die Wahl an und bedanke mich sehr herzlich.',\n",
       "   'type': 'speech',\n",
       "   'wahlperiode': 17},\n",
       "  {'filename': 'data/txt/17001.txt',\n",
       "   'in_writing': False,\n",
       "   'sequence': 162,\n",
       "   'sitzung': 1,\n",
       "   'speaker': 'Präsident Dr. Norbert Lammert',\n",
       "   'speaker_cleaned': 'Dr. Norbert Lammert',\n",
       "   'speaker_fp': 'norbert-lammert',\n",
       "   'speaker_party': None,\n",
       "   'text': 'Frau Kollegin Göring-Eckardt?',\n",
       "   'type': 'chair',\n",
       "   'wahlperiode': 17},\n",
       "  {'filename': 'data/txt/17001.txt',\n",
       "   'in_writing': False,\n",
       "   'sequence': 161,\n",
       "   'sitzung': 1,\n",
       "   'speaker': 'Petra Pau (DIE LINKE)',\n",
       "   'speaker_cleaned': 'Petra Pau',\n",
       "   'speaker_fp': 'petra-pau',\n",
       "   'speaker_party': 'linke',\n",
       "   'text': '',\n",
       "   'type': 'speech',\n",
       "   'wahlperiode': 17},\n",
       "  {'filename': 'data/txt/17001.txt',\n",
       "   'in_writing': False,\n",
       "   'sequence': 160,\n",
       "   'sitzung': 1,\n",
       "   'speaker': None,\n",
       "   'speaker_cleaned': None,\n",
       "   'speaker_fp': None,\n",
       "   'speaker_party': None,\n",
       "   'text': 'Beifall im ganzen Hause',\n",
       "   'type': 'poi',\n",
       "   'wahlperiode': 17},\n",
       "  {'filename': 'data/txt/17001.txt',\n",
       "   'in_writing': False,\n",
       "   'sequence': 159,\n",
       "   'sitzung': 1,\n",
       "   'speaker': 'Petra Pau (DIE LINKE)',\n",
       "   'speaker_cleaned': 'Petra Pau',\n",
       "   'speaker_fp': 'petra-pau',\n",
       "   'speaker_party': 'linke',\n",
       "   'text': 'Ich nehme die Wahl gerne an und freue mich auf die weitere Zusammenarbeit mit allen Kolleginnen und Kollegen.',\n",
       "   'type': 'speech',\n",
       "   'wahlperiode': 17},\n",
       "  {'filename': 'data/txt/17001.txt',\n",
       "   'in_writing': False,\n",
       "   'sequence': 158,\n",
       "   'sitzung': 1,\n",
       "   'speaker': 'Präsident Dr. Norbert Lammert',\n",
       "   'speaker_cleaned': 'Dr. Norbert Lammert',\n",
       "   'speaker_fp': 'norbert-lammert',\n",
       "   'speaker_party': None,\n",
       "   'text': 'Frau Kollegin Pau?',\n",
       "   'type': 'chair',\n",
       "   'wahlperiode': 17},\n",
       "  {'filename': 'data/txt/17001.txt',\n",
       "   'in_writing': False,\n",
       "   'sequence': 157,\n",
       "   'sitzung': 1,\n",
       "   'speaker': 'Dr. Hermann Otto Solms (FDP)',\n",
       "   'speaker_cleaned': 'Dr. Hermann Otto Solms',\n",
       "   'speaker_fp': 'hermann-otto-solms',\n",
       "   'speaker_party': 'fdp',\n",
       "   'text': '',\n",
       "   'type': 'speech',\n",
       "   'wahlperiode': 17},\n",
       "  {'filename': 'data/txt/17001.txt',\n",
       "   'in_writing': False,\n",
       "   'sequence': 156,\n",
       "   'sitzung': 1,\n",
       "   'speaker': None,\n",
       "   'speaker_cleaned': None,\n",
       "   'speaker_fp': None,\n",
       "   'speaker_party': None,\n",
       "   'text': 'Beifall im ganzen Hause',\n",
       "   'type': 'poi',\n",
       "   'wahlperiode': 17},\n",
       "  {'filename': 'data/txt/17001.txt',\n",
       "   'in_writing': False,\n",
       "   'sequence': 155,\n",
       "   'sitzung': 1,\n",
       "   'speaker': 'Dr. Hermann Otto Solms (FDP)',\n",
       "   'speaker_cleaned': 'Dr. Hermann Otto Solms',\n",
       "   'speaker_fp': 'hermann-otto-solms',\n",
       "   'speaker_party': 'fdp',\n",
       "   'text': 'Ich bedanke mich. Ich nehme die Wahl gerne an.',\n",
       "   'type': 'speech',\n",
       "   'wahlperiode': 17},\n",
       "  {'filename': 'data/txt/17001.txt',\n",
       "   'in_writing': False,\n",
       "   'sequence': 154,\n",
       "   'sitzung': 1,\n",
       "   'speaker': 'Präsident Dr. Norbert Lammert',\n",
       "   'speaker_cleaned': 'Dr. Norbert Lammert',\n",
       "   'speaker_fp': 'norbert-lammert',\n",
       "   'speaker_party': None,\n",
       "   'text': 'Herr Kollege Dr. Solms?',\n",
       "   'type': 'chair',\n",
       "   'wahlperiode': 17},\n",
       "  {'filename': 'data/txt/17001.txt',\n",
       "   'in_writing': False,\n",
       "   'sequence': 153,\n",
       "   'sitzung': 1,\n",
       "   'speaker': 'Dr. h. c. Wolfgang Thierse (SPD)',\n",
       "   'speaker_cleaned': 'Dr. h. c. Wolfgang Thierse',\n",
       "   'speaker_fp': 'wolfgang-thierse',\n",
       "   'speaker_party': 'spd',\n",
       "   'text': '',\n",
       "   'type': 'speech',\n",
       "   'wahlperiode': 17},\n",
       "  {'filename': 'data/txt/17001.txt',\n",
       "   'in_writing': False,\n",
       "   'sequence': 152,\n",
       "   'sitzung': 1,\n",
       "   'speaker': None,\n",
       "   'speaker_cleaned': None,\n",
       "   'speaker_fp': None,\n",
       "   'speaker_party': None,\n",
       "   'text': 'Beifall im ganzen Hause',\n",
       "   'type': 'poi',\n",
       "   'wahlperiode': 17},\n",
       "  {'filename': 'data/txt/17001.txt',\n",
       "   'in_writing': False,\n",
       "   'sequence': 151,\n",
       "   'sitzung': 1,\n",
       "   'speaker': 'Dr. h. c. Wolfgang Thierse (SPD)',\n",
       "   'speaker_cleaned': 'Dr. h. c. Wolfgang Thierse',\n",
       "   'speaker_fp': 'wolfgang-thierse',\n",
       "   'speaker_party': 'spd',\n",
       "   'text': 'Ja, ich nehme die Wahl an.',\n",
       "   'type': 'speech',\n",
       "   'wahlperiode': 17},\n",
       "  {'filename': 'data/txt/17001.txt',\n",
       "   'in_writing': False,\n",
       "   'sequence': 150,\n",
       "   'sitzung': 1,\n",
       "   'speaker': 'Präsident Dr. Norbert Lammert',\n",
       "   'speaker_cleaned': 'Dr. Norbert Lammert',\n",
       "   'speaker_fp': 'norbert-lammert',\n",
       "   'speaker_party': None,\n",
       "   'text': 'Kollege Thierse?',\n",
       "   'type': 'chair',\n",
       "   'wahlperiode': 17},\n",
       "  {'filename': 'data/txt/17001.txt',\n",
       "   'in_writing': False,\n",
       "   'sequence': 149,\n",
       "   'sitzung': 1,\n",
       "   'speaker': 'Gerda Hasselfeldt (CDU/CSU)',\n",
       "   'speaker_cleaned': 'Gerda Hasselfeldt',\n",
       "   'speaker_fp': 'gerda-hasselfeldt',\n",
       "   'speaker_party': 'cducsu',\n",
       "   'text': '',\n",
       "   'type': 'speech',\n",
       "   'wahlperiode': 17},\n",
       "  {'filename': 'data/txt/17001.txt',\n",
       "   'in_writing': False,\n",
       "   'sequence': 148,\n",
       "   'sitzung': 1,\n",
       "   'speaker': None,\n",
       "   'speaker_cleaned': None,\n",
       "   'speaker_fp': None,\n",
       "   'speaker_party': None,\n",
       "   'text': 'Beifall im ganzen Hause',\n",
       "   'type': 'poi',\n",
       "   'wahlperiode': 17},\n",
       "  {'filename': 'data/txt/17001.txt',\n",
       "   'in_writing': False,\n",
       "   'sequence': 147,\n",
       "   'sitzung': 1,\n",
       "   'speaker': 'Gerda Hasselfeldt (CDU/CSU)',\n",
       "   'speaker_cleaned': 'Gerda Hasselfeldt',\n",
       "   'speaker_fp': 'gerda-hasselfeldt',\n",
       "   'speaker_party': 'cducsu',\n",
       "   'text': 'Herr Präsident, ich nehme die Wahl gerne an und bedanke mich herzlich für das Vertrauen.',\n",
       "   'type': 'speech',\n",
       "   'wahlperiode': 17},\n",
       "  {'filename': 'data/txt/17001.txt',\n",
       "   'in_writing': False,\n",
       "   'sequence': 146,\n",
       "   'sitzung': 1,\n",
       "   'speaker': 'Präsident Dr. Norbert Lammert',\n",
       "   'speaker_cleaned': 'Dr. Norbert Lammert',\n",
       "   'speaker_fp': 'norbert-lammert',\n",
       "   'speaker_party': None,\n",
       "   'text': 'Damit haben alle vorgeschlagenen Kolleginnen und Kollegen die erforderliche Mehrheit erhalten und sind zu Mitgliedern des Präsidiums bzw. zur Vizepräsidentin oder zum Vizepräsidenten des Deutschen Bundestags gewählt.\\n\\nIch darf Sie fragen, ob Sie die Wahl annehmen. - Kollegin Hasselfeldt?',\n",
       "   'type': 'chair',\n",
       "   'wahlperiode': 17},\n",
       "  {'filename': 'data/txt/17001.txt',\n",
       "   'in_writing': False,\n",
       "   'sequence': 145,\n",
       "   'sitzung': 1,\n",
       "   'speaker': None,\n",
       "   'speaker_cleaned': None,\n",
       "   'speaker_fp': None,\n",
       "   'speaker_party': None,\n",
       "   'text': 'Beifall im ganzen Hause',\n",
       "   'type': 'poi',\n",
       "   'wahlperiode': 17},\n",
       "  {'filename': 'data/txt/17001.txt',\n",
       "   'in_writing': False,\n",
       "   'sequence': 144,\n",
       "   'sitzung': 1,\n",
       "   'speaker': 'Präsident Dr. Norbert Lammert',\n",
       "   'speaker_cleaned': 'Dr. Norbert Lammert',\n",
       "   'speaker_fp': 'norbert-lammert',\n",
       "   'speaker_party': None,\n",
       "   'text': 'Schließlich sind auf die Kollegin Katrin Göring-Eckardt 473 Jastimmen, 79 Neinstimmen und 61 Enthaltungen bei 5 ungültigen Stimmen entfallen.',\n",
       "   'type': 'chair',\n",
       "   'wahlperiode': 17},\n",
       "  {'filename': 'data/txt/17001.txt',\n",
       "   'in_writing': False,\n",
       "   'sequence': 143,\n",
       "   'sitzung': 1,\n",
       "   'speaker': None,\n",
       "   'speaker_cleaned': None,\n",
       "   'speaker_fp': None,\n",
       "   'speaker_party': None,\n",
       "   'text': 'Beifall im ganzen Hause',\n",
       "   'type': 'poi',\n",
       "   'wahlperiode': 17},\n",
       "  {'filename': 'data/txt/17001.txt',\n",
       "   'in_writing': False,\n",
       "   'sequence': 142,\n",
       "   'sitzung': 1,\n",
       "   'speaker': 'Präsident Dr. Norbert Lammert',\n",
       "   'speaker_cleaned': 'Dr. Norbert Lammert',\n",
       "   'speaker_fp': 'norbert-lammert',\n",
       "   'speaker_party': None,\n",
       "   'text': 'Die Kollegin Petra Pau hat 379 Jastimmen bei 155 Neinstimmen und 74 Enthaltungen erhalten. Hier waren 10 Stimmen ungültig.',\n",
       "   'type': 'chair',\n",
       "   'wahlperiode': 17},\n",
       "  {'filename': 'data/txt/17001.txt',\n",
       "   'in_writing': False,\n",
       "   'sequence': 141,\n",
       "   'sitzung': 1,\n",
       "   'speaker': None,\n",
       "   'speaker_cleaned': None,\n",
       "   'speaker_fp': None,\n",
       "   'speaker_party': None,\n",
       "   'text': 'Beifall im ganzen Hause',\n",
       "   'type': 'poi',\n",
       "   'wahlperiode': 17},\n",
       "  {'filename': 'data/txt/17001.txt',\n",
       "   'in_writing': False,\n",
       "   'sequence': 140,\n",
       "   'sitzung': 1,\n",
       "   'speaker': 'Präsident Dr. Norbert Lammert',\n",
       "   'speaker_cleaned': 'Dr. Norbert Lammert',\n",
       "   'speaker_fp': 'norbert-lammert',\n",
       "   'speaker_party': None,\n",
       "   'text': 'Auf den Kollegen Dr. Hermann Otto Solms entfielen 487 Jastimmen bei 84 Neinstimmen und 42 Enthaltungen. 5 Stimmen waren ungültig.',\n",
       "   'type': 'chair',\n",
       "   'wahlperiode': 17},\n",
       "  {'filename': 'data/txt/17001.txt',\n",
       "   'in_writing': False,\n",
       "   'sequence': 139,\n",
       "   'sitzung': 1,\n",
       "   'speaker': 'Dr. Barbara Hendricks [SPD]',\n",
       "   'speaker_cleaned': 'Dr. Barbara Hendricks',\n",
       "   'speaker_fp': 'barbara-hendricks',\n",
       "   'speaker_party': 'spd',\n",
       "   'text': 'Die Schwarzen schätzen den Parlamentarismus nicht!',\n",
       "   'type': 'poi',\n",
       "   'wahlperiode': 17},\n",
       "  {'filename': 'data/txt/17001.txt',\n",
       "   'in_writing': False,\n",
       "   'sequence': 138,\n",
       "   'sitzung': 1,\n",
       "   'speaker': None,\n",
       "   'speaker_cleaned': None,\n",
       "   'speaker_fp': None,\n",
       "   'speaker_party': None,\n",
       "   'text': 'Beifall im ganzen Hause',\n",
       "   'type': 'poi',\n",
       "   'wahlperiode': 17},\n",
       "  {'filename': 'data/txt/17001.txt',\n",
       "   'in_writing': False,\n",
       "   'sequence': 137,\n",
       "   'sitzung': 1,\n",
       "   'speaker': 'Präsident Dr. Norbert Lammert',\n",
       "   'speaker_cleaned': 'Dr. Norbert Lammert',\n",
       "   'speaker_fp': 'norbert-lammert',\n",
       "   'speaker_party': None,\n",
       "   'text': '66 Neinstimmen, 52 Enthaltungen.\\n\\nIm Übrigen gibt es bei den Einzelwahlgängen, also bei den einzelnen Stimmabgaben, aus Gründen, die ich Ihnen jetzt nicht im Einzelnen erläutern kann, ungültige Voten - die Stimmzettel im Ganzen waren gültig -, sodass, wie man sich durch Addition sofort erschließen kann, hier vier ungültige Stimmen zur Gesamtzahl der abgegebenen Stimmen führen.\\n\\nAuf den Kollegen Dr. Wolfgang Thierse sind 371 Jastimmen bei 170 Neinstimmen und 65 Enthaltungen entfallen. Hier waren 12 Stimmen ungültig.',\n",
       "   'type': 'chair',\n",
       "   'wahlperiode': 17},\n",
       "  {'filename': 'data/txt/17001.txt',\n",
       "   'in_writing': False,\n",
       "   'sequence': 136,\n",
       "   'sitzung': 1,\n",
       "   'speaker': None,\n",
       "   'speaker_cleaned': None,\n",
       "   'speaker_fp': None,\n",
       "   'speaker_party': None,\n",
       "   'text': 'Beifall im ganzen Hause',\n",
       "   'type': 'poi',\n",
       "   'wahlperiode': 17},\n",
       "  {'filename': 'data/txt/17001.txt',\n",
       "   'in_writing': False,\n",
       "   'sequence': 135,\n",
       "   'sitzung': 1,\n",
       "   'speaker': 'Präsident Dr. Norbert Lammert',\n",
       "   'speaker_cleaned': 'Dr. Norbert Lammert',\n",
       "   'speaker_fp': 'norbert-lammert',\n",
       "   'speaker_party': None,\n",
       "   'text': 'Die unterbrochene Sitzung ist wieder eröffnet.\\n\\nLiebe Kolleginnen und Kollegen, ich möchte Sie bitten, Platz zu nehmen, um Ihnen das Ergebnis der Wahl der Stellvertreterinnen und Stellvertreter des Präsidenten mitzuteilen: abgegebene Stimmkarten 618. Alle abgegebenen Stimmkarten waren gültig. Auf die vorgeschlagenen Kandidatinnen und Kandidaten sind folgende Stimmenergebnisse entfallen:\\n\\nKollegin Gerda Hasselfeldt: 496 Jastimmen,',\n",
       "   'type': 'chair',\n",
       "   'wahlperiode': 17},\n",
       "  {'filename': 'data/txt/17001.txt',\n",
       "   'in_writing': False,\n",
       "   'sequence': 134,\n",
       "   'sitzung': 1,\n",
       "   'speaker': 'Präsident Dr. Norbert Lammert',\n",
       "   'speaker_cleaned': 'Dr. Norbert Lammert',\n",
       "   'speaker_fp': 'norbert-lammert',\n",
       "   'speaker_party': None,\n",
       "   'text': '',\n",
       "   'type': 'chair',\n",
       "   'wahlperiode': 17},\n",
       "  {'filename': 'data/txt/17001.txt',\n",
       "   'in_writing': False,\n",
       "   'sequence': 133,\n",
       "   'sitzung': 1,\n",
       "   'speaker': None,\n",
       "   'speaker_cleaned': None,\n",
       "   'speaker_fp': None,\n",
       "   'speaker_party': None,\n",
       "   'text': 'Unterbrechung von 13.39 bis 14.59 Uhr',\n",
       "   'type': 'poi',\n",
       "   'wahlperiode': 17},\n",
       "  {'filename': 'data/txt/17001.txt',\n",
       "   'in_writing': False,\n",
       "   'sequence': 132,\n",
       "   'sitzung': 1,\n",
       "   'speaker': 'Präsident Dr. Norbert Lammert',\n",
       "   'speaker_cleaned': 'Dr. Norbert Lammert',\n",
       "   'speaker_fp': 'norbert-lammert',\n",
       "   'speaker_party': None,\n",
       "   'text': 'Sobald wir das Wahlergebnis haben, werden wir durch akustische Signale darauf hinweisen, dass dann die Sitzung wieder eröffnet, das Wahlergebnis bekannt gegeben und danach für heute die Sitzung geschlossen wird.\\n\\nIch unterbreche die Sitzung.',\n",
       "   'type': 'chair',\n",
       "   'wahlperiode': 17},\n",
       "  {'filename': 'data/txt/17001.txt',\n",
       "   'in_writing': False,\n",
       "   'sequence': 131,\n",
       "   'sitzung': 1,\n",
       "   'speaker': None,\n",
       "   'speaker_cleaned': None,\n",
       "   'speaker_fp': None,\n",
       "   'speaker_party': None,\n",
       "   'text': 'Heiterkeit',\n",
       "   'type': 'poi',\n",
       "   'wahlperiode': 17},\n",
       "  {'filename': 'data/txt/17001.txt',\n",
       "   'in_writing': False,\n",
       "   'sequence': 130,\n",
       "   'sitzung': 1,\n",
       "   'speaker': 'Präsident Dr. Norbert Lammert',\n",
       "   'speaker_cleaned': 'Dr. Norbert Lammert',\n",
       "   'speaker_fp': 'norbert-lammert',\n",
       "   'speaker_party': None,\n",
       "   'text': 'Bevor wir zur Wahl der weiteren Mitglieder des Präsidiums des Deutschen Bundestages kommen, haben wir noch über die Weitergeltung von Geschäftsordnungen und Richtlinien abzustimmen.\\n\\nDazu rufe ich unseren Tagesordnungspunkt 4 auf:\\n\\nBeschlussfassung über die\\n\\n-\\tGeschäftsordnung des Deutschen Bundestages\\n\\n-\\tGemeinsame Geschäftsordnung des Bundestages und des Bundesrates für den Ausschuss nach Art. 77 des Grundgesetzes (Vermittlungsausschuss)\\n\\n-\\tGeschäftsordnung für den Gemeinsamen Ausschuss\\n\\n-\\tGeschäftsordnung für das Verfahren nach Art. 115 d des Grundgesetzes\\n\\n-\\tRichtlinien zur Überprüfung auf eine Tätigkeit oder politische Verantwortung für das Ministerium für Staatssicherheit/Amt für Nationale Sicherheit der ehemaligen Deutschen Demokratischen Republik\\n\\nWer für den Antrag auf Drucksache 17/1 stimmt, den bitte ich um das Handzeichen. - Wer stimmt dagegen? - Enthält sich jemand der Stimme? - Dann ist dieser Antrag einstimmig angenommen, und damit ist die Geltung dieser Regelungen vereinbart.\\n\\nIch rufe den Tagesordnungspunkt 5 auf:\\n\\nFestlegung der Zahl der Stellvertreter des Präsidenten\\n\\nHierzu liegt ebenfalls ein gemeinsamer Antrag aller Fraktionen vor, wonach jede Fraktion einen Stellvertreter oder eine Stellvertreterin des Präsidenten stellt.\\n\\nWir stimmen auch über diesen gemeinsamen Antrag ab. Wer stimmt für den Antrag auf Drucksache 17/2? - Stimmt jemand dagegen? - Enthält sich jemand der Stimme? - Dann ist auch das einstimmig beschlossen. Damit ist die Zahl der Stellvertreter des Präsidenten auf fünf festgelegt.\\n\\nIch rufe unseren Tagesordnungspunkt 6 auf:\\n\\nWahl der Stellvertreter des Präsidenten\\n\\nNach unserer Geschäftsordnung erfolgt die Wahl der Vizepräsidenten geheim. Interfraktionell ist vereinbart worden, die Wahl der fünf Stellvertreter des Präsidenten mit Wahlausweis und einer Stimmkarte, auf der alle vorgeschlagenen Kandidaten aufgeführt sind, durchzuführen, wobei selbstverständlich sichergestellt ist, dass es zu jedem Vorschlag ein eigenes Votum geben kann. Darf ich Ihr Einverständnis mit diesem Verfahren feststellen? - Das ist offenkundig der Fall.\\n\\nMir liegen folgende Vorschläge aus den Fraktionen vor: Von der Fraktion der CDU/CSU Gerda Hasselfeldt, von der SPD-Fraktion Dr. h. c. Wolfgang Thierse, von der FDP-Fraktion Dr. Hermann Otto Solms, von der Fraktion Die Linke Petra Pau sowie von der Fraktion BÜNDNIS 90/DIE GRÜNEN Katrin Göring-Eckardt. Darf ich fragen, ob es weitere Vorschläge gibt? - Das ist offensichtlich nicht der Fall.\\n\\nIch darf auch hier für einen kleinen Augenblick noch um Aufmerksamkeit für Hinweise zum Wahlverfahren bitten. Gewählt ist, wer die Stimmen der Mehrheit der Mitglieder des Bundestages erhält. Für den Wahlgang benötigen Sie einen grünen Wahlausweis, der - wenn Sie ihn nicht schon im ersten Wahlgang den Fächern entnommen haben - den Stimmkartenfächern in der Lobby entnommen werden kann. Sie erhalten wie beim vorherigen Wahlgang an den Ausgabetischen eine grüne Stimmkarte und den amtlichen Wahlumschlag. Auf der Stimmkarte sind die vorgeschlagenen Kandidaten aufgeführt. Sie dürfen auch hier bitte Ihre Stimmkarte nur in der Wahlkabine ankreuzen und müssen die Stimmkarte ebenfalls noch in der Wahlkabine in den Umschlag legen.\\n\\nSie haben fünf Stimmen und können zu jedem Kandidatenvorschlag jeweils mit Ja, Nein oder Enthaltung votieren. Wenn Sie bei einem Namen mehr als ein Kreuz oder gar kein Kreuz machen oder andere Namen als die der vorgeschlagenen Kandidaten oder kommentierende Zusätze auf die Stimmkarte schreiben, ist diese Stimme ungültig. Bevor Sie die Stimmkarte in die Wahlurne werfen, müssen Sie dem Schriftführer an der Wahlurne bitte Ihren Wahlausweis übergeben. Zum Ablauf des Wahlverfahrens bitte ich die gleichen Regiehinweise zu beachten, die Heinz Riesenhuber vorhin gegeben hat: dass wir möglichst von außen nach innen vorgehen und den mittleren Gang freihalten.\\n\\nNachdem Sie die Stimmkarte in einer der Wahlkabinen gezeichnet und in den Wahlumschlag gelegt haben, gehen Sie bitte zu den Wahlurnen, die hier vorne neben den Sitzreihen der Bundesregierung und des Bundesrates sowie vor dem Rednerpult aufgestellt sind.\\n\\nIch darf jetzt die Schriftführerinnen und Schriftführer bitten, wieder ihre Plätze einzunehmen. Es erfolgt jetzt kein Namensaufruf, sodass bitte alle möglichst zügig ihre Stimme abgeben.\\n\\nIch eröffne den Wahlgang.\\n\\nLiebe Kolleginnen und Kollegen, darf ich fragen, ob alle Mitglieder des Hauses, auch die Schriftführerinnen und Schriftführer, ihre Stimmkarte abgegeben haben? Oder kennt irgendjemand irgendjemanden, von dem er meint, dass er seine Stimmkarte noch nicht abgegeben hat? - Weder für das eine noch für das andere sehe ich Meldungen. Dann schließe ich den Wahlgang und bitte die Schriftführerinnen und Schriftführer, mit der Auszählung zu beginnen.\\n\\nIch unterbreche die Sitzung für voraussichtlich etwa 45 Minuten. Ganz genau kann ich das leider nicht sagen. Zusagen kann ich Ihnen, dass die Bekanntgabe des Wahl-ergebnisses nicht mit Blaskapelle vorangekündigt wird.',\n",
       "   'type': 'chair',\n",
       "   'wahlperiode': 17},\n",
       "  {'filename': 'data/txt/17001.txt',\n",
       "   'in_writing': False,\n",
       "   'sequence': 129,\n",
       "   'sitzung': 1,\n",
       "   'speaker': None,\n",
       "   'speaker_cleaned': None,\n",
       "   'speaker_fp': None,\n",
       "   'speaker_party': None,\n",
       "   'text': 'Anhaltender Beifall im ganzen Hause',\n",
       "   'type': 'poi',\n",
       "   'wahlperiode': 17},\n",
       "  {'filename': 'data/txt/17001.txt',\n",
       "   'in_writing': False,\n",
       "   'sequence': 128,\n",
       "   'sitzung': 1,\n",
       "   'speaker': 'Präsident Dr. Norbert Lammert',\n",
       "   'speaker_cleaned': 'Dr. Norbert Lammert',\n",
       "   'speaker_fp': 'norbert-lammert',\n",
       "   'speaker_party': None,\n",
       "   'text': 'nicht statt anderer eigener Anstrengungen zur Verbesserung unserer Arbeit, versteht sich, aber als möglicher Bestandteil. Ich weiß, dass es solche Überlegungen bei Mitgliedern aller Fraktionen gibt, und ich kenne auch die beachtlichen Einwände. Aber wir sollten auch nicht übersehen, dass es nach Einschätzung der meisten Wählerinnen und Wähler nicht zu wenige Wahlen in Deutschland gibt, sondern eher zu viele, von den Gemeinderäten, Kreistagen und Landtagen bis zum Europäischen Parlament. Auch die Teilnahme an Bürgerbegehren und Bürgerentscheiden auf kommunaler Ebene wie in den Ländern ist eher ernüchternd.\\n\\nJedenfalls werden wir uns darauf einrichten müssen, für die nächsten Jahre nicht nur von einem allgemeinen Wohlwollen der Öffentlichkeit wie der Medien, als vielmehr von ausgeprägten Erwartungen begleitet zu werden. Unsere Arbeit wird dadurch nicht leichter, dass manche dieser Erwartungen sich wechselseitig ausschließen. Aber wir alle, die wir heute zur Konstituierung dieses Bundestages hier zusammengekommen sind, haben für dieses Mandat kandidiert, weil wir uns dieser Aufgabe gewachsen fühlen. Mit der Annahme dieses Mandats beginnt die Erledigung der übernommenen Aufgaben, in welchen Rollen auch immer. Ich wünsche uns allen, jedem Einzelnen Freude und Erfolg bei der Bewältigung dieser Herausforderungen, und ich freue mich auf eine ebenso streitbare wie kollegiale Zusammenarbeit.\\n\\nHerzlichen Dank.',\n",
       "   'type': 'chair',\n",
       "   'wahlperiode': 17},\n",
       "  {'filename': 'data/txt/17001.txt',\n",
       "   'in_writing': False,\n",
       "   'sequence': 127,\n",
       "   'sitzung': 1,\n",
       "   'speaker': None,\n",
       "   'speaker_cleaned': None,\n",
       "   'speaker_fp': None,\n",
       "   'speaker_party': None,\n",
       "   'text': 'Beifall bei Abgeordneten der CDU/CSU, der SPD, der FDP, der LINKEN und des BÜNDNISSES 90/DIE GRÜNEN',\n",
       "   'type': 'poi',\n",
       "   'wahlperiode': 17},\n",
       "  {'filename': 'data/txt/17001.txt',\n",
       "   'in_writing': False,\n",
       "   'sequence': 126,\n",
       "   'sitzung': 1,\n",
       "   'speaker': 'Präsident Dr. Norbert Lammert',\n",
       "   'speaker_cleaned': 'Dr. Norbert Lammert',\n",
       "   'speaker_fp': 'norbert-lammert',\n",
       "   'speaker_party': None,\n",
       "   'text': 'Liebe Kolleginnen und Kollegen, nie zu spät ist es für gute Vorsätze, mit denen wir sicher alle unsere Arbeit beginnen. Aber wir sollten mit der Umsetzung auch möglichst bald beginnen. Die Legislaturperiode ist kurz, für den Bundestag nur vier Jahre. Fast alle Landtage und viele Parlamente unserer Nachbarstaaten haben fünfjährige Legislaturperioden, ebenso wie das Europäische Parlament. Auch darüber lohnt es, nachzudenken,',\n",
       "   'type': 'chair',\n",
       "   'wahlperiode': 17},\n",
       "  {'filename': 'data/txt/17001.txt',\n",
       "   'in_writing': False,\n",
       "   'sequence': 125,\n",
       "   'sitzung': 1,\n",
       "   'speaker': None,\n",
       "   'speaker_cleaned': None,\n",
       "   'speaker_fp': None,\n",
       "   'speaker_party': None,\n",
       "   'text': 'Beifall bei der FDP, der LINKEN und dem BÜNDNIS 90/DIE GRÜNEN sowie bei Abgeordneten der CDU/CSU und der SPD',\n",
       "   'type': 'poi',\n",
       "   'wahlperiode': 17},\n",
       "  {'filename': 'data/txt/17001.txt',\n",
       "   'in_writing': False,\n",
       "   'sequence': 124,\n",
       "   'sitzung': 1,\n",
       "   'speaker': 'Präsident Dr. Norbert Lammert',\n",
       "   'speaker_cleaned': 'Dr. Norbert Lammert',\n",
       "   'speaker_fp': 'norbert-lammert',\n",
       "   'speaker_party': None,\n",
       "   'text': 'Und dass unser Wahlgesetz eine Überprüfung dort mit Mehrheit abgelehnter Bewerbungen erst nach der Wahl zulässt, halten nicht nur einige Kommentatoren des Grundgesetzes für eine Rechtsschutzlücke - ich auch. Dann ist es nämlich für eine Korrektur zu spät.',\n",
       "   'type': 'chair',\n",
       "   'wahlperiode': 17},\n",
       "  {'filename': 'data/txt/17001.txt',\n",
       "   'in_writing': False,\n",
       "   'sequence': 123,\n",
       "   'sitzung': 1,\n",
       "   'speaker': None,\n",
       "   'speaker_cleaned': None,\n",
       "   'speaker_fp': None,\n",
       "   'speaker_party': None,\n",
       "   'text': 'Beifall bei Abgeordneten der CDU/CSU, der SPD, der FDP, der LINKEN und des BÜNDNISSES 90/DIE GRÜNEN',\n",
       "   'type': 'poi',\n",
       "   'wahlperiode': 17},\n",
       "  {'filename': 'data/txt/17001.txt',\n",
       "   'in_writing': False,\n",
       "   'sequence': 122,\n",
       "   'sitzung': 1,\n",
       "   'speaker': 'Präsident Dr. Norbert Lammert',\n",
       "   'speaker_cleaned': 'Dr. Norbert Lammert',\n",
       "   'speaker_fp': 'norbert-lammert',\n",
       "   'speaker_party': None,\n",
       "   'text': 'Noch nie wurden von einem deutschen Parlament so viele Einzeldokumente erzeugt wie in den letzten vier Jahren: deutlich mehr als 14 000.\\n\\nAus gegebenem Anlass wird sich der neue Bundestag sehr bald sowohl mit den Transparenzregeln für Abgeordnete wie mit einzelnen Bestimmungen unseres Wahlrechts befassen müssen. Ich hoffe sehr, dass wir bei diesen beiden Themen mit möglichst breiten, fraktionsübergreifenden Mehrheiten zur überzeugenden Korrektur von Regelungen kommen, die nicht erst seit den gerichtlichen Beanstandungen umstritten sind. Dabei empfehle ich uns auch einen ruhigen Blick auf die geltenden Regelungen zur Zulassung nicht bereits im Parlament vertretener Parteien zur Bundestagswahl. Dass im dafür zuständigen Wahlausschuss Vertreter der etablierten Parteien über die Zulassung von Konkurrenz entscheiden, ist nicht über jeden demokratischen Zweifel erhaben.',\n",
       "   'type': 'chair',\n",
       "   'wahlperiode': 17},\n",
       "  {'filename': 'data/txt/17001.txt',\n",
       "   'in_writing': False,\n",
       "   'sequence': 121,\n",
       "   'sitzung': 1,\n",
       "   'speaker': 'Volker Kauder [CDU/CSU]',\n",
       "   'speaker_cleaned': 'Volker Kauder',\n",
       "   'speaker_fp': 'volker-kauder',\n",
       "   'speaker_party': 'cducsu',\n",
       "   'text': 'Richtig!',\n",
       "   'type': 'poi',\n",
       "   'wahlperiode': 17},\n",
       "  {'filename': 'data/txt/17001.txt',\n",
       "   'in_writing': False,\n",
       "   'sequence': 120,\n",
       "   'sitzung': 1,\n",
       "   'speaker': 'Präsident Dr. Norbert Lammert',\n",
       "   'speaker_cleaned': 'Dr. Norbert Lammert',\n",
       "   'speaker_fp': 'norbert-lammert',\n",
       "   'speaker_party': None,\n",
       "   'text': 'Allerdings, liebe Kolleginnen und Kollegen, müssen auch nicht in jeder Legislaturperiode neue Rekorde bei parlamentarischen Drucksachen erzielt werden.',\n",
       "   'type': 'chair',\n",
       "   'wahlperiode': 17},\n",
       "  {'filename': 'data/txt/17001.txt',\n",
       "   'in_writing': False,\n",
       "   'sequence': 119,\n",
       "   'sitzung': 1,\n",
       "   'speaker': None,\n",
       "   'speaker_cleaned': None,\n",
       "   'speaker_fp': None,\n",
       "   'speaker_party': None,\n",
       "   'text': 'Beifall bei der FDP, der LINKEN und dem BÜNDNIS 90/DIE GRÜNEN sowie bei Abgeordneten der CDU/CSU und der SPD',\n",
       "   'type': 'poi',\n",
       "   'wahlperiode': 17},\n",
       "  {'filename': 'data/txt/17001.txt',\n",
       "   'in_writing': False,\n",
       "   'sequence': 118,\n",
       "   'sitzung': 1,\n",
       "   'speaker': 'Präsident Dr. Norbert Lammert',\n",
       "   'speaker_cleaned': 'Dr. Norbert Lammert',\n",
       "   'speaker_fp': 'norbert-lammert',\n",
       "   'speaker_party': None,\n",
       "   'text': '- Über den demonstrativen Beifall einiger von mir jetzt nicht namentlich genannter Kolleginnen und Kollegen freue ich mich ganz besonders und füge hinzu: Nicht nur die neuen Minister können nun zeigen, dass es im Umgang mit sicherlich manchmal lästigen parlamentarischen Auskunftsrechten so verlässlich, zügig und sorgfältig zugeht, wie sie es als Abgeordnete von der Regierung erwartet haben.',\n",
       "   'type': 'chair',\n",
       "   'wahlperiode': 17},\n",
       "  {'filename': 'data/txt/17001.txt',\n",
       "   'in_writing': False,\n",
       "   'sequence': 117,\n",
       "   'sitzung': 1,\n",
       "   'speaker': None,\n",
       "   'speaker_cleaned': None,\n",
       "   'speaker_fp': None,\n",
       "   'speaker_party': None,\n",
       "   'text': 'Beifall bei der FDP, der LINKEN und dem BÜNDNIS 90/DIE GRÜNEN sowie bei Abgeordneten der CDU/CSU und der SPD',\n",
       "   'type': 'poi',\n",
       "   'wahlperiode': 17},\n",
       "  {'filename': 'data/txt/17001.txt',\n",
       "   'in_writing': False,\n",
       "   'sequence': 116,\n",
       "   'sitzung': 1,\n",
       "   'speaker': 'Präsident Dr. Norbert Lammert',\n",
       "   'speaker_cleaned': 'Dr. Norbert Lammert',\n",
       "   'speaker_fp': 'norbert-lammert',\n",
       "   'speaker_party': None,\n",
       "   'text': 'ist unbefriedigend, gelegentlich ärgerlich.',\n",
       "   'type': 'chair',\n",
       "   'wahlperiode': 17},\n",
       "  {'filename': 'data/txt/17001.txt',\n",
       "   'in_writing': False,\n",
       "   'sequence': 115,\n",
       "   'sitzung': 1,\n",
       "   'speaker': 'Jürgen Trittin [BÜNDNIS 90/DIE GRÜNEN]',\n",
       "   'speaker_cleaned': 'Jürgen Trittin',\n",
       "   'speaker_fp': 'jurgen-trittin',\n",
       "   'speaker_party': 'gruene',\n",
       "   'text': 'War ungehörig!',\n",
       "   'type': 'poi',\n",
       "   'wahlperiode': 17},\n",
       "  {'filename': 'data/txt/17001.txt',\n",
       "   'in_writing': False,\n",
       "   'sequence': 114,\n",
       "   'sitzung': 1,\n",
       "   'speaker': 'Präsident Dr. Norbert Lammert',\n",
       "   'speaker_cleaned': 'Dr. Norbert Lammert',\n",
       "   'speaker_fp': 'norbert-lammert',\n",
       "   'speaker_party': None,\n",
       "   'text': 'Auch in der Gestaltung der Fragestunde besteht gewiss Verbesserungspotenzial, sowohl aufseiten der Parlamentarier wie aufseiten der Regierungsvertreter. Dies gilt auch für Kleine und Große Anfragen. Manche Frage mag unnötig sein, aber manche Antwort der Bundesregierung',\n",
       "   'type': 'chair',\n",
       "   'wahlperiode': 17},\n",
       "  {'filename': 'data/txt/17001.txt',\n",
       "   'in_writing': False,\n",
       "   'sequence': 113,\n",
       "   'sitzung': 1,\n",
       "   'speaker': None,\n",
       "   'speaker_cleaned': None,\n",
       "   'speaker_fp': None,\n",
       "   'speaker_party': None,\n",
       "   'text': 'Beifall bei Abgeordneten der CDU/CSU, der SPD, der FDP, der LINKEN und des BÜNDNISSES 90/DIE GRÜNEN',\n",
       "   'type': 'poi',\n",
       "   'wahlperiode': 17},\n",
       "  {'filename': 'data/txt/17001.txt',\n",
       "   'in_writing': False,\n",
       "   'sequence': 112,\n",
       "   'sitzung': 1,\n",
       "   'speaker': 'Präsident Dr. Norbert Lammert',\n",
       "   'speaker_cleaned': 'Dr. Norbert Lammert',\n",
       "   'speaker_fp': 'norbert-lammert',\n",
       "   'speaker_party': None,\n",
       "   'text': 'schon gar nicht, wenn die zweite und dritte Lesung von Gesetzen im Plenum alleine in der Niederlegung von schriftlichen Beiträgen besteht, die gar nicht debattiert werden konnten. Mit der unmissverständlichen Festlegung unserer Verfassung - Zitat: „Der Bundestag verhandelt öffentlich.“ - ist diese Praxis nur schwer vereinbar, zumal die Ausschussberatungen aus guten Gründen nicht immer öffentlich sind.\\n\\nDeshalb empfehle ich uns dringend - das gilt übrigens ausnahmslos für alle Beteiligten -, die Fülle der eingebrachten Gesetzentwürfe, Entschließungsanträge und Resolutionen auch im Maßstab der verfügbaren Beratungszeit selbstkritisch zu überprüfen oder umgekehrt die Anzahl der Sitzungswochen entsprechend zu erhöhen.',\n",
       "   'type': 'chair',\n",
       "   'wahlperiode': 17},\n",
       "  {'filename': 'data/txt/17001.txt',\n",
       "   'in_writing': False,\n",
       "   'sequence': 111,\n",
       "   'sitzung': 1,\n",
       "   'speaker': None,\n",
       "   'speaker_cleaned': None,\n",
       "   'speaker_fp': None,\n",
       "   'speaker_party': None,\n",
       "   'text': 'Beifall bei Abgeordneten der CDU/CSU, der SPD, der FDP, der LINKEN und des BÜNDNISSES 90/DIE GRÜNEN',\n",
       "   'type': 'poi',\n",
       "   'wahlperiode': 17},\n",
       "  {'filename': 'data/txt/17001.txt',\n",
       "   'in_writing': False,\n",
       "   'sequence': 110,\n",
       "   'sitzung': 1,\n",
       "   'speaker': 'Präsident Dr. Norbert Lammert',\n",
       "   'speaker_cleaned': 'Dr. Norbert Lammert',\n",
       "   'speaker_fp': 'norbert-lammert',\n",
       "   'speaker_party': None,\n",
       "   'text': 'In der vergangenen Legislaturperiode wurden 464 Tagesordnungspunkte - 464 Tagesordnungspunkte, Petitionen nicht mitgezählt - ohne Debatte verhandelt, und von rund 15 500 in den Protokollen verzeichneten Reden wurden nicht weniger als 4 429 zu Protokoll gegeben, mehr als jede vierte. Aus einer im Einzelfall sicher nötigen Ausnahme - ich räume freimütig ein, dass ich in früheren Rollen, die länger zurückliegen, an der Möglichkeit dieser Ausnahmeregelung leichtfertig mitgewirkt habe - ist längst eine fragwürdige Regel geworden. Das ist sicher keine Errungenschaft,',\n",
       "   'type': 'chair',\n",
       "   'wahlperiode': 17},\n",
       "  {'filename': 'data/txt/17001.txt',\n",
       "   'in_writing': False,\n",
       "   'sequence': 109,\n",
       "   'sitzung': 1,\n",
       "   'speaker': None,\n",
       "   'speaker_cleaned': None,\n",
       "   'speaker_fp': None,\n",
       "   'speaker_party': None,\n",
       "   'text': 'Beifall bei Abgeordneten der CDU/CSU, der SPD, der FDP, der LINKEN und des BÜNDNISSES 90/DIE GRÜNEN',\n",
       "   'type': 'poi',\n",
       "   'wahlperiode': 17},\n",
       "  {'filename': 'data/txt/17001.txt',\n",
       "   'in_writing': False,\n",
       "   'sequence': 108,\n",
       "   'sitzung': 1,\n",
       "   'speaker': 'Präsident Dr. Norbert Lammert',\n",
       "   'speaker_cleaned': 'Dr. Norbert Lammert',\n",
       "   'speaker_fp': 'norbert-lammert',\n",
       "   'speaker_party': None,\n",
       "   'text': 'Das muss im Übrigen auch nicht sein, wie zuletzt die ebenso kurzfristige wie kompetente Begleitgesetzgebung zum Lissabonner Vertrag eindrucksvoll belegt hat.\\n\\nFür die neuen Aufgaben, die damit auf den Bundestag innerhalb der Europäischen Union zukommen, sind wir inzwischen besser gerüstet als zu Beginn der letzten Legislaturperiode: durch eigene Initiativen, vor allem das Verbindungsbüro des Bundestages in Brüssel, aber auch durch die Entscheidung des Bundesverfassungsgerichts über die zentrale und unaufgebbare Rolle des Parlaments auch bei europäischen Rechtsetzungsakten.\\n\\nLiebe Kolleginnen und Kollegen, nicht ganz so eindrucksvoll ist die Organisation unserer Plenardebatten, die seit einiger Zeit durch ein immer größeres und, wie ich finde, immer ärgerlicheres Missverhältnis zwischen aufgesetzten und tatsächlich öffentlich behandelten Tagesordnungspunkten gekennzeichnet ist.',\n",
       "   'type': 'chair',\n",
       "   'wahlperiode': 17},\n",
       "  {'filename': 'data/txt/17001.txt',\n",
       "   'in_writing': False,\n",
       "   'sequence': 107,\n",
       "   'sitzung': 1,\n",
       "   'speaker': None,\n",
       "   'speaker_cleaned': None,\n",
       "   'speaker_fp': None,\n",
       "   'speaker_party': None,\n",
       "   'text': 'Beifall im ganzen Hause',\n",
       "   'type': 'poi',\n",
       "   'wahlperiode': 17},\n",
       "  {'filename': 'data/txt/17001.txt',\n",
       "   'in_writing': False,\n",
       "   'sequence': 106,\n",
       "   'sitzung': 1,\n",
       "   'speaker': 'Präsident Dr. Norbert Lammert',\n",
       "   'speaker_cleaned': 'Dr. Norbert Lammert',\n",
       "   'speaker_fp': 'norbert-lammert',\n",
       "   'speaker_party': None,\n",
       "   'text': 'Der entstandene Eindruck, diese zentrale staatliche Aufgabe werde immer häufiger und möglichst unauffällig an Anwaltskanzleien, Beratungsunternehmen und Gutachter abgetreten oder ausgelagert, stärkt die Autorität der Verfassungsorgane nicht, weder nach innen noch nach außen.',\n",
       "   'type': 'chair',\n",
       "   'wahlperiode': 17},\n",
       "  {'filename': 'data/txt/17001.txt',\n",
       "   'in_writing': False,\n",
       "   'sequence': 105,\n",
       "   'sitzung': 1,\n",
       "   'speaker': None,\n",
       "   'speaker_cleaned': None,\n",
       "   'speaker_fp': None,\n",
       "   'speaker_party': None,\n",
       "   'text': 'Beifall bei Abgeordneten des BÜNDNIS-SES 90/DIE GRÜNEN',\n",
       "   'type': 'poi',\n",
       "   'wahlperiode': 17},\n",
       "  {'filename': 'data/txt/17001.txt',\n",
       "   'in_writing': False,\n",
       "   'sequence': 104,\n",
       "   'sitzung': 1,\n",
       "   'speaker': 'Präsident Dr. Norbert Lammert',\n",
       "   'speaker_cleaned': 'Dr. Norbert Lammert',\n",
       "   'speaker_fp': 'norbert-lammert',\n",
       "   'speaker_party': None,\n",
       "   'text': 'Meine Damen und Herren, die Beteiligung von Sachverstand aus Wirtschaft und Gesellschaft zur Vorbereitung staatlicher Entscheidungen in der Exekutive wie der Legislative ist eine Errungenschaft postfeudaler Zeiten und ganz sicher kein Skandal. Allerdings: Weder ist die Regierung „Gesetzgeber“ noch das Parlament „Gesetznehmer“.',\n",
       "   'type': 'chair',\n",
       "   'wahlperiode': 17},\n",
       "  {'filename': 'data/txt/17001.txt',\n",
       "   'in_writing': False,\n",
       "   'sequence': 103,\n",
       "   'sitzung': 1,\n",
       "   'speaker': None,\n",
       "   'speaker_cleaned': None,\n",
       "   'speaker_fp': None,\n",
       "   'speaker_party': None,\n",
       "   'text': 'Beifall bei Abgeordneten der CDU/CSU, der SPD und der FDP sowie bei Abgeordneten des BÜNDNISSES 90/DIE GRÜNEN',\n",
       "   'type': 'poi',\n",
       "   'wahlperiode': 17},\n",
       "  {'filename': 'data/txt/17001.txt',\n",
       "   'in_writing': False,\n",
       "   'sequence': 102,\n",
       "   'sitzung': 1,\n",
       "   'speaker': 'Präsident Dr. Norbert Lammert',\n",
       "   'speaker_cleaned': 'Dr. Norbert Lammert',\n",
       "   'speaker_fp': 'norbert-lammert',\n",
       "   'speaker_party': None,\n",
       "   'text': 'Im parlamentarischen Regierungssystem ist die Gestaltung der Politik eine gemeinsame Aufgabe von Exekutive und Legislative. Dies wird nicht zuletzt im Gesetzgebungsverfahren deutlich. Die Wahrnehmung dessen, was in Zeiten der Globalisierung den Nationalstaaten an Souveränität verblieben ist, liegt bei den Parlamenten, in Deutschland mehr als irgendwo sonst beim Bundestag. Er entscheidet, ob überhaupt und wo und in welchem Umfang die Bundesrepublik Deutschland nationale Kompetenzen an die Europäische Gemeinschaft oder an internationale Organisationen zu übertragen bereit ist, nicht die Gerichte. Sie sind weder für die Politik zuständig noch für die Gesetzgebung. Sie legen die Gesetze im Lichte unserer Verfassung aus, nicht weniger, aber auch nicht mehr.',\n",
       "   'type': 'chair',\n",
       "   'wahlperiode': 17},\n",
       "  {'filename': 'data/txt/17001.txt',\n",
       "   'in_writing': False,\n",
       "   'sequence': 101,\n",
       "   'sitzung': 1,\n",
       "   'speaker': None,\n",
       "   'speaker_cleaned': None,\n",
       "   'speaker_fp': None,\n",
       "   'speaker_party': None,\n",
       "   'text': 'Beifall im ganzen Hause',\n",
       "   'type': 'poi',\n",
       "   'wahlperiode': 17},\n",
       "  {'filename': 'data/txt/17001.txt',\n",
       "   'in_writing': False,\n",
       "   'sequence': 100,\n",
       "   'sitzung': 1,\n",
       "   'speaker': 'Präsident Dr. Norbert Lammert',\n",
       "   'speaker_cleaned': 'Dr. Norbert Lammert',\n",
       "   'speaker_fp': 'norbert-lammert',\n",
       "   'speaker_party': None,\n",
       "   'text': 'Er ist nicht Hilfsorgan, sondern Herz der politischen Willensbildung in unserem Land. Nicht die Regierung hält sich ein Parlament, sondern das Parlament bestimmt und kontrolliert die Regierung.',\n",
       "   'type': 'chair',\n",
       "   'wahlperiode': 17},\n",
       "  {'filename': 'data/txt/17001.txt',\n",
       "   'in_writing': False,\n",
       "   'sequence': 99,\n",
       "   'sitzung': 1,\n",
       "   'speaker': None,\n",
       "   'speaker_cleaned': None,\n",
       "   'speaker_fp': None,\n",
       "   'speaker_party': None,\n",
       "   'text': 'Beifall bei der CDU/CSU, der FDP und dem BÜNDNIS 90/DIE GRÜNEN sowie bei Abgeordneten der SPD und der LINKEN',\n",
       "   'type': 'poi',\n",
       "   'wahlperiode': 17},\n",
       "  {'filename': 'data/txt/17001.txt',\n",
       "   'in_writing': False,\n",
       "   'sequence': 98,\n",
       "   'sitzung': 1,\n",
       "   'speaker': 'Präsident Dr. Norbert Lammert',\n",
       "   'speaker_cleaned': 'Dr. Norbert Lammert',\n",
       "   'speaker_fp': 'norbert-lammert',\n",
       "   'speaker_party': None,\n",
       "   'text': 'Der Bundestag muss und darf sich hinter ihnen nicht verstecken.',\n",
       "   'type': 'chair',\n",
       "   'wahlperiode': 17},\n",
       "  {'filename': 'data/txt/17001.txt',\n",
       "   'in_writing': False,\n",
       "   'sequence': 97,\n",
       "   'sitzung': 1,\n",
       "   'speaker': 'Zuruf von der CDU/CSU',\n",
       "   'speaker_cleaned': 'von der CDU/CSU',\n",
       "   'speaker_fp': 'von-der-cdu-csu',\n",
       "   'speaker_party': 'cducsu',\n",
       "   'text': 'Wohl wahr!',\n",
       "   'type': 'poi',\n",
       "   'wahlperiode': 17},\n",
       "  {'filename': 'data/txt/17001.txt',\n",
       "   'in_writing': False,\n",
       "   'sequence': 96,\n",
       "   'sitzung': 1,\n",
       "   'speaker': 'Präsident Dr. Norbert Lammert',\n",
       "   'speaker_cleaned': 'Dr. Norbert Lammert',\n",
       "   'speaker_fp': 'norbert-lammert',\n",
       "   'speaker_party': None,\n",
       "   'text': 'Man wird gerade in diesem Jahr daran erinnern dürfen: Für dieses demokratische Kerngrundrecht freier Wahlen sind auch in Deutschland vor 20 Jahren viele Tausende Menschen auf die Straße gegangen.\\n\\nLiebe Kolleginnen und Kollegen, die Bedeutung des Bundestages im Verfassungsgefüge wie in der Realität unseres politischen Lebens ist sicher höher als sein öffentliches Ansehen. Das parlamentarische System in Deutschland hat im eigenen Land bedauerlicherweise nicht den gleichen guten Ruf, den es fast überall auf der Welt genießt. Zweifellos ist es eine der großen Errungenschaften der jüngeren Geschichte unseres Landes. Mir fallen im Übrigen im internationalen wie im historischen Vergleich nicht einmal eine Handvoll Länder ein, deren Parlamente ähnlich viel oder gar mehr Einfluss auf die Bildung und die Kontrolle von Regierungen, die Gesetzgebung und die öffentliche Meinung hätten als die deutschen Parlamente und schon gar der Deutsche Bundestag.\\n\\nAber richtig ist auch: Die Parlamente, ihre Arbeit und ihre öffentliche Wirkung sind nicht immer so gut, wie sie sein könnten und sein sollten. Die Konstituierung eines neuen Bundestages ist eine gute Gelegenheit, gemeinsam darüber nachzudenken. Dies gilt für das Verhältnis von Parlament und Regierung, die Wahrnehmung der originären parlamentarischen Aufgaben, die Mehrheits- wie die Minderheitenrechte im Bundestag, die Transparenzregeln für Abgeordnete, das Wahlrecht, die Wahlprüfung und die Wahlzulassung, nicht zuletzt die neuen Kompetenzen des Bundestages im Rahmen der Europäischen Gemeinschaft.\\n\\nDen Regierungen von Bund und Ländern mangelt es an Selbstbewusstsein nicht, dem Verfassungsgericht auch nicht.',\n",
       "   'type': 'chair',\n",
       "   'wahlperiode': 17},\n",
       "  {'filename': 'data/txt/17001.txt',\n",
       "   'in_writing': False,\n",
       "   'sequence': 95,\n",
       "   'sitzung': 1,\n",
       "   'speaker': None,\n",
       "   'speaker_cleaned': None,\n",
       "   'speaker_fp': None,\n",
       "   'speaker_party': None,\n",
       "   'text': 'Beifall bei der CDU/CSU, der SPD, der FDP und dem BÜNDNIS 90/DIE GRÜNEN sowie bei Abgeordneten der LINKEN',\n",
       "   'type': 'poi',\n",
       "   'wahlperiode': 17},\n",
       "  {'filename': 'data/txt/17001.txt',\n",
       "   'in_writing': False,\n",
       "   'sequence': 94,\n",
       "   'sitzung': 1,\n",
       "   'speaker': 'Präsident Dr. Norbert Lammert',\n",
       "   'speaker_cleaned': 'Dr. Norbert Lammert',\n",
       "   'speaker_fp': 'norbert-lammert',\n",
       "   'speaker_party': None,\n",
       "   'text': 'nicht für immer, sondern für ganze vier Jahre, mit einem befristeten Auftrag, für den es keine automatische Verlängerung gibt.\\n\\nWir sind nicht das Volk, sondern die Volksvertretung. Das ist wichtig genug, aber eben nicht dasselbe. Die Wähler wissen ebenso gut wie wir - manchmal sogar besser -, dass wir nicht über Wasser gehen können. Deshalb sollten wir auch keinen anderen Eindruck vermitteln.\\n\\nMeine Damen und Herren, am 27. September haben fast 30 Prozent der Wählerinnen und Wähler von ihrem Wahlrecht keinen Gebrauch gemacht, mehr als je zuvor in der Geschichte der Bundestagswahlen, obwohl es übrigens noch nie so viele Kampagnen zur Wahlbeteiligung gegeben hat wie in diesem Jahr. Etwa 18 Millionen Frauen und Männer haben nicht gewählt. Das ist so viel, wie das größte Bundesland Einwohner hat. Belanglos ist das nicht. Es sollte bei nüchterner Würdigung weder verharmlost noch dramatisiert werden. Immerhin ist die niedrigste Beteiligung an einer Bundestagswahl seit 60 Jahren immer noch deutlich höher als die vielgerühmte höchste amerikanische Wahlbeteiligung in den letzten 100 Jahren. Dennoch sollten wir uns mit dem unerfreulichen Trend und seinen Ursachen auseinandersetzen.\\n\\nZu den Gründen der Wahlverweigerung gehören nicht nur allgemeines politisches Desinteresse, das es natürlich auch gibt, sondern konkrete Enttäuschungen, Ratlosigkeit gegenüber zu vielen oder zu wenigen oder zu undeutlichen Alternativen, manchmal auch schlichte Bequemlichkeit und neuerdings auch eine intellektuelle Überheblichkeit, die sich in der öffentlichen Aufforderung zur Verweigerung dessen niederschlägt, was dieselben Autoren als demokratisches Grundrecht natürlich für völlig unverzichtbar halten.',\n",
       "   'type': 'chair',\n",
       "   'wahlperiode': 17},\n",
       "  {'filename': 'data/txt/17001.txt',\n",
       "   'in_writing': False,\n",
       "   'sequence': 93,\n",
       "   'sitzung': 1,\n",
       "   'speaker': None,\n",
       "   'speaker_cleaned': None,\n",
       "   'speaker_fp': None,\n",
       "   'speaker_party': None,\n",
       "   'text': 'Heiterkeit und Beifall im ganzen Hause',\n",
       "   'type': 'poi',\n",
       "   'wahlperiode': 17},\n",
       "  {'filename': 'data/txt/17001.txt',\n",
       "   'in_writing': False,\n",
       "   'sequence': 92,\n",
       "   'sitzung': 1,\n",
       "   'speaker': 'Präsident Dr. Norbert Lammert',\n",
       "   'speaker_cleaned': 'Dr. Norbert Lammert',\n",
       "   'speaker_fp': 'norbert-lammert',\n",
       "   'speaker_party': None,\n",
       "   'text': 'Regiert wird immer und überall, mal mit und oft ohne demokratische Legitimation. Die Opposition macht den Unterschied, und ihre Bedeutung steht und fällt mit dem Gewicht des Parlaments als Vertretung des ganzen Volkes: Mehrheit und Minderheit, Rede und Widerrede.\\n\\nWie sehr die Wählerinnen und Wähler - und eben nicht die Parteien und ihre Führungen - die Zusammensetzung der Parlamente verändern, wird nicht nur an der großen Zahl der jeweils neu gewählten Mitglieder deutlich - diesmal beinahe ein Drittel -, sondern auch an der weitgehenden personellen Erneuerung innerhalb von nur zehn Jahren. Von den Abgeordneten, die 1999 beim Umzug des Bundestages von Bonn nach Berlin dabei waren, gehören gerade noch 101, also weniger als ein Sechstel, dem heute zusammentretenden Parlament an.\\n\\nMeine Damen und Herren, nicht alle, die in diesem Bundestag sitzen, haben den gleichen Einfluss; das ist wohl wahr. Aber alle haben das gleiche Mandat, gleiche Rechte und gleiche Pflichten. Auf beides will ich achten und wenn nötig in Erinnerung rufen, dass wir gewählt sind, aber nicht gesalbt -',\n",
       "   'type': 'chair',\n",
       "   'wahlperiode': 17},\n",
       "  {'filename': 'data/txt/17001.txt',\n",
       "   'in_writing': False,\n",
       "   'sequence': 91,\n",
       "   'sitzung': 1,\n",
       "   'speaker': None,\n",
       "   'speaker_cleaned': None,\n",
       "   'speaker_fp': None,\n",
       "   'speaker_party': None,\n",
       "   'text': 'Beifall bei der CDU/CSU, der FDP, der LINKEN und dem BÜNDNIS 90/DIE GRÜNEN sowie bei Abgeordneten der SPD',\n",
       "   'type': 'poi',\n",
       "   'wahlperiode': 17},\n",
       "  {'filename': 'data/txt/17001.txt',\n",
       "   'in_writing': False,\n",
       "   'sequence': 90,\n",
       "   'sitzung': 1,\n",
       "   'speaker': 'Präsident Dr. Norbert Lammert',\n",
       "   'speaker_cleaned': 'Dr. Norbert Lammert',\n",
       "   'speaker_fp': 'norbert-lammert',\n",
       "   'speaker_party': None,\n",
       "   'text': 'Meine Damen und Herren, das Wahlergebnis vom 27. September hat die Kräfteverhältnisse im 17. Bundestag stärker verändert, als gemeinhin erwartet wurde, und zugleich die politischen Rollen neu verteilt. In der Regel wird der Wechsel aus der Opposition in die Regierungsverantwortung höher geschätzt als der umgekehrte Rollenwechsel. Umso wichtiger ist die Einsicht, dass die demokratische Reife eines politischen Systems nicht an der Existenz der Regierung zu erkennen ist, sondern am Parlament und dort vor allem am Vorhandensein einer Opposition und ihrer politischen Wirkungsmöglichkeiten.',\n",
       "   'type': 'chair',\n",
       "   'wahlperiode': 17},\n",
       "  {'filename': 'data/txt/17001.txt',\n",
       "   'in_writing': False,\n",
       "   'sequence': 89,\n",
       "   'sitzung': 1,\n",
       "   'speaker': None,\n",
       "   'speaker_cleaned': None,\n",
       "   'speaker_fp': None,\n",
       "   'speaker_party': None,\n",
       "   'text': 'Beifall im ganzen Hause',\n",
       "   'type': 'poi',\n",
       "   'wahlperiode': 17},\n",
       "  {'filename': 'data/txt/17001.txt',\n",
       "   'in_writing': False,\n",
       "   'sequence': 88,\n",
       "   'sitzung': 1,\n",
       "   'speaker': 'Präsident Dr. Norbert Lammert',\n",
       "   'speaker_cleaned': 'Dr. Norbert Lammert',\n",
       "   'speaker_fp': 'norbert-lammert',\n",
       "   'speaker_party': None,\n",
       "   'text': 'Da die Chefredaktionen in ihren Entscheidungen so frei sind wie ich in meinem Urteil, kündige ich an, dass ich bei jeder ähnlichen Gelegenheit erneut vortragen werde.',\n",
       "   'type': 'chair',\n",
       "   'wahlperiode': 17},\n",
       "  {'filename': 'data/txt/17001.txt',\n",
       "   'in_writing': False,\n",
       "   'sequence': 87,\n",
       "   'sitzung': 1,\n",
       "   'speaker': None,\n",
       "   'speaker_cleaned': None,\n",
       "   'speaker_fp': None,\n",
       "   'speaker_party': None,\n",
       "   'text': 'Beifall im ganzen Hause',\n",
       "   'type': 'poi',\n",
       "   'wahlperiode': 17},\n",
       "  {'filename': 'data/txt/17001.txt',\n",
       "   'in_writing': False,\n",
       "   'sequence': 86,\n",
       "   'sitzung': 1,\n",
       "   'speaker': 'Präsident Dr. Norbert Lammert',\n",
       "   'speaker_cleaned': 'Dr. Norbert Lammert',\n",
       "   'speaker_fp': 'norbert-lammert',\n",
       "   'speaker_party': None,\n",
       "   'text': 'Mir fehlt jedes Verständnis dafür, dass ein gebührenpflichtiges Fernsehen, das dieses üppig dotierte Privileg allein seinem besonderen Informationsauftrag verdankt, auch an einem Tag wie heute mit einer souveränen Sturheit der Unterhaltung Vorrang vor der Information einräumt.',\n",
       "   'type': 'chair',\n",
       "   'wahlperiode': 17},\n",
       "  {'filename': 'data/txt/17001.txt',\n",
       "   'in_writing': False,\n",
       "   'sequence': 85,\n",
       "   'sitzung': 1,\n",
       "   'speaker': None,\n",
       "   'speaker_cleaned': None,\n",
       "   'speaker_fp': None,\n",
       "   'speaker_party': None,\n",
       "   'text': 'Beifall im ganzen Hause',\n",
       "   'type': 'poi',\n",
       "   'wahlperiode': 17},\n",
       "  {'filename': 'data/txt/17001.txt',\n",
       "   'in_writing': False,\n",
       "   'sequence': 84,\n",
       "   'sitzung': 1,\n",
       "   'speaker': 'Präsident Dr. Norbert Lammert',\n",
       "   'speaker_cleaned': 'Dr. Norbert Lammert',\n",
       "   'speaker_fp': 'norbert-lammert',\n",
       "   'speaker_party': None,\n",
       "   'text': 'Liebe Kolleginnen und Kollegen, auch ich folge meinem Herzen und nenne diese Programmentscheidung ganz vorsichtig im wörtlichen Sinne bemerkenswert.',\n",
       "   'type': 'chair',\n",
       "   'wahlperiode': 17},\n",
       "  {'filename': 'data/txt/17001.txt',\n",
       "   'in_writing': False,\n",
       "   'sequence': 83,\n",
       "   'sitzung': 1,\n",
       "   'speaker': None,\n",
       "   'speaker_cleaned': None,\n",
       "   'speaker_fp': None,\n",
       "   'speaker_party': None,\n",
       "   'text': 'Lachen',\n",
       "   'type': 'poi',\n",
       "   'wahlperiode': 17},\n",
       "  {'filename': 'data/txt/17001.txt',\n",
       "   'in_writing': False,\n",
       "   'sequence': 82,\n",
       "   'sitzung': 1,\n",
       "   'speaker': 'Präsident Dr. Norbert Lammert',\n",
       "   'speaker_cleaned': 'Dr. Norbert Lammert',\n",
       "   'speaker_fp': 'norbert-lammert',\n",
       "   'speaker_party': None,\n",
       "   'text': 'gefolgt vom 36. Kapitel der Serie Bianca - Wege zum Glück.',\n",
       "   'type': 'chair',\n",
       "   'wahlperiode': 17},\n",
       "  {'filename': 'data/txt/17001.txt',\n",
       "   'in_writing': False,\n",
       "   'sequence': 81,\n",
       "   'sitzung': 1,\n",
       "   'speaker': None,\n",
       "   'speaker_cleaned': None,\n",
       "   'speaker_fp': None,\n",
       "   'speaker_party': None,\n",
       "   'text': 'Lachen',\n",
       "   'type': 'poi',\n",
       "   'wahlperiode': 17},\n",
       "  {'filename': 'data/txt/17001.txt',\n",
       "   'in_writing': False,\n",
       "   'sequence': 80,\n",
       "   'sitzung': 1,\n",
       "   'speaker': 'Präsident Dr. Norbert Lammert',\n",
       "   'speaker_cleaned': 'Dr. Norbert Lammert',\n",
       "   'speaker_fp': 'norbert-lammert',\n",
       "   'speaker_party': None,\n",
       "   'text': 'Das Zweite Deutsche Fernsehen bringt statt einer Übertragung dieser Sitzung die 158. Folge der Serie Alisa - Folge deinem Herzen,',\n",
       "   'type': 'chair',\n",
       "   'wahlperiode': 17},\n",
       "  {'filename': 'data/txt/17001.txt',\n",
       "   'in_writing': False,\n",
       "   'sequence': 79,\n",
       "   'sitzung': 1,\n",
       "   'speaker': None,\n",
       "   'speaker_cleaned': None,\n",
       "   'speaker_fp': None,\n",
       "   'speaker_party': None,\n",
       "   'text': 'Lachen',\n",
       "   'type': 'poi',\n",
       "   'wahlperiode': 17},\n",
       "  {'filename': 'data/txt/17001.txt',\n",
       "   'in_writing': False,\n",
       "   'sequence': 78,\n",
       "   'sitzung': 1,\n",
       "   'speaker': 'Präsident Dr. Norbert Lammert',\n",
       "   'speaker_cleaned': 'Dr. Norbert Lammert',\n",
       "   'speaker_fp': 'norbert-lammert',\n",
       "   'speaker_party': None,\n",
       "   'text': 'Meine lieben Kolleginnen und Kollegen, nach manchen Beschwerden, Debatten, Verhandlungen in der letzten Legislaturperiode möchte ich Sie darauf aufmerksam machen, dass eine Übertragung der Konstituierung dieses Deutschen Bundestages im Hauptprogramm der öffentlich-rechtlichen Fernsehanstalten nicht stattfindet. Im Mittelpunkt des Vormittagsprogramms der Arbeitsgemeinschaft der Rundfunkanstalten Deutschlands steht heute Morgen die TV-Komödie Schaumküsse.',\n",
       "   'type': 'chair',\n",
       "   'wahlperiode': 17},\n",
       "  {'filename': 'data/txt/17001.txt',\n",
       "   'in_writing': False,\n",
       "   'sequence': 77,\n",
       "   'sitzung': 1,\n",
       "   'speaker': None,\n",
       "   'speaker_cleaned': None,\n",
       "   'speaker_fp': None,\n",
       "   'speaker_party': None,\n",
       "   'text': 'Beifall',\n",
       "   'type': 'poi',\n",
       "   'wahlperiode': 17},\n",
       "  {'filename': 'data/txt/17001.txt',\n",
       "   'in_writing': False,\n",
       "   'sequence': 76,\n",
       "   'sitzung': 1,\n",
       "   'speaker': 'Präsident Dr. Norbert Lammert',\n",
       "   'speaker_cleaned': 'Dr. Norbert Lammert',\n",
       "   'speaker_fp': 'norbert-lammert',\n",
       "   'speaker_party': None,\n",
       "   'text': 'Dank sagen möchte ich auch für die gute Zusammenarbeit im bisherigen Präsidium, insbesondere Susanne Kastner, die sieben Jahre Vizepräsidentin des Deutschen Bundestages war.',\n",
       "   'type': 'chair',\n",
       "   'wahlperiode': 17},\n",
       "  {'filename': 'data/txt/17001.txt',\n",
       "   'in_writing': False,\n",
       "   'sequence': 75,\n",
       "   'sitzung': 1,\n",
       "   'speaker': None,\n",
       "   'speaker_cleaned': None,\n",
       "   'speaker_fp': None,\n",
       "   'speaker_party': None,\n",
       "   'text': 'Beifall',\n",
       "   'type': 'poi',\n",
       "   'wahlperiode': 17},\n",
       "  {'filename': 'data/txt/17001.txt',\n",
       "   'in_writing': False,\n",
       "   'sequence': 74,\n",
       "   'sitzung': 1,\n",
       "   'speaker': 'Präsident Dr. Norbert Lammert',\n",
       "   'speaker_cleaned': 'Dr. Norbert Lammert',\n",
       "   'speaker_fp': 'norbert-lammert',\n",
       "   'speaker_party': None,\n",
       "   'text': 'Mein besonderer Dank und Respekt gilt allen ausscheidenden Mitgliedern des Bundestages für die geleistete Arbeit. Stellvertretend für alle nenne ich Frau Dr. Däubler-Gmelin, die diesem Parlament seit 1972, also stolze 37 Jahre, angehört hat.',\n",
       "   'type': 'chair',\n",
       "   'wahlperiode': 17},\n",
       "  {'filename': 'data/txt/17001.txt',\n",
       "   'in_writing': False,\n",
       "   'sequence': 73,\n",
       "   'sitzung': 1,\n",
       "   'speaker': None,\n",
       "   'speaker_cleaned': None,\n",
       "   'speaker_fp': None,\n",
       "   'speaker_party': None,\n",
       "   'text': 'Beifall',\n",
       "   'type': 'poi',\n",
       "   'wahlperiode': 17},\n",
       "  {'filename': 'data/txt/17001.txt',\n",
       "   'in_writing': False,\n",
       "   'sequence': 72,\n",
       "   'sitzung': 1,\n",
       "   'speaker': 'Präsident Dr. Norbert Lammert',\n",
       "   'speaker_cleaned': 'Dr. Norbert Lammert',\n",
       "   'speaker_fp': 'norbert-lammert',\n",
       "   'speaker_party': None,\n",
       "   'text': 'Ich freue mich natürlich - das werden Sie verstehen -, dass mein Bemühen eine so breite Anerkennung gefunden hat, dieses hohe Amt so überparteilich wie eben möglich zu führen und unser Parlament nach innen wie nach außen würdig zu vertreten. Dafür bin ich besonders dankbar, und ich versichere Ihnen gerne, dass ich mich nach Kräften weiterhin genau darum bemühen werde, auch wenn dies sicher nicht immer gleich gut gelingt.\\n\\nZugleich bitte ich um Verständnis, wenn ich nach Ihrem Votum nun auch um Ihre Unterstützung bei den notwendigen Bemühungen um eine weitere Verbesserung unserer parlamentarischen Arbeit bitte, zu der ich nach meiner Festrede zum 60. Geburtstag des Bundestages im September heute einige durchaus selbstkritische Anmerkungen machen möchte.\\n\\nZunächst möchte ich aber unserem Alterspräsidenten Heinz Riesenhuber danken, der nicht nur der lebensälteste Abgeordnete ist, sondern auch zu den mit Abstand dienstältesten Mitgliedern dieses Hauses gehört, für die souveräne Eröffnung unserer konstituierenden Sitzung mit Witz und der ihm eigenen Eleganz und für die Hinweise, die er uns für die Arbeit der bevorstehenden Legislaturperiode über das Tagesgeschäft hinaus gegeben hat.',\n",
       "   'type': 'chair',\n",
       "   'wahlperiode': 17},\n",
       "  {'filename': 'data/txt/17001.txt',\n",
       "   'in_writing': False,\n",
       "   'sequence': 71,\n",
       "   'sitzung': 1,\n",
       "   'speaker': None,\n",
       "   'speaker_cleaned': None,\n",
       "   'speaker_fp': None,\n",
       "   'speaker_party': None,\n",
       "   'text': 'Heiterkeit und Beifall bei der CDU/CSU, der FDP sowie bei Abgeordneten des BÜNDNISSES 90/DIE GRÜNEN',\n",
       "   'type': 'poi',\n",
       "   'wahlperiode': 17},\n",
       "  {'filename': 'data/txt/17001.txt',\n",
       "   'in_writing': False,\n",
       "   'sequence': 70,\n",
       "   'sitzung': 1,\n",
       "   'speaker': 'Präsident Dr. Norbert Lammert',\n",
       "   'speaker_cleaned': 'Dr. Norbert Lammert',\n",
       "   'speaker_fp': 'norbert-lammert',\n",
       "   'speaker_party': None,\n",
       "   'text': 'Sehr geehrter Herr Bundespräsident! Verehrte Gäste! Liebe Kolleginnen und Kollegen! Die erneute Wahl zum Präsidenten des Deutschen Bundestages ist eine hohe Auszeichnung und eine große Verpflichtung. Das eine ist mir so bewusst wie das andere.\\n\\nVor vier Jahren hat mich der 16. Deutsche Bundestag mit einem ungewöhnlichen Vertrauensvorschuss in dieses Amt gewählt. Ich bedanke mich bei allen, die mir heute auch nach stattgefundenen Erfahrungen in der Wahrnehmung des Amtes ihre Stimme gegeben haben, zunächst bei meiner eigenen Fraktion, die mich trotz gelegentlicher Neigung zu Selbstständigkeit und Hartnäckigkeit, auch gegenüber deren besonderen Wünschen und Erwartungen, für dieses Amt erneut vorgeschlagen hat - in Kenntnis des Risikos, dass das so bleiben wird.',\n",
       "   'type': 'chair',\n",
       "   'wahlperiode': 17},\n",
       "  {'filename': 'data/txt/17001.txt',\n",
       "   'in_writing': False,\n",
       "   'sequence': 69,\n",
       "   'sitzung': 1,\n",
       "   'speaker': 'Alterspräsident Dr. Heinz Riesenhuber',\n",
       "   'speaker_cleaned': 'Dr. Heinz Riesenhuber',\n",
       "   'speaker_fp': 'heinz-riesenhuber',\n",
       "   'speaker_party': None,\n",
       "   'text': '',\n",
       "   'type': 'chair',\n",
       "   'wahlperiode': 17},\n",
       "  {'filename': 'data/txt/17001.txt',\n",
       "   'in_writing': False,\n",
       "   'sequence': 68,\n",
       "   'sitzung': 1,\n",
       "   'speaker': None,\n",
       "   'speaker_cleaned': None,\n",
       "   'speaker_fp': None,\n",
       "   'speaker_party': None,\n",
       "   'text': 'Beifall im ganzen Hause',\n",
       "   'type': 'poi',\n",
       "   'wahlperiode': 17},\n",
       "  {'filename': 'data/txt/17001.txt',\n",
       "   'in_writing': False,\n",
       "   'sequence': 67,\n",
       "   'sitzung': 1,\n",
       "   'speaker': 'Alterspräsident Dr. Heinz Riesenhuber',\n",
       "   'speaker_cleaned': 'Dr. Heinz Riesenhuber',\n",
       "   'speaker_fp': 'heinz-riesenhuber',\n",
       "   'speaker_party': None,\n",
       "   'text': 'Herr Präsident, ich darf Ihnen im Namen des ganzen Hohen Hauses sehr herzlich gratulieren.\\n\\nTagesordnungspunkt 3:\\n\\nAmtsübernahme durch den Präsidenten\\n\\nIch darf Sie bitten, den Platz des Präsidenten und das Amt zu übernehmen und uns mit der gleichen Weisheit und Freundlichkeit wie in der vergangenen Periode zu führen.',\n",
       "   'type': 'chair',\n",
       "   'wahlperiode': 17},\n",
       "  {'filename': 'data/txt/17001.txt',\n",
       "   'in_writing': False,\n",
       "   'sequence': 66,\n",
       "   'sitzung': 1,\n",
       "   'speaker': None,\n",
       "   'speaker_cleaned': None,\n",
       "   'speaker_fp': None,\n",
       "   'speaker_party': None,\n",
       "   'text': 'Abgeordnete aller Fraktionen gratulieren dem Präsidenten',\n",
       "   'type': 'poi',\n",
       "   'wahlperiode': 17},\n",
       "  {'filename': 'data/txt/17001.txt',\n",
       "   'in_writing': False,\n",
       "   'sequence': 65,\n",
       "   'sitzung': 1,\n",
       "   'speaker': None,\n",
       "   'speaker_cleaned': None,\n",
       "   'speaker_fp': None,\n",
       "   'speaker_party': None,\n",
       "   'text': 'Beifall im ganzen Hause',\n",
       "   'type': 'poi',\n",
       "   'wahlperiode': 17},\n",
       "  {'filename': 'data/txt/17001.txt',\n",
       "   'in_writing': False,\n",
       "   'sequence': 64,\n",
       "   'sitzung': 1,\n",
       "   'speaker': 'Alterspräsident Dr. Heinz Riesenhuber',\n",
       "   'speaker_cleaned': 'Dr. Heinz Riesenhuber',\n",
       "   'speaker_fp': 'heinz-riesenhuber',\n",
       "   'speaker_party': None,\n",
       "   'text': 'Herzliche Glückwünsche!',\n",
       "   'type': 'chair',\n",
       "   'wahlperiode': 17},\n",
       "  {'filename': 'data/txt/17001.txt',\n",
       "   'in_writing': False,\n",
       "   'sequence': 63,\n",
       "   'sitzung': 1,\n",
       "   'speaker': 'Dr. Norbert Lammert (CDU/CSU)',\n",
       "   'speaker_cleaned': 'Dr. Norbert Lammert',\n",
       "   'speaker_fp': 'norbert-lammert',\n",
       "   'speaker_party': 'cducsu',\n",
       "   'text': 'Herr Präsident, ich nehme die Wahl gerne an.',\n",
       "   'type': 'speech',\n",
       "   'wahlperiode': 17},\n",
       "  {'filename': 'data/txt/17001.txt',\n",
       "   'in_writing': False,\n",
       "   'sequence': 62,\n",
       "   'sitzung': 1,\n",
       "   'speaker': 'Alterspräsident Dr. Heinz Riesenhuber',\n",
       "   'speaker_cleaned': 'Dr. Heinz Riesenhuber',\n",
       "   'speaker_fp': 'heinz-riesenhuber',\n",
       "   'speaker_party': None,\n",
       "   'text': 'mit Nein haben gestimmt 66, Enthaltungen gab es 29. Dr. Norbert Lammert hat die erforderliche Mehrheit erhalten und ist zum Präsidenten des 17. Deutschen Bundestags gewählt worden.\\n\\nIch darf Sie fragen, Herr Dr. Lammert: Nehmen Sie die Wahl an?',\n",
       "   'type': 'chair',\n",
       "   'wahlperiode': 17},\n",
       "  {'filename': 'data/txt/17001.txt',\n",
       "   'in_writing': False,\n",
       "   'sequence': 61,\n",
       "   'sitzung': 1,\n",
       "   'speaker': None,\n",
       "   'speaker_cleaned': None,\n",
       "   'speaker_fp': None,\n",
       "   'speaker_party': None,\n",
       "   'text': 'Beifall im ganzen Hause',\n",
       "   'type': 'poi',\n",
       "   'wahlperiode': 17},\n",
       "  {'filename': 'data/txt/17001.txt',\n",
       "   'in_writing': False,\n",
       "   'sequence': 60,\n",
       "   'sitzung': 1,\n",
       "   'speaker': 'Alterspräsident Dr. Heinz Riesenhuber',\n",
       "   'speaker_cleaned': 'Dr. Heinz Riesenhuber',\n",
       "   'speaker_fp': 'heinz-riesenhuber',\n",
       "   'speaker_party': None,\n",
       "   'text': 'Wir haben damit 617 gültige Stimmen. Mit Ja haben gestimmt 522,',\n",
       "   'type': 'chair',\n",
       "   'wahlperiode': 17},\n",
       "  {'filename': 'data/txt/17001.txt',\n",
       "   'in_writing': False,\n",
       "   'sequence': 59,\n",
       "   'sitzung': 1,\n",
       "   'speaker': None,\n",
       "   'speaker_cleaned': None,\n",
       "   'speaker_fp': None,\n",
       "   'speaker_party': None,\n",
       "   'text': 'Heiterkeit',\n",
       "   'type': 'poi',\n",
       "   'wahlperiode': 17},\n",
       "  {'filename': 'data/txt/17001.txt',\n",
       "   'in_writing': False,\n",
       "   'sequence': 58,\n",
       "   'sitzung': 1,\n",
       "   'speaker': 'Alterspräsident Dr. Heinz Riesenhuber',\n",
       "   'speaker_cleaned': 'Dr. Heinz Riesenhuber',\n",
       "   'speaker_fp': 'heinz-riesenhuber',\n",
       "   'speaker_party': None,\n",
       "   'text': 'Meine sehr verehrten Damen und Herren, darf ich Sie bitten, wieder Platz zu nehmen? Das Wahlergebnis liegt vor, und ich trage es vor, wenn alle entspannt sitzen. - Die unterbrochene Sitzung ist wieder eröffnet.\\n\\nIch darf Ihnen das Wahlergebnis bekannt geben. Es wurden 617 Stimmen abgegeben; damit ist gleichzeitig die Beschlussfähigkeit des 17. Deutschen Bundestages festgestellt. Es gab keine ungültigen Stimmen - eine besonders beeindruckende Leistung.',\n",
       "   'type': 'chair',\n",
       "   'wahlperiode': 17},\n",
       "  {'filename': 'data/txt/17001.txt',\n",
       "   'in_writing': False,\n",
       "   'sequence': 57,\n",
       "   'sitzung': 1,\n",
       "   'speaker': 'Alterspräsident Dr. Heinz Riesenhuber',\n",
       "   'speaker_cleaned': 'Dr. Heinz Riesenhuber',\n",
       "   'speaker_fp': 'heinz-riesenhuber',\n",
       "   'speaker_party': None,\n",
       "   'text': '',\n",
       "   'type': 'chair',\n",
       "   'wahlperiode': 17},\n",
       "  {'filename': 'data/txt/17001.txt',\n",
       "   'in_writing': False,\n",
       "   'sequence': 56,\n",
       "   'sitzung': 1,\n",
       "   'speaker': None,\n",
       "   'speaker_cleaned': None,\n",
       "   'speaker_fp': None,\n",
       "   'speaker_party': None,\n",
       "   'text': 'Unterbrechung von 12.04 bis 12.30 Uhr',\n",
       "   'type': 'poi',\n",
       "   'wahlperiode': 17},\n",
       "  {'filename': 'data/txt/17001.txt',\n",
       "   'in_writing': False,\n",
       "   'sequence': 55,\n",
       "   'sitzung': 1,\n",
       "   'speaker': 'Alterspräsident Dr. Heinz Riesenhuber',\n",
       "   'speaker_cleaned': 'Dr. Heinz Riesenhuber',\n",
       "   'speaker_fp': 'heinz-riesenhuber',\n",
       "   'speaker_party': None,\n",
       "   'text': 'Meine sehr verehrten Damen und Herren, damit ist der Namensaufruf beendet. Ich sehe aber noch erhebliche Schlangen vor den Wahlurnen, sodass ich noch etwas abwarte, bevor ich unterbreche.\\n\\nErlauben Sie mir folgenden Hinweis: An der linken Urne ist die Schlange sehr kurz, an der rechten Urne ist sie sehr lang. Ich bitte Sie, auch die linke Urne zu benutzen.\\n\\nMeine sehr verehrten Damen und Herren, das Gedränge an der Urne hat nachgelassen. Darf ich fragen, ob noch irgendjemand seinen Stimmzettel abgeben möchte? Hatte jeder dazu Gelegenheit? - Herr Kollege Westerwelle, ohne Ihre Stimme wären wir in Schwierigkeiten geraten. - Da ist noch eine Stimme. - Ich frage noch einmal, ob noch eine Stimme abgegeben werden soll? - Das ist nicht der Fall.\\n\\nDann darf ich die Wahl schließen. Ich bitte die Schriftführerinnen und Schriftführer, mit der Auszählung zu beginnen. Ich unterbreche die Sitzung zur Auszählung für ungefähr 30 Minuten. Danach wird geklingelt. Dann treffen wir uns hier zur Bekanntgabe des Ergebnisses wieder.',\n",
       "   'type': 'chair',\n",
       "   'wahlperiode': 17},\n",
       "  {'filename': 'data/txt/17001.txt',\n",
       "   'in_writing': False,\n",
       "   'sequence': 54,\n",
       "   'sitzung': 1,\n",
       "   'speaker': None,\n",
       "   'speaker_cleaned': None,\n",
       "   'speaker_fp': None,\n",
       "   'speaker_party': None,\n",
       "   'text': 'Namensaufruf und Wahl',\n",
       "   'type': 'poi',\n",
       "   'wahlperiode': 17},\n",
       "  {'filename': 'data/txt/17001.txt',\n",
       "   'in_writing': False,\n",
       "   'sequence': 53,\n",
       "   'sitzung': 1,\n",
       "   'speaker': 'Alterspräsident Dr. Heinz Riesenhuber',\n",
       "   'speaker_cleaned': 'Dr. Heinz Riesenhuber',\n",
       "   'speaker_fp': 'heinz-riesenhuber',\n",
       "   'speaker_party': None,\n",
       "   'text': '- Ich bitte um Nachsicht. Ich habe Ihnen gleich gesagt, dass ich im Ablesen nicht gut bin. Jeder muss mit seinen Handicaps leben.\\n\\nDie Wahl findet mit verdeckten Stimmkarten, also geheim, statt. Gewählt ist, wer die Stimmen der Mehrheit der Mitglieder des Bundestages erhält. Sie benötigen für die Wahl des Präsidenten Ihren gelben Wahlausweis. Diesen und weitere Wahlausweise für die später durchzuführenden Wahlen der Vizepräsidenten können Sie, soweit noch nicht geschehen, den Stimmkartenfächern in der Lobby entnehmen. Bitte kontrollieren Sie, ob die Wahlausweise Ihren Namen tragen. Die für die Wahl des Präsidenten allein gültige gelbe Stimmkarte und den amtlichen Wahlumschlag erhalten Sie nach Aufruf Ihres Namens von den Schriftführerinnen und Schriftführern an den Ausgabetischen links und rechts der Wahlkabinen.\\n\\nUm einen reibungslosen Ablauf der Wahl zu gewährleisten, bitte ich Sie, von Ihren Plätzen aus über die seitlichen Zugänge und nicht durch den Mittelgang zu den Ausgabetischen zu gehen - eine wohlerwogene Regieanweisung. Nachdem Sie die Stimmkarte in einer der Wahlkabinen gekennzeichnet und in den Wahlumschlag gelegt haben, gehen Sie bitte zu den Wahlurnen hier vorne am Rednerpult. Sie dürfen Ihre Stimmkarte nur in der Wahlkabine ankreuzen und müssen die Stimmkarte ebenfalls noch in der Wahlkabine in den Umschlag legen. Die Schriftführerinnen und Schriftführer sind verpflichtet, jeden, der seine Stimmkarte außerhalb der Wahlkabine kennzeichnet oder in den Umschlag legt, zurückzuweisen. Die Stimmabgabe kann in diesem Fall jedoch vorschriftsmäßig wiederholt werden.\\n\\nGültig sind nur Stimmkarten mit einem Kreuz bei „ja“, bei „nein“ oder bei „enthalte mich“. Ungültig sind Stimmen auf nichtamtlichen Stimmkarten sowie Stimmkarten, die mehr als ein Kreuz, andere Namen oder Zusätze enthalten.\\n\\nBevor Sie die Stimmkarte in eine Wahlurne werfen, übergeben Sie bitte Ihren Wahlausweis einem der Schriftführer an der Wahlurne. Die Abgabe des Wahlausweises dient als Nachweis für die Beteiligung an dieser Wahl und ersetzt die Eintragung in die Anwesenheitsliste, soweit Sie sich nicht ohnehin schon eingetragen haben.\\n\\nIch bitte jetzt die eingeteilten Schriftführerinnen und Schriftführer, die vorgesehenen Plätze einzunehmen. - Die beiden Schriftführer neben mir werden nun Ihre Namen in alphabetischer Reihenfolge aufrufen. Ich bitte Sie nun, den Namensaufruf zu verfolgen und sich nach dem Aufruf Ihres Namens zur Entgegennahme der Stimmkarte zu den Ausgabetischen vor den Wahlkabinen zu begeben.\\n\\nHaben alle Schriftführerinnen und Schriftführer ihre Plätze eingenommen? - Die Schriftführerinnen und Schriftführer haben an allen Urnen ihre Plätze eingenommen. Ich eröffne die Wahl und bitte, mit dem Aufruf der Namen zu beginnen.',\n",
       "   'type': 'chair',\n",
       "   'wahlperiode': 17},\n",
       "  {'filename': 'data/txt/17001.txt',\n",
       "   'in_writing': False,\n",
       "   'sequence': 52,\n",
       "   'sitzung': 1,\n",
       "   'speaker': None,\n",
       "   'speaker_cleaned': None,\n",
       "   'speaker_fp': None,\n",
       "   'speaker_party': None,\n",
       "   'text': 'Heiterkeit und Beifall im ganzen Hause',\n",
       "   'type': 'poi',\n",
       "   'wahlperiode': 17},\n",
       "  {'filename': 'data/txt/17001.txt',\n",
       "   'in_writing': False,\n",
       "   'sequence': 51,\n",
       "   'sitzung': 1,\n",
       "   'speaker': 'Alterspräsident Dr. Heinz Riesenhuber',\n",
       "   'speaker_cleaned': 'Dr. Heinz Riesenhuber',\n",
       "   'speaker_fp': 'heinz-riesenhuber',\n",
       "   'speaker_party': None,\n",
       "   'text': 'Vielen Dank, Herr Kauder. - Meine Damen und Herren, Sie haben den Vorschlag gehört. Darf ich fragen, ob es noch weitere Vorschläge gibt? - Ich höre und sehe, dass es keine weiteren Vorschläge gibt.\\n\\nSomit können wir zu den Hinweisen zum Wahlverfahren kommen. Unsere Verwaltung hat mich in ihrer Autorität verpflichtet, sie vorzulesen, was mir immer schwerfällt. Ich bitte um Ihre Aufmerksamkeit für einige Hinweise.\\n\\nDie Wahl findet mit versteckten Stimmkarten - -',\n",
       "   'type': 'chair',\n",
       "   'wahlperiode': 17},\n",
       "  {'filename': 'data/txt/17001.txt',\n",
       "   'in_writing': False,\n",
       "   'sequence': 50,\n",
       "   'sitzung': 1,\n",
       "   'speaker': 'Volker Kauder (CDU/CSU)',\n",
       "   'speaker_cleaned': 'Volker Kauder',\n",
       "   'speaker_fp': 'volker-kauder',\n",
       "   'speaker_party': 'cducsu',\n",
       "   'text': '',\n",
       "   'type': 'speech',\n",
       "   'wahlperiode': 17},\n",
       "  {'filename': 'data/txt/17001.txt',\n",
       "   'in_writing': False,\n",
       "   'sequence': 49,\n",
       "   'sitzung': 1,\n",
       "   'speaker': None,\n",
       "   'speaker_cleaned': None,\n",
       "   'speaker_fp': None,\n",
       "   'speaker_party': None,\n",
       "   'text': 'Beifall bei der CDU/CSU und der FDP sowie bei Abgeordneten der SPD und des BÜNDNISSES 90/DIE GRÜNEN',\n",
       "   'type': 'poi',\n",
       "   'wahlperiode': 17},\n",
       "  {'filename': 'data/txt/17001.txt',\n",
       "   'in_writing': False,\n",
       "   'sequence': 48,\n",
       "   'sitzung': 1,\n",
       "   'speaker': 'Volker Kauder (CDU/CSU)',\n",
       "   'speaker_cleaned': 'Volker Kauder',\n",
       "   'speaker_fp': 'volker-kauder',\n",
       "   'speaker_party': 'cducsu',\n",
       "   'text': 'Herr Alterspräsident, ich schlage für die CDU/CSU-Bundestagsfraktion den Kollegen Dr. Norbert Lammert vor.',\n",
       "   'type': 'speech',\n",
       "   'wahlperiode': 17},\n",
       "  {'filename': 'data/txt/17001.txt',\n",
       "   'in_writing': False,\n",
       "   'sequence': 47,\n",
       "   'sitzung': 1,\n",
       "   'speaker': 'Alterspräsident Dr. Heinz Riesenhuber',\n",
       "   'speaker_cleaned': 'Dr. Heinz Riesenhuber',\n",
       "   'speaker_fp': 'heinz-riesenhuber',\n",
       "   'speaker_party': None,\n",
       "   'text': 'Ich rufe nun Tagesordnungspunkt 2 auf:\\n\\nWahl des Präsidenten\\n\\nverbunden mit Namensaufruf\\n\\nund Feststellung der Beschlussfähigkeit\\n\\nIch bitte um Vorschläge zur Wahl des Präsidenten des Bundestages. - Herr Abgeordneter Kauder.',\n",
       "   'type': 'chair',\n",
       "   'wahlperiode': 17},\n",
       "  {'filename': 'data/txt/17001.txt',\n",
       "   'in_writing': False,\n",
       "   'sequence': 46,\n",
       "   'sitzung': 1,\n",
       "   'speaker': None,\n",
       "   'speaker_cleaned': None,\n",
       "   'speaker_fp': None,\n",
       "   'speaker_party': None,\n",
       "   'text': 'Beifall im ganzen Hause',\n",
       "   'type': 'poi',\n",
       "   'wahlperiode': 17},\n",
       "  {'filename': 'data/txt/17001.txt',\n",
       "   'in_writing': False,\n",
       "   'sequence': 45,\n",
       "   'sitzung': 1,\n",
       "   'speaker': 'Alterspräsident Dr. Heinz Riesenhuber',\n",
       "   'speaker_cleaned': 'Dr. Heinz Riesenhuber',\n",
       "   'speaker_fp': 'heinz-riesenhuber',\n",
       "   'speaker_party': None,\n",
       "   'text': '- Jawohl. Hier weist jemand, des Lateinischen kundig, darauf hin, dass „caritas“ und „amor“ zwei verschiedene Welten sind. Heute früh hat uns Prälat Jüsten in einfachen Worten mitgeteilt, was dies für die Verantwortung eines Politikers vor der Welt bedeutet. Hierzu will ich also nicht sprechen.\\n\\nMit Kraft und Besonnenheit so an die Wirklichkeit heranzugehen, dass Kraft und Zuversicht auch bei anderen wachsen, das ist unsere Aufgabe. Wir können nur einen Teil dessen, was in Deutschland entschieden werden muss, gestalten. Den anderen Möglichkeiten zu geben für Freiheit, für Mut und Unternehmungsgeist, dass sie mit Gestaltungskraft in die Zukunft schreiten, dass sie ihre Verantwortung für eine verletzliche Welt verstehen, dass sie nicht alles vom Staat erwarten, sondern sehr viel auch von sich selbst, das ist die Aufgabe, mit der wir in diese Periode hineingehen.\\n\\nDaran werden wir arbeiten. Ob es gelingt, weiß man nie; aber die Zuversicht bleibt, dass wir, wenn wir alle - jeder an seinem Platz - ehrlich und offen miteinander im Streit und dann in der Entscheidung an die Arbeit gehen, die Zukunft für unser Land ausbauen werden, so wie wir es als Auftrag vom deutschen Volk bekommen haben.\\n\\nIch bedanke mich bei Ihnen.',\n",
       "   'type': 'chair',\n",
       "   'wahlperiode': 17},\n",
       "  {'filename': 'data/txt/17001.txt',\n",
       "   'in_writing': False,\n",
       "   'sequence': 44,\n",
       "   'sitzung': 1,\n",
       "   'speaker': 'Renate Künast [BÜNDNIS 90/DIE GRÜNEN]',\n",
       "   'speaker_cleaned': 'Renate Künast',\n",
       "   'speaker_fp': 'renate-kunast',\n",
       "   'speaker_party': 'gruene',\n",
       "   'text': 'Nein, „caritas“!',\n",
       "   'type': 'poi',\n",
       "   'wahlperiode': 17},\n",
       "  {'filename': 'data/txt/17001.txt',\n",
       "   'in_writing': False,\n",
       "   'sequence': 43,\n",
       "   'sitzung': 1,\n",
       "   'speaker': 'Alterspräsident Dr. Heinz Riesenhuber',\n",
       "   'speaker_cleaned': 'Dr. Heinz Riesenhuber',\n",
       "   'speaker_fp': 'heinz-riesenhuber',\n",
       "   'speaker_party': None,\n",
       "   'text': 'Da ist die Landschaft relativ kahl. Es ist wichtig, hier die Kultur aufzubauen, dass das Gespräch so wird, dass Menschen aus unterschiedlichen Lebensbereichen zusammenwirken.\\n\\nDie Kulturen bei uns funktionieren in sich ziemlich gut. Die Übergänge sind eher mäßig, sie sind zu gering. Das scheint übrigens ein altes deutsches Problem zu sein. Goethe, ein berühmter Dichter aus meiner Heimat, hat in den Xenien geschrieben:\\n\\nDeutschland? aber wo liegt es? Ich weiß dieses Land nicht zu finden. Wo das gelehrte beginnt, hört das politische auf.\\n\\nWenn wir so begrenzen, sind wir in Schwierigkeiten. In einer komplexen Welt richtig zu entscheiden, gelingt nur dann, wenn sich diese Komplexität in unserem Gespräch widerspiegelt.\\n\\nSo gehen wir in diese Periode in einer durchaus schwierigen Zeit mit der Bereitschaft, zu entscheiden, und mit Zuversicht. Gott hat uns nicht den Geist der Verzagtheit gegeben, schreibt Paulus an Timotheus, sondern den Geist der Kraft, der Liebe und der Besonnenheit. Über die Liebe will ich jetzt nichts sagen; das ist ein sehr privater Raum.',\n",
       "   'type': 'chair',\n",
       "   'wahlperiode': 17},\n",
       "  {'filename': 'data/txt/17001.txt',\n",
       "   'in_writing': False,\n",
       "   'sequence': 42,\n",
       "   'sitzung': 1,\n",
       "   'speaker': None,\n",
       "   'speaker_cleaned': None,\n",
       "   'speaker_fp': None,\n",
       "   'speaker_party': None,\n",
       "   'text': 'Heiterkeit',\n",
       "   'type': 'poi',\n",
       "   'wahlperiode': 17},\n",
       "  {'filename': 'data/txt/17001.txt',\n",
       "   'in_writing': False,\n",
       "   'sequence': 41,\n",
       "   'sitzung': 1,\n",
       "   'speaker': 'Alterspräsident Dr. Heinz Riesenhuber',\n",
       "   'speaker_cleaned': 'Dr. Heinz Riesenhuber',\n",
       "   'speaker_fp': 'heinz-riesenhuber',\n",
       "   'speaker_party': None,\n",
       "   'text': 'Indem wir klug auf die Ursachen der Probleme reagiert haben, haben wir Lösungen gefunden, und diese Lösungen haben unserer Welt geholfen. Sie haben auch unseren Unternehmen geholfen, die die Wirklichkeit mit neuen Techniken gestaltet haben.\\n\\nMeine sehr verehrten Damen und Herren, das sind nur einige der langfristigen Herausforderungen. Wir bewältigen sie nur, wenn wir in den unterschiedlichen Verantwortungsbereichen hier im Deutschen Bundestag gemeinsam daran arbeiten. Wir bewältigen sie nur, wenn wir auch diejenigen, die in Wirtschaft und Wissenschaft in Verantwortlichkeit stehen, im gleichen Geiste dafür gewinnen.\\n\\nEine Stärke des Deutschen Bundestages ist seine große Vielfalt. Ihm gehören Menschen aus unterschiedlichen Altersstufen an. Die Altersspanne beträgt mehr als ein halbes Jahrhundert; auch ich trage meinen bescheidenen Teil dazu bei. Hier sind Männer und Frauen aus ganz unterschiedlichen Berufen und mit ganz unterschiedlichen Lebenserfahrungen vertreten. Jeder von ihnen hat eine Stimme, jeder hat sein Wort - das Wort ist das Einzige, was der Parlamentarier hat -, und so entsteht aus den Beiträgen der Einzelnen eine Arbeit am Ganzen.\\n\\nAllerdings gibt es einige Gruppen, von denen man sich wünschen würde, dass sie hier in noch größerer Zahl vertreten sind. Die Zahl der Betriebsräte hier im Bundestag ist nicht mehr so gewaltig. Die Zahl der Selbstständigen, der Unternehmer, der Manager, die Zahl der Naturwissenschaftler ist ziemlich mäßig. Aber wenn hier einmal ein Naturwissenschaftler ist, kann es durchaus sein, dass er oder sie zu den höchsten Staatsämtern aufsteigt. Das ist durchaus erfreulich.\\n\\nEntscheidend wird sein, dass wir, jeder Einzelne von uns, das Gespräch suchen, das Gespräch aufbauen, im Formellen - in Enquete-Kommissionen, in Anhörungen -, aber auch in Einzelgesprächen mit den vielen Gruppen. Das gilt aber auch für die andere Seite. Unternehmer frage ich immer: Kennen Sie eigentlich Ihre Abgeordneten, und zwar nicht nur die, die Ihnen persönlich nahestehen? Wann haben Sie Ihren Abgeordneten zum letzten Mal geknuddelt?',\n",
       "   'type': 'chair',\n",
       "   'wahlperiode': 17},\n",
       "  {'filename': 'data/txt/17001.txt',\n",
       "   'in_writing': False,\n",
       "   'sequence': 40,\n",
       "   'sitzung': 1,\n",
       "   'speaker': None,\n",
       "   'speaker_cleaned': None,\n",
       "   'speaker_fp': None,\n",
       "   'speaker_party': None,\n",
       "   'text': 'Heiterkeit',\n",
       "   'type': 'poi',\n",
       "   'wahlperiode': 17},\n",
       "  {'filename': 'data/txt/17001.txt',\n",
       "   'in_writing': False,\n",
       "   'sequence': 39,\n",
       "   'sitzung': 1,\n",
       "   'speaker': 'Alterspräsident Dr. Heinz Riesenhuber',\n",
       "   'speaker_cleaned': 'Dr. Heinz Riesenhuber',\n",
       "   'speaker_fp': 'heinz-riesenhuber',\n",
       "   'speaker_party': None,\n",
       "   'text': 'Wie sie schmecken, ist noch Gegenstand von Diskussionen. Vom Standpunkt der Fische aus betrachtet ist das aber durchaus sekundär.',\n",
       "   'type': 'chair',\n",
       "   'wahlperiode': 17},\n",
       "  {'filename': 'data/txt/17001.txt',\n",
       "   'in_writing': False,\n",
       "   'sequence': 38,\n",
       "   'sitzung': 1,\n",
       "   'speaker': None,\n",
       "   'speaker_cleaned': None,\n",
       "   'speaker_fp': None,\n",
       "   'speaker_party': None,\n",
       "   'text': 'Heiterkeit und Beifall bei der CDU/CSU und der FDP',\n",
       "   'type': 'poi',\n",
       "   'wahlperiode': 17},\n",
       "  {'filename': 'data/txt/17001.txt',\n",
       "   'in_writing': False,\n",
       "   'sequence': 37,\n",
       "   'sitzung': 1,\n",
       "   'speaker': 'Alterspräsident Dr. Heinz Riesenhuber',\n",
       "   'speaker_cleaned': 'Dr. Heinz Riesenhuber',\n",
       "   'speaker_fp': 'heinz-riesenhuber',\n",
       "   'speaker_party': None,\n",
       "   'text': 'Die Mitglieder meines Anglervereins haben mir gesagt, dass es im Main heute 40 unterschiedliche Fischsorten gibt und dass die Fische sich vermehren. Das ist ein Zeichen dafür, dass sie glücklich sind.',\n",
       "   'type': 'chair',\n",
       "   'wahlperiode': 17},\n",
       "  {'filename': 'data/txt/17001.txt',\n",
       "   'in_writing': False,\n",
       "   'sequence': 36,\n",
       "   'sitzung': 1,\n",
       "   'speaker': 'Jürgen Trittin [BÜNDNIS 90/DIE GRÜNEN]',\n",
       "   'speaker_cleaned': 'Jürgen Trittin',\n",
       "   'speaker_fp': 'jurgen-trittin',\n",
       "   'speaker_party': 'gruene',\n",
       "   'text': 'Haben Sie darüber damals auch einmal mit Herrn Töpfer gesprochen?',\n",
       "   'type': 'poi',\n",
       "   'wahlperiode': 17},\n",
       "  {'filename': 'data/txt/17001.txt',\n",
       "   'in_writing': False,\n",
       "   'sequence': 35,\n",
       "   'sitzung': 1,\n",
       "   'speaker': 'Renate Künast [BÜNDNIS 90/DIE GRÜNEN]',\n",
       "   'speaker_cleaned': 'Renate Künast',\n",
       "   'speaker_fp': 'renate-kunast',\n",
       "   'speaker_party': 'gruene',\n",
       "   'text': 'Woran lag das bloß?',\n",
       "   'type': 'poi',\n",
       "   'wahlperiode': 17},\n",
       "  {'filename': 'data/txt/17001.txt',\n",
       "   'in_writing': False,\n",
       "   'sequence': 34,\n",
       "   'sitzung': 1,\n",
       "   'speaker': 'Alterspräsident Dr. Heinz Riesenhuber',\n",
       "   'speaker_cleaned': 'Dr. Heinz Riesenhuber',\n",
       "   'speaker_fp': 'heinz-riesenhuber',\n",
       "   'speaker_party': None,\n",
       "   'text': 'Damals war die Rede davon, dass die Flüsse umkippen und unsere Seen bald tot sein werden. Ich erinnere mich: Als ich vor 30 Jahren an einem schönen Sommertag am Main spazieren ging, war der Fluss ziemlich braun, das Wasser stank, und die Fische trieben mit weißen Bäuchen zu Tal.',\n",
       "   'type': 'chair',\n",
       "   'wahlperiode': 17},\n",
       "  {'filename': 'data/txt/17001.txt',\n",
       "   'in_writing': False,\n",
       "   'sequence': 33,\n",
       "   'sitzung': 1,\n",
       "   'speaker': None,\n",
       "   'speaker_cleaned': None,\n",
       "   'speaker_fp': None,\n",
       "   'speaker_party': None,\n",
       "   'text': 'Beifall bei der CDU/CSU und der FDP',\n",
       "   'type': 'poi',\n",
       "   'wahlperiode': 17},\n",
       "  {'filename': 'data/txt/17001.txt',\n",
       "   'in_writing': False,\n",
       "   'sequence': 32,\n",
       "   'sitzung': 1,\n",
       "   'speaker': 'Alterspräsident Dr. Heinz Riesenhuber',\n",
       "   'speaker_cleaned': 'Dr. Heinz Riesenhuber',\n",
       "   'speaker_fp': 'heinz-riesenhuber',\n",
       "   'speaker_party': None,\n",
       "   'text': 'dann kann man durchaus sagen: Gemessen an den Themen, über die vor 30 Jahren diskutiert wurde, haben wir eine neue und erfreuliche Welt geschaffen.',\n",
       "   'type': 'chair',\n",
       "   'wahlperiode': 17},\n",
       "  {'filename': 'data/txt/17001.txt',\n",
       "   'in_writing': False,\n",
       "   'sequence': 31,\n",
       "   'sitzung': 1,\n",
       "   'speaker': 'Jürgen Trittin [BÜNDNIS 90/DIE GRÜNEN]',\n",
       "   'speaker_cleaned': 'Jürgen Trittin',\n",
       "   'speaker_fp': 'jurgen-trittin',\n",
       "   'speaker_party': 'gruene',\n",
       "   'text': 'In welchen Wäldern gehen Sie denn spazieren? Das ist längst nicht überall so toll!',\n",
       "   'type': 'poi',\n",
       "   'wahlperiode': 17},\n",
       "  {'filename': 'data/txt/17001.txt',\n",
       "   'in_writing': False,\n",
       "   'sequence': 30,\n",
       "   'sitzung': 1,\n",
       "   'speaker': 'Renate Künast [BÜNDNIS 90/DIE GRÜNEN]',\n",
       "   'speaker_cleaned': 'Renate Künast',\n",
       "   'speaker_fp': 'renate-kunast',\n",
       "   'speaker_party': 'gruene',\n",
       "   'text': 'Na ja! Na ja!',\n",
       "   'type': 'poi',\n",
       "   'wahlperiode': 17},\n",
       "  {'filename': 'data/txt/17001.txt',\n",
       "   'in_writing': False,\n",
       "   'sequence': 29,\n",
       "   'sitzung': 1,\n",
       "   'speaker': 'Alterspräsident Dr. Heinz Riesenhuber',\n",
       "   'speaker_cleaned': 'Dr. Heinz Riesenhuber',\n",
       "   'speaker_fp': 'heinz-riesenhuber',\n",
       "   'speaker_party': None,\n",
       "   'text': '- Ja, das ist sehr schön. Schön, dass Sie sich zu Wort melden, Frau Künast. - Wenn man fröhlich durch die Wälder geht und sieht, dass sie grün sind und die Bäume gedeihen,',\n",
       "   'type': 'chair',\n",
       "   'wahlperiode': 17},\n",
       "  {'filename': 'data/txt/17001.txt',\n",
       "   'in_writing': False,\n",
       "   'sequence': 28,\n",
       "   'sitzung': 1,\n",
       "   'speaker': 'Renate Künast [BÜNDNIS 90/DIE GRÜNEN]',\n",
       "   'speaker_cleaned': 'Renate Künast',\n",
       "   'speaker_fp': 'renate-kunast',\n",
       "   'speaker_party': 'gruene',\n",
       "   'text': 'Wir!',\n",
       "   'type': 'poi',\n",
       "   'wahlperiode': 17},\n",
       "  {'filename': 'data/txt/17001.txt',\n",
       "   'in_writing': False,\n",
       "   'sequence': 27,\n",
       "   'sitzung': 1,\n",
       "   'speaker': 'Alterspräsident Dr. Heinz Riesenhuber',\n",
       "   'speaker_cleaned': 'Dr. Heinz Riesenhuber',\n",
       "   'speaker_fp': 'heinz-riesenhuber',\n",
       "   'speaker_party': None,\n",
       "   'text': 'ist, dass wir in dieser Gesellschaft, die altert, die Kreativität bewahren und das dritte Lebensalter nicht als ein Zu-Ende-Leben des Lebens verstehen, sondern als neuen Raum der Gestaltung mit einer Freiheit, die man über das ganze frühere Leben nicht hatte. Man kann wählen; das gilt sowohl für die Freizeit, das Ehrenamt und, wenn man es will und kann, die Arbeit. Dies so zu organisieren, dass die Menschen diese Chance ergreifen, dass sie mitgestalten und aktiv dabei sind, ist eine unserer großen Aufgaben.\\n\\nEs ist eine Frage der Integration der Menschen, die in unserem Land leben und die ihren alten Kulturen verbunden sind. Wir respektieren diese Kulturen. Aber wir wollen, dass sie als Bürger dieses Landes die Chance haben, umfassend mitzugestalten, ihren Beruf und ihr Leben zu entwickeln, Verantwortung zu übernehmen und sich als Teil unserer Gemeinschaft zu fühlen. Auch hier ist uns vieles gelungen; als Beispiele nenne ich die Offenheit der Vereine und das Miteinander mit den Kollegen am Arbeitsplatz. Es darf aber nicht geschehen, dass sich in einzelnen Bereichen unserer Gesellschaft Kulturen entwickeln, die keinen Kontakt zu unserer Wirklichkeit haben.\\n\\nWir dürfen unsere Verantwortung für die Schönheit und den Reichtum der Natur nicht vergessen. In diesem Bereich haben wir trotz schwieriger Bedingungen Erfolge gehabt; das macht Mut. Wer redet heute noch vom Waldsterben?',\n",
       "   'type': 'chair',\n",
       "   'wahlperiode': 17},\n",
       "  {'filename': 'data/txt/17001.txt',\n",
       "   'in_writing': False,\n",
       "   'sequence': 26,\n",
       "   'sitzung': 1,\n",
       "   'speaker': None,\n",
       "   'speaker_cleaned': None,\n",
       "   'speaker_fp': None,\n",
       "   'speaker_party': None,\n",
       "   'text': 'Heiterkeit',\n",
       "   'type': 'poi',\n",
       "   'wahlperiode': 17},\n",
       "  {'filename': 'data/txt/17001.txt',\n",
       "   'in_writing': False,\n",
       "   'sequence': 25,\n",
       "   'sitzung': 1,\n",
       "   'speaker': 'Renate Künast [BÜNDNIS 90/DIE GRÜNEN]',\n",
       "   'speaker_cleaned': 'Renate Künast',\n",
       "   'speaker_fp': 'renate-kunast',\n",
       "   'speaker_party': 'gruene',\n",
       "   'text': 'Das wollen Sie jetzt angehen?',\n",
       "   'type': 'poi',\n",
       "   'wahlperiode': 17},\n",
       "  {'filename': 'data/txt/17001.txt',\n",
       "   'in_writing': False,\n",
       "   'sequence': 24,\n",
       "   'sitzung': 1,\n",
       "   'speaker': 'Alterspräsident Dr. Heinz Riesenhuber',\n",
       "   'speaker_cleaned': 'Dr. Heinz Riesenhuber',\n",
       "   'speaker_fp': 'heinz-riesenhuber',\n",
       "   'speaker_party': None,\n",
       "   'text': 'Was hier und jetzt anzugehen ist,',\n",
       "   'type': 'chair',\n",
       "   'wahlperiode': 17},\n",
       "  {'filename': 'data/txt/17001.txt',\n",
       "   'in_writing': False,\n",
       "   'sequence': 23,\n",
       "   'sitzung': 1,\n",
       "   'speaker': None,\n",
       "   'speaker_cleaned': None,\n",
       "   'speaker_fp': None,\n",
       "   'speaker_party': None,\n",
       "   'text': 'Heiterkeit',\n",
       "   'type': 'poi',\n",
       "   'wahlperiode': 17},\n",
       "  {'filename': 'data/txt/17001.txt',\n",
       "   'in_writing': False,\n",
       "   'sequence': 22,\n",
       "   'sitzung': 1,\n",
       "   'speaker': 'Alterspräsident Dr. Heinz Riesenhuber',\n",
       "   'speaker_cleaned': 'Dr. Heinz Riesenhuber',\n",
       "   'speaker_fp': 'heinz-riesenhuber',\n",
       "   'speaker_party': None,\n",
       "   'text': 'Aber sie wächst nach; es bleibt Hoffnung. Insofern haben wir hier die Chance eines Wachstums des guten Gewissens, das die Wirklichkeit ändert und Zukunft für alle schafft.\\n\\nDass diese Welt gelingt, hängt davon ab, ob wir die Menschen haben, die sie gestalten, die Freude daran haben und die ihre Chance darin sehen. Wir werden uns über vieles streiten, und wir haben uns über vieles gestritten - manchmal mit intensiver Herzlichkeit. Aber wir sind uns doch wohl weitestgehend darin einig, dass Bildung und Forschung in diesen Jahren hohe Priorität haben. Dafür braucht es nicht allein Geld - das auch -, sondern auch Konzepte und unsere Bereitschaft, denen, die hier gestalten, die Freude daran nicht zu nehmen. Wir haben in diesen Jahren in einer Welt im Wandel die Schulen umzubauen und aufzubauen. Wir haben gute Schulen, und seit PISA sind sie noch besser geworden; aber wir wissen, dass wir noch mehr erreichen können.\\n\\nIn der Föderalismusreform haben wir den Ländern die Zuständigkeiten für die Bildung weitgehend zugeschrieben. Sie wetteifern um das beste Schulsystem und um die besten Chancen. Den Universitäten haben wir durch einen Wettbewerb um Exzellenz, der über zehn Jahre angelegt worden ist, den Ehrgeiz vermittelt, die Besten zu sein und von jedem anderen zu lernen. Der Forschung haben wir langfristig steigende Mittel zugesagt.\\n\\nWas wir hier machen, ist eine Investition dafür, dass wir stärker sind, wenn wir aus der Krise herauskommen. Wir brauchen diese Stärke. Es gibt Aufgaben über das Tagesgeschäft hinaus, die langfristig sind und in unterschiedlichen Bereichen angegangen werden müssen. Die Menschen werden älter. Das ist ein Erfolg der Medizin. Das ist ein Erfolg der Arbeitsbedingungen, die besser geworden sind. Das ist ein Erfolg der Sozialsysteme. Das ist also eine erfreuliche Sache und kein Problem. Das Problem liegt darin, dass wir nicht rechtzeitig so viele Kinder gezeugt haben, wie wir es hätten tun sollen.',\n",
       "   'type': 'chair',\n",
       "   'wahlperiode': 17},\n",
       "  {'filename': 'data/txt/17001.txt',\n",
       "   'in_writing': False,\n",
       "   'sequence': 21,\n",
       "   'sitzung': 1,\n",
       "   'speaker': None,\n",
       "   'speaker_cleaned': None,\n",
       "   'speaker_fp': None,\n",
       "   'speaker_party': None,\n",
       "   'text': 'Heiterkeit bei Abgeordneten der CDU/CSU und der FDP',\n",
       "   'type': 'poi',\n",
       "   'wahlperiode': 17},\n",
       "  {'filename': 'data/txt/17001.txt',\n",
       "   'in_writing': False,\n",
       "   'sequence': 20,\n",
       "   'sitzung': 1,\n",
       "   'speaker': 'Alterspräsident Dr. Heinz Riesenhuber',\n",
       "   'speaker_cleaned': 'Dr. Heinz Riesenhuber',\n",
       "   'speaker_fp': 'heinz-riesenhuber',\n",
       "   'speaker_party': None,\n",
       "   'text': 'Ich begrüße die neuen Kollegen, die zu uns gekommen sind, und diejenigen, die viele Jahre mit uns gemeinsam gearbeitet haben. Ich begrüße Sie alle sehr herzlich im 60. Jahr der Bundesrepublik Deutschland, im 20. Jahr seit dem Fall der Mauer, im 10. Jahr, seit wir hier in Berlin, in unserer Hauptstadt, arbeiten. Ich begrüße Sie alle.\\n\\nWir haben gemeinsam den Auftrag, den Nutzen des deutschen Volks zu mehren, Schaden von ihm zu wenden und nach unserem Gewissen zu entscheiden. Wir werden uns in Debatten streiten. Wir werden in den Ausschüssen arbeiten. Aber eines war uns immer gemeinsam: die Achtung vor jedem Kollegen und seiner Meinung, die Bereitschaft zum sachlichen Argument, die Fähigkeit, Kompromisse zu prüfen, die Entschlossenheit, zu entscheiden und dann voranzuschreiten. So wollen wir es auch in einer schwierigen Zeit halten.\\n\\nIn schwierigen Zeiten - sagt Sir Karl Popper - ist Optimismus Pflicht. Ermutigend ist, dass den Deutschen die Zuversicht nicht abhandengekommen ist. Wir haben in diesem Jahr in kurzer Zeit sehr harte Entscheidungen sehr schnell treffen müssen. Im Zusammenspiel zwischen Bundestag, Bundesrat und Bundesregierung haben wir Entscheidungen getroffen, die auch nach weiteren Monaten der Krise Bestand haben.\\n\\nJetzt werden wir hier neue Rahmenbedingungen setzen müssen, Rahmenbedingungen, die dazu beitragen, dass uns eine solche Krise nicht mehr passiert. Wir müssen sie setzen, bevor die Bereitschaft und die Entschlossenheit dazu allzu sehr abschlaffen. Da gibt es Maßnahmen, die vorgeschlagen und diskutiert worden sind. Dabei geht es um die Aufsicht der Banken, die Eigenkapitalunterlegung bei deren Geschäften, die Mittelfristigkeit und die Langfristigkeit der Managergehälter, die Frage einer europäischen Ratingagentur. Zu diesen und vielen anderen Fragen hat die Bundesregierung gesprochen, dazu haben die G 20 diskutiert. Sie haben erste Entscheidungen getroffen. Dies ist der Beginn einer Diskussion, die über die einzelnen Punkte hinausreicht; denn wir müssen uns weltweit einigen. Die Märkte wirken weltweit, und deshalb muss auch der Rahmen für die Märkte weltweit sein.\\n\\nDies ist nicht selbstverständlich. Amerika und England denken anders über Finanzmärkte als wir. Deutschland denkt anders, Frankreich denkt anders. Aus diesen verschiedenen Vorstellungen von Wirtschaft und Finanzen einen weltweit gültigen Rahmen zu bauen, das bedarf einer sehr grundsätzlichen Diskussion; denn das, was hier entstehen kann, ist eine Marktordnung in der Welt, die, wenn es gelingt, dauerhaft ist. Ob es gelingt, weiß man erst später. In Anlehnung an Vergil ist zu sagen: „Novus ab integro saeculorum nascitur ordo“ - eine neue Ordnung entsteht aus den Tiefen der Zeit. Das kann man erst sagen, wenn es vorbei ist. Erst dann weiß man, ob es gelungen ist.\\n\\nIn diese Diskussion werden wir einzubringen haben, was wir in der sozialen Marktwirtschaft und mit der sozialen Marktwirtschaft gelernt haben: die Partnerschaft der Tarifpartner, den Rahmen, in dem der Tüchtige tüchtig sein kann, weil er Freiraum hat, in dem er das Geld erarbeitet, mit dem wir denen helfen können, die Hilfe brauchen. Das ist die Idee der sozialen Marktwirtschaft. In dieser Verantwortung für das Ganze, für die Gemeinschaft zu arbeiten, das wird die Aufgabe der kommenden Jahre sein. Wir werden hier für das, was unsere Gesellschaft und unsere Gemeinschaft bestimmt hat, zu arbeiten haben.\\n\\nDabei wird es wichtig sein, dass wir ein hohes Maß an Freiheit bewahren können. Der Rahmen muss fest sein, aber der Freiraum muss reichen. Damit dies gelingt, wäre es natürlich eine gute Sache, wenn auch die anderen, die Banken und die Unternehmen, von sich aus Entscheidungen treffen würden, die für dauerhafte Stabilität sorgen. Die Ethik reicht immer weiter als das Gesetz.\\n\\nIch finde es sehr ermutigend, dass wir in diesen Tagen lesen können, dass ein großes Automobilunternehmen die Vorstandsgehälter begrenzt hat: nach dem Maß der Entwicklung der Einkommen der Mitarbeiter. In dem Maße, in dem die Unternehmen Verantwortung übernehmen, wächst die Freiheit für das Ganze. Diese Freiheit brauchen wir; denn in dieser Zeit, in der wir große Aufgaben haben, können wir die Zukunft nur mit Innovation schaffen. Innovation gedeiht und Kreativität entwickelt sich nur im Raum der Freiheit. Deshalb sind auf der einen Seite die Planwirtschaften weitgehend untergegangen, und deshalb bauen wir auf der anderen Seite Bürokratien ab. Das entspringt nicht nur dem Willen, Kosten zu sparen, sondern auch dem Willen, dass die Leute, die die Arbeit tun, sich auf ihre Arbeit konzentrieren können und sich nicht auf die Vorschriften konzentrieren müssen. Je selbstverständlicher diese Ethik wird, umso leichter wird das werden.\\n\\nDie Innovation kann unsere Zukunft sichern, allerdings nur im Wettbewerb, in einer offenen Welt. Wir wollten diese offene Welt. Wir stehen im Wettstreit mit technisch starken Nationen, mit Nationen, die sehr viel geringere Löhne zahlen. Wir können in diesem Wettstreit nur überleben, wenn wir besser und schneller als andere neue Problemlösungen entwickeln, wenn wir schon vor dem Kunden wissen, was der Kunde eigentlich will. Das ist zwar nicht Sache des Bundestages, aber der Bundestag muss mit die Voraussetzungen dafür schaffen, dass die Unternehmer, die Forscher und die Manager Zukunft gestalten können.\\n\\nWir sind in einer Lage, wo das Neue uns mit großer Kraft zuwächst. Das Wissen der Menschheit verdoppelt sich alle fünf Jahre - dies kann noch schneller werden -, und es wird weltweit geteilt. Die weltweite Gemeinschaft, die Wissensgesellschaft bietet jedem offenen Zugriff auf alles, wenn er alles, was er hat, mit einbringt. Es ist eine Gesellschaft, die aus Wissen lebt, die mit Wissen wächst, die mit Wissen verantwortlich umzugehen versteht, in der Wissen überall und jederzeit für jeden zugänglich ist.\\n\\nEs ist die Welt der Quanten, die wir langsam verstehen lernen - von der Vision des Quantencomputers bis zur Nanotechnologie, wo im Allerkleinsten die Materie andere Eigenschaften hat. Es ist die Welt der Gene, die neue Möglichkeiten schafft. Nur ein Viertel der Krankheiten, die wir kennen, können wir an der Wurzel fassen. Gentechnologie eröffnet die Chance, dass wir Krankheiten heilen, dass wir menschliches Leid lindern, dass wir gleichzeitig aus Wissen neue Märkte, neue Arbeitsplätze und wirtschaftliches Wachstum schaffen.\\n\\nEs ist die Welt der Computer, die schon jetzt unseren Alltag beherrscht. Die Leistung der Chips verdoppelt sich alle 18 Monate, und es halbiert sich ihr Preis. Daraus entstehen Internet und Unterhaltungselektronik. Daraus entsteht eine Fülle von Möglichkeiten in Chemie und im Maschinenbau. Daraus entsteht eine Fülle von Möglichkeiten im Automobilbau. Daraus entstehen lauter Arbeitsplätze, die für unsere Zukunft wichtig sind, in einem Bereich, wo Deutschland immer stark war. Deutschland war selten in den Spitzentechnologien vorne, aber als Meister der Systeme wurden aus den einzelnen Techniken neue Produkte geschaffen.\\n\\nDer Chip ist Silizium, und Silizium ist Sand - und Sand ist reichlich vorhanden. Und dazu braucht man noch Intelligenz. Intelligenz, so sagt man uns, ist beliebig vorhanden. In der Praxis findet man gelegentlich Knappheiten.',\n",
       "   'type': 'chair',\n",
       "   'wahlperiode': 17},\n",
       "  {'filename': 'data/txt/17001.txt',\n",
       "   'in_writing': False,\n",
       "   'sequence': 19,\n",
       "   'sitzung': 1,\n",
       "   'speaker': None,\n",
       "   'speaker_cleaned': None,\n",
       "   'speaker_fp': None,\n",
       "   'speaker_party': None,\n",
       "   'text': 'Heiterkeit',\n",
       "   'type': 'poi',\n",
       "   'wahlperiode': 17},\n",
       "  {'filename': 'data/txt/17001.txt',\n",
       "   'in_writing': False,\n",
       "   'sequence': 18,\n",
       "   'sitzung': 1,\n",
       "   'speaker': 'Alterspräsident Dr. Heinz Riesenhuber',\n",
       "   'speaker_cleaned': 'Dr. Heinz Riesenhuber',\n",
       "   'speaker_fp': 'heinz-riesenhuber',\n",
       "   'speaker_party': None,\n",
       "   'text': '- ich bin danach gefragt worden -, auch wenn es der Lebendigkeit der Rede abträglich sein könnte.',\n",
       "   'type': 'chair',\n",
       "   'wahlperiode': 17},\n",
       "  {'filename': 'data/txt/17001.txt',\n",
       "   'in_writing': False,\n",
       "   'sequence': 17,\n",
       "   'sitzung': 1,\n",
       "   'speaker': None,\n",
       "   'speaker_cleaned': None,\n",
       "   'speaker_fp': None,\n",
       "   'speaker_party': None,\n",
       "   'text': 'Heiterkeit und Beifall',\n",
       "   'type': 'poi',\n",
       "   'wahlperiode': 17},\n",
       "  {'filename': 'data/txt/17001.txt',\n",
       "   'in_writing': False,\n",
       "   'sequence': 16,\n",
       "   'sitzung': 1,\n",
       "   'speaker': 'Alterspräsident Dr. Heinz Riesenhuber',\n",
       "   'speaker_cleaned': 'Dr. Heinz Riesenhuber',\n",
       "   'speaker_fp': 'heinz-riesenhuber',\n",
       "   'speaker_party': None,\n",
       "   'text': 'In den USA beginnt man eine Rede mit einem Witz, in Japan mit einer Entschuldigung. Ich beginne mit einer Zusage: Ich werde diesmal das Mikrofon nicht verlassen',\n",
       "   'type': 'chair',\n",
       "   'wahlperiode': 17},\n",
       "  {'filename': 'data/txt/17001.txt',\n",
       "   'in_writing': False,\n",
       "   'sequence': 15,\n",
       "   'sitzung': 1,\n",
       "   'speaker': None,\n",
       "   'speaker_cleaned': None,\n",
       "   'speaker_fp': None,\n",
       "   'speaker_party': None,\n",
       "   'text': 'Heiterkeit',\n",
       "   'type': 'poi',\n",
       "   'wahlperiode': 17},\n",
       "  {'filename': 'data/txt/17001.txt',\n",
       "   'in_writing': False,\n",
       "   'sequence': 14,\n",
       "   'sitzung': 1,\n",
       "   'speaker': 'Alterspräsident Dr. Heinz Riesenhuber',\n",
       "   'speaker_cleaned': 'Dr. Heinz Riesenhuber',\n",
       "   'speaker_fp': 'heinz-riesenhuber',\n",
       "   'speaker_party': None,\n",
       "   'text': 'Meine sehr verehrten Damen und Herren! Liebe Kolleginnen und Kollegen! Damit haben wir den ersten Teil der Regularien erledigt. Ich möchte Sie nochmals begrüßen. Ich habe die Freude, jetzt einige Worte sagen zu dürfen. Die besondere Gnade dieses Moments ist, dass man sagen darf, was man schon immer sagen wollte.',\n",
       "   'type': 'chair',\n",
       "   'wahlperiode': 17},\n",
       "  {'filename': 'data/txt/17001.txt',\n",
       "   'in_writing': False,\n",
       "   'sequence': 13,\n",
       "   'sitzung': 1,\n",
       "   'speaker': None,\n",
       "   'speaker_cleaned': None,\n",
       "   'speaker_fp': None,\n",
       "   'speaker_party': None,\n",
       "   'text': 'Heiterkeit und Beifall bei Abgeordneten der CDU/CSU und der FDP',\n",
       "   'type': 'poi',\n",
       "   'wahlperiode': 17},\n",
       "  {'filename': 'data/txt/17001.txt',\n",
       "   'in_writing': False,\n",
       "   'sequence': 12,\n",
       "   'sitzung': 1,\n",
       "   'speaker': 'Alterspräsident Dr. Heinz Riesenhuber',\n",
       "   'speaker_cleaned': 'Dr. Heinz Riesenhuber',\n",
       "   'speaker_fp': 'heinz-riesenhuber',\n",
       "   'speaker_party': None,\n",
       "   'text': 'darf ich ihm meinen besonderen Dank für die 23 Jahre aussprechen, die er als Schriftführer dem Deutschen Bundestag gedient hat. Das ist eine einmalige Leistung. Geduld in den Debatten hat ihn ausgezeichnet. Jetzt geht er auf die Regierungsbank, um Deutschland für die nächsten 23 Jahre zu gestalten.',\n",
       "   'type': 'chair',\n",
       "   'wahlperiode': 17},\n",
       "  {'filename': 'data/txt/17001.txt',\n",
       "   'in_writing': False,\n",
       "   'sequence': 11,\n",
       "   'sitzung': 1,\n",
       "   'speaker': None,\n",
       "   'speaker_cleaned': None,\n",
       "   'speaker_fp': None,\n",
       "   'speaker_party': None,\n",
       "   'text': 'Heiterkeit',\n",
       "   'type': 'poi',\n",
       "   'wahlperiode': 17},\n",
       "  {'filename': 'data/txt/17001.txt',\n",
       "   'in_writing': False,\n",
       "   'sequence': 10,\n",
       "   'sitzung': 1,\n",
       "   'speaker': 'Alterspräsident Dr. Heinz Riesenhuber',\n",
       "   'speaker_cleaned': 'Dr. Heinz Riesenhuber',\n",
       "   'speaker_fp': 'heinz-riesenhuber',\n",
       "   'speaker_party': None,\n",
       "   'text': 'Meine sehr verehrten Damen und Herren, liebe Kolleginnen und Kollegen, bis zur Beschlussfassung über die Geschäftsordnung, die sich der 17. Deutsche Bundestag nach der Wahl des Bundestagspräsidenten geben wird, verfahren wir nach den Regeln, die für den 16. Deutschen Bundestag gegolten haben.\\n\\nNach Absprache mit den Fraktionen benenne ich als vorläufige Schriftführerinnen und Schriftführer folgende Damen und Herren Abgeordnete: Jens Ackermann, Dorothee Bär, Doris Barnett, Cornelia Behm, Klaus Brähmig, Michael Brand, Angelika Brunkhorst, Elvira Drobinski-Weiß, Hans-Joachim Fuchtel, Diana Golze, Markus Grübel, Klaus Hagemann, Jürgen Herrmann, Josip Juratovic, Ute Koczy, Jens Koeppen, Dr. Rolf Koschorrek, Katrin Kunert, Sibylle Laurischk, Monika Lazar, Paul Lehrieder, Ingbert Liebing, Michael Link, Gabriele Lösekrug-Möller, Maria Michalk, Sibylle Pfeiffer, Daniela Raab, Marlene Rupprecht, Elisabeth Scharfenberg, Marianne Schieder, Dr. Harald Terpe, Florian Toncar, Alexander Ulrich, Josef Philip Winkler, Dr. Claudia Winterstein, Jörn Wunderlich und Sabine Zimmermann. - Damit haben wir den schwierigsten Teil geschafft.\\n\\nIch darf die Abgeordneten Hans-Joachim Fuchtel und Dr. Claudia Winterstein bitten, neben mir Platz zu nehmen. Während Hans-Joachim Fuchtel mit dem ganzen Gewicht seiner Persönlichkeit näherkommt,',\n",
       "   'type': 'chair',\n",
       "   'wahlperiode': 17},\n",
       "  {'filename': 'data/txt/17001.txt',\n",
       "   'in_writing': False,\n",
       "   'sequence': 9,\n",
       "   'sitzung': 1,\n",
       "   'speaker': None,\n",
       "   'speaker_cleaned': None,\n",
       "   'speaker_fp': None,\n",
       "   'speaker_party': None,\n",
       "   'text': 'Beifall',\n",
       "   'type': 'poi',\n",
       "   'wahlperiode': 17},\n",
       "  {'filename': 'data/txt/17001.txt',\n",
       "   'in_writing': False,\n",
       "   'sequence': 8,\n",
       "   'sitzung': 1,\n",
       "   'speaker': 'Alterspräsident Dr. Heinz Riesenhuber',\n",
       "   'speaker_cleaned': 'Dr. Heinz Riesenhuber',\n",
       "   'speaker_fp': 'heinz-riesenhuber',\n",
       "   'speaker_party': None,\n",
       "   'text': 'Ich darf einen einzigen Kollegen besonders begrüßen, weil er heute mit uns seinen Geburtstag feiert, die schönste Party, die man sich vorstellen kann. Es ist der Kollege Henning Otte, dem ich herzlich gratuliere.',\n",
       "   'type': 'chair',\n",
       "   'wahlperiode': 17},\n",
       "  {'filename': 'data/txt/17001.txt',\n",
       "   'in_writing': False,\n",
       "   'sequence': 7,\n",
       "   'sitzung': 1,\n",
       "   'speaker': None,\n",
       "   'speaker_cleaned': None,\n",
       "   'speaker_fp': None,\n",
       "   'speaker_party': None,\n",
       "   'text': 'Beifall',\n",
       "   'type': 'poi',\n",
       "   'wahlperiode': 17},\n",
       "  {'filename': 'data/txt/17001.txt',\n",
       "   'in_writing': False,\n",
       "   'sequence': 6,\n",
       "   'sitzung': 1,\n",
       "   'speaker': 'Alterspräsident Dr. Heinz Riesenhuber',\n",
       "   'speaker_cleaned': 'Dr. Heinz Riesenhuber',\n",
       "   'speaker_fp': 'heinz-riesenhuber',\n",
       "   'speaker_party': None,\n",
       "   'text': 'Sie haben uns mit Würde und Klugheit über die Jahre geführt - die Verbundenheit bleibt.\\n\\nIch habe die Freude, Botschafter und Missionschefs zahlreicher Staaten hier zu begrüßen. Sie alle sind herzlich willkommen - in der Verbundenheit der Gemeinschaft der Völker.',\n",
       "   'type': 'chair',\n",
       "   'wahlperiode': 17},\n",
       "  {'filename': 'data/txt/17001.txt',\n",
       "   'in_writing': False,\n",
       "   'sequence': 5,\n",
       "   'sitzung': 1,\n",
       "   'speaker': None,\n",
       "   'speaker_cleaned': None,\n",
       "   'speaker_fp': None,\n",
       "   'speaker_party': None,\n",
       "   'text': 'Beifall',\n",
       "   'type': 'poi',\n",
       "   'wahlperiode': 17},\n",
       "  {'filename': 'data/txt/17001.txt',\n",
       "   'in_writing': False,\n",
       "   'sequence': 4,\n",
       "   'sitzung': 1,\n",
       "   'speaker': 'Alterspräsident Dr. Heinz Riesenhuber',\n",
       "   'speaker_cleaned': 'Dr. Heinz Riesenhuber',\n",
       "   'speaker_fp': 'heinz-riesenhuber',\n",
       "   'speaker_party': None,\n",
       "   'text': 'Ich begrüße herzlich die ehemalige Präsidentin des Deutschen Bundestages, Frau Dr. Rita Süssmuth.',\n",
       "   'type': 'chair',\n",
       "   'wahlperiode': 17},\n",
       "  {'filename': 'data/txt/17001.txt',\n",
       "   'in_writing': False,\n",
       "   'sequence': 3,\n",
       "   'sitzung': 1,\n",
       "   'speaker': None,\n",
       "   'speaker_cleaned': None,\n",
       "   'speaker_fp': None,\n",
       "   'speaker_party': None,\n",
       "   'text': 'Beifall',\n",
       "   'type': 'poi',\n",
       "   'wahlperiode': 17},\n",
       "  {'filename': 'data/txt/17001.txt',\n",
       "   'in_writing': False,\n",
       "   'sequence': 2,\n",
       "   'sitzung': 1,\n",
       "   'speaker': 'Alterspräsident Dr. Heinz Riesenhuber',\n",
       "   'speaker_cleaned': 'Dr. Heinz Riesenhuber',\n",
       "   'speaker_fp': 'heinz-riesenhuber',\n",
       "   'speaker_party': None,\n",
       "   'text': 'Unser Präsident würde sagen: Ich höre und sehe keinen Widerspruch.\\n\\nMeine Damen und Herren, damit rufe ich Punkt 1 der Tagesordnung auf:\\n\\nEröffnung der Sitzung durch den Alterspräsidenten\\n\\nIch eröffne die erste Sitzung in der 17. Wahlperiode.\\n\\nIch begrüße den Herrn Bundespräsidenten. Wir freuen uns, Herr Bundespräsident, dass Sie wieder bei uns sind.',\n",
       "   'type': 'chair',\n",
       "   'wahlperiode': 17},\n",
       "  {'filename': 'data/txt/17001.txt',\n",
       "   'in_writing': False,\n",
       "   'sequence': 1,\n",
       "   'sitzung': 1,\n",
       "   'speaker': None,\n",
       "   'speaker_cleaned': None,\n",
       "   'speaker_fp': None,\n",
       "   'speaker_party': None,\n",
       "   'text': 'Heiterkeit und Beifall',\n",
       "   'type': 'poi',\n",
       "   'wahlperiode': 17},\n",
       "  {'filename': 'data/txt/17001.txt',\n",
       "   'in_writing': False,\n",
       "   'sequence': 0,\n",
       "   'sitzung': 1,\n",
       "   'speaker': 'Alterspräsident Dr. Heinz Riesenhuber',\n",
       "   'speaker_cleaned': 'Dr. Heinz Riesenhuber',\n",
       "   'speaker_fp': 'heinz-riesenhuber',\n",
       "   'speaker_party': None,\n",
       "   'text': 'Guten Morgen, meine sehr verehrten Damen und Herren! Liebe Kolleginnen und Kollegen, ich begrüße Sie zur konstituierenden Sitzung des 17. Deutschen Bundestags.\\n\\nParlamentarischer Brauch ist es - das entspricht unserer Geschäftsordnung; ich kann die Paragrafen zitieren -, dass der Älteste die erste Sitzung des Bundestags eröffnet. Ich bin am Sonntag, dem 1. Dezember 1935, geboren. Wenn jemand von den Kollegen im Saal älter ist als ich, dann spreche er jetzt oder er schweige für immer.',\n",
       "   'type': 'chair',\n",
       "   'wahlperiode': 17}],)"
      ]
     },
     "execution_count": 19,
     "metadata": {},
     "output_type": "execute_result"
    }
   ],
   "source": [
    "records.take(1)"
   ]
  },
  {
   "cell_type": "markdown",
   "metadata": {},
   "source": [
    "### How many distinct speakers?"
   ]
  },
  {
   "cell_type": "code",
   "execution_count": 21,
   "metadata": {
    "ExecuteTime": {
     "end_time": "2016-10-12T18:35:12.889172",
     "start_time": "2016-10-12T18:35:12.392605"
    },
    "collapsed": false
   },
   "outputs": [
    {
     "ename": "TypeError",
     "evalue": "list indices must be integers or slices, not str\n\nTraceback\n---------\n  File \"/Users/mattilyra/conda/envs/py35/lib/python3.5/site-packages/dask/async.py\", line 263, in execute_task\n    result = _execute_task(task, data)\n  File \"/Users/mattilyra/conda/envs/py35/lib/python3.5/site-packages/dask/async.py\", line 245, in _execute_task\n    return func(*args2)\n  File \"/Users/mattilyra/conda/envs/py35/lib/python3.5/site-packages/dask/bag/core.py\", line 1630, in empty_safe_apply\n    part = list(part)\n",
     "output_type": "error",
     "traceback": [
      "\u001b[0;31m---------------------------------------------------------------------------\u001b[0m",
      "\u001b[0;31mTypeError\u001b[0m                                 Traceback (most recent call last)",
      "\u001b[0;32m<ipython-input-21-714086e7e6da>\u001b[0m in \u001b[0;36m<module>\u001b[0;34m()\u001b[0m\n\u001b[0;32m----> 1\u001b[0;31m \u001b[0mrecords\u001b[0m\u001b[0;34m.\u001b[0m\u001b[0mpluck\u001b[0m\u001b[0;34m(\u001b[0m\u001b[0;34m\"speaker_cleaned\"\u001b[0m\u001b[0;34m)\u001b[0m\u001b[0;34m.\u001b[0m\u001b[0mdistinct\u001b[0m\u001b[0;34m(\u001b[0m\u001b[0;34m)\u001b[0m\u001b[0;34m.\u001b[0m\u001b[0mcompute\u001b[0m\u001b[0;34m(\u001b[0m\u001b[0;34m)\u001b[0m\u001b[0;34m\u001b[0m\u001b[0m\n\u001b[0m",
      "\u001b[0;32m/Users/mattilyra/conda/envs/py35/lib/python3.5/site-packages/dask/base.py\u001b[0m in \u001b[0;36mcompute\u001b[0;34m(self, **kwargs)\u001b[0m\n\u001b[1;32m     76\u001b[0m             \u001b[0mExtra\u001b[0m \u001b[0mkeywords\u001b[0m \u001b[0mto\u001b[0m \u001b[0mforward\u001b[0m \u001b[0mto\u001b[0m \u001b[0mthe\u001b[0m \u001b[0mscheduler\u001b[0m\u001b[0;31m \u001b[0m\u001b[0;31m`\u001b[0m\u001b[0;31m`\u001b[0m\u001b[0mget\u001b[0m\u001b[0;31m`\u001b[0m\u001b[0;31m`\u001b[0m \u001b[0mfunction\u001b[0m\u001b[0;34m.\u001b[0m\u001b[0;34m\u001b[0m\u001b[0m\n\u001b[1;32m     77\u001b[0m         \"\"\"\n\u001b[0;32m---> 78\u001b[0;31m         \u001b[0;32mreturn\u001b[0m \u001b[0mcompute\u001b[0m\u001b[0;34m(\u001b[0m\u001b[0mself\u001b[0m\u001b[0;34m,\u001b[0m \u001b[0;34m**\u001b[0m\u001b[0mkwargs\u001b[0m\u001b[0;34m)\u001b[0m\u001b[0;34m[\u001b[0m\u001b[0;36m0\u001b[0m\u001b[0;34m]\u001b[0m\u001b[0;34m\u001b[0m\u001b[0m\n\u001b[0m\u001b[1;32m     79\u001b[0m \u001b[0;34m\u001b[0m\u001b[0m\n\u001b[1;32m     80\u001b[0m     \u001b[0;34m@\u001b[0m\u001b[0mclassmethod\u001b[0m\u001b[0;34m\u001b[0m\u001b[0m\n",
      "\u001b[0;32m/Users/mattilyra/conda/envs/py35/lib/python3.5/site-packages/dask/base.py\u001b[0m in \u001b[0;36mcompute\u001b[0;34m(*args, **kwargs)\u001b[0m\n\u001b[1;32m    169\u001b[0m         \u001b[0mdsk\u001b[0m \u001b[0;34m=\u001b[0m \u001b[0mmerge\u001b[0m\u001b[0;34m(\u001b[0m\u001b[0mvar\u001b[0m\u001b[0;34m.\u001b[0m\u001b[0mdask\u001b[0m \u001b[0;32mfor\u001b[0m \u001b[0mvar\u001b[0m \u001b[0;32min\u001b[0m \u001b[0mvariables\u001b[0m\u001b[0;34m)\u001b[0m\u001b[0;34m\u001b[0m\u001b[0m\n\u001b[1;32m    170\u001b[0m     \u001b[0mkeys\u001b[0m \u001b[0;34m=\u001b[0m \u001b[0;34m[\u001b[0m\u001b[0mvar\u001b[0m\u001b[0;34m.\u001b[0m\u001b[0m_keys\u001b[0m\u001b[0;34m(\u001b[0m\u001b[0;34m)\u001b[0m \u001b[0;32mfor\u001b[0m \u001b[0mvar\u001b[0m \u001b[0;32min\u001b[0m \u001b[0mvariables\u001b[0m\u001b[0;34m]\u001b[0m\u001b[0;34m\u001b[0m\u001b[0m\n\u001b[0;32m--> 171\u001b[0;31m     \u001b[0mresults\u001b[0m \u001b[0;34m=\u001b[0m \u001b[0mget\u001b[0m\u001b[0;34m(\u001b[0m\u001b[0mdsk\u001b[0m\u001b[0;34m,\u001b[0m \u001b[0mkeys\u001b[0m\u001b[0;34m,\u001b[0m \u001b[0;34m**\u001b[0m\u001b[0mkwargs\u001b[0m\u001b[0;34m)\u001b[0m\u001b[0;34m\u001b[0m\u001b[0m\n\u001b[0m\u001b[1;32m    172\u001b[0m \u001b[0;34m\u001b[0m\u001b[0m\n\u001b[1;32m    173\u001b[0m     \u001b[0mresults_iter\u001b[0m \u001b[0;34m=\u001b[0m \u001b[0miter\u001b[0m\u001b[0;34m(\u001b[0m\u001b[0mresults\u001b[0m\u001b[0;34m)\u001b[0m\u001b[0;34m\u001b[0m\u001b[0m\n",
      "\u001b[0;32m/Users/mattilyra/conda/envs/py35/lib/python3.5/site-packages/dask/multiprocessing.py\u001b[0m in \u001b[0;36mget\u001b[0;34m(dsk, keys, num_workers, func_loads, func_dumps, optimize_graph, **kwargs)\u001b[0m\n\u001b[1;32m     81\u001b[0m         \u001b[0;31m# Run\u001b[0m\u001b[0;34m\u001b[0m\u001b[0;34m\u001b[0m\u001b[0m\n\u001b[1;32m     82\u001b[0m         result = get_async(apply_async, len(pool._pool), dsk3, keys,\n\u001b[0;32m---> 83\u001b[0;31m                            queue=queue, get_id=_process_get_id, **kwargs)\n\u001b[0m\u001b[1;32m     84\u001b[0m     \u001b[0;32mfinally\u001b[0m\u001b[0;34m:\u001b[0m\u001b[0;34m\u001b[0m\u001b[0m\n\u001b[1;32m     85\u001b[0m         \u001b[0;32mif\u001b[0m \u001b[0mcleanup\u001b[0m\u001b[0;34m:\u001b[0m\u001b[0;34m\u001b[0m\u001b[0m\n",
      "\u001b[0;32m/Users/mattilyra/conda/envs/py35/lib/python3.5/site-packages/dask/async.py\u001b[0m in \u001b[0;36mget_async\u001b[0;34m(apply_async, num_workers, dsk, result, cache, queue, get_id, raise_on_exception, rerun_exceptions_locally, callbacks, **kwargs)\u001b[0m\n\u001b[1;32m    479\u001b[0m                     \u001b[0m_execute_task\u001b[0m\u001b[0;34m(\u001b[0m\u001b[0mtask\u001b[0m\u001b[0;34m,\u001b[0m \u001b[0mdata\u001b[0m\u001b[0;34m)\u001b[0m  \u001b[0;31m# Re-execute locally\u001b[0m\u001b[0;34m\u001b[0m\u001b[0m\n\u001b[1;32m    480\u001b[0m                 \u001b[0;32melse\u001b[0m\u001b[0;34m:\u001b[0m\u001b[0;34m\u001b[0m\u001b[0m\n\u001b[0;32m--> 481\u001b[0;31m                     \u001b[0;32mraise\u001b[0m\u001b[0;34m(\u001b[0m\u001b[0mremote_exception\u001b[0m\u001b[0;34m(\u001b[0m\u001b[0mres\u001b[0m\u001b[0;34m,\u001b[0m \u001b[0mtb\u001b[0m\u001b[0;34m)\u001b[0m\u001b[0;34m)\u001b[0m\u001b[0;34m\u001b[0m\u001b[0m\n\u001b[0m\u001b[1;32m    482\u001b[0m             \u001b[0mstate\u001b[0m\u001b[0;34m[\u001b[0m\u001b[0;34m'cache'\u001b[0m\u001b[0;34m]\u001b[0m\u001b[0;34m[\u001b[0m\u001b[0mkey\u001b[0m\u001b[0;34m]\u001b[0m \u001b[0;34m=\u001b[0m \u001b[0mres\u001b[0m\u001b[0;34m\u001b[0m\u001b[0m\n\u001b[1;32m    483\u001b[0m             \u001b[0mfinish_task\u001b[0m\u001b[0;34m(\u001b[0m\u001b[0mdsk\u001b[0m\u001b[0;34m,\u001b[0m \u001b[0mkey\u001b[0m\u001b[0;34m,\u001b[0m \u001b[0mstate\u001b[0m\u001b[0;34m,\u001b[0m \u001b[0mresults\u001b[0m\u001b[0;34m,\u001b[0m \u001b[0mkeyorder\u001b[0m\u001b[0;34m.\u001b[0m\u001b[0mget\u001b[0m\u001b[0;34m)\u001b[0m\u001b[0;34m\u001b[0m\u001b[0m\n",
      "\u001b[0;31mTypeError\u001b[0m: list indices must be integers or slices, not str\n\nTraceback\n---------\n  File \"/Users/mattilyra/conda/envs/py35/lib/python3.5/site-packages/dask/async.py\", line 263, in execute_task\n    result = _execute_task(task, data)\n  File \"/Users/mattilyra/conda/envs/py35/lib/python3.5/site-packages/dask/async.py\", line 245, in _execute_task\n    return func(*args2)\n  File \"/Users/mattilyra/conda/envs/py35/lib/python3.5/site-packages/dask/bag/core.py\", line 1630, in empty_safe_apply\n    part = list(part)\n"
     ]
    }
   ],
   "source": [
    "records.pluck(\"speaker_cleaned\").distinct().compute()"
   ]
  },
  {
   "cell_type": "markdown",
   "metadata": {},
   "source": [
    "The `json` files are in the incorrect format, the `dask` documentation for `bag.read_text` says\n",
    "\n",
    "> Dask.bag can load data directly from textfiles. You can pass either a single filename, a list of filenames, or a globstring. The resulting bag will have one item per line, one file per partition:\n",
    "\n",
    "The `json` files currently just contain a single list of `json` dictionaries"
   ]
  },
  {
   "cell_type": "code",
   "execution_count": 9,
   "metadata": {
    "ExecuteTime": {
     "end_time": "2016-10-12T18:16:54.481110",
     "start_time": "2016-10-12T18:16:54.434745"
    },
    "collapsed": false
   },
   "outputs": [
    {
     "name": "stdout",
     "output_type": "stream",
     "text": [
      "[{\"sitzung\": 1, \"in_writing\": false, \"sequence\": 169, \"text\": \"Beifall\", \"wahlperiode\": 17, \"speaker_cleaned\": null, \"speaker_fp\": null, \"filename\": \"data/txt/17001.txt\", \"speaker\": null, \"speaker_party\": null, \"type\": \"poi\"}, {\"sitzung\": 1, \"in_writing\": false, \"sequence\": 168, \"text\": \"im Rahmen eines kleinen Empfangs in der Fraktionsebene Gelegenheit zum Gespr\\u00e4ch mit den neu gew\\u00e4hlten Mitgliedern des Pr\\u00e4sidiums ist.\", \"wahlperiode\": 17, \"speaker_cleaned\": \"Dr. Norbert Lammert\", \"speaker_fp\": \"norbert-lammert\", \"filename\": \"data/txt/17001.txt\", \"speaker\": \"Pr\\u00e4sident Dr. Norbert Lammert\", \"speaker_party\": null, \"type\": \"chair\"}, {\"sitzung\": 1, \"in_writing\": false, \"sequence\": 167, \"text\": \"Heiterkeit\", \"wahlperiode\": 17, \"speaker_cleaned\": null, \"speaker_fp\": null, \"filename\": \"data/txt/17001.txt\", \"speaker\": null, \"speaker_party\": null, \"type\": \"poi\"}, {\"sitzung\": 1, \"in_writing\": false, \"sequence\": 166, \"text\": \"Ich m\\u00f6chte alle gew\\u00e4hlten Kolleginnen und Kollegen auch im Namen des ganzen Hauses herzlich zu der Wahl begl\\u00fcckw\\u00fcnschen, verbunden mit allen guten W\\u00fcnschen f\\u00fcr eine ohnehin schon seit Jahren erprobte und bew\\u00e4hrte gute Zusammenarbeit, die ich gerne fortsetze.\\n\\nLiebe Kolleginnen und Kollegen, wir sind damit am Schluss unserer heutigen Tagesordnung. Ich will Sie aber noch auf zwei Dinge aufmerksam machen.\\n\\nInterfraktionell ist vereinbart worden, dass an den Sitzungstagen, an denen die Kanzlerwahl stattfindet, die Bundesregierung vereidigt wird oder die Regierungserkl\\u00e4rung abgegeben und eine Aussprache hier\\u00fcber durchgef\\u00fchrt wird, keine Regierungsbefragung, keine Fragestunde und keine Aktuellen Stunden stattfinden sollen. Sind Sie damit einverstanden? - Das ist offenkundig der Fall. Dann ist das so beschlossen.\\n\\nDie n\\u00e4chste Sitzung des Bundestages berufe ich ein auf morgen, Mittwoch, den 28. Oktober 2009, 10 Uhr. Sie sind bitte darauf eingerichtet, dass es nach einem Wahlgang, der dann auch wieder mit Namensaufruf stattfindet, Unterbrechungen der Sitzung geben wird, nicht nur bis zur Feststellung des Ergebnisses, sondern dann auch bis zur sp\\u00e4teren Vereidigung der Kanzlerin und des Kabinetts, sodass Sie das bitte f\\u00fcr Ihre weitere Terminplanung ber\\u00fccksichtigen.\\n\\nSchlie\\u00dflich m\\u00f6chte ich, bevor ich die Sitzung schlie\\u00dfe, daran erinnern, dass nach Ende dieser Sitzung - G\\u00fcnter Schabowski h\\u00e4tte gesagt: nach meiner Kenntnis ab sofort -\", \"wahlperiode\": 17, \"speaker_cleaned\": \"Dr. Norbert Lammert\", \"speaker_fp\": \"norbert-lammert\", \"filename\": \"data/txt/17001.txt\", \"speaker\": \"Pr\\u00e4sident Dr. Norbert Lammert\", \"speaker_party\": null, \"type\": \"chair\"}, {\"sitzung\": 1, \"in_writing\": false, \"sequence\": 165, \"text\": \"\", \"wahlperiode\": 17, \"speaker_cleaned\": \"Katrin G\\u00f6ring-Eckardt\", \"speaker_fp\": \"katrin-goring-eckardt\", \"filename\": \"data/txt/17001.txt\", \"speaker\": \"Katrin G\\u00f6ring-Eckardt (B\\u00dcNDNIS 90/DIE GR\\u00dcNEN)\", \"speaker_party\": \"gruene\", \"type\": \"speech\"}, {\"sitzung\": 1, \"in_writing\": false, \"sequence\": 164, \"text\": \"Beifall im ganzen Hause\", \"wahlperiode\": 17, \"speaker_cleaned\": null, \"speaker_fp\": null, \"filename\": \"data/txt/17001.txt\", \"speaker\": null, \"speaker_party\": null, \"type\": \"poi\"}, {\"sitzung\": 1, \"in_writing\": false, \"sequence\": 163, \"text\": \"Ich nehme die Wahl an und bedanke mich sehr herzlich.\", \"wahlperiode\": 17, \"speaker_cleaned\": \"Katrin G\\u00f6ring-Eckardt\", \"speaker_fp\": \"katrin-goring-eckardt\", \"filename\": \"data/txt/17001.txt\", \"speaker\": \"Katrin G\\u00f6ring-Eckardt (B\\u00dcNDNIS 90/DIE GR\\u00dcNEN)\", \"speaker_party\": \"gruene\", \"type\": \"speech\"}, {\"sitzung\": 1, \"in_writing\": false, \"sequence\": 162, \"text\": \"Frau Kollegin G\\u00f6ring-Eckardt?\", \"wahlperiode\": 17, \"speaker_cleaned\": \"Dr. Norbert Lammert\", \"speaker_fp\": \"norbert-lammert\", \"filename\": \"data/txt/17001.txt\", \"speaker\": \"Pr\\u00e4sident Dr. Norbert Lammert\", \"speaker_party\": null, \"type\": \"chair\"}, {\"sitzung\": 1, \"in_writing\": false, \"sequence\": 161, \"text\": \"\", \"wahlperiode\": 17, \"speaker_cleaned\": \"Petra Pau\", \"speaker_fp\": \"petra-pau\", \"filename\": \"data/txt/17001.txt\", \"speaker\": \"Petra Pau (DIE LINKE)\", \"speaker_party\": \"linke\", \"type\": \"speech\"}, {\"sitzung\": 1, \"in_writing\": false, \"sequence\": 160, \"text\": \"Beifall im ganzen Hause\", \"wahlperiode\": 17, \"speaker_cleaned\": null, \"speaker_fp\": null, \"filename\": \"data/txt/17001.txt\", \"speaker\": null, \"speaker_party\": null, \"type\": \"poi\"}, {\"sitzung\": 1, \"in_writing\": false, \"sequence\": 159, \"text\": \"Ich nehme die Wahl gerne an und freue mich auf die weitere Zusammenarbeit mit allen Kolleginnen und Kollegen.\", \"wahlperiode\": 17, \"speaker_cleaned\": \"Petra Pau\", \"speaker_fp\": \"petra-pau\", \"filename\": \"data/txt/17001.txt\", \"speaker\": \"Petra Pau (DIE LINKE)\", \"speaker_party\": \"linke\", \"type\": \"speech\"}, {\"sitzung\": 1, \"in_writing\": false, \"sequence\": 158, \"text\": \"Frau Kollegin Pau?\", \"wahlperiode\": 17, \"speaker_cleaned\": \"Dr. Norbert Lammert\", \"speaker_fp\": \"norbert-lammert\", \"filename\": \"data/txt/17001.txt\", \"speaker\": \"Pr\\u00e4sident Dr. Norbert Lammert\", \"speaker_party\": null, \"type\": \"chair\"}, {\"sitzung\": 1, \"in_writing\": false, \"sequence\": 157, \"text\": \"\", \"wahlperiode\": 17, \"speaker_cleaned\": \"Dr. Hermann Otto Solms\", \"speaker_fp\": \"hermann-otto-solms\", \"filename\": \"data/txt/17001.txt\", \"speaker\": \"Dr. Hermann Otto Solms (FDP)\", \"speaker_party\": \"fdp\", \"type\": \"speech\"}, {\"sitzung\": 1, \"in_writing\": false, \"sequence\": 156, \"text\": \"Beifall im ganzen Hause\", \"wahlperiode\": 17, \"speaker_cleaned\": null, \"speaker_fp\": null, \"filename\": \"data/txt/17001.txt\", \"speaker\": null, \"speaker_party\": null, \"type\": \"poi\"}, {\"sitzung\": 1, \"in_writing\": false, \"sequence\": 155, \"text\": \"Ich bedanke mich. Ich nehme die Wahl gerne an.\", \"wahlperiode\": 17, \"speaker_cleaned\": \"Dr. Hermann Otto Solms\", \"speaker_fp\": \"hermann-otto-solms\", \"filename\": \"data/txt/17001.txt\", \"speaker\": \"Dr. Hermann Otto Solms (FDP)\", \"speaker_party\": \"fdp\", \"type\": \"speech\"}, {\"sitzung\": 1, \"in_writing\": false, \"sequence\": 154, \"text\": \"Herr Kollege Dr. Solms?\", \"wahlperiode\": 17, \"speaker_cleaned\": \"Dr. Norbert Lammert\", \"speaker_fp\": \"norbert-lammert\", \"filename\": \"data/txt/17001.txt\", \"speaker\": \"Pr\\u00e4sident Dr. Norbert Lammert\", \"speaker_party\": null, \"type\": \"chair\"}, {\"sitzung\": 1, \"in_writing\": false, \"sequence\": 153, \"text\": \"\", \"wahlperiode\": 17, \"speaker_cleaned\": \"Dr. h. c. Wolfgang Thierse\", \"speaker_fp\": \"wolfgang-thierse\", \"filename\": \"data/txt/17001.txt\", \"speaker\": \"Dr. h. c. Wolfgang Thierse (SPD)\", \"speaker_party\": \"spd\", \"type\": \"speech\"}, {\"sitzung\": 1, \"in_writing\": false, \"sequence\": 152, \"text\": \"Beifall im ganzen Hause\", \"wahlperiode\": 17, \"speaker_cleaned\": null, \"speaker_fp\": null, \"filename\": \"data/txt/17001.txt\", \"speaker\": null, \"speaker_party\": null, \"type\": \"poi\"}, {\"sitzung\": 1, \"in_writing\": false, \"sequence\": 151, \"text\": \"Ja, ich nehme die Wahl an.\", \"wahlperiode\": 17, \"speaker_cleaned\": \"Dr. h. c. Wolfgang Thierse\", \"speaker_fp\": \"wolfgang-thierse\", \"filename\": \"data/txt/17001.txt\", \"speaker\": \"Dr. h. c. Wolfgang Thierse (SPD)\", \"speaker_party\": \"spd\", \"type\": \"speech\"}, {\"sitzung\": 1, \"in_writing\": false, \"sequence\": 150, \"text\": \"Kollege Thierse?\", \"wahlperiode\": 17, \"speaker_cleaned\": \"Dr. Norbert Lammert\", \"speaker_fp\": \"norbert-lammert\", \"filename\": \"data/txt/17001.txt\", \"speaker\": \"Pr\\u00e4sident Dr. Norbert Lammert\", \"speaker_party\": null, \"type\": \"chair\"}, {\"sitzung\": 1, \"in_writing\": false, \"sequence\": 149, \"text\": \"\", \"wahlperiode\": 17, \"speaker_cleaned\": \"Gerda Hasselfeldt\", \"speaker_fp\": \"gerda-hasselfeldt\", \"filename\": \"data/txt/17001.txt\", \"speaker\": \"Gerda Hasselfeldt (CDU/CSU)\", \"speaker_party\": \"cducsu\", \"type\": \"speech\"}, {\"sitzung\": 1, \"in_writing\": false, \"sequence\": 148, \"text\": \"Beifall im ganzen Hause\", \"wahlperiode\": 17, \"speaker_cleaned\": null, \"speaker_fp\": null, \"filename\": \"data/txt/17001.txt\", \"speaker\": null, \"speaker_party\": null, \"type\": \"poi\"}, {\"sitzung\": 1, \"in_writing\": false, \"sequence\": 147, \"text\": \"Herr Pr\\u00e4sident, ich nehme die Wahl gerne an und bedanke mich herzlich f\\u00fcr das Vertrauen.\", \"wahlperiode\": 17, \"speaker_cleaned\": \"Gerda Hasselfeldt\", \"speaker_fp\": \"gerda-hasselfeldt\", \"filename\": \"data/txt/17001.txt\", \"speaker\": \"Gerda Hasselfeldt (CDU/CSU)\", \"speaker_party\": \"cducsu\", \"type\": \"speech\"}, {\"sitzung\": 1, \"in_writing\": false, \"sequence\": 146, \"text\": \"Damit haben alle vorgeschlagenen Kolleginnen und Kollegen die erforderliche Mehrheit erhalten und sind zu Mitgliedern des Pr\\u00e4sidiums bzw. zur Vizepr\\u00e4sidentin oder zum Vizepr\\u00e4sidenten des Deutschen Bundestags gew\\u00e4hlt.\\n\\nIch darf Sie fragen, ob Sie die Wahl annehmen. - Kollegin Hasselfeldt?\", \"wahlperiode\": 17, \"speaker_cleaned\": \"Dr. Norbert Lammert\", \"speaker_fp\": \"norbert-lammert\", \"filename\": \"data/txt/17001.txt\", \"speaker\": \"Pr\\u00e4sident Dr. Norbert Lammert\", \"speaker_party\": null, \"type\": \"chair\"}, {\"sitzung\": 1, \"in_writing\": false, \"sequence\": 145, \"text\": \"Beifall im ganzen Hause\", \"wahlperiode\": 17, \"speaker_cleaned\": null, \"speaker_fp\": null, \"filename\": \"data/txt/17001.txt\", \"speaker\": null, \"speaker_party\": null, \"type\": \"poi\"}, {\"sitzung\": 1, \"in_writing\": false, \"sequence\": 144, \"text\": \"Schlie\\u00dflich sind auf die Kollegin Katrin G\\u00f6ring-Eckardt 473 Jastimmen, 79 Neinstimmen und 61 Enthaltungen bei 5 ung\\u00fcltigen Stimmen entfallen.\", \"wahlperiode\": 17, \"speaker_cleaned\": \"Dr. Norbert Lammert\", \"speaker_fp\": \"norbert-lammert\", \"filename\": \"data/txt/17001.txt\", \"speaker\": \"Pr\\u00e4sident Dr. Norbert Lammert\", \"speaker_party\": null, \"type\": \"chair\"}, {\"sitzung\": 1, \"in_writing\": false, \"sequence\": 143, \"text\": \"Beifall im ganzen Hause\", \"wahlperiode\": 17, \"speaker_cleaned\": null, \"speaker_fp\": null, \"filename\": \"data/txt/17001.txt\", \"speaker\": null, \"speaker_party\": null, \"type\": \"poi\"}, {\"sitzung\": 1, \"in_writing\": false, \"sequence\": 142, \"text\": \"Die Kollegin Petra Pau hat 379 Jastimmen bei 155 Neinstimmen und 74 Enthaltungen erhalten. Hier waren 10 Stimmen ung\\u00fcltig.\", \"wahlperiode\": 17, \"speaker_cleaned\": \"Dr. Norbert Lammert\", \"speaker_fp\": \"norbert-lammert\", \"filename\": \"data/txt/17001.txt\", \"speaker\": \"Pr\\u00e4sident Dr. Norbert Lammert\", \"speaker_party\": null, \"type\": \"chair\"}, {\"sitzung\": 1, \"in_writing\": false, \"sequence\": 141, \"text\": \"Beifall im ganzen Hause\", \"wahlperiode\": 17, \"speaker_cleaned\": null, \"speaker_fp\": null, \"filename\": \"data/txt/17001.txt\", \"speaker\": null, \"speaker_party\": null, \"type\": \"poi\"}, {\"sitzung\": 1, \"in_writing\": false, \"sequence\": 140, \"text\": \"Auf den Kollegen Dr. Hermann Otto Solms entfielen 487 Jastimmen bei 84 Neinstimmen und 42 Enthaltungen. 5 Stimmen waren ung\\u00fcltig.\", \"wahlperiode\": 17, \"speaker_cleaned\": \"Dr. Norbert Lammert\", \"speaker_fp\": \"norbert-lammert\", \"filename\": \"data/txt/17001.txt\", \"speaker\": \"Pr\\u00e4sident Dr. Norbert Lammert\", \"speaker_party\": null, \"type\": \"chair\"}, {\"sitzung\": 1, \"in_writing\": false, \"sequence\": 139, \"text\": \"Die Schwarzen sch\\u00e4tzen den Parlamentarismus nicht!\", \"wahlperiode\": 17, \"speaker_cleaned\": \"Dr. Barbara Hendricks\", \"speaker_fp\": \"barbara-hendricks\", \"filename\": \"data/txt/17001.txt\", \"speaker\": \"Dr. Barbara Hendricks [SPD]\", \"speaker_party\": \"spd\", \"type\": \"poi\"}, {\"sitzung\": 1, \"in_writing\": false, \"sequence\": 138, \"text\": \"Beifall im ganzen Hause\", \"wahlperiode\": 17, \"speaker_cleaned\": null, \"speaker_fp\": null, \"filename\": \"data/txt/17001.txt\", \"speaker\": null, \"speaker_party\": null, \"type\": \"poi\"}, {\"sitzung\": 1, \"in_writing\": false, \"sequence\": 137, \"text\": \"66 Neinstimmen, 52 Enthaltungen.\\n\\nIm \\u00dcbrigen gibt es bei den Einzelwahlg\\u00e4ngen, also bei den einzelnen Stimmabgaben, aus Gr\\u00fcnden, die ich Ihnen jetzt nicht im Einzelnen erl\\u00e4utern kann, ung\\u00fcltige Voten - die Stimmzettel im Ganzen waren g\\u00fcltig -, sodass, wie man sich durch Addition sofort erschlie\\u00dfen kann, hier vier ung\\u00fcltige Stimmen zur Gesamtzahl der abgegebenen Stimmen f\\u00fchren.\\n\\nAuf den Kollegen Dr. Wolfgang Thierse sind 371 Jastimmen bei 170 Neinstimmen und 65 Enthaltungen entfallen. Hier waren 12 Stimmen ung\\u00fcltig.\", \"wahlperiode\": 17, \"speaker_cleaned\": \"Dr. Norbert Lammert\", \"speaker_fp\": \"norbert-lammert\", \"filename\": \"data/txt/17001.txt\", \"speaker\": \"Pr\\u00e4sident Dr. Norbert Lammert\", \"speaker_party\": null, \"type\": \"chair\"}, {\"sitzung\": 1, \"in_writing\": false, \"sequence\": 136, \"text\": \"Beifall im ganzen Hause\", \"wahlperiode\": 17, \"speaker_cleaned\": null, \"speaker_fp\": null, \"filename\": \"data/txt/17001.txt\", \"speaker\": null, \"speaker_party\": null, \"type\": \"poi\"}, {\"sitzung\": 1, \"in_writing\": false, \"sequence\": 135, \"text\": \"Die unterbrochene Sitzung ist wieder er\\u00f6ffnet.\\n\\nLiebe Kolleginnen und Kollegen, ich m\\u00f6chte Sie bitten, Platz zu nehmen, um Ihnen das Ergebnis der Wahl der Stellvertreterinnen und Stellvertreter des Pr\\u00e4sidenten mitzuteilen: abgegebene Stimmkarten 618. Alle abgegebenen Stimmkarten waren g\\u00fcltig. Auf die vorgeschlagenen Kandidatinnen und Kandidaten sind folgende Stimmenergebnisse entfallen:\\n\\nKollegin Gerda Hasselfeldt: 496 Jastimmen,\", \"wahlperiode\": 17, \"speaker_cleaned\": \"Dr. Norbert Lammert\", \"speaker_fp\": \"norbert-lammert\", \"filename\": \"data/txt/17001.txt\", \"speaker\": \"Pr\\u00e4sident Dr. Norbert Lammert\", \"speaker_party\": null, \"type\": \"chair\"}, {\"sitzung\": 1, \"in_writing\": false, \"sequence\": 134, \"text\": \"\", \"wahlperiode\": 17, \"speaker_cleaned\": \"Dr. Norbert Lammert\", \"speaker_fp\": \"norbert-lammert\", \"filename\": \"data/txt/17001.txt\", \"speaker\": \"Pr\\u00e4sident Dr. Norbert Lammert\", \"speaker_party\": null, \"type\": \"chair\"}, {\"sitzung\": 1, \"in_writing\": false, \"sequence\": 133, \"text\": \"Unterbrechung von 13.39 bis 14.59 Uhr\", \"wahlperiode\": 17, \"speaker_cleaned\": null, \"speaker_fp\": null, \"filename\": \"data/txt/17001.txt\", \"speaker\": null, \"speaker_party\": null, \"type\": \"poi\"}, {\"sitzung\": 1, \"in_writing\": false, \"sequence\": 132, \"text\": \"Sobald wir das Wahlergebnis haben, werden wir durch akustische Signale darauf hinweisen, dass dann die Sitzung wieder er\\u00f6ffnet, das Wahlergebnis bekannt gegeben und danach f\\u00fcr heute die Sitzung geschlossen wird.\\n\\nIch unterbreche die Sitzung.\", \"wahlperiode\": 17, \"speaker_cleaned\": \"Dr. Norbert Lammert\", \"speaker_fp\": \"norbert-lammert\", \"filename\": \"data/txt/17001.txt\", \"speaker\": \"Pr\\u00e4sident Dr. Norbert Lammert\", \"speaker_party\": null, \"type\": \"chair\"}, {\"sitzung\": 1, \"in_writing\": false, \"sequence\": 131, \"text\": \"Heiterkeit\", \"wahlperiode\": 17, \"speaker_cleaned\": null, \"speaker_fp\": null, \"filename\": \"data/txt/17001.txt\", \"speaker\": null, \"speaker_party\": null, \"type\": \"poi\"}, {\"sitzung\": 1, \"in_writing\": false, \"sequence\": 130, \"text\": \"Bevor wir zur Wahl der weiteren Mitglieder des Pr\\u00e4sidiums des Deutschen Bundestages kommen, haben wir noch \\u00fcber die Weitergeltung von Gesch\\u00e4ftsordnungen und Richtlinien abzustimmen.\\n\\nDazu rufe ich unseren Tagesordnungspunkt 4 auf:\\n\\nBeschlussfassung \\u00fcber die\\n\\n-\\tGesch\\u00e4ftsordnung des Deutschen Bundestages\\n\\n-\\tGemeinsame Gesch\\u00e4ftsordnung des Bundestages und des Bundesrates f\\u00fcr den Ausschuss nach Art. 77 des Grundgesetzes (Vermittlungsausschuss)\\n\\n-\\tGesch\\u00e4ftsordnung f\\u00fcr den Gemeinsamen Ausschuss\\n\\n-\\tGesch\\u00e4ftsordnung f\\u00fcr das Verfahren nach Art. 115 d des Grundgesetzes\\n\\n-\\tRichtlinien zur \\u00dcberpr\\u00fcfung auf eine T\\u00e4tigkeit oder politische Verantwortung f\\u00fcr das Ministerium f\\u00fcr Staatssicherheit/Amt f\\u00fcr Nationale Sicherheit der ehemaligen Deutschen Demokratischen Republik\\n\\nWer f\\u00fcr den Antrag auf Drucksache 17/1 stimmt, den bitte ich um das Handzeichen. - Wer stimmt dagegen? - Enth\\u00e4lt sich jemand der Stimme? - Dann ist dieser Antrag einstimmig angenommen, und damit ist die Geltung dieser Regelungen vereinbart.\\n\\nIch rufe den Tagesordnungspunkt 5 auf:\\n\\nFestlegung der Zahl der Stellvertreter des Pr\\u00e4sidenten\\n\\nHierzu liegt ebenfalls ein gemeinsamer Antrag aller Fraktionen vor, wonach jede Fraktion einen Stellvertreter oder eine Stellvertreterin des Pr\\u00e4sidenten stellt.\\n\\nWir stimmen auch \\u00fcber diesen gemeinsamen Antrag ab. Wer stimmt f\\u00fcr den Antrag auf Drucksache 17/2? - Stimmt jemand dagegen? - Enth\\u00e4lt sich jemand der Stimme? - Dann ist auch das einstimmig beschlossen. Damit ist die Zahl der Stellvertreter des Pr\\u00e4sidenten auf f\\u00fcnf festgelegt.\\n\\nIch rufe unseren Tagesordnungspunkt 6 auf:\\n\\nWahl der Stellvertreter des Pr\\u00e4sidenten\\n\\nNach unserer Gesch\\u00e4ftsordnung erfolgt die Wahl der Vizepr\\u00e4sidenten geheim. Interfraktionell ist vereinbart worden, die Wahl der f\\u00fcnf Stellvertreter des Pr\\u00e4sidenten mit Wahlausweis und einer Stimmkarte, auf der alle vorgeschlagenen Kandidaten aufgef\\u00fchrt sind, durchzuf\\u00fchren, wobei selbstverst\\u00e4ndlich sichergestellt ist, dass es zu jedem Vorschlag ein eigenes Votum geben kann. Darf ich Ihr Einverst\\u00e4ndnis mit diesem Verfahren feststellen? - Das ist offenkundig der Fall.\\n\\nMir liegen folgende Vorschl\\u00e4ge aus den Fraktionen vor: Von der Fraktion der CDU/CSU Gerda Hasselfeldt, von der SPD-Fraktion Dr. h. c. Wolfgang Thierse, von der FDP-Fraktion Dr. Hermann Otto Solms, von der Fraktion Die Linke Petra Pau sowie von der Fraktion B\\u00dcNDNIS 90/DIE GR\\u00dcNEN Katrin G\\u00f6ring-Eckardt. Darf ich fragen, ob es weitere Vorschl\\u00e4ge gibt? - Das ist offensichtlich nicht der Fall.\\n\\nIch darf auch hier f\\u00fcr einen kleinen Augenblick noch um Aufmerksamkeit f\\u00fcr Hinweise zum Wahlverfahren bitten. Gew\\u00e4hlt ist, wer die Stimmen der Mehrheit der Mitglieder des Bundestages erh\\u00e4lt. F\\u00fcr den Wahlgang ben\\u00f6tigen Sie einen gr\\u00fcnen Wahlausweis, der - wenn Sie ihn nicht schon im ersten Wahlgang den F\\u00e4chern entnommen haben - den Stimmkartenf\\u00e4chern in der Lobby entnommen werden kann. Sie erhalten wie beim vorherigen Wahlgang an den Ausgabetischen eine gr\\u00fcne Stimmkarte und den amtlichen Wahlumschlag. Auf der Stimmkarte sind die vorgeschlagenen Kandidaten aufgef\\u00fchrt. Sie d\\u00fcrfen auch hier bitte Ihre Stimmkarte nur in der Wahlkabine ankreuzen und m\\u00fcssen die Stimmkarte ebenfalls noch in der Wahlkabine in den Umschlag legen.\\n\\nSie haben f\\u00fcnf Stimmen und k\\u00f6nnen zu jedem Kandidatenvorschlag jeweils mit Ja, Nein oder Enthaltung votieren. Wenn Sie bei einem Namen mehr als ein Kreuz oder gar kein Kreuz machen oder andere Namen als die der vorgeschlagenen Kandidaten oder kommentierende Zus\\u00e4tze auf die Stimmkarte schreiben, ist diese Stimme ung\\u00fcltig. Bevor Sie die Stimmkarte in die Wahlurne werfen, m\\u00fcssen Sie dem Schriftf\\u00fchrer an der Wahlurne bitte Ihren Wahlausweis \\u00fcbergeben. Zum Ablauf des Wahlverfahrens bitte ich die gleichen Regiehinweise zu beachten, die Heinz Riesenhuber vorhin gegeben hat: dass wir m\\u00f6glichst von au\\u00dfen nach innen vorgehen und den mittleren Gang freihalten.\\n\\nNachdem Sie die Stimmkarte in einer der Wahlkabinen gezeichnet und in den Wahlumschlag gelegt haben, gehen Sie bitte zu den Wahlurnen, die hier vorne neben den Sitzreihen der Bundesregierung und des Bundesrates sowie vor dem Rednerpult aufgestellt sind.\\n\\nIch darf jetzt die Schriftf\\u00fchrerinnen und Schriftf\\u00fchrer bitten, wieder ihre Pl\\u00e4tze einzunehmen. Es erfolgt jetzt kein Namensaufruf, sodass bitte alle m\\u00f6glichst z\\u00fcgig ihre Stimme abgeben.\\n\\nIch er\\u00f6ffne den Wahlgang.\\n\\nLiebe Kolleginnen und Kollegen, darf ich fragen, ob alle Mitglieder des Hauses, auch die Schriftf\\u00fchrerinnen und Schriftf\\u00fchrer, ihre Stimmkarte abgegeben haben? Oder kennt irgendjemand irgendjemanden, von dem er meint, dass er seine Stimmkarte noch nicht abgegeben hat? - Weder f\\u00fcr das eine noch f\\u00fcr das andere sehe ich Meldungen. Dann schlie\\u00dfe ich den Wahlgang und bitte die Schriftf\\u00fchrerinnen und Schriftf\\u00fchrer, mit der Ausz\\u00e4hlung zu beginnen.\\n\\nIch unterbreche die Sitzung f\\u00fcr voraussichtlich etwa 45 Minuten. Ganz genau kann ich das leider nicht sagen. Zusagen kann ich Ihnen, dass die Bekanntgabe des Wahl-ergebnisses nicht mit Blaskapelle vorangek\\u00fcndigt wird.\", \"wahlperiode\": 17, \"speaker_cleaned\": \"Dr. Norbert Lammert\", \"speaker_fp\": \"norbert-lammert\", \"filename\": \"data/txt/17001.txt\", \"speaker\": \"Pr\\u00e4sident Dr. Norbert Lammert\", \"speaker_party\": null, \"type\": \"chair\"}, {\"sitzung\": 1, \"in_writing\": false, \"sequence\": 129, \"text\": \"Anhaltender Beifall im ganzen Hause\", \"wahlperiode\": 17, \"speaker_cleaned\": null, \"speaker_fp\": null, \"filename\": \"data/txt/17001.txt\", \"speaker\": null, \"speaker_party\": null, \"type\": \"poi\"}, {\"sitzung\": 1, \"in_writing\": false, \"sequence\": 128, \"text\": \"nicht statt anderer eigener Anstrengungen zur Verbesserung unserer Arbeit, versteht sich, aber als m\\u00f6glicher Bestandteil. Ich wei\\u00df, dass es solche \\u00dcberlegungen bei Mitgliedern aller Fraktionen gibt, und ich kenne auch die beachtlichen Einw\\u00e4nde. Aber wir sollten auch nicht \\u00fcbersehen, dass es nach Einsch\\u00e4tzung der meisten W\\u00e4hlerinnen und W\\u00e4hler nicht zu wenige Wahlen in Deutschland gibt, sondern eher zu viele, von den Gemeinder\\u00e4ten, Kreistagen und Landtagen bis zum Europ\\u00e4ischen Parlament. Auch die Teilnahme an B\\u00fcrgerbegehren und B\\u00fcrgerentscheiden auf kommunaler Ebene wie in den L\\u00e4ndern ist eher ern\\u00fcchternd.\\n\\nJedenfalls werden wir uns darauf einrichten m\\u00fcssen, f\\u00fcr die n\\u00e4chsten Jahre nicht nur von einem allgemeinen Wohlwollen der \\u00d6ffentlichkeit wie der Medien, als vielmehr von ausgepr\\u00e4gten Erwartungen begleitet zu werden. Unsere Arbeit wird dadurch nicht leichter, dass manche dieser Erwartungen sich wechselseitig ausschlie\\u00dfen. Aber wir alle, die wir heute zur Konstituierung dieses Bundestages hier zusammengekommen sind, haben f\\u00fcr dieses Mandat kandidiert, weil wir uns dieser Aufgabe gewachsen f\\u00fchlen. Mit der Annahme dieses Mandats beginnt die Erledigung der \\u00fcbernommenen Aufgaben, in welchen Rollen auch immer. Ich w\\u00fcnsche uns allen, jedem Einzelnen Freude und Erfolg bei der Bew\\u00e4ltigung dieser Herausforderungen, und ich freue mich auf eine ebenso streitbare wie kollegiale Zusammenarbeit.\\n\\nHerzlichen Dank.\", \"wahlperiode\": 17, \"speaker_cleaned\": \"Dr. Norbert Lammert\", \"speaker_fp\": \"norbert-lammert\", \"filename\": \"data/txt/17001.txt\", \"speaker\": \"Pr\\u00e4sident Dr. Norbert Lammert\", \"speaker_party\": null, \"type\": \"chair\"}, {\"sitzung\": 1, \"in_writing\": false, \"sequence\": 127, \"text\": \"Beifall bei Abgeordneten der CDU/CSU, der SPD, der FDP, der LINKEN und des B\\u00dcNDNISSES 90/DIE GR\\u00dcNEN\", \"wahlperiode\": 17, \"speaker_cleaned\": null, \"speaker_fp\": null, \"filename\": \"data/txt/17001.txt\", \"speaker\": null, \"speaker_party\": null, \"type\": \"poi\"}, {\"sitzung\": 1, \"in_writing\": false, \"sequence\": 126, \"text\": \"Liebe Kolleginnen und Kollegen, nie zu sp\\u00e4t ist es f\\u00fcr gute Vors\\u00e4tze, mit denen wir sicher alle unsere Arbeit beginnen. Aber wir sollten mit der Umsetzung auch m\\u00f6glichst bald beginnen. Die Legislaturperiode ist kurz, f\\u00fcr den Bundestag nur vier Jahre. Fast alle Landtage und viele Parlamente unserer Nachbarstaaten haben f\\u00fcnfj\\u00e4hrige Legislaturperioden, ebenso wie das Europ\\u00e4ische Parlament. Auch dar\\u00fcber lohnt es, nachzudenken,\", \"wahlperiode\": 17, \"speaker_cleaned\": \"Dr. Norbert Lammert\", \"speaker_fp\": \"norbert-lammert\", \"filename\": \"data/txt/17001.txt\", \"speaker\": \"Pr\\u00e4sident Dr. Norbert Lammert\", \"speaker_party\": null, \"type\": \"chair\"}, {\"sitzung\": 1, \"in_writing\": false, \"sequence\": 125, \"text\": \"Beifall bei der FDP, der LINKEN und dem B\\u00dcNDNIS 90/DIE GR\\u00dcNEN sowie bei Abgeordneten der CDU/CSU und der SPD\", \"wahlperiode\": 17, \"speaker_cleaned\": null, \"speaker_fp\": null, \"filename\": \"data/txt/17001.txt\", \"speaker\": null, \"speaker_party\": null, \"type\": \"poi\"}, {\"sitzung\": 1, \"in_writing\": false, \"sequence\": 124, \"text\": \"Und dass unser Wahlgesetz eine \\u00dcberpr\\u00fcfung dort mit Mehrheit abgelehnter Bewerbungen erst nach der Wahl zul\\u00e4sst, halten nicht nur einige Kommentatoren des Grundgesetzes f\\u00fcr eine Rechtsschutzl\\u00fccke - ich auch. Dann ist es n\\u00e4mlich f\\u00fcr eine Korrektur zu sp\\u00e4t.\", \"wahlperiode\": 17, \"speaker_cleaned\": \"Dr. Norbert Lammert\", \"speaker_fp\": \"norbert-lammert\", \"filename\": \"data/txt/17001.txt\", \"speaker\": \"Pr\\u00e4sident Dr. Norbert Lammert\", \"speaker_party\": null, \"type\": \"chair\"}, {\"sitzung\": 1, \"in_writing\": false, \"sequence\": 123, \"text\": \"Beifall bei Abgeordneten der CDU/CSU, der SPD, der FDP, der LINKEN und des B\\u00dcNDNISSES 90/DIE GR\\u00dcNEN\", \"wahlperiode\": 17, \"speaker_cleaned\": null, \"speaker_fp\": null, \"filename\": \"data/txt/17001.txt\", \"speaker\": null, \"speaker_party\": null, \"type\": \"poi\"}, {\"sitzung\": 1, \"in_writing\": false, \"sequence\": 122, \"text\": \"Noch nie wurden von einem deutschen Parlament so viele Einzeldokumente erzeugt wie in den letzten vier Jahren: deutlich mehr als 14 000.\\n\\nAus gegebenem Anlass wird sich der neue Bundestag sehr bald sowohl mit den Transparenzregeln f\\u00fcr Abgeordnete wie mit einzelnen Bestimmungen unseres Wahlrechts befassen m\\u00fcssen. Ich hoffe sehr, dass wir bei diesen beiden Themen mit m\\u00f6glichst breiten, fraktions\\u00fcbergreifenden Mehrheiten zur \\u00fcberzeugenden Korrektur von Regelungen kommen, die nicht erst seit den gerichtlichen Beanstandungen umstritten sind. Dabei empfehle ich uns auch einen ruhigen Blick auf die geltenden Regelungen zur Zulassung nicht bereits im Parlament vertretener Parteien zur Bundestagswahl. Dass im daf\\u00fcr zust\\u00e4ndigen Wahlausschuss Vertreter der etablierten Parteien \\u00fcber die Zulassung von Konkurrenz entscheiden, ist nicht \\u00fcber jeden demokratischen Zweifel erhaben.\", \"wahlperiode\": 17, \"speaker_cleaned\": \"Dr. Norbert Lammert\", \"speaker_fp\": \"norbert-lammert\", \"filename\": \"data/txt/17001.txt\", \"speaker\": \"Pr\\u00e4sident Dr. Norbert Lammert\", \"speaker_party\": null, \"type\": \"chair\"}, {\"sitzung\": 1, \"in_writing\": false, \"sequence\": 121, \"text\": \"Richtig!\", \"wahlperiode\": 17, \"speaker_cleaned\": \"Volker Kauder\", \"speaker_fp\": \"volker-kauder\", \"filename\": \"data/txt/17001.txt\", \"speaker\": \"Volker Kauder [CDU/CSU]\", \"speaker_party\": \"cducsu\", \"type\": \"poi\"}, {\"sitzung\": 1, \"in_writing\": false, \"sequence\": 120, \"text\": \"Allerdings, liebe Kolleginnen und Kollegen, m\\u00fcssen auch nicht in jeder Legislaturperiode neue Rekorde bei parlamentarischen Drucksachen erzielt werden.\", \"wahlperiode\": 17, \"speaker_cleaned\": \"Dr. Norbert Lammert\", \"speaker_fp\": \"norbert-lammert\", \"filename\": \"data/txt/17001.txt\", \"speaker\": \"Pr\\u00e4sident Dr. Norbert Lammert\", \"speaker_party\": null, \"type\": \"chair\"}, {\"sitzung\": 1, \"in_writing\": false, \"sequence\": 119, \"text\": \"Beifall bei der FDP, der LINKEN und dem B\\u00dcNDNIS 90/DIE GR\\u00dcNEN sowie bei Abgeordneten der CDU/CSU und der SPD\", \"wahlperiode\": 17, \"speaker_cleaned\": null, \"speaker_fp\": null, \"filename\": \"data/txt/17001.txt\", \"speaker\": null, \"speaker_party\": null, \"type\": \"poi\"}, {\"sitzung\": 1, \"in_writing\": false, \"sequence\": 118, \"text\": \"- \\u00dcber den demonstrativen Beifall einiger von mir jetzt nicht namentlich genannter Kolleginnen und Kollegen freue ich mich ganz besonders und f\\u00fcge hinzu: Nicht nur die neuen Minister k\\u00f6nnen nun zeigen, dass es im Umgang mit sicherlich manchmal l\\u00e4stigen parlamentarischen Auskunftsrechten so verl\\u00e4sslich, z\\u00fcgig und sorgf\\u00e4ltig zugeht, wie sie es als Abgeordnete von der Regierung erwartet haben.\", \"wahlperiode\": 17, \"speaker_cleaned\": \"Dr. Norbert Lammert\", \"speaker_fp\": \"norbert-lammert\", \"filename\": \"data/txt/17001.txt\", \"speaker\": \"Pr\\u00e4sident Dr. Norbert Lammert\", \"speaker_party\": null, \"type\": \"chair\"}, {\"sitzung\": 1, \"in_writing\": false, \"sequence\": 117, \"text\": \"Beifall bei der FDP, der LINKEN und dem B\\u00dcNDNIS 90/DIE GR\\u00dcNEN sowie bei Abgeordneten der CDU/CSU und der SPD\", \"wahlperiode\": 17, \"speaker_cleaned\": null, \"speaker_fp\": null, \"filename\": \"data/txt/17001.txt\", \"speaker\": null, \"speaker_party\": null, \"type\": \"poi\"}, {\"sitzung\": 1, \"in_writing\": false, \"sequence\": 116, \"text\": \"ist unbefriedigend, gelegentlich \\u00e4rgerlich.\", \"wahlperiode\": 17, \"speaker_cleaned\": \"Dr. Norbert Lammert\", \"speaker_fp\": \"norbert-lammert\", \"filename\": \"data/txt/17001.txt\", \"speaker\": \"Pr\\u00e4sident Dr. Norbert Lammert\", \"speaker_party\": null, \"type\": \"chair\"}, {\"sitzung\": 1, \"in_writing\": false, \"sequence\": 115, \"text\": \"War ungeh\\u00f6rig!\", \"wahlperiode\": 17, \"speaker_cleaned\": \"J\\u00fcrgen Trittin\", \"speaker_fp\": \"jurgen-trittin\", \"filename\": \"data/txt/17001.txt\", \"speaker\": \"J\\u00fcrgen Trittin [B\\u00dcNDNIS 90/DIE GR\\u00dcNEN]\", \"speaker_party\": \"gruene\", \"type\": \"poi\"}, {\"sitzung\": 1, \"in_writing\": false, \"sequence\": 114, \"text\": \"Auch in der Gestaltung der Fragestunde besteht gewiss Verbesserungspotenzial, sowohl aufseiten der Parlamentarier wie aufseiten der Regierungsvertreter. Dies gilt auch f\\u00fcr Kleine und Gro\\u00dfe Anfragen. Manche Frage mag unn\\u00f6tig sein, aber manche Antwort der Bundesregierung\", \"wahlperiode\": 17, \"speaker_cleaned\": \"Dr. Norbert Lammert\", \"speaker_fp\": \"norbert-lammert\", \"filename\": \"data/txt/17001.txt\", \"speaker\": \"Pr\\u00e4sident Dr. Norbert Lammert\", \"speaker_party\": null, \"type\": \"chair\"}, {\"sitzung\": 1, \"in_writing\": false, \"sequence\": 113, \"text\": \"Beifall bei Abgeordneten der CDU/CSU, der SPD, der FDP, der LINKEN und des B\\u00dcNDNISSES 90/DIE GR\\u00dcNEN\", \"wahlperiode\": 17, \"speaker_cleaned\": null, \"speaker_fp\": null, \"filename\": \"data/txt/17001.txt\", \"speaker\": null, \"speaker_party\": null, \"type\": \"poi\"}, {\"sitzung\": 1, \"in_writing\": false, \"sequence\": 112, \"text\": \"schon gar nicht, wenn die zweite und dritte Lesung von Gesetzen im Plenum alleine in der Niederlegung von schriftlichen Beitr\\u00e4gen besteht, die gar nicht debattiert werden konnten. Mit der unmissverst\\u00e4ndlichen Festlegung unserer Verfassung - Zitat: \\u201eDer Bundestag verhandelt \\u00f6ffentlich.\\u201c - ist diese Praxis nur schwer vereinbar, zumal die Ausschussberatungen aus guten Gr\\u00fcnden nicht immer \\u00f6ffentlich sind.\\n\\nDeshalb empfehle ich uns dringend - das gilt \\u00fcbrigens ausnahmslos f\\u00fcr alle Beteiligten -, die F\\u00fclle der eingebrachten Gesetzentw\\u00fcrfe, Entschlie\\u00dfungsantr\\u00e4ge und Resolutionen auch im Ma\\u00dfstab der verf\\u00fcgbaren Beratungszeit selbstkritisch zu \\u00fcberpr\\u00fcfen oder umgekehrt die Anzahl der Sitzungswochen entsprechend zu erh\\u00f6hen.\", \"wahlperiode\": 17, \"speaker_cleaned\": \"Dr. Norbert Lammert\", \"speaker_fp\": \"norbert-lammert\", \"filename\": \"data/txt/17001.txt\", \"speaker\": \"Pr\\u00e4sident Dr. Norbert Lammert\", \"speaker_party\": null, \"type\": \"chair\"}, {\"sitzung\": 1, \"in_writing\": false, \"sequence\": 111, \"text\": \"Beifall bei Abgeordneten der CDU/CSU, der SPD, der FDP, der LINKEN und des B\\u00dcNDNISSES 90/DIE GR\\u00dcNEN\", \"wahlperiode\": 17, \"speaker_cleaned\": null, \"speaker_fp\": null, \"filename\": \"data/txt/17001.txt\", \"speaker\": null, \"speaker_party\": null, \"type\": \"poi\"}, {\"sitzung\": 1, \"in_writing\": false, \"sequence\": 110, \"text\": \"In der vergangenen Legislaturperiode wurden 464 Tagesordnungspunkte - 464 Tagesordnungspunkte, Petitionen nicht mitgez\\u00e4hlt - ohne Debatte verhandelt, und von rund 15 500 in den Protokollen verzeichneten Reden wurden nicht weniger als 4 429 zu Protokoll gegeben, mehr als jede vierte. Aus einer im Einzelfall sicher n\\u00f6tigen Ausnahme - ich r\\u00e4ume freim\\u00fctig ein, dass ich in fr\\u00fcheren Rollen, die l\\u00e4nger zur\\u00fcckliegen, an der M\\u00f6glichkeit dieser Ausnahmeregelung leichtfertig mitgewirkt habe - ist l\\u00e4ngst eine fragw\\u00fcrdige Regel geworden. Das ist sicher keine Errungenschaft,\", \"wahlperiode\": 17, \"speaker_cleaned\": \"Dr. Norbert Lammert\", \"speaker_fp\": \"norbert-lammert\", \"filename\": \"data/txt/17001.txt\", \"speaker\": \"Pr\\u00e4sident Dr. Norbert Lammert\", \"speaker_party\": null, \"type\": \"chair\"}, {\"sitzung\": 1, \"in_writing\": false, \"sequence\": 109, \"text\": \"Beifall bei Abgeordneten der CDU/CSU, der SPD, der FDP, der LINKEN und des B\\u00dcNDNISSES 90/DIE GR\\u00dcNEN\", \"wahlperiode\": 17, \"speaker_cleaned\": null, \"speaker_fp\": null, \"filename\": \"data/txt/17001.txt\", \"speaker\": null, \"speaker_party\": null, \"type\": \"poi\"}, {\"sitzung\": 1, \"in_writing\": false, \"sequence\": 108, \"text\": \"Das muss im \\u00dcbrigen auch nicht sein, wie zuletzt die ebenso kurzfristige wie kompetente Begleitgesetzgebung zum Lissabonner Vertrag eindrucksvoll belegt hat.\\n\\nF\\u00fcr die neuen Aufgaben, die damit auf den Bundestag innerhalb der Europ\\u00e4ischen Union zukommen, sind wir inzwischen besser ger\\u00fcstet als zu Beginn der letzten Legislaturperiode: durch eigene Initiativen, vor allem das Verbindungsb\\u00fcro des Bundestages in Br\\u00fcssel, aber auch durch die Entscheidung des Bundesverfassungsgerichts \\u00fcber die zentrale und unaufgebbare Rolle des Parlaments auch bei europ\\u00e4ischen Rechtsetzungsakten.\\n\\nLiebe Kolleginnen und Kollegen, nicht ganz so eindrucksvoll ist die Organisation unserer Plenardebatten, die seit einiger Zeit durch ein immer gr\\u00f6\\u00dferes und, wie ich finde, immer \\u00e4rgerlicheres Missverh\\u00e4ltnis zwischen aufgesetzten und tats\\u00e4chlich \\u00f6ffentlich behandelten Tagesordnungspunkten gekennzeichnet ist.\", \"wahlperiode\": 17, \"speaker_cleaned\": \"Dr. Norbert Lammert\", \"speaker_fp\": \"norbert-lammert\", \"filename\": \"data/txt/17001.txt\", \"speaker\": \"Pr\\u00e4sident Dr. Norbert Lammert\", \"speaker_party\": null, \"type\": \"chair\"}, {\"sitzung\": 1, \"in_writing\": false, \"sequence\": 107, \"text\": \"Beifall im ganzen Hause\", \"wahlperiode\": 17, \"speaker_cleaned\": null, \"speaker_fp\": null, \"filename\": \"data/txt/17001.txt\", \"speaker\": null, \"speaker_party\": null, \"type\": \"poi\"}, {\"sitzung\": 1, \"in_writing\": false, \"sequence\": 106, \"text\": \"Der entstandene Eindruck, diese zentrale staatliche Aufgabe werde immer h\\u00e4ufiger und m\\u00f6glichst unauff\\u00e4llig an Anwaltskanzleien, Beratungsunternehmen und Gutachter abgetreten oder ausgelagert, st\\u00e4rkt die Autorit\\u00e4t der Verfassungsorgane nicht, weder nach innen noch nach au\\u00dfen.\", \"wahlperiode\": 17, \"speaker_cleaned\": \"Dr. Norbert Lammert\", \"speaker_fp\": \"norbert-lammert\", \"filename\": \"data/txt/17001.txt\", \"speaker\": \"Pr\\u00e4sident Dr. Norbert Lammert\", \"speaker_party\": null, \"type\": \"chair\"}, {\"sitzung\": 1, \"in_writing\": false, \"sequence\": 105, \"text\": \"Beifall bei Abgeordneten des B\\u00dcNDNIS-SES 90/DIE GR\\u00dcNEN\", \"wahlperiode\": 17, \"speaker_cleaned\": null, \"speaker_fp\": null, \"filename\": \"data/txt/17001.txt\", \"speaker\": null, \"speaker_party\": null, \"type\": \"poi\"}, {\"sitzung\": 1, \"in_writing\": false, \"sequence\": 104, \"text\": \"Meine Damen und Herren, die Beteiligung von Sachverstand aus Wirtschaft und Gesellschaft zur Vorbereitung staatlicher Entscheidungen in der Exekutive wie der Legislative ist eine Errungenschaft postfeudaler Zeiten und ganz sicher kein Skandal. Allerdings: Weder ist die Regierung \\u201eGesetzgeber\\u201c noch das Parlament \\u201eGesetznehmer\\u201c.\", \"wahlperiode\": 17, \"speaker_cleaned\": \"Dr. Norbert Lammert\", \"speaker_fp\": \"norbert-lammert\", \"filename\": \"data/txt/17001.txt\", \"speaker\": \"Pr\\u00e4sident Dr. Norbert Lammert\", \"speaker_party\": null, \"type\": \"chair\"}, {\"sitzung\": 1, \"in_writing\": false, \"sequence\": 103, \"text\": \"Beifall bei Abgeordneten der CDU/CSU, der SPD und der FDP sowie bei Abgeordneten des B\\u00dcNDNISSES 90/DIE GR\\u00dcNEN\", \"wahlperiode\": 17, \"speaker_cleaned\": null, \"speaker_fp\": null, \"filename\": \"data/txt/17001.txt\", \"speaker\": null, \"speaker_party\": null, \"type\": \"poi\"}, {\"sitzung\": 1, \"in_writing\": false, \"sequence\": 102, \"text\": \"Im parlamentarischen Regierungssystem ist die Gestaltung der Politik eine gemeinsame Aufgabe von Exekutive und Legislative. Dies wird nicht zuletzt im Gesetzgebungsverfahren deutlich. Die Wahrnehmung dessen, was in Zeiten der Globalisierung den Nationalstaaten an Souver\\u00e4nit\\u00e4t verblieben ist, liegt bei den Parlamenten, in Deutschland mehr als irgendwo sonst beim Bundestag. Er entscheidet, ob \\u00fcberhaupt und wo und in welchem Umfang die Bundesrepublik Deutschland nationale Kompetenzen an die Europ\\u00e4ische Gemeinschaft oder an internationale Organisationen zu \\u00fcbertragen bereit ist, nicht die Gerichte. Sie sind weder f\\u00fcr die Politik zust\\u00e4ndig noch f\\u00fcr die Gesetzgebung. Sie legen die Gesetze im Lichte unserer Verfassung aus, nicht weniger, aber auch nicht mehr.\", \"wahlperiode\": 17, \"speaker_cleaned\": \"Dr. Norbert Lammert\", \"speaker_fp\": \"norbert-lammert\", \"filename\": \"data/txt/17001.txt\", \"speaker\": \"Pr\\u00e4sident Dr. Norbert Lammert\", \"speaker_party\": null, \"type\": \"chair\"}, {\"sitzung\": 1, \"in_writing\": false, \"sequence\": 101, \"text\": \"Beifall im ganzen Hause\", \"wahlperiode\": 17, \"speaker_cleaned\": null, \"speaker_fp\": null, \"filename\": \"data/txt/17001.txt\", \"speaker\": null, \"speaker_party\": null, \"type\": \"poi\"}, {\"sitzung\": 1, \"in_writing\": false, \"sequence\": 100, \"text\": \"Er ist nicht Hilfsorgan, sondern Herz der politischen Willensbildung in unserem Land. Nicht die Regierung h\\u00e4lt sich ein Parlament, sondern das Parlament bestimmt und kontrolliert die Regierung.\", \"wahlperiode\": 17, \"speaker_cleaned\": \"Dr. Norbert Lammert\", \"speaker_fp\": \"norbert-lammert\", \"filename\": \"data/txt/17001.txt\", \"speaker\": \"Pr\\u00e4sident Dr. Norbert Lammert\", \"speaker_party\": null, \"type\": \"chair\"}, {\"sitzung\": 1, \"in_writing\": false, \"sequence\": 99, \"text\": \"Beifall bei der CDU/CSU, der FDP und dem B\\u00dcNDNIS 90/DIE GR\\u00dcNEN sowie bei Abgeordneten der SPD und der LINKEN\", \"wahlperiode\": 17, \"speaker_cleaned\": null, \"speaker_fp\": null, \"filename\": \"data/txt/17001.txt\", \"speaker\": null, \"speaker_party\": null, \"type\": \"poi\"}, {\"sitzung\": 1, \"in_writing\": false, \"sequence\": 98, \"text\": \"Der Bundestag muss und darf sich hinter ihnen nicht verstecken.\", \"wahlperiode\": 17, \"speaker_cleaned\": \"Dr. Norbert Lammert\", \"speaker_fp\": \"norbert-lammert\", \"filename\": \"data/txt/17001.txt\", \"speaker\": \"Pr\\u00e4sident Dr. Norbert Lammert\", \"speaker_party\": null, \"type\": \"chair\"}, {\"sitzung\": 1, \"in_writing\": false, \"sequence\": 97, \"text\": \"Wohl wahr!\", \"wahlperiode\": 17, \"speaker_cleaned\": \"von der CDU/CSU\", \"speaker_fp\": \"von-der-cdu-csu\", \"filename\": \"data/txt/17001.txt\", \"speaker\": \"Zuruf von der CDU/CSU\", \"speaker_party\": \"cducsu\", \"type\": \"poi\"}, {\"sitzung\": 1, \"in_writing\": false, \"sequence\": 96, \"text\": \"Man wird gerade in diesem Jahr daran erinnern d\\u00fcrfen: F\\u00fcr dieses demokratische Kerngrundrecht freier Wahlen sind auch in Deutschland vor 20 Jahren viele Tausende Menschen auf die Stra\\u00dfe gegangen.\\n\\nLiebe Kolleginnen und Kollegen, die Bedeutung des Bundestages im Verfassungsgef\\u00fcge wie in der Realit\\u00e4t unseres politischen Lebens ist sicher h\\u00f6her als sein \\u00f6ffentliches Ansehen. Das parlamentarische System in Deutschland hat im eigenen Land bedauerlicherweise nicht den gleichen guten Ruf, den es fast \\u00fcberall auf der Welt genie\\u00dft. Zweifellos ist es eine der gro\\u00dfen Errungenschaften der j\\u00fcngeren Geschichte unseres Landes. Mir fallen im \\u00dcbrigen im internationalen wie im historischen Vergleich nicht einmal eine Handvoll L\\u00e4nder ein, deren Parlamente \\u00e4hnlich viel oder gar mehr Einfluss auf die Bildung und die Kontrolle von Regierungen, die Gesetzgebung und die \\u00f6ffentliche Meinung h\\u00e4tten als die deutschen Parlamente und schon gar der Deutsche Bundestag.\\n\\nAber richtig ist auch: Die Parlamente, ihre Arbeit und ihre \\u00f6ffentliche Wirkung sind nicht immer so gut, wie sie sein k\\u00f6nnten und sein sollten. Die Konstituierung eines neuen Bundestages ist eine gute Gelegenheit, gemeinsam dar\\u00fcber nachzudenken. Dies gilt f\\u00fcr das Verh\\u00e4ltnis von Parlament und Regierung, die Wahrnehmung der origin\\u00e4ren parlamentarischen Aufgaben, die Mehrheits- wie die Minderheitenrechte im Bundestag, die Transparenzregeln f\\u00fcr Abgeordnete, das Wahlrecht, die Wahlpr\\u00fcfung und die Wahlzulassung, nicht zuletzt die neuen Kompetenzen des Bundestages im Rahmen der Europ\\u00e4ischen Gemeinschaft.\\n\\nDen Regierungen von Bund und L\\u00e4ndern mangelt es an Selbstbewusstsein nicht, dem Verfassungsgericht auch nicht.\", \"wahlperiode\": 17, \"speaker_cleaned\": \"Dr. Norbert Lammert\", \"speaker_fp\": \"norbert-lammert\", \"filename\": \"data/txt/17001.txt\", \"speaker\": \"Pr\\u00e4sident Dr. Norbert Lammert\", \"speaker_party\": null, \"type\": \"chair\"}, {\"sitzung\": 1, \"in_writing\": false, \"sequence\": 95, \"text\": \"Beifall bei der CDU/CSU, der SPD, der FDP und dem B\\u00dcNDNIS 90/DIE GR\\u00dcNEN sowie bei Abgeordneten der LINKEN\", \"wahlperiode\": 17, \"speaker_cleaned\": null, \"speaker_fp\": null, \"filename\": \"data/txt/17001.txt\", \"speaker\": null, \"speaker_party\": null, \"type\": \"poi\"}, {\"sitzung\": 1, \"in_writing\": false, \"sequence\": 94, \"text\": \"nicht f\\u00fcr immer, sondern f\\u00fcr ganze vier Jahre, mit einem befristeten Auftrag, f\\u00fcr den es keine automatische Verl\\u00e4ngerung gibt.\\n\\nWir sind nicht das Volk, sondern die Volksvertretung. Das ist wichtig genug, aber eben nicht dasselbe. Die W\\u00e4hler wissen ebenso gut wie wir - manchmal sogar besser -, dass wir nicht \\u00fcber Wasser gehen k\\u00f6nnen. Deshalb sollten wir auch keinen anderen Eindruck vermitteln.\\n\\nMeine Damen und Herren, am 27. September haben fast 30 Prozent der W\\u00e4hlerinnen und W\\u00e4hler von ihrem Wahlrecht keinen Gebrauch gemacht, mehr als je zuvor in der Geschichte der Bundestagswahlen, obwohl es \\u00fcbrigens noch nie so viele Kampagnen zur Wahlbeteiligung gegeben hat wie in diesem Jahr. Etwa 18 Millionen Frauen und M\\u00e4nner haben nicht gew\\u00e4hlt. Das ist so viel, wie das gr\\u00f6\\u00dfte Bundesland Einwohner hat. Belanglos ist das nicht. Es sollte bei n\\u00fcchterner W\\u00fcrdigung weder verharmlost noch dramatisiert werden. Immerhin ist die niedrigste Beteiligung an einer Bundestagswahl seit 60 Jahren immer noch deutlich h\\u00f6her als die vielger\\u00fchmte h\\u00f6chste amerikanische Wahlbeteiligung in den letzten 100 Jahren. Dennoch sollten wir uns mit dem unerfreulichen Trend und seinen Ursachen auseinandersetzen.\\n\\nZu den Gr\\u00fcnden der Wahlverweigerung geh\\u00f6ren nicht nur allgemeines politisches Desinteresse, das es nat\\u00fcrlich auch gibt, sondern konkrete Entt\\u00e4uschungen, Ratlosigkeit gegen\\u00fcber zu vielen oder zu wenigen oder zu undeutlichen Alternativen, manchmal auch schlichte Bequemlichkeit und neuerdings auch eine intellektuelle \\u00dcberheblichkeit, die sich in der \\u00f6ffentlichen Aufforderung zur Verweigerung dessen niederschl\\u00e4gt, was dieselben Autoren als demokratisches Grundrecht nat\\u00fcrlich f\\u00fcr v\\u00f6llig unverzichtbar halten.\", \"wahlperiode\": 17, \"speaker_cleaned\": \"Dr. Norbert Lammert\", \"speaker_fp\": \"norbert-lammert\", \"filename\": \"data/txt/17001.txt\", \"speaker\": \"Pr\\u00e4sident Dr. Norbert Lammert\", \"speaker_party\": null, \"type\": \"chair\"}, {\"sitzung\": 1, \"in_writing\": false, \"sequence\": 93, \"text\": \"Heiterkeit und Beifall im ganzen Hause\", \"wahlperiode\": 17, \"speaker_cleaned\": null, \"speaker_fp\": null, \"filename\": \"data/txt/17001.txt\", \"speaker\": null, \"speaker_party\": null, \"type\": \"poi\"}, {\"sitzung\": 1, \"in_writing\": false, \"sequence\": 92, \"text\": \"Regiert wird immer und \\u00fcberall, mal mit und oft ohne demokratische Legitimation. Die Opposition macht den Unterschied, und ihre Bedeutung steht und f\\u00e4llt mit dem Gewicht des Parlaments als Vertretung des ganzen Volkes: Mehrheit und Minderheit, Rede und Widerrede.\\n\\nWie sehr die W\\u00e4hlerinnen und W\\u00e4hler - und eben nicht die Parteien und ihre F\\u00fchrungen - die Zusammensetzung der Parlamente ver\\u00e4ndern, wird nicht nur an der gro\\u00dfen Zahl der jeweils neu gew\\u00e4hlten Mitglieder deutlich - diesmal beinahe ein Drittel -, sondern auch an der weitgehenden personellen Erneuerung innerhalb von nur zehn Jahren. Von den Abgeordneten, die 1999 beim Umzug des Bundestages von Bonn nach Berlin dabei waren, geh\\u00f6ren gerade noch 101, also weniger als ein Sechstel, dem heute zusammentretenden Parlament an.\\n\\nMeine Damen und Herren, nicht alle, die in diesem Bundestag sitzen, haben den gleichen Einfluss; das ist wohl wahr. Aber alle haben das gleiche Mandat, gleiche Rechte und gleiche Pflichten. Auf beides will ich achten und wenn n\\u00f6tig in Erinnerung rufen, dass wir gew\\u00e4hlt sind, aber nicht gesalbt -\", \"wahlperiode\": 17, \"speaker_cleaned\": \"Dr. Norbert Lammert\", \"speaker_fp\": \"norbert-lammert\", \"filename\": \"data/txt/17001.txt\", \"speaker\": \"Pr\\u00e4sident Dr. Norbert Lammert\", \"speaker_party\": null, \"type\": \"chair\"}, {\"sitzung\": 1, \"in_writing\": false, \"sequence\": 91, \"text\": \"Beifall bei der CDU/CSU, der FDP, der LINKEN und dem B\\u00dcNDNIS 90/DIE GR\\u00dcNEN sowie bei Abgeordneten der SPD\", \"wahlperiode\": 17, \"speaker_cleaned\": null, \"speaker_fp\": null, \"filename\": \"data/txt/17001.txt\", \"speaker\": null, \"speaker_party\": null, \"type\": \"poi\"}, {\"sitzung\": 1, \"in_writing\": false, \"sequence\": 90, \"text\": \"Meine Damen und Herren, das Wahlergebnis vom 27. September hat die Kr\\u00e4fteverh\\u00e4ltnisse im 17. Bundestag st\\u00e4rker ver\\u00e4ndert, als gemeinhin erwartet wurde, und zugleich die politischen Rollen neu verteilt. In der Regel wird der Wechsel aus der Opposition in die Regierungsverantwortung h\\u00f6her gesch\\u00e4tzt als der umgekehrte Rollenwechsel. Umso wichtiger ist die Einsicht, dass die demokratische Reife eines politischen Systems nicht an der Existenz der Regierung zu erkennen ist, sondern am Parlament und dort vor allem am Vorhandensein einer Opposition und ihrer politischen Wirkungsm\\u00f6glichkeiten.\", \"wahlperiode\": 17, \"speaker_cleaned\": \"Dr. Norbert Lammert\", \"speaker_fp\": \"norbert-lammert\", \"filename\": \"data/txt/17001.txt\", \"speaker\": \"Pr\\u00e4sident Dr. Norbert Lammert\", \"speaker_party\": null, \"type\": \"chair\"}, {\"sitzung\": 1, \"in_writing\": false, \"sequence\": 89, \"text\": \"Beifall im ganzen Hause\", \"wahlperiode\": 17, \"speaker_cleaned\": null, \"speaker_fp\": null, \"filename\": \"data/txt/17001.txt\", \"speaker\": null, \"speaker_party\": null, \"type\": \"poi\"}, {\"sitzung\": 1, \"in_writing\": false, \"sequence\": 88, \"text\": \"Da die Chefredaktionen in ihren Entscheidungen so frei sind wie ich in meinem Urteil, k\\u00fcndige ich an, dass ich bei jeder \\u00e4hnlichen Gelegenheit erneut vortragen werde.\", \"wahlperiode\": 17, \"speaker_cleaned\": \"Dr. Norbert Lammert\", \"speaker_fp\": \"norbert-lammert\", \"filename\": \"data/txt/17001.txt\", \"speaker\": \"Pr\\u00e4sident Dr. Norbert Lammert\", \"speaker_party\": null, \"type\": \"chair\"}, {\"sitzung\": 1, \"in_writing\": false, \"sequence\": 87, \"text\": \"Beifall im ganzen Hause\", \"wahlperiode\": 17, \"speaker_cleaned\": null, \"speaker_fp\": null, \"filename\": \"data/txt/17001.txt\", \"speaker\": null, \"speaker_party\": null, \"type\": \"poi\"}, {\"sitzung\": 1, \"in_writing\": false, \"sequence\": 86, \"text\": \"Mir fehlt jedes Verst\\u00e4ndnis daf\\u00fcr, dass ein geb\\u00fchrenpflichtiges Fernsehen, das dieses \\u00fcppig dotierte Privileg allein seinem besonderen Informationsauftrag verdankt, auch an einem Tag wie heute mit einer souver\\u00e4nen Sturheit der Unterhaltung Vorrang vor der Information einr\\u00e4umt.\", \"wahlperiode\": 17, \"speaker_cleaned\": \"Dr. Norbert Lammert\", \"speaker_fp\": \"norbert-lammert\", \"filename\": \"data/txt/17001.txt\", \"speaker\": \"Pr\\u00e4sident Dr. Norbert Lammert\", \"speaker_party\": null, \"type\": \"chair\"}, {\"sitzung\": 1, \"in_writing\": false, \"sequence\": 85, \"text\": \"Beifall im ganzen Hause\", \"wahlperiode\": 17, \"speaker_cleaned\": null, \"speaker_fp\": null, \"filename\": \"data/txt/17001.txt\", \"speaker\": null, \"speaker_party\": null, \"type\": \"poi\"}, {\"sitzung\": 1, \"in_writing\": false, \"sequence\": 84, \"text\": \"Liebe Kolleginnen und Kollegen, auch ich folge meinem Herzen und nenne diese Programmentscheidung ganz vorsichtig im w\\u00f6rtlichen Sinne bemerkenswert.\", \"wahlperiode\": 17, \"speaker_cleaned\": \"Dr. Norbert Lammert\", \"speaker_fp\": \"norbert-lammert\", \"filename\": \"data/txt/17001.txt\", \"speaker\": \"Pr\\u00e4sident Dr. Norbert Lammert\", \"speaker_party\": null, \"type\": \"chair\"}, {\"sitzung\": 1, \"in_writing\": false, \"sequence\": 83, \"text\": \"Lachen\", \"wahlperiode\": 17, \"speaker_cleaned\": null, \"speaker_fp\": null, \"filename\": \"data/txt/17001.txt\", \"speaker\": null, \"speaker_party\": null, \"type\": \"poi\"}, {\"sitzung\": 1, \"in_writing\": false, \"sequence\": 82, \"text\": \"gefolgt vom 36. Kapitel der Serie Bianca - Wege zum Gl\\u00fcck.\", \"wahlperiode\": 17, \"speaker_cleaned\": \"Dr. Norbert Lammert\", \"speaker_fp\": \"norbert-lammert\", \"filename\": \"data/txt/17001.txt\", \"speaker\": \"Pr\\u00e4sident Dr. Norbert Lammert\", \"speaker_party\": null, \"type\": \"chair\"}, {\"sitzung\": 1, \"in_writing\": false, \"sequence\": 81, \"text\": \"Lachen\", \"wahlperiode\": 17, \"speaker_cleaned\": null, \"speaker_fp\": null, \"filename\": \"data/txt/17001.txt\", \"speaker\": null, \"speaker_party\": null, \"type\": \"poi\"}, {\"sitzung\": 1, \"in_writing\": false, \"sequence\": 80, \"text\": \"Das Zweite Deutsche Fernsehen bringt statt einer \\u00dcbertragung dieser Sitzung die 158. Folge der Serie Alisa - Folge deinem Herzen,\", \"wahlperiode\": 17, \"speaker_cleaned\": \"Dr. Norbert Lammert\", \"speaker_fp\": \"norbert-lammert\", \"filename\": \"data/txt/17001.txt\", \"speaker\": \"Pr\\u00e4sident Dr. Norbert Lammert\", \"speaker_party\": null, \"type\": \"chair\"}, {\"sitzung\": 1, \"in_writing\": false, \"sequence\": 79, \"text\": \"Lachen\", \"wahlperiode\": 17, \"speaker_cleaned\": null, \"speaker_fp\": null, \"filename\": \"data/txt/17001.txt\", \"speaker\": null, \"speaker_party\": null, \"type\": \"poi\"}, {\"sitzung\": 1, \"in_writing\": false, \"sequence\": 78, \"text\": \"Meine lieben Kolleginnen und Kollegen, nach manchen Beschwerden, Debatten, Verhandlungen in der letzten Legislaturperiode m\\u00f6chte ich Sie darauf aufmerksam machen, dass eine \\u00dcbertragung der Konstituierung dieses Deutschen Bundestages im Hauptprogramm der \\u00f6ffentlich-rechtlichen Fernsehanstalten nicht stattfindet. Im Mittelpunkt des Vormittagsprogramms der Arbeitsgemeinschaft der Rundfunkanstalten Deutschlands steht heute Morgen die TV-Kom\\u00f6die Schaumk\\u00fcsse.\", \"wahlperiode\": 17, \"speaker_cleaned\": \"Dr. Norbert Lammert\", \"speaker_fp\": \"norbert-lammert\", \"filename\": \"data/txt/17001.txt\", \"speaker\": \"Pr\\u00e4sident Dr. Norbert Lammert\", \"speaker_party\": null, \"type\": \"chair\"}, {\"sitzung\": 1, \"in_writing\": false, \"sequence\": 77, \"text\": \"Beifall\", \"wahlperiode\": 17, \"speaker_cleaned\": null, \"speaker_fp\": null, \"filename\": \"data/txt/17001.txt\", \"speaker\": null, \"speaker_party\": null, \"type\": \"poi\"}, {\"sitzung\": 1, \"in_writing\": false, \"sequence\": 76, \"text\": \"Dank sagen m\\u00f6chte ich auch f\\u00fcr die gute Zusammenarbeit im bisherigen Pr\\u00e4sidium, insbesondere Susanne Kastner, die sieben Jahre Vizepr\\u00e4sidentin des Deutschen Bundestages war.\", \"wahlperiode\": 17, \"speaker_cleaned\": \"Dr. Norbert Lammert\", \"speaker_fp\": \"norbert-lammert\", \"filename\": \"data/txt/17001.txt\", \"speaker\": \"Pr\\u00e4sident Dr. Norbert Lammert\", \"speaker_party\": null, \"type\": \"chair\"}, {\"sitzung\": 1, \"in_writing\": false, \"sequence\": 75, \"text\": \"Beifall\", \"wahlperiode\": 17, \"speaker_cleaned\": null, \"speaker_fp\": null, \"filename\": \"data/txt/17001.txt\", \"speaker\": null, \"speaker_party\": null, \"type\": \"poi\"}, {\"sitzung\": 1, \"in_writing\": false, \"sequence\": 74, \"text\": \"Mein besonderer Dank und Respekt gilt allen ausscheidenden Mitgliedern des Bundestages f\\u00fcr die geleistete Arbeit. Stellvertretend f\\u00fcr alle nenne ich Frau Dr. D\\u00e4ubler-Gmelin, die diesem Parlament seit 1972, also stolze 37 Jahre, angeh\\u00f6rt hat.\", \"wahlperiode\": 17, \"speaker_cleaned\": \"Dr. Norbert Lammert\", \"speaker_fp\": \"norbert-lammert\", \"filename\": \"data/txt/17001.txt\", \"speaker\": \"Pr\\u00e4sident Dr. Norbert Lammert\", \"speaker_party\": null, \"type\": \"chair\"}, {\"sitzung\": 1, \"in_writing\": false, \"sequence\": 73, \"text\": \"Beifall\", \"wahlperiode\": 17, \"speaker_cleaned\": null, \"speaker_fp\": null, \"filename\": \"data/txt/17001.txt\", \"speaker\": null, \"speaker_party\": null, \"type\": \"poi\"}, {\"sitzung\": 1, \"in_writing\": false, \"sequence\": 72, \"text\": \"Ich freue mich nat\\u00fcrlich - das werden Sie verstehen -, dass mein Bem\\u00fchen eine so breite Anerkennung gefunden hat, dieses hohe Amt so \\u00fcberparteilich wie eben m\\u00f6glich zu f\\u00fchren und unser Parlament nach innen wie nach au\\u00dfen w\\u00fcrdig zu vertreten. Daf\\u00fcr bin ich besonders dankbar, und ich versichere Ihnen gerne, dass ich mich nach Kr\\u00e4ften weiterhin genau darum bem\\u00fchen werde, auch wenn dies sicher nicht immer gleich gut gelingt.\\n\\nZugleich bitte ich um Verst\\u00e4ndnis, wenn ich nach Ihrem Votum nun auch um Ihre Unterst\\u00fctzung bei den notwendigen Bem\\u00fchungen um eine weitere Verbesserung unserer parlamentarischen Arbeit bitte, zu der ich nach meiner Festrede zum 60. Geburtstag des Bundestages im September heute einige durchaus selbstkritische Anmerkungen machen m\\u00f6chte.\\n\\nZun\\u00e4chst m\\u00f6chte ich aber unserem Alterspr\\u00e4sidenten Heinz Riesenhuber danken, der nicht nur der lebens\\u00e4lteste Abgeordnete ist, sondern auch zu den mit Abstand dienst\\u00e4ltesten Mitgliedern dieses Hauses geh\\u00f6rt, f\\u00fcr die souver\\u00e4ne Er\\u00f6ffnung unserer konstituierenden Sitzung mit Witz und der ihm eigenen Eleganz und f\\u00fcr die Hinweise, die er uns f\\u00fcr die Arbeit der bevorstehenden Legislaturperiode \\u00fcber das Tagesgesch\\u00e4ft hinaus gegeben hat.\", \"wahlperiode\": 17, \"speaker_cleaned\": \"Dr. Norbert Lammert\", \"speaker_fp\": \"norbert-lammert\", \"filename\": \"data/txt/17001.txt\", \"speaker\": \"Pr\\u00e4sident Dr. Norbert Lammert\", \"speaker_party\": null, \"type\": \"chair\"}, {\"sitzung\": 1, \"in_writing\": false, \"sequence\": 71, \"text\": \"Heiterkeit und Beifall bei der CDU/CSU, der FDP sowie bei Abgeordneten des B\\u00dcNDNISSES 90/DIE GR\\u00dcNEN\", \"wahlperiode\": 17, \"speaker_cleaned\": null, \"speaker_fp\": null, \"filename\": \"data/txt/17001.txt\", \"speaker\": null, \"speaker_party\": null, \"type\": \"poi\"}, {\"sitzung\": 1, \"in_writing\": false, \"sequence\": 70, \"text\": \"Sehr geehrter Herr Bundespr\\u00e4sident! Verehrte G\\u00e4ste! Liebe Kolleginnen und Kollegen! Die erneute Wahl zum Pr\\u00e4sidenten des Deutschen Bundestages ist eine hohe Auszeichnung und eine gro\\u00dfe Verpflichtung. Das eine ist mir so bewusst wie das andere.\\n\\nVor vier Jahren hat mich der 16. Deutsche Bundestag mit einem ungew\\u00f6hnlichen Vertrauensvorschuss in dieses Amt gew\\u00e4hlt. Ich bedanke mich bei allen, die mir heute auch nach stattgefundenen Erfahrungen in der Wahrnehmung des Amtes ihre Stimme gegeben haben, zun\\u00e4chst bei meiner eigenen Fraktion, die mich trotz gelegentlicher Neigung zu Selbstst\\u00e4ndigkeit und Hartn\\u00e4ckigkeit, auch gegen\\u00fcber deren besonderen W\\u00fcnschen und Erwartungen, f\\u00fcr dieses Amt erneut vorgeschlagen hat - in Kenntnis des Risikos, dass das so bleiben wird.\", \"wahlperiode\": 17, \"speaker_cleaned\": \"Dr. Norbert Lammert\", \"speaker_fp\": \"norbert-lammert\", \"filename\": \"data/txt/17001.txt\", \"speaker\": \"Pr\\u00e4sident Dr. Norbert Lammert\", \"speaker_party\": null, \"type\": \"chair\"}, {\"sitzung\": 1, \"in_writing\": false, \"sequence\": 69, \"text\": \"\", \"wahlperiode\": 17, \"speaker_cleaned\": \"Dr. Heinz Riesenhuber\", \"speaker_fp\": \"heinz-riesenhuber\", \"filename\": \"data/txt/17001.txt\", \"speaker\": \"Alterspr\\u00e4sident Dr. Heinz Riesenhuber\", \"speaker_party\": null, \"type\": \"chair\"}, {\"sitzung\": 1, \"in_writing\": false, \"sequence\": 68, \"text\": \"Beifall im ganzen Hause\", \"wahlperiode\": 17, \"speaker_cleaned\": null, \"speaker_fp\": null, \"filename\": \"data/txt/17001.txt\", \"speaker\": null, \"speaker_party\": null, \"type\": \"poi\"}, {\"sitzung\": 1, \"in_writing\": false, \"sequence\": 67, \"text\": \"Herr Pr\\u00e4sident, ich darf Ihnen im Namen des ganzen Hohen Hauses sehr herzlich gratulieren.\\n\\nTagesordnungspunkt 3:\\n\\nAmts\\u00fcbernahme durch den Pr\\u00e4sidenten\\n\\nIch darf Sie bitten, den Platz des Pr\\u00e4sidenten und das Amt zu \\u00fcbernehmen und uns mit der gleichen Weisheit und Freundlichkeit wie in der vergangenen Periode zu f\\u00fchren.\", \"wahlperiode\": 17, \"speaker_cleaned\": \"Dr. Heinz Riesenhuber\", \"speaker_fp\": \"heinz-riesenhuber\", \"filename\": \"data/txt/17001.txt\", \"speaker\": \"Alterspr\\u00e4sident Dr. Heinz Riesenhuber\", \"speaker_party\": null, \"type\": \"chair\"}, {\"sitzung\": 1, \"in_writing\": false, \"sequence\": 66, \"text\": \"Abgeordnete aller Fraktionen gratulieren dem Pr\\u00e4sidenten\", \"wahlperiode\": 17, \"speaker_cleaned\": null, \"speaker_fp\": null, \"filename\": \"data/txt/17001.txt\", \"speaker\": null, \"speaker_party\": null, \"type\": \"poi\"}, {\"sitzung\": 1, \"in_writing\": false, \"sequence\": 65, \"text\": \"Beifall im ganzen Hause\", \"wahlperiode\": 17, \"speaker_cleaned\": null, \"speaker_fp\": null, \"filename\": \"data/txt/17001.txt\", \"speaker\": null, \"speaker_party\": null, \"type\": \"poi\"}, {\"sitzung\": 1, \"in_writing\": false, \"sequence\": 64, \"text\": \"Herzliche Gl\\u00fcckw\\u00fcnsche!\", \"wahlperiode\": 17, \"speaker_cleaned\": \"Dr. Heinz Riesenhuber\", \"speaker_fp\": \"heinz-riesenhuber\", \"filename\": \"data/txt/17001.txt\", \"speaker\": \"Alterspr\\u00e4sident Dr. Heinz Riesenhuber\", \"speaker_party\": null, \"type\": \"chair\"}, {\"sitzung\": 1, \"in_writing\": false, \"sequence\": 63, \"text\": \"Herr Pr\\u00e4sident, ich nehme die Wahl gerne an.\", \"wahlperiode\": 17, \"speaker_cleaned\": \"Dr. Norbert Lammert\", \"speaker_fp\": \"norbert-lammert\", \"filename\": \"data/txt/17001.txt\", \"speaker\": \"Dr. Norbert Lammert (CDU/CSU)\", \"speaker_party\": \"cducsu\", \"type\": \"speech\"}, {\"sitzung\": 1, \"in_writing\": false, \"sequence\": 62, \"text\": \"mit Nein haben gestimmt 66, Enthaltungen gab es 29. Dr. Norbert Lammert hat die erforderliche Mehrheit erhalten und ist zum Pr\\u00e4sidenten des 17. Deutschen Bundestags gew\\u00e4hlt worden.\\n\\nIch darf Sie fragen, Herr Dr. Lammert: Nehmen Sie die Wahl an?\", \"wahlperiode\": 17, \"speaker_cleaned\": \"Dr. Heinz Riesenhuber\", \"speaker_fp\": \"heinz-riesenhuber\", \"filename\": \"data/txt/17001.txt\", \"speaker\": \"Alterspr\\u00e4sident Dr. Heinz Riesenhuber\", \"speaker_party\": null, \"type\": \"chair\"}, {\"sitzung\": 1, \"in_writing\": false, \"sequence\": 61, \"text\": \"Beifall im ganzen Hause\", \"wahlperiode\": 17, \"speaker_cleaned\": null, \"speaker_fp\": null, \"filename\": \"data/txt/17001.txt\", \"speaker\": null, \"speaker_party\": null, \"type\": \"poi\"}, {\"sitzung\": 1, \"in_writing\": false, \"sequence\": 60, \"text\": \"Wir haben damit 617 g\\u00fcltige Stimmen. Mit Ja haben gestimmt 522,\", \"wahlperiode\": 17, \"speaker_cleaned\": \"Dr. Heinz Riesenhuber\", \"speaker_fp\": \"heinz-riesenhuber\", \"filename\": \"data/txt/17001.txt\", \"speaker\": \"Alterspr\\u00e4sident Dr. Heinz Riesenhuber\", \"speaker_party\": null, \"type\": \"chair\"}, {\"sitzung\": 1, \"in_writing\": false, \"sequence\": 59, \"text\": \"Heiterkeit\", \"wahlperiode\": 17, \"speaker_cleaned\": null, \"speaker_fp\": null, \"filename\": \"data/txt/17001.txt\", \"speaker\": null, \"speaker_party\": null, \"type\": \"poi\"}, {\"sitzung\": 1, \"in_writing\": false, \"sequence\": 58, \"text\": \"Meine sehr verehrten Damen und Herren, darf ich Sie bitten, wieder Platz zu nehmen? Das Wahlergebnis liegt vor, und ich trage es vor, wenn alle entspannt sitzen. - Die unterbrochene Sitzung ist wieder er\\u00f6ffnet.\\n\\nIch darf Ihnen das Wahlergebnis bekannt geben. Es wurden 617 Stimmen abgegeben; damit ist gleichzeitig die Beschlussf\\u00e4higkeit des 17. Deutschen Bundestages festgestellt. Es gab keine ung\\u00fcltigen Stimmen - eine besonders beeindruckende Leistung.\", \"wahlperiode\": 17, \"speaker_cleaned\": \"Dr. Heinz Riesenhuber\", \"speaker_fp\": \"heinz-riesenhuber\", \"filename\": \"data/txt/17001.txt\", \"speaker\": \"Alterspr\\u00e4sident Dr. Heinz Riesenhuber\", \"speaker_party\": null, \"type\": \"chair\"}, {\"sitzung\": 1, \"in_writing\": false, \"sequence\": 57, \"text\": \"\", \"wahlperiode\": 17, \"speaker_cleaned\": \"Dr. Heinz Riesenhuber\", \"speaker_fp\": \"heinz-riesenhuber\", \"filename\": \"data/txt/17001.txt\", \"speaker\": \"Alterspr\\u00e4sident Dr. Heinz Riesenhuber\", \"speaker_party\": null, \"type\": \"chair\"}, {\"sitzung\": 1, \"in_writing\": false, \"sequence\": 56, \"text\": \"Unterbrechung von 12.04 bis 12.30 Uhr\", \"wahlperiode\": 17, \"speaker_cleaned\": null, \"speaker_fp\": null, \"filename\": \"data/txt/17001.txt\", \"speaker\": null, \"speaker_party\": null, \"type\": \"poi\"}, {\"sitzung\": 1, \"in_writing\": false, \"sequence\": 55, \"text\": \"Meine sehr verehrten Damen und Herren, damit ist der Namensaufruf beendet. Ich sehe aber noch erhebliche Schlangen vor den Wahlurnen, sodass ich noch etwas abwarte, bevor ich unterbreche.\\n\\nErlauben Sie mir folgenden Hinweis: An der linken Urne ist die Schlange sehr kurz, an der rechten Urne ist sie sehr lang. Ich bitte Sie, auch die linke Urne zu benutzen.\\n\\nMeine sehr verehrten Damen und Herren, das Gedr\\u00e4nge an der Urne hat nachgelassen. Darf ich fragen, ob noch irgendjemand seinen Stimmzettel abgeben m\\u00f6chte? Hatte jeder dazu Gelegenheit? - Herr Kollege Westerwelle, ohne Ihre Stimme w\\u00e4ren wir in Schwierigkeiten geraten. - Da ist noch eine Stimme. - Ich frage noch einmal, ob noch eine Stimme abgegeben werden soll? - Das ist nicht der Fall.\\n\\nDann darf ich die Wahl schlie\\u00dfen. Ich bitte die Schriftf\\u00fchrerinnen und Schriftf\\u00fchrer, mit der Ausz\\u00e4hlung zu beginnen. Ich unterbreche die Sitzung zur Ausz\\u00e4hlung f\\u00fcr ungef\\u00e4hr 30 Minuten. Danach wird geklingelt. Dann treffen wir uns hier zur Bekanntgabe des Ergebnisses wieder.\", \"wahlperiode\": 17, \"speaker_cleaned\": \"Dr. Heinz Riesenhuber\", \"speaker_fp\": \"heinz-riesenhuber\", \"filename\": \"data/txt/17001.txt\", \"speaker\": \"Alterspr\\u00e4sident Dr. Heinz Riesenhuber\", \"speaker_party\": null, \"type\": \"chair\"}, {\"sitzung\": 1, \"in_writing\": false, \"sequence\": 54, \"text\": \"Namensaufruf und Wahl\", \"wahlperiode\": 17, \"speaker_cleaned\": null, \"speaker_fp\": null, \"filename\": \"data/txt/17001.txt\", \"speaker\": null, \"speaker_party\": null, \"type\": \"poi\"}, {\"sitzung\": 1, \"in_writing\": false, \"sequence\": 53, \"text\": \"- Ich bitte um Nachsicht. Ich habe Ihnen gleich gesagt, dass ich im Ablesen nicht gut bin. Jeder muss mit seinen Handicaps leben.\\n\\nDie Wahl findet mit verdeckten Stimmkarten, also geheim, statt. Gew\\u00e4hlt ist, wer die Stimmen der Mehrheit der Mitglieder des Bundestages erh\\u00e4lt. Sie ben\\u00f6tigen f\\u00fcr die Wahl des Pr\\u00e4sidenten Ihren gelben Wahlausweis. Diesen und weitere Wahlausweise f\\u00fcr die sp\\u00e4ter durchzuf\\u00fchrenden Wahlen der Vizepr\\u00e4sidenten k\\u00f6nnen Sie, soweit noch nicht geschehen, den Stimmkartenf\\u00e4chern in der Lobby entnehmen. Bitte kontrollieren Sie, ob die Wahlausweise Ihren Namen tragen. Die f\\u00fcr die Wahl des Pr\\u00e4sidenten allein g\\u00fcltige gelbe Stimmkarte und den amtlichen Wahlumschlag erhalten Sie nach Aufruf Ihres Namens von den Schriftf\\u00fchrerinnen und Schriftf\\u00fchrern an den Ausgabetischen links und rechts der Wahlkabinen.\\n\\nUm einen reibungslosen Ablauf der Wahl zu gew\\u00e4hrleisten, bitte ich Sie, von Ihren Pl\\u00e4tzen aus \\u00fcber die seitlichen Zug\\u00e4nge und nicht durch den Mittelgang zu den Ausgabetischen zu gehen - eine wohlerwogene Regieanweisung. Nachdem Sie die Stimmkarte in einer der Wahlkabinen gekennzeichnet und in den Wahlumschlag gelegt haben, gehen Sie bitte zu den Wahlurnen hier vorne am Rednerpult. Sie d\\u00fcrfen Ihre Stimmkarte nur in der Wahlkabine ankreuzen und m\\u00fcssen die Stimmkarte ebenfalls noch in der Wahlkabine in den Umschlag legen. Die Schriftf\\u00fchrerinnen und Schriftf\\u00fchrer sind verpflichtet, jeden, der seine Stimmkarte au\\u00dferhalb der Wahlkabine kennzeichnet oder in den Umschlag legt, zur\\u00fcckzuweisen. Die Stimmabgabe kann in diesem Fall jedoch vorschriftsm\\u00e4\\u00dfig wiederholt werden.\\n\\nG\\u00fcltig sind nur Stimmkarten mit einem Kreuz bei \\u201eja\\u201c, bei \\u201enein\\u201c oder bei \\u201eenthalte mich\\u201c. Ung\\u00fcltig sind Stimmen auf nichtamtlichen Stimmkarten sowie Stimmkarten, die mehr als ein Kreuz, andere Namen oder Zus\\u00e4tze enthalten.\\n\\nBevor Sie die Stimmkarte in eine Wahlurne werfen, \\u00fcbergeben Sie bitte Ihren Wahlausweis einem der Schriftf\\u00fchrer an der Wahlurne. Die Abgabe des Wahlausweises dient als Nachweis f\\u00fcr die Beteiligung an dieser Wahl und ersetzt die Eintragung in die Anwesenheitsliste, soweit Sie sich nicht ohnehin schon eingetragen haben.\\n\\nIch bitte jetzt die eingeteilten Schriftf\\u00fchrerinnen und Schriftf\\u00fchrer, die vorgesehenen Pl\\u00e4tze einzunehmen. - Die beiden Schriftf\\u00fchrer neben mir werden nun Ihre Namen in alphabetischer Reihenfolge aufrufen. Ich bitte Sie nun, den Namensaufruf zu verfolgen und sich nach dem Aufruf Ihres Namens zur Entgegennahme der Stimmkarte zu den Ausgabetischen vor den Wahlkabinen zu begeben.\\n\\nHaben alle Schriftf\\u00fchrerinnen und Schriftf\\u00fchrer ihre Pl\\u00e4tze eingenommen? - Die Schriftf\\u00fchrerinnen und Schriftf\\u00fchrer haben an allen Urnen ihre Pl\\u00e4tze eingenommen. Ich er\\u00f6ffne die Wahl und bitte, mit dem Aufruf der Namen zu beginnen.\", \"wahlperiode\": 17, \"speaker_cleaned\": \"Dr. Heinz Riesenhuber\", \"speaker_fp\": \"heinz-riesenhuber\", \"filename\": \"data/txt/17001.txt\", \"speaker\": \"Alterspr\\u00e4sident Dr. Heinz Riesenhuber\", \"speaker_party\": null, \"type\": \"chair\"}, {\"sitzung\": 1, \"in_writing\": false, \"sequence\": 52, \"text\": \"Heiterkeit und Beifall im ganzen Hause\", \"wahlperiode\": 17, \"speaker_cleaned\": null, \"speaker_fp\": null, \"filename\": \"data/txt/17001.txt\", \"speaker\": null, \"speaker_party\": null, \"type\": \"poi\"}, {\"sitzung\": 1, \"in_writing\": false, \"sequence\": 51, \"text\": \"Vielen Dank, Herr Kauder. - Meine Damen und Herren, Sie haben den Vorschlag geh\\u00f6rt. Darf ich fragen, ob es noch weitere Vorschl\\u00e4ge gibt? - Ich h\\u00f6re und sehe, dass es keine weiteren Vorschl\\u00e4ge gibt.\\n\\nSomit k\\u00f6nnen wir zu den Hinweisen zum Wahlverfahren kommen. Unsere Verwaltung hat mich in ihrer Autorit\\u00e4t verpflichtet, sie vorzulesen, was mir immer schwerf\\u00e4llt. Ich bitte um Ihre Aufmerksamkeit f\\u00fcr einige Hinweise.\\n\\nDie Wahl findet mit versteckten Stimmkarten - -\", \"wahlperiode\": 17, \"speaker_cleaned\": \"Dr. Heinz Riesenhuber\", \"speaker_fp\": \"heinz-riesenhuber\", \"filename\": \"data/txt/17001.txt\", \"speaker\": \"Alterspr\\u00e4sident Dr. Heinz Riesenhuber\", \"speaker_party\": null, \"type\": \"chair\"}, {\"sitzung\": 1, \"in_writing\": false, \"sequence\": 50, \"text\": \"\", \"wahlperiode\": 17, \"speaker_cleaned\": \"Volker Kauder\", \"speaker_fp\": \"volker-kauder\", \"filename\": \"data/txt/17001.txt\", \"speaker\": \"Volker Kauder (CDU/CSU)\", \"speaker_party\": \"cducsu\", \"type\": \"speech\"}, {\"sitzung\": 1, \"in_writing\": false, \"sequence\": 49, \"text\": \"Beifall bei der CDU/CSU und der FDP sowie bei Abgeordneten der SPD und des B\\u00dcNDNISSES 90/DIE GR\\u00dcNEN\", \"wahlperiode\": 17, \"speaker_cleaned\": null, \"speaker_fp\": null, \"filename\": \"data/txt/17001.txt\", \"speaker\": null, \"speaker_party\": null, \"type\": \"poi\"}, {\"sitzung\": 1, \"in_writing\": false, \"sequence\": 48, \"text\": \"Herr Alterspr\\u00e4sident, ich schlage f\\u00fcr die CDU/CSU-Bundestagsfraktion den Kollegen Dr. Norbert Lammert vor.\", \"wahlperiode\": 17, \"speaker_cleaned\": \"Volker Kauder\", \"speaker_fp\": \"volker-kauder\", \"filename\": \"data/txt/17001.txt\", \"speaker\": \"Volker Kauder (CDU/CSU)\", \"speaker_party\": \"cducsu\", \"type\": \"speech\"}, {\"sitzung\": 1, \"in_writing\": false, \"sequence\": 47, \"text\": \"Ich rufe nun Tagesordnungspunkt 2 auf:\\n\\nWahl des Pr\\u00e4sidenten\\n\\nverbunden mit Namensaufruf\\n\\nund Feststellung der Beschlussf\\u00e4higkeit\\n\\nIch bitte um Vorschl\\u00e4ge zur Wahl des Pr\\u00e4sidenten des Bundestages. - Herr Abgeordneter Kauder.\", \"wahlperiode\": 17, \"speaker_cleaned\": \"Dr. Heinz Riesenhuber\", \"speaker_fp\": \"heinz-riesenhuber\", \"filename\": \"data/txt/17001.txt\", \"speaker\": \"Alterspr\\u00e4sident Dr. Heinz Riesenhuber\", \"speaker_party\": null, \"type\": \"chair\"}, {\"sitzung\": 1, \"in_writing\": false, \"sequence\": 46, \"text\": \"Beifall im ganzen Hause\", \"wahlperiode\": 17, \"speaker_cleaned\": null, \"speaker_fp\": null, \"filename\": \"data/txt/17001.txt\", \"speaker\": null, \"speaker_party\": null, \"type\": \"poi\"}, {\"sitzung\": 1, \"in_writing\": false, \"sequence\": 45, \"text\": \"- Jawohl. Hier weist jemand, des Lateinischen kundig, darauf hin, dass \\u201ecaritas\\u201c und \\u201eamor\\u201c zwei verschiedene Welten sind. Heute fr\\u00fch hat uns Pr\\u00e4lat J\\u00fcsten in einfachen Worten mitgeteilt, was dies f\\u00fcr die Verantwortung eines Politikers vor der Welt bedeutet. Hierzu will ich also nicht sprechen.\\n\\nMit Kraft und Besonnenheit so an die Wirklichkeit heranzugehen, dass Kraft und Zuversicht auch bei anderen wachsen, das ist unsere Aufgabe. Wir k\\u00f6nnen nur einen Teil dessen, was in Deutschland entschieden werden muss, gestalten. Den anderen M\\u00f6glichkeiten zu geben f\\u00fcr Freiheit, f\\u00fcr Mut und Unternehmungsgeist, dass sie mit Gestaltungskraft in die Zukunft schreiten, dass sie ihre Verantwortung f\\u00fcr eine verletzliche Welt verstehen, dass sie nicht alles vom Staat erwarten, sondern sehr viel auch von sich selbst, das ist die Aufgabe, mit der wir in diese Periode hineingehen.\\n\\nDaran werden wir arbeiten. Ob es gelingt, wei\\u00df man nie; aber die Zuversicht bleibt, dass wir, wenn wir alle - jeder an seinem Platz - ehrlich und offen miteinander im Streit und dann in der Entscheidung an die Arbeit gehen, die Zukunft f\\u00fcr unser Land ausbauen werden, so wie wir es als Auftrag vom deutschen Volk bekommen haben.\\n\\nIch bedanke mich bei Ihnen.\", \"wahlperiode\": 17, \"speaker_cleaned\": \"Dr. Heinz Riesenhuber\", \"speaker_fp\": \"heinz-riesenhuber\", \"filename\": \"data/txt/17001.txt\", \"speaker\": \"Alterspr\\u00e4sident Dr. Heinz Riesenhuber\", \"speaker_party\": null, \"type\": \"chair\"}, {\"sitzung\": 1, \"in_writing\": false, \"sequence\": 44, \"text\": \"Nein, \\u201ecaritas\\u201c!\", \"wahlperiode\": 17, \"speaker_cleaned\": \"Renate K\\u00fcnast\", \"speaker_fp\": \"renate-kunast\", \"filename\": \"data/txt/17001.txt\", \"speaker\": \"Renate K\\u00fcnast [B\\u00dcNDNIS 90/DIE GR\\u00dcNEN]\", \"speaker_party\": \"gruene\", \"type\": \"poi\"}, {\"sitzung\": 1, \"in_writing\": false, \"sequence\": 43, \"text\": \"Da ist die Landschaft relativ kahl. Es ist wichtig, hier die Kultur aufzubauen, dass das Gespr\\u00e4ch so wird, dass Menschen aus unterschiedlichen Lebensbereichen zusammenwirken.\\n\\nDie Kulturen bei uns funktionieren in sich ziemlich gut. Die \\u00dcberg\\u00e4nge sind eher m\\u00e4\\u00dfig, sie sind zu gering. Das scheint \\u00fcbrigens ein altes deutsches Problem zu sein. Goethe, ein ber\\u00fchmter Dichter aus meiner Heimat, hat in den Xenien geschrieben:\\n\\nDeutschland? aber wo liegt es? Ich wei\\u00df dieses Land nicht zu finden. Wo das gelehrte beginnt, h\\u00f6rt das politische auf.\\n\\nWenn wir so begrenzen, sind wir in Schwierigkeiten. In einer komplexen Welt richtig zu entscheiden, gelingt nur dann, wenn sich diese Komplexit\\u00e4t in unserem Gespr\\u00e4ch widerspiegelt.\\n\\nSo gehen wir in diese Periode in einer durchaus schwierigen Zeit mit der Bereitschaft, zu entscheiden, und mit Zuversicht. Gott hat uns nicht den Geist der Verzagtheit gegeben, schreibt Paulus an Timotheus, sondern den Geist der Kraft, der Liebe und der Besonnenheit. \\u00dcber die Liebe will ich jetzt nichts sagen; das ist ein sehr privater Raum.\", \"wahlperiode\": 17, \"speaker_cleaned\": \"Dr. Heinz Riesenhuber\", \"speaker_fp\": \"heinz-riesenhuber\", \"filename\": \"data/txt/17001.txt\", \"speaker\": \"Alterspr\\u00e4sident Dr. Heinz Riesenhuber\", \"speaker_party\": null, \"type\": \"chair\"}, {\"sitzung\": 1, \"in_writing\": false, \"sequence\": 42, \"text\": \"Heiterkeit\", \"wahlperiode\": 17, \"speaker_cleaned\": null, \"speaker_fp\": null, \"filename\": \"data/txt/17001.txt\", \"speaker\": null, \"speaker_party\": null, \"type\": \"poi\"}, {\"sitzung\": 1, \"in_writing\": false, \"sequence\": 41, \"text\": \"Indem wir klug auf die Ursachen der Probleme reagiert haben, haben wir L\\u00f6sungen gefunden, und diese L\\u00f6sungen haben unserer Welt geholfen. Sie haben auch unseren Unternehmen geholfen, die die Wirklichkeit mit neuen Techniken gestaltet haben.\\n\\nMeine sehr verehrten Damen und Herren, das sind nur einige der langfristigen Herausforderungen. Wir bew\\u00e4ltigen sie nur, wenn wir in den unterschiedlichen Verantwortungsbereichen hier im Deutschen Bundestag gemeinsam daran arbeiten. Wir bew\\u00e4ltigen sie nur, wenn wir auch diejenigen, die in Wirtschaft und Wissenschaft in Verantwortlichkeit stehen, im gleichen Geiste daf\\u00fcr gewinnen.\\n\\nEine St\\u00e4rke des Deutschen Bundestages ist seine gro\\u00dfe Vielfalt. Ihm geh\\u00f6ren Menschen aus unterschiedlichen Altersstufen an. Die Altersspanne betr\\u00e4gt mehr als ein halbes Jahrhundert; auch ich trage meinen bescheidenen Teil dazu bei. Hier sind M\\u00e4nner und Frauen aus ganz unterschiedlichen Berufen und mit ganz unterschiedlichen Lebenserfahrungen vertreten. Jeder von ihnen hat eine Stimme, jeder hat sein Wort - das Wort ist das Einzige, was der Parlamentarier hat -, und so entsteht aus den Beitr\\u00e4gen der Einzelnen eine Arbeit am Ganzen.\\n\\nAllerdings gibt es einige Gruppen, von denen man sich w\\u00fcnschen w\\u00fcrde, dass sie hier in noch gr\\u00f6\\u00dferer Zahl vertreten sind. Die Zahl der Betriebsr\\u00e4te hier im Bundestag ist nicht mehr so gewaltig. Die Zahl der Selbstst\\u00e4ndigen, der Unternehmer, der Manager, die Zahl der Naturwissenschaftler ist ziemlich m\\u00e4\\u00dfig. Aber wenn hier einmal ein Naturwissenschaftler ist, kann es durchaus sein, dass er oder sie zu den h\\u00f6chsten Staats\\u00e4mtern aufsteigt. Das ist durchaus erfreulich.\\n\\nEntscheidend wird sein, dass wir, jeder Einzelne von uns, das Gespr\\u00e4ch suchen, das Gespr\\u00e4ch aufbauen, im Formellen - in Enquete-Kommissionen, in Anh\\u00f6rungen -, aber auch in Einzelgespr\\u00e4chen mit den vielen Gruppen. Das gilt aber auch f\\u00fcr die andere Seite. Unternehmer frage ich immer: Kennen Sie eigentlich Ihre Abgeordneten, und zwar nicht nur die, die Ihnen pers\\u00f6nlich nahestehen? Wann haben Sie Ihren Abgeordneten zum letzten Mal geknuddelt?\", \"wahlperiode\": 17, \"speaker_cleaned\": \"Dr. Heinz Riesenhuber\", \"speaker_fp\": \"heinz-riesenhuber\", \"filename\": \"data/txt/17001.txt\", \"speaker\": \"Alterspr\\u00e4sident Dr. Heinz Riesenhuber\", \"speaker_party\": null, \"type\": \"chair\"}, {\"sitzung\": 1, \"in_writing\": false, \"sequence\": 40, \"text\": \"Heiterkeit\", \"wahlperiode\": 17, \"speaker_cleaned\": null, \"speaker_fp\": null, \"filename\": \"data/txt/17001.txt\", \"speaker\": null, \"speaker_party\": null, \"type\": \"poi\"}, {\"sitzung\": 1, \"in_writing\": false, \"sequence\": 39, \"text\": \"Wie sie schmecken, ist noch Gegenstand von Diskussionen. Vom Standpunkt der Fische aus betrachtet ist das aber durchaus sekund\\u00e4r.\", \"wahlperiode\": 17, \"speaker_cleaned\": \"Dr. Heinz Riesenhuber\", \"speaker_fp\": \"heinz-riesenhuber\", \"filename\": \"data/txt/17001.txt\", \"speaker\": \"Alterspr\\u00e4sident Dr. Heinz Riesenhuber\", \"speaker_party\": null, \"type\": \"chair\"}, {\"sitzung\": 1, \"in_writing\": false, \"sequence\": 38, \"text\": \"Heiterkeit und Beifall bei der CDU/CSU und der FDP\", \"wahlperiode\": 17, \"speaker_cleaned\": null, \"speaker_fp\": null, \"filename\": \"data/txt/17001.txt\", \"speaker\": null, \"speaker_party\": null, \"type\": \"poi\"}, {\"sitzung\": 1, \"in_writing\": false, \"sequence\": 37, \"text\": \"Die Mitglieder meines Anglervereins haben mir gesagt, dass es im Main heute 40 unterschiedliche Fischsorten gibt und dass die Fische sich vermehren. Das ist ein Zeichen daf\\u00fcr, dass sie gl\\u00fccklich sind.\", \"wahlperiode\": 17, \"speaker_cleaned\": \"Dr. Heinz Riesenhuber\", \"speaker_fp\": \"heinz-riesenhuber\", \"filename\": \"data/txt/17001.txt\", \"speaker\": \"Alterspr\\u00e4sident Dr. Heinz Riesenhuber\", \"speaker_party\": null, \"type\": \"chair\"}, {\"sitzung\": 1, \"in_writing\": false, \"sequence\": 36, \"text\": \"Haben Sie dar\\u00fcber damals auch einmal mit Herrn T\\u00f6pfer gesprochen?\", \"wahlperiode\": 17, \"speaker_cleaned\": \"J\\u00fcrgen Trittin\", \"speaker_fp\": \"jurgen-trittin\", \"filename\": \"data/txt/17001.txt\", \"speaker\": \"J\\u00fcrgen Trittin [B\\u00dcNDNIS 90/DIE GR\\u00dcNEN]\", \"speaker_party\": \"gruene\", \"type\": \"poi\"}, {\"sitzung\": 1, \"in_writing\": false, \"sequence\": 35, \"text\": \"Woran lag das blo\\u00df?\", \"wahlperiode\": 17, \"speaker_cleaned\": \"Renate K\\u00fcnast\", \"speaker_fp\": \"renate-kunast\", \"filename\": \"data/txt/17001.txt\", \"speaker\": \"Renate K\\u00fcnast [B\\u00dcNDNIS 90/DIE GR\\u00dcNEN]\", \"speaker_party\": \"gruene\", \"type\": \"poi\"}, {\"sitzung\": 1, \"in_writing\": false, \"sequence\": 34, \"text\": \"Damals war die Rede davon, dass die Fl\\u00fcsse umkippen und unsere Seen bald tot sein werden. Ich erinnere mich: Als ich vor 30 Jahren an einem sch\\u00f6nen Sommertag am Main spazieren ging, war der Fluss ziemlich braun, das Wasser stank, und die Fische trieben mit wei\\u00dfen B\\u00e4uchen zu Tal.\", \"wahlperiode\": 17, \"speaker_cleaned\": \"Dr. Heinz Riesenhuber\", \"speaker_fp\": \"heinz-riesenhuber\", \"filename\": \"data/txt/17001.txt\", \"speaker\": \"Alterspr\\u00e4sident Dr. Heinz Riesenhuber\", \"speaker_party\": null, \"type\": \"chair\"}, {\"sitzung\": 1, \"in_writing\": false, \"sequence\": 33, \"text\": \"Beifall bei der CDU/CSU und der FDP\", \"wahlperiode\": 17, \"speaker_cleaned\": null, \"speaker_fp\": null, \"filename\": \"data/txt/17001.txt\", \"speaker\": null, \"speaker_party\": null, \"type\": \"poi\"}, {\"sitzung\": 1, \"in_writing\": false, \"sequence\": 32, \"text\": \"dann kann man durchaus sagen: Gemessen an den Themen, \\u00fcber die vor 30 Jahren diskutiert wurde, haben wir eine neue und erfreuliche Welt geschaffen.\", \"wahlperiode\": 17, \"speaker_cleaned\": \"Dr. Heinz Riesenhuber\", \"speaker_fp\": \"heinz-riesenhuber\", \"filename\": \"data/txt/17001.txt\", \"speaker\": \"Alterspr\\u00e4sident Dr. Heinz Riesenhuber\", \"speaker_party\": null, \"type\": \"chair\"}, {\"sitzung\": 1, \"in_writing\": false, \"sequence\": 31, \"text\": \"In welchen W\\u00e4ldern gehen Sie denn spazieren? Das ist l\\u00e4ngst nicht \\u00fcberall so toll!\", \"wahlperiode\": 17, \"speaker_cleaned\": \"J\\u00fcrgen Trittin\", \"speaker_fp\": \"jurgen-trittin\", \"filename\": \"data/txt/17001.txt\", \"speaker\": \"J\\u00fcrgen Trittin [B\\u00dcNDNIS 90/DIE GR\\u00dcNEN]\", \"speaker_party\": \"gruene\", \"type\": \"poi\"}, {\"sitzung\": 1, \"in_writing\": false, \"sequence\": 30, \"text\": \"Na ja! Na ja!\", \"wahlperiode\": 17, \"speaker_cleaned\": \"Renate K\\u00fcnast\", \"speaker_fp\": \"renate-kunast\", \"filename\": \"data/txt/17001.txt\", \"speaker\": \"Renate K\\u00fcnast [B\\u00dcNDNIS 90/DIE GR\\u00dcNEN]\", \"speaker_party\": \"gruene\", \"type\": \"poi\"}, {\"sitzung\": 1, \"in_writing\": false, \"sequence\": 29, \"text\": \"- Ja, das ist sehr sch\\u00f6n. Sch\\u00f6n, dass Sie sich zu Wort melden, Frau K\\u00fcnast. - Wenn man fr\\u00f6hlich durch die W\\u00e4lder geht und sieht, dass sie gr\\u00fcn sind und die B\\u00e4ume gedeihen,\", \"wahlperiode\": 17, \"speaker_cleaned\": \"Dr. Heinz Riesenhuber\", \"speaker_fp\": \"heinz-riesenhuber\", \"filename\": \"data/txt/17001.txt\", \"speaker\": \"Alterspr\\u00e4sident Dr. Heinz Riesenhuber\", \"speaker_party\": null, \"type\": \"chair\"}, {\"sitzung\": 1, \"in_writing\": false, \"sequence\": 28, \"text\": \"Wir!\", \"wahlperiode\": 17, \"speaker_cleaned\": \"Renate K\\u00fcnast\", \"speaker_fp\": \"renate-kunast\", \"filename\": \"data/txt/17001.txt\", \"speaker\": \"Renate K\\u00fcnast [B\\u00dcNDNIS 90/DIE GR\\u00dcNEN]\", \"speaker_party\": \"gruene\", \"type\": \"poi\"}, {\"sitzung\": 1, \"in_writing\": false, \"sequence\": 27, \"text\": \"ist, dass wir in dieser Gesellschaft, die altert, die Kreativit\\u00e4t bewahren und das dritte Lebensalter nicht als ein Zu-Ende-Leben des Lebens verstehen, sondern als neuen Raum der Gestaltung mit einer Freiheit, die man \\u00fcber das ganze fr\\u00fchere Leben nicht hatte. Man kann w\\u00e4hlen; das gilt sowohl f\\u00fcr die Freizeit, das Ehrenamt und, wenn man es will und kann, die Arbeit. Dies so zu organisieren, dass die Menschen diese Chance ergreifen, dass sie mitgestalten und aktiv dabei sind, ist eine unserer gro\\u00dfen Aufgaben.\\n\\nEs ist eine Frage der Integration der Menschen, die in unserem Land leben und die ihren alten Kulturen verbunden sind. Wir respektieren diese Kulturen. Aber wir wollen, dass sie als B\\u00fcrger dieses Landes die Chance haben, umfassend mitzugestalten, ihren Beruf und ihr Leben zu entwickeln, Verantwortung zu \\u00fcbernehmen und sich als Teil unserer Gemeinschaft zu f\\u00fchlen. Auch hier ist uns vieles gelungen; als Beispiele nenne ich die Offenheit der Vereine und das Miteinander mit den Kollegen am Arbeitsplatz. Es darf aber nicht geschehen, dass sich in einzelnen Bereichen unserer Gesellschaft Kulturen entwickeln, die keinen Kontakt zu unserer Wirklichkeit haben.\\n\\nWir d\\u00fcrfen unsere Verantwortung f\\u00fcr die Sch\\u00f6nheit und den Reichtum der Natur nicht vergessen. In diesem Bereich haben wir trotz schwieriger Bedingungen Erfolge gehabt; das macht Mut. Wer redet heute noch vom Waldsterben?\", \"wahlperiode\": 17, \"speaker_cleaned\": \"Dr. Heinz Riesenhuber\", \"speaker_fp\": \"heinz-riesenhuber\", \"filename\": \"data/txt/17001.txt\", \"speaker\": \"Alterspr\\u00e4sident Dr. Heinz Riesenhuber\", \"speaker_party\": null, \"type\": \"chair\"}, {\"sitzung\": 1, \"in_writing\": false, \"sequence\": 26, \"text\": \"Heiterkeit\", \"wahlperiode\": 17, \"speaker_cleaned\": null, \"speaker_fp\": null, \"filename\": \"data/txt/17001.txt\", \"speaker\": null, \"speaker_party\": null, \"type\": \"poi\"}, {\"sitzung\": 1, \"in_writing\": false, \"sequence\": 25, \"text\": \"Das wollen Sie jetzt angehen?\", \"wahlperiode\": 17, \"speaker_cleaned\": \"Renate K\\u00fcnast\", \"speaker_fp\": \"renate-kunast\", \"filename\": \"data/txt/17001.txt\", \"speaker\": \"Renate K\\u00fcnast [B\\u00dcNDNIS 90/DIE GR\\u00dcNEN]\", \"speaker_party\": \"gruene\", \"type\": \"poi\"}, {\"sitzung\": 1, \"in_writing\": false, \"sequence\": 24, \"text\": \"Was hier und jetzt anzugehen ist,\", \"wahlperiode\": 17, \"speaker_cleaned\": \"Dr. Heinz Riesenhuber\", \"speaker_fp\": \"heinz-riesenhuber\", \"filename\": \"data/txt/17001.txt\", \"speaker\": \"Alterspr\\u00e4sident Dr. Heinz Riesenhuber\", \"speaker_party\": null, \"type\": \"chair\"}, {\"sitzung\": 1, \"in_writing\": false, \"sequence\": 23, \"text\": \"Heiterkeit\", \"wahlperiode\": 17, \"speaker_cleaned\": null, \"speaker_fp\": null, \"filename\": \"data/txt/17001.txt\", \"speaker\": null, \"speaker_party\": null, \"type\": \"poi\"}, {\"sitzung\": 1, \"in_writing\": false, \"sequence\": 22, \"text\": \"Aber sie w\\u00e4chst nach; es bleibt Hoffnung. Insofern haben wir hier die Chance eines Wachstums des guten Gewissens, das die Wirklichkeit \\u00e4ndert und Zukunft f\\u00fcr alle schafft.\\n\\nDass diese Welt gelingt, h\\u00e4ngt davon ab, ob wir die Menschen haben, die sie gestalten, die Freude daran haben und die ihre Chance darin sehen. Wir werden uns \\u00fcber vieles streiten, und wir haben uns \\u00fcber vieles gestritten - manchmal mit intensiver Herzlichkeit. Aber wir sind uns doch wohl weitestgehend darin einig, dass Bildung und Forschung in diesen Jahren hohe Priorit\\u00e4t haben. Daf\\u00fcr braucht es nicht allein Geld - das auch -, sondern auch Konzepte und unsere Bereitschaft, denen, die hier gestalten, die Freude daran nicht zu nehmen. Wir haben in diesen Jahren in einer Welt im Wandel die Schulen umzubauen und aufzubauen. Wir haben gute Schulen, und seit PISA sind sie noch besser geworden; aber wir wissen, dass wir noch mehr erreichen k\\u00f6nnen.\\n\\nIn der F\\u00f6deralismusreform haben wir den L\\u00e4ndern die Zust\\u00e4ndigkeiten f\\u00fcr die Bildung weitgehend zugeschrieben. Sie wetteifern um das beste Schulsystem und um die besten Chancen. Den Universit\\u00e4ten haben wir durch einen Wettbewerb um Exzellenz, der \\u00fcber zehn Jahre angelegt worden ist, den Ehrgeiz vermittelt, die Besten zu sein und von jedem anderen zu lernen. Der Forschung haben wir langfristig steigende Mittel zugesagt.\\n\\nWas wir hier machen, ist eine Investition daf\\u00fcr, dass wir st\\u00e4rker sind, wenn wir aus der Krise herauskommen. Wir brauchen diese St\\u00e4rke. Es gibt Aufgaben \\u00fcber das Tagesgesch\\u00e4ft hinaus, die langfristig sind und in unterschiedlichen Bereichen angegangen werden m\\u00fcssen. Die Menschen werden \\u00e4lter. Das ist ein Erfolg der Medizin. Das ist ein Erfolg der Arbeitsbedingungen, die besser geworden sind. Das ist ein Erfolg der Sozialsysteme. Das ist also eine erfreuliche Sache und kein Problem. Das Problem liegt darin, dass wir nicht rechtzeitig so viele Kinder gezeugt haben, wie wir es h\\u00e4tten tun sollen.\", \"wahlperiode\": 17, \"speaker_cleaned\": \"Dr. Heinz Riesenhuber\", \"speaker_fp\": \"heinz-riesenhuber\", \"filename\": \"data/txt/17001.txt\", \"speaker\": \"Alterspr\\u00e4sident Dr. Heinz Riesenhuber\", \"speaker_party\": null, \"type\": \"chair\"}, {\"sitzung\": 1, \"in_writing\": false, \"sequence\": 21, \"text\": \"Heiterkeit bei Abgeordneten der CDU/CSU und der FDP\", \"wahlperiode\": 17, \"speaker_cleaned\": null, \"speaker_fp\": null, \"filename\": \"data/txt/17001.txt\", \"speaker\": null, \"speaker_party\": null, \"type\": \"poi\"}, {\"sitzung\": 1, \"in_writing\": false, \"sequence\": 20, \"text\": \"Ich begr\\u00fc\\u00dfe die neuen Kollegen, die zu uns gekommen sind, und diejenigen, die viele Jahre mit uns gemeinsam gearbeitet haben. Ich begr\\u00fc\\u00dfe Sie alle sehr herzlich im 60. Jahr der Bundesrepublik Deutschland, im 20. Jahr seit dem Fall der Mauer, im 10. Jahr, seit wir hier in Berlin, in unserer Hauptstadt, arbeiten. Ich begr\\u00fc\\u00dfe Sie alle.\\n\\nWir haben gemeinsam den Auftrag, den Nutzen des deutschen Volks zu mehren, Schaden von ihm zu wenden und nach unserem Gewissen zu entscheiden. Wir werden uns in Debatten streiten. Wir werden in den Aussch\\u00fcssen arbeiten. Aber eines war uns immer gemeinsam: die Achtung vor jedem Kollegen und seiner Meinung, die Bereitschaft zum sachlichen Argument, die F\\u00e4higkeit, Kompromisse zu pr\\u00fcfen, die Entschlossenheit, zu entscheiden und dann voranzuschreiten. So wollen wir es auch in einer schwierigen Zeit halten.\\n\\nIn schwierigen Zeiten - sagt Sir Karl Popper - ist Optimismus Pflicht. Ermutigend ist, dass den Deutschen die Zuversicht nicht abhandengekommen ist. Wir haben in diesem Jahr in kurzer Zeit sehr harte Entscheidungen sehr schnell treffen m\\u00fcssen. Im Zusammenspiel zwischen Bundestag, Bundesrat und Bundesregierung haben wir Entscheidungen getroffen, die auch nach weiteren Monaten der Krise Bestand haben.\\n\\nJetzt werden wir hier neue Rahmenbedingungen setzen m\\u00fcssen, Rahmenbedingungen, die dazu beitragen, dass uns eine solche Krise nicht mehr passiert. Wir m\\u00fcssen sie setzen, bevor die Bereitschaft und die Entschlossenheit dazu allzu sehr abschlaffen. Da gibt es Ma\\u00dfnahmen, die vorgeschlagen und diskutiert worden sind. Dabei geht es um die Aufsicht der Banken, die Eigenkapitalunterlegung bei deren Gesch\\u00e4ften, die Mittelfristigkeit und die Langfristigkeit der Managergeh\\u00e4lter, die Frage einer europ\\u00e4ischen Ratingagentur. Zu diesen und vielen anderen Fragen hat die Bundesregierung gesprochen, dazu haben die G 20 diskutiert. Sie haben erste Entscheidungen getroffen. Dies ist der Beginn einer Diskussion, die \\u00fcber die einzelnen Punkte hinausreicht; denn wir m\\u00fcssen uns weltweit einigen. Die M\\u00e4rkte wirken weltweit, und deshalb muss auch der Rahmen f\\u00fcr die M\\u00e4rkte weltweit sein.\\n\\nDies ist nicht selbstverst\\u00e4ndlich. Amerika und England denken anders \\u00fcber Finanzm\\u00e4rkte als wir. Deutschland denkt anders, Frankreich denkt anders. Aus diesen verschiedenen Vorstellungen von Wirtschaft und Finanzen einen weltweit g\\u00fcltigen Rahmen zu bauen, das bedarf einer sehr grunds\\u00e4tzlichen Diskussion; denn das, was hier entstehen kann, ist eine Marktordnung in der Welt, die, wenn es gelingt, dauerhaft ist. Ob es gelingt, wei\\u00df man erst sp\\u00e4ter. In Anlehnung an Vergil ist zu sagen: \\u201eNovus ab integro saeculorum nascitur ordo\\u201c - eine neue Ordnung entsteht aus den Tiefen der Zeit. Das kann man erst sagen, wenn es vorbei ist. Erst dann wei\\u00df man, ob es gelungen ist.\\n\\nIn diese Diskussion werden wir einzubringen haben, was wir in der sozialen Marktwirtschaft und mit der sozialen Marktwirtschaft gelernt haben: die Partnerschaft der Tarifpartner, den Rahmen, in dem der T\\u00fcchtige t\\u00fcchtig sein kann, weil er Freiraum hat, in dem er das Geld erarbeitet, mit dem wir denen helfen k\\u00f6nnen, die Hilfe brauchen. Das ist die Idee der sozialen Marktwirtschaft. In dieser Verantwortung f\\u00fcr das Ganze, f\\u00fcr die Gemeinschaft zu arbeiten, das wird die Aufgabe der kommenden Jahre sein. Wir werden hier f\\u00fcr das, was unsere Gesellschaft und unsere Gemeinschaft bestimmt hat, zu arbeiten haben.\\n\\nDabei wird es wichtig sein, dass wir ein hohes Ma\\u00df an Freiheit bewahren k\\u00f6nnen. Der Rahmen muss fest sein, aber der Freiraum muss reichen. Damit dies gelingt, w\\u00e4re es nat\\u00fcrlich eine gute Sache, wenn auch die anderen, die Banken und die Unternehmen, von sich aus Entscheidungen treffen w\\u00fcrden, die f\\u00fcr dauerhafte Stabilit\\u00e4t sorgen. Die Ethik reicht immer weiter als das Gesetz.\\n\\nIch finde es sehr ermutigend, dass wir in diesen Tagen lesen k\\u00f6nnen, dass ein gro\\u00dfes Automobilunternehmen die Vorstandsgeh\\u00e4lter begrenzt hat: nach dem Ma\\u00df der Entwicklung der Einkommen der Mitarbeiter. In dem Ma\\u00dfe, in dem die Unternehmen Verantwortung \\u00fcbernehmen, w\\u00e4chst die Freiheit f\\u00fcr das Ganze. Diese Freiheit brauchen wir; denn in dieser Zeit, in der wir gro\\u00dfe Aufgaben haben, k\\u00f6nnen wir die Zukunft nur mit Innovation schaffen. Innovation gedeiht und Kreativit\\u00e4t entwickelt sich nur im Raum der Freiheit. Deshalb sind auf der einen Seite die Planwirtschaften weitgehend untergegangen, und deshalb bauen wir auf der anderen Seite B\\u00fcrokratien ab. Das entspringt nicht nur dem Willen, Kosten zu sparen, sondern auch dem Willen, dass die Leute, die die Arbeit tun, sich auf ihre Arbeit konzentrieren k\\u00f6nnen und sich nicht auf die Vorschriften konzentrieren m\\u00fcssen. Je selbstverst\\u00e4ndlicher diese Ethik wird, umso leichter wird das werden.\\n\\nDie Innovation kann unsere Zukunft sichern, allerdings nur im Wettbewerb, in einer offenen Welt. Wir wollten diese offene Welt. Wir stehen im Wettstreit mit technisch starken Nationen, mit Nationen, die sehr viel geringere L\\u00f6hne zahlen. Wir k\\u00f6nnen in diesem Wettstreit nur \\u00fcberleben, wenn wir besser und schneller als andere neue Probleml\\u00f6sungen entwickeln, wenn wir schon vor dem Kunden wissen, was der Kunde eigentlich will. Das ist zwar nicht Sache des Bundestages, aber der Bundestag muss mit die Voraussetzungen daf\\u00fcr schaffen, dass die Unternehmer, die Forscher und die Manager Zukunft gestalten k\\u00f6nnen.\\n\\nWir sind in einer Lage, wo das Neue uns mit gro\\u00dfer Kraft zuw\\u00e4chst. Das Wissen der Menschheit verdoppelt sich alle f\\u00fcnf Jahre - dies kann noch schneller werden -, und es wird weltweit geteilt. Die weltweite Gemeinschaft, die Wissensgesellschaft bietet jedem offenen Zugriff auf alles, wenn er alles, was er hat, mit einbringt. Es ist eine Gesellschaft, die aus Wissen lebt, die mit Wissen w\\u00e4chst, die mit Wissen verantwortlich umzugehen versteht, in der Wissen \\u00fcberall und jederzeit f\\u00fcr jeden zug\\u00e4nglich ist.\\n\\nEs ist die Welt der Quanten, die wir langsam verstehen lernen - von der Vision des Quantencomputers bis zur Nanotechnologie, wo im Allerkleinsten die Materie andere Eigenschaften hat. Es ist die Welt der Gene, die neue M\\u00f6glichkeiten schafft. Nur ein Viertel der Krankheiten, die wir kennen, k\\u00f6nnen wir an der Wurzel fassen. Gentechnologie er\\u00f6ffnet die Chance, dass wir Krankheiten heilen, dass wir menschliches Leid lindern, dass wir gleichzeitig aus Wissen neue M\\u00e4rkte, neue Arbeitspl\\u00e4tze und wirtschaftliches Wachstum schaffen.\\n\\nEs ist die Welt der Computer, die schon jetzt unseren Alltag beherrscht. Die Leistung der Chips verdoppelt sich alle 18 Monate, und es halbiert sich ihr Preis. Daraus entstehen Internet und Unterhaltungselektronik. Daraus entsteht eine F\\u00fclle von M\\u00f6glichkeiten in Chemie und im Maschinenbau. Daraus entsteht eine F\\u00fclle von M\\u00f6glichkeiten im Automobilbau. Daraus entstehen lauter Arbeitspl\\u00e4tze, die f\\u00fcr unsere Zukunft wichtig sind, in einem Bereich, wo Deutschland immer stark war. Deutschland war selten in den Spitzentechnologien vorne, aber als Meister der Systeme wurden aus den einzelnen Techniken neue Produkte geschaffen.\\n\\nDer Chip ist Silizium, und Silizium ist Sand - und Sand ist reichlich vorhanden. Und dazu braucht man noch Intelligenz. Intelligenz, so sagt man uns, ist beliebig vorhanden. In der Praxis findet man gelegentlich Knappheiten.\", \"wahlperiode\": 17, \"speaker_cleaned\": \"Dr. Heinz Riesenhuber\", \"speaker_fp\": \"heinz-riesenhuber\", \"filename\": \"data/txt/17001.txt\", \"speaker\": \"Alterspr\\u00e4sident Dr. Heinz Riesenhuber\", \"speaker_party\": null, \"type\": \"chair\"}, {\"sitzung\": 1, \"in_writing\": false, \"sequence\": 19, \"text\": \"Heiterkeit\", \"wahlperiode\": 17, \"speaker_cleaned\": null, \"speaker_fp\": null, \"filename\": \"data/txt/17001.txt\", \"speaker\": null, \"speaker_party\": null, \"type\": \"poi\"}, {\"sitzung\": 1, \"in_writing\": false, \"sequence\": 18, \"text\": \"- ich bin danach gefragt worden -, auch wenn es der Lebendigkeit der Rede abtr\\u00e4glich sein k\\u00f6nnte.\", \"wahlperiode\": 17, \"speaker_cleaned\": \"Dr. Heinz Riesenhuber\", \"speaker_fp\": \"heinz-riesenhuber\", \"filename\": \"data/txt/17001.txt\", \"speaker\": \"Alterspr\\u00e4sident Dr. Heinz Riesenhuber\", \"speaker_party\": null, \"type\": \"chair\"}, {\"sitzung\": 1, \"in_writing\": false, \"sequence\": 17, \"text\": \"Heiterkeit und Beifall\", \"wahlperiode\": 17, \"speaker_cleaned\": null, \"speaker_fp\": null, \"filename\": \"data/txt/17001.txt\", \"speaker\": null, \"speaker_party\": null, \"type\": \"poi\"}, {\"sitzung\": 1, \"in_writing\": false, \"sequence\": 16, \"text\": \"In den USA beginnt man eine Rede mit einem Witz, in Japan mit einer Entschuldigung. Ich beginne mit einer Zusage: Ich werde diesmal das Mikrofon nicht verlassen\", \"wahlperiode\": 17, \"speaker_cleaned\": \"Dr. Heinz Riesenhuber\", \"speaker_fp\": \"heinz-riesenhuber\", \"filename\": \"data/txt/17001.txt\", \"speaker\": \"Alterspr\\u00e4sident Dr. Heinz Riesenhuber\", \"speaker_party\": null, \"type\": \"chair\"}, {\"sitzung\": 1, \"in_writing\": false, \"sequence\": 15, \"text\": \"Heiterkeit\", \"wahlperiode\": 17, \"speaker_cleaned\": null, \"speaker_fp\": null, \"filename\": \"data/txt/17001.txt\", \"speaker\": null, \"speaker_party\": null, \"type\": \"poi\"}, {\"sitzung\": 1, \"in_writing\": false, \"sequence\": 14, \"text\": \"Meine sehr verehrten Damen und Herren! Liebe Kolleginnen und Kollegen! Damit haben wir den ersten Teil der Regularien erledigt. Ich m\\u00f6chte Sie nochmals begr\\u00fc\\u00dfen. Ich habe die Freude, jetzt einige Worte sagen zu d\\u00fcrfen. Die besondere Gnade dieses Moments ist, dass man sagen darf, was man schon immer sagen wollte.\", \"wahlperiode\": 17, \"speaker_cleaned\": \"Dr. Heinz Riesenhuber\", \"speaker_fp\": \"heinz-riesenhuber\", \"filename\": \"data/txt/17001.txt\", \"speaker\": \"Alterspr\\u00e4sident Dr. Heinz Riesenhuber\", \"speaker_party\": null, \"type\": \"chair\"}, {\"sitzung\": 1, \"in_writing\": false, \"sequence\": 13, \"text\": \"Heiterkeit und Beifall bei Abgeordneten der CDU/CSU und der FDP\", \"wahlperiode\": 17, \"speaker_cleaned\": null, \"speaker_fp\": null, \"filename\": \"data/txt/17001.txt\", \"speaker\": null, \"speaker_party\": null, \"type\": \"poi\"}, {\"sitzung\": 1, \"in_writing\": false, \"sequence\": 12, \"text\": \"darf ich ihm meinen besonderen Dank f\\u00fcr die 23 Jahre aussprechen, die er als Schriftf\\u00fchrer dem Deutschen Bundestag gedient hat. Das ist eine einmalige Leistung. Geduld in den Debatten hat ihn ausgezeichnet. Jetzt geht er auf die Regierungsbank, um Deutschland f\\u00fcr die n\\u00e4chsten 23 Jahre zu gestalten.\", \"wahlperiode\": 17, \"speaker_cleaned\": \"Dr. Heinz Riesenhuber\", \"speaker_fp\": \"heinz-riesenhuber\", \"filename\": \"data/txt/17001.txt\", \"speaker\": \"Alterspr\\u00e4sident Dr. Heinz Riesenhuber\", \"speaker_party\": null, \"type\": \"chair\"}, {\"sitzung\": 1, \"in_writing\": false, \"sequence\": 11, \"text\": \"Heiterkeit\", \"wahlperiode\": 17, \"speaker_cleaned\": null, \"speaker_fp\": null, \"filename\": \"data/txt/17001.txt\", \"speaker\": null, \"speaker_party\": null, \"type\": \"poi\"}, {\"sitzung\": 1, \"in_writing\": false, \"sequence\": 10, \"text\": \"Meine sehr verehrten Damen und Herren, liebe Kolleginnen und Kollegen, bis zur Beschlussfassung \\u00fcber die Gesch\\u00e4ftsordnung, die sich der 17. Deutsche Bundestag nach der Wahl des Bundestagspr\\u00e4sidenten geben wird, verfahren wir nach den Regeln, die f\\u00fcr den 16. Deutschen Bundestag gegolten haben.\\n\\nNach Absprache mit den Fraktionen benenne ich als vorl\\u00e4ufige Schriftf\\u00fchrerinnen und Schriftf\\u00fchrer folgende Damen und Herren Abgeordnete: Jens Ackermann, Dorothee B\\u00e4r, Doris Barnett, Cornelia Behm, Klaus Br\\u00e4hmig, Michael Brand, Angelika Brunkhorst, Elvira Drobinski-Wei\\u00df, Hans-Joachim Fuchtel, Diana Golze, Markus Gr\\u00fcbel, Klaus Hagemann, J\\u00fcrgen Herrmann, Josip Juratovic, Ute Koczy, Jens Koeppen, Dr. Rolf Koschorrek, Katrin Kunert, Sibylle Laurischk, Monika Lazar, Paul Lehrieder, Ingbert Liebing, Michael Link, Gabriele L\\u00f6sekrug-M\\u00f6ller, Maria Michalk, Sibylle Pfeiffer, Daniela Raab, Marlene Rupprecht, Elisabeth Scharfenberg, Marianne Schieder, Dr. Harald Terpe, Florian Toncar, Alexander Ulrich, Josef Philip Winkler, Dr. Claudia Winterstein, J\\u00f6rn Wunderlich und Sabine Zimmermann. - Damit haben wir den schwierigsten Teil geschafft.\\n\\nIch darf die Abgeordneten Hans-Joachim Fuchtel und Dr. Claudia Winterstein bitten, neben mir Platz zu nehmen. W\\u00e4hrend Hans-Joachim Fuchtel mit dem ganzen Gewicht seiner Pers\\u00f6nlichkeit n\\u00e4herkommt,\", \"wahlperiode\": 17, \"speaker_cleaned\": \"Dr. Heinz Riesenhuber\", \"speaker_fp\": \"heinz-riesenhuber\", \"filename\": \"data/txt/17001.txt\", \"speaker\": \"Alterspr\\u00e4sident Dr. Heinz Riesenhuber\", \"speaker_party\": null, \"type\": \"chair\"}, {\"sitzung\": 1, \"in_writing\": false, \"sequence\": 9, \"text\": \"Beifall\", \"wahlperiode\": 17, \"speaker_cleaned\": null, \"speaker_fp\": null, \"filename\": \"data/txt/17001.txt\", \"speaker\": null, \"speaker_party\": null, \"type\": \"poi\"}, {\"sitzung\": 1, \"in_writing\": false, \"sequence\": 8, \"text\": \"Ich darf einen einzigen Kollegen besonders begr\\u00fc\\u00dfen, weil er heute mit uns seinen Geburtstag feiert, die sch\\u00f6nste Party, die man sich vorstellen kann. Es ist der Kollege Henning Otte, dem ich herzlich gratuliere.\", \"wahlperiode\": 17, \"speaker_cleaned\": \"Dr. Heinz Riesenhuber\", \"speaker_fp\": \"heinz-riesenhuber\", \"filename\": \"data/txt/17001.txt\", \"speaker\": \"Alterspr\\u00e4sident Dr. Heinz Riesenhuber\", \"speaker_party\": null, \"type\": \"chair\"}, {\"sitzung\": 1, \"in_writing\": false, \"sequence\": 7, \"text\": \"Beifall\", \"wahlperiode\": 17, \"speaker_cleaned\": null, \"speaker_fp\": null, \"filename\": \"data/txt/17001.txt\", \"speaker\": null, \"speaker_party\": null, \"type\": \"poi\"}, {\"sitzung\": 1, \"in_writing\": false, \"sequence\": 6, \"text\": \"Sie haben uns mit W\\u00fcrde und Klugheit \\u00fcber die Jahre gef\\u00fchrt - die Verbundenheit bleibt.\\n\\nIch habe die Freude, Botschafter und Missionschefs zahlreicher Staaten hier zu begr\\u00fc\\u00dfen. Sie alle sind herzlich willkommen - in der Verbundenheit der Gemeinschaft der V\\u00f6lker.\", \"wahlperiode\": 17, \"speaker_cleaned\": \"Dr. Heinz Riesenhuber\", \"speaker_fp\": \"heinz-riesenhuber\", \"filename\": \"data/txt/17001.txt\", \"speaker\": \"Alterspr\\u00e4sident Dr. Heinz Riesenhuber\", \"speaker_party\": null, \"type\": \"chair\"}, {\"sitzung\": 1, \"in_writing\": false, \"sequence\": 5, \"text\": \"Beifall\", \"wahlperiode\": 17, \"speaker_cleaned\": null, \"speaker_fp\": null, \"filename\": \"data/txt/17001.txt\", \"speaker\": null, \"speaker_party\": null, \"type\": \"poi\"}, {\"sitzung\": 1, \"in_writing\": false, \"sequence\": 4, \"text\": \"Ich begr\\u00fc\\u00dfe herzlich die ehemalige Pr\\u00e4sidentin des Deutschen Bundestages, Frau Dr. Rita S\\u00fcssmuth.\", \"wahlperiode\": 17, \"speaker_cleaned\": \"Dr. Heinz Riesenhuber\", \"speaker_fp\": \"heinz-riesenhuber\", \"filename\": \"data/txt/17001.txt\", \"speaker\": \"Alterspr\\u00e4sident Dr. Heinz Riesenhuber\", \"speaker_party\": null, \"type\": \"chair\"}, {\"sitzung\": 1, \"in_writing\": false, \"sequence\": 3, \"text\": \"Beifall\", \"wahlperiode\": 17, \"speaker_cleaned\": null, \"speaker_fp\": null, \"filename\": \"data/txt/17001.txt\", \"speaker\": null, \"speaker_party\": null, \"type\": \"poi\"}, {\"sitzung\": 1, \"in_writing\": false, \"sequence\": 2, \"text\": \"Unser Pr\\u00e4sident w\\u00fcrde sagen: Ich h\\u00f6re und sehe keinen Widerspruch.\\n\\nMeine Damen und Herren, damit rufe ich Punkt 1 der Tagesordnung auf:\\n\\nEr\\u00f6ffnung der Sitzung durch den Alterspr\\u00e4sidenten\\n\\nIch er\\u00f6ffne die erste Sitzung in der 17. Wahlperiode.\\n\\nIch begr\\u00fc\\u00dfe den Herrn Bundespr\\u00e4sidenten. Wir freuen uns, Herr Bundespr\\u00e4sident, dass Sie wieder bei uns sind.\", \"wahlperiode\": 17, \"speaker_cleaned\": \"Dr. Heinz Riesenhuber\", \"speaker_fp\": \"heinz-riesenhuber\", \"filename\": \"data/txt/17001.txt\", \"speaker\": \"Alterspr\\u00e4sident Dr. Heinz Riesenhuber\", \"speaker_party\": null, \"type\": \"chair\"}, {\"sitzung\": 1, \"in_writing\": false, \"sequence\": 1, \"text\": \"Heiterkeit und Beifall\", \"wahlperiode\": 17, \"speaker_cleaned\": null, \"speaker_fp\": null, \"filename\": \"data/txt/17001.txt\", \"speaker\": null, \"speaker_party\": null, \"type\": \"poi\"}, {\"sitzung\": 1, \"in_writing\": false, \"sequence\": 0, \"text\": \"Guten Morgen, meine sehr verehrten Damen und Herren! Liebe Kolleginnen und Kollegen, ich begr\\u00fc\\u00dfe Sie zur konstituierenden Sitzung des 17. Deutschen Bundestags.\\n\\nParlamentarischer Brauch ist es - das entspricht unserer Gesch\\u00e4ftsordnung; ich kann die Paragrafen zitieren -, dass der \\u00c4lteste die erste Sitzung des Bundestags er\\u00f6ffnet. Ich bin am Sonntag, dem 1. Dezember 1935, geboren. Wenn jemand von den Kollegen im Saal \\u00e4lter ist als ich, dann spreche er jetzt oder er schweige f\\u00fcr immer.\", \"wahlperiode\": 17, \"speaker_cleaned\": \"Dr. Heinz Riesenhuber\", \"speaker_fp\": \"heinz-riesenhuber\", \"filename\": \"data/txt/17001.txt\", \"speaker\": \"Alterspr\\u00e4sident Dr. Heinz Riesenhuber\", \"speaker_party\": null, \"type\": \"chair\"}]"
     ]
    }
   ],
   "source": [
    "!head -1 ../pydata_hackathon/bundestag/17001.json"
   ]
  },
  {
   "cell_type": "code",
   "execution_count": 22,
   "metadata": {
    "ExecuteTime": {
     "end_time": "2016-10-12T18:38:47.999918",
     "start_time": "2016-10-12T18:38:47.950035"
    },
    "collapsed": false
   },
   "outputs": [
    {
     "name": "stdout",
     "output_type": "stream",
     "text": [
      "mkdir: ../pydata_hackathon/bundestag/unravelled: File exists\r\n"
     ]
    }
   ],
   "source": [
    "!mkdir ../pydata_hackathon/bundestag/unravelled"
   ]
  },
  {
   "cell_type": "markdown",
   "metadata": {},
   "source": [
    "Transform the `json` files into invalid one dictionary per line `json` "
   ]
  },
  {
   "cell_type": "code",
   "execution_count": 23,
   "metadata": {
    "ExecuteTime": {
     "end_time": "2016-10-12T18:41:24.810918",
     "start_time": "2016-10-12T18:41:01.085883"
    },
    "collapsed": false,
    "scrolled": true
   },
   "outputs": [],
   "source": [
    "for f in files:\n",
    "    if (os.path.isdir(f)):\n",
    "        continue\n",
    "    with open(f) as fh, open(os.path.join(pth, \"unravelled\", os.path.basename(f)), 'w') as fh_out:\n",
    "        docs = json.load(fh)\n",
    "        for d in docs:\n",
    "            s = json.dumps(d, fh_out)\n",
    "            fh_out.write(s)\n",
    "            fh_out.write('\\n')"
   ]
  },
  {
   "cell_type": "markdown",
   "metadata": {},
   "source": [
    "### How many distinct speakers are there?"
   ]
  },
  {
   "cell_type": "code",
   "execution_count": 5,
   "metadata": {
    "ExecuteTime": {
     "end_time": "2016-10-12T22:26:15.682918",
     "start_time": "2016-10-12T22:26:07.395301"
    },
    "collapsed": false
   },
   "outputs": [
    {
     "data": {
      "text/plain": [
       "3683"
      ]
     },
     "execution_count": 5,
     "metadata": {},
     "output_type": "execute_result"
    }
   ],
   "source": [
    "records = db.read_text('../pydata_hackathon/bundestag/unravelled/*.json').map(json.loads)\n",
    "records.pluck('speaker_cleaned').distinct().count().compute()"
   ]
  },
  {
   "cell_type": "code",
   "execution_count": 49,
   "metadata": {
    "ExecuteTime": {
     "end_time": "2016-10-13T10:30:48.276013",
     "start_time": "2016-10-13T10:30:48.195173"
    },
    "collapsed": false
   },
   "outputs": [],
   "source": [
    "import seaborn as sns\n",
    "import pandas as pd\n",
    "speaker_freq = records.pluck('speaker_cleaned').frequencies()"
   ]
  },
  {
   "cell_type": "code",
   "execution_count": 50,
   "metadata": {
    "ExecuteTime": {
     "end_time": "2016-10-13T10:31:00.718824",
     "start_time": "2016-10-13T10:30:48.519499"
    },
    "collapsed": false
   },
   "outputs": [
    {
     "data": {
      "text/plain": [
       "[('', 35),\n",
       " ('Ich rufe also nunmehr die dringliche Frage 2 der Kollegin Vogler auf', 1),\n",
       " ('Dann verfahren wir so und kommen zu Frage 19 des Kollegen Ströbele', 1),\n",
       " ('Dr. Lukrezia Jochimsen', 335),\n",
       " ('Sören Bartol', 1087)]"
      ]
     },
     "execution_count": 50,
     "metadata": {},
     "output_type": "execute_result"
    }
   ],
   "source": [
    "speaker_freq.compute()[:5]"
   ]
  },
  {
   "cell_type": "markdown",
   "metadata": {},
   "source": [
    "There's lots of speakers, but the list also has quite a bit of noise in it."
   ]
  },
  {
   "cell_type": "code",
   "execution_count": 51,
   "metadata": {
    "ExecuteTime": {
     "end_time": "2016-10-13T10:31:00.730577",
     "start_time": "2016-10-13T10:31:00.721632"
    },
    "collapsed": false
   },
   "outputs": [],
   "source": [
    "speakers = (records\n",
    "           .pluck('speaker_cleaned')\n",
    "           .filter(lambda speaker: speaker is not None and 0 < len(speaker) < 20))\n",
    "speaker_freq = speakers.frequencies()"
   ]
  },
  {
   "cell_type": "code",
   "execution_count": 52,
   "metadata": {
    "ExecuteTime": {
     "end_time": "2016-10-13T10:31:13.065970",
     "start_time": "2016-10-13T10:31:00.734194"
    },
    "collapsed": false
   },
   "outputs": [
    {
     "data": {
      "text/plain": [
       "[('Dr. Reinhard Brandl', 606),\n",
       " ('Ute Koczy', 288),\n",
       " ('Siegfried Kauder', 169),\n",
       " ('Sören Bartol', 1087),\n",
       " ('Dr. Carola Reimann', 368)]"
      ]
     },
     "execution_count": 52,
     "metadata": {},
     "output_type": "execute_result"
    }
   ],
   "source": [
    "speaker_freq.compute()[:5]"
   ]
  },
  {
   "cell_type": "code",
   "execution_count": 53,
   "metadata": {
    "ExecuteTime": {
     "end_time": "2016-10-13T10:31:25.052217",
     "start_time": "2016-10-13T10:31:13.069261"
    },
    "collapsed": false
   },
   "outputs": [
    {
     "data": {
      "text/plain": [
       "[('Dr. Norbert Lammert', 10234),\n",
       " ('Petra Pau', 9029),\n",
       " ('Eduard Oswald', 5080),\n",
       " ('Hubertus Heil', 4131),\n",
       " ('Volker Kauder', 4110),\n",
       " ('Claudia Roth', 3981),\n",
       " ('Gerda Hasselfeldt', 3438),\n",
       " ('Ulla Schmidt', 3424),\n",
       " ('Elke Ferner', 3310),\n",
       " ('Renate Künast', 3212)]"
      ]
     },
     "execution_count": 53,
     "metadata": {},
     "output_type": "execute_result"
    }
   ],
   "source": [
    "speaker_freq.topk(10, key=lambda x: x[1]).compute()"
   ]
  },
  {
   "cell_type": "code",
   "execution_count": 55,
   "metadata": {
    "ExecuteTime": {
     "end_time": "2016-10-13T10:35:27.838705",
     "start_time": "2016-10-13T10:35:14.875200"
    },
    "collapsed": false
   },
   "outputs": [
    {
     "data": {
      "image/png": "[encoded data removed]",
      "text/plain": [
       "<matplotlib.figure.Figure at 0x110462f60>"
      ]
     },
     "metadata": {},
     "output_type": "display_data"
    }
   ],
   "source": [
    "df = (pd.DataFrame(data=speaker_freq.topk(25, lambda x: x[1]).compute(),\n",
    "                   columns=('speaker', 'frequency'))\n",
    "      .set_index('speaker'))\n",
    "_ = df.plot(kind='barh')"
   ]
  },
  {
   "cell_type": "code",
   "execution_count": 56,
   "metadata": {
    "ExecuteTime": {
     "end_time": "2016-10-13T10:35:33.466950",
     "start_time": "2016-10-13T10:35:33.352781"
    },
    "collapsed": false
   },
   "outputs": [
    {
     "data": {
      "text/html": [
       "<div>\n",
       "<table border=\"1\" class=\"dataframe\">\n",
       "  <thead>\n",
       "    <tr style=\"text-align: right;\">\n",
       "      <th></th>\n",
       "      <th>frequency</th>\n",
       "    </tr>\n",
       "    <tr>\n",
       "      <th>speaker</th>\n",
       "      <th></th>\n",
       "    </tr>\n",
       "  </thead>\n",
       "  <tbody>\n",
       "    <tr>\n",
       "      <th>Dr. Norbert Lammert</th>\n",
       "      <td>10234</td>\n",
       "    </tr>\n",
       "    <tr>\n",
       "      <th>Petra Pau</th>\n",
       "      <td>9029</td>\n",
       "    </tr>\n",
       "    <tr>\n",
       "      <th>Eduard Oswald</th>\n",
       "      <td>5080</td>\n",
       "    </tr>\n",
       "    <tr>\n",
       "      <th>Hubertus Heil</th>\n",
       "      <td>4131</td>\n",
       "    </tr>\n",
       "    <tr>\n",
       "      <th>Volker Kauder</th>\n",
       "      <td>4110</td>\n",
       "    </tr>\n",
       "  </tbody>\n",
       "</table>\n",
       "</div>"
      ],
      "text/plain": [
       "                     frequency\n",
       "speaker                       \n",
       "Dr. Norbert Lammert      10234\n",
       "Petra Pau                 9029\n",
       "Eduard Oswald             5080\n",
       "Hubertus Heil             4131\n",
       "Volker Kauder             4110"
      ]
     },
     "execution_count": 56,
     "metadata": {},
     "output_type": "execute_result"
    }
   ],
   "source": [
    "df.head()"
   ]
  },
  {
   "cell_type": "code",
   "execution_count": 56,
   "metadata": {
    "ExecuteTime": {
     "end_time": "2016-10-12T20:50:17.632560",
     "start_time": "2016-10-12T20:49:46.511323"
    },
    "collapsed": false,
    "scrolled": true
   },
   "outputs": [],
   "source": [
    "records = db.read_text('../pydata_hackathon/bundestag/unravelled/*.json').map(json.loads)\n",
    "g = records.pluck('speaker_cleander').distinct()\n",
    "g.visualize(optimize_graph=False, format='pdf')"
   ]
  },
  {
   "cell_type": "markdown",
   "metadata": {},
   "source": [
    "[dask graph](mydask.pdf)"
   ]
  },
  {
   "cell_type": "markdown",
   "metadata": {},
   "source": [
    "----"
   ]
  },
  {
   "cell_type": "code",
   "execution_count": 157,
   "metadata": {
    "ExecuteTime": {
     "end_time": "2016-10-13T11:54:10.282866",
     "start_time": "2016-10-13T11:54:10.274700"
    },
    "collapsed": false
   },
   "outputs": [
    {
     "data": {
      "text/plain": [
       "<dask.context.set_options at 0x10c0aa5f8>"
      ]
     },
     "execution_count": 157,
     "metadata": {},
     "output_type": "execute_result"
    }
   ],
   "source": [
    "dask.set_options(get=dask.get)"
   ]
  },
  {
   "cell_type": "code",
   "execution_count": 148,
   "metadata": {
    "ExecuteTime": {
     "end_time": "2016-10-13T11:50:21.573362",
     "start_time": "2016-10-13T11:50:21.471025"
    },
    "collapsed": true
   },
   "outputs": [],
   "source": [
    "records = db.read_text('../pydata_hackathon/bundestag/unravelled/*.json').map(json.loads)"
   ]
  },
  {
   "cell_type": "code",
   "execution_count": 149,
   "metadata": {
    "ExecuteTime": {
     "end_time": "2016-10-13T11:50:22.690714",
     "start_time": "2016-10-13T11:50:22.657061"
    },
    "collapsed": false
   },
   "outputs": [],
   "source": [
    "fdp_word_usage = (records.filter(lambda d: d['type'] == 'speech')\n",
    "        .filter(lambda d: d['speaker'] is not None and 0 < len(d['speaker']) < 20)\n",
    "        .filter(lambda d: d['speaker_party'] is not None and d['speaker_party'] == 'fdp')\n",
    "        .pluck('text')\n",
    "        .map(lambda text: text.lower().split())\n",
    "        .concat()\n",
    ")"
   ]
  },
  {
   "cell_type": "code",
   "execution_count": 158,
   "metadata": {
    "ExecuteTime": {
     "end_time": "2016-10-13T11:54:25.478340",
     "start_time": "2016-10-13T11:54:12.616533"
    },
    "collapsed": false
   },
   "outputs": [
    {
     "data": {
      "text/plain": [
       "[('die', 18870),\n",
       " ('der', 15257),\n",
       " ('und', 12956),\n",
       " ('wir', 9397),\n",
       " ('in', 9286),\n",
       " ('das', 9162),\n",
       " ('sie', 6540),\n",
       " ('ist', 6043),\n",
       " ('dass', 5979),\n",
       " ('den', 5843)]"
      ]
     },
     "execution_count": 158,
     "metadata": {},
     "output_type": "execute_result"
    }
   ],
   "source": [
    "fdp_word_usage.frequencies().topk(10, key=lambda x: x[1]).compute()"
   ]
  },
  {
   "cell_type": "markdown",
   "metadata": {},
   "source": [
    "Unsurprisingly this list is not particularly informative as it is just the most frequent words in the German vocabulary in general.\n",
    "\n",
    "Let's do average word usage over all documents instead"
   ]
  },
  {
   "cell_type": "code",
   "execution_count": 159,
   "metadata": {
    "ExecuteTime": {
     "end_time": "2016-10-13T11:55:04.154053",
     "start_time": "2016-10-13T11:54:38.199626"
    },
    "collapsed": false
   },
   "outputs": [],
   "source": [
    "party = 'fdp'\n",
    "party_records = (records.filter(lambda d: d['type'] == 'speech')\n",
    "        .filter(lambda d: d['speaker'] is not None and 0 < len(d['speaker']) < 20)\n",
    "        .filter(lambda d: d['speaker_party'] is not None and d['speaker_party'] == party))\n",
    "\n",
    "# going over the party_records twice is pretty inefficient - there probably a way to do this better\n",
    "party_doc_freq = dict(party_records\n",
    "        .pluck('text')\n",
    "        .map(lambda text: set(text.lower().split()))\n",
    "        .concat()\n",
    "        .frequencies())\n",
    "\n",
    "party_word_usage = dict(party_records\n",
    "        .pluck('text')\n",
    "        .map(lambda text: text.lower().split())\n",
    "        .concat()\n",
    "        .frequencies()\n",
    "        .map(lambda word, freq: (word, freq / party_doc_freq[word]))\n",
    ")"
   ]
  },
  {
   "cell_type": "code",
   "execution_count": 160,
   "metadata": {
    "ExecuteTime": {
     "end_time": "2016-10-13T11:55:06.513429",
     "start_time": "2016-10-13T11:55:06.461542"
    },
    "collapsed": false
   },
   "outputs": [
    {
     "data": {
      "text/plain": [
       "[('jugend-', 14.0),\n",
       " ('bahai', 10.666666666666666),\n",
       " ('beiräte', 10.0),\n",
       " ('westsahara', 10.0),\n",
       " ('spielerschutz', 9.0),\n",
       " ('todesstrafe', 9.0),\n",
       " ('unfallkasse', 8.0),\n",
       " ('occar', 8.0),\n",
       " ('kinderarbeit', 7.25),\n",
       " ('japanische', 7.0),\n",
       " ('fakultativprotokolls', 7.0),\n",
       " ('spielerkarte', 7.0),\n",
       " ('ead', 6.5),\n",
       " ('mumia', 6.0),\n",
       " ('wlan', 6.0),\n",
       " ('stade', 6.0),\n",
       " ('asbest', 6.0),\n",
       " ('roma', 5.785714285714286),\n",
       " ('örtlichen', 5.5),\n",
       " ('amtshilfe', 5.0)]"
      ]
     },
     "execution_count": 160,
     "metadata": {},
     "output_type": "execute_result"
    }
   ],
   "source": [
    "sorted(party_word_usage.items(), key=lambda x: x[1], reverse=True)[:20]"
   ]
  },
  {
   "cell_type": "code",
   "execution_count": 164,
   "metadata": {
    "ExecuteTime": {
     "end_time": "2016-10-13T11:57:47.970119",
     "start_time": "2016-10-13T11:57:23.359627"
    },
    "collapsed": false
   },
   "outputs": [],
   "source": [
    "party = 'cducsu'\n",
    "party_records = (records.filter(lambda d: d['type'] == 'speech')\n",
    "        .filter(lambda d: d['speaker'] is not None and 0 < len(d['speaker']) < 20)\n",
    "        .filter(lambda d: d['speaker_party'] is not None and d['speaker_party'] == party))\n",
    "\n",
    "party_doc_freq = dict(party_records\n",
    "        .pluck('text')\n",
    "        .map(lambda text: set(text.lower().split()))\n",
    "        .concat()\n",
    "        .frequencies())\n",
    "\n",
    "party_word_usage = dict(party_records\n",
    "        .pluck('text')\n",
    "        .map(lambda text: text.lower().split())\n",
    "        .concat()\n",
    "        .frequencies()\n",
    "        .map(lambda word, freq: (word, freq / party_doc_freq[word]))\n",
    ")"
   ]
  },
  {
   "cell_type": "code",
   "execution_count": 165,
   "metadata": {
    "ExecuteTime": {
     "end_time": "2016-10-13T11:57:49.789843",
     "start_time": "2016-10-13T11:57:49.780220"
    },
    "collapsed": false
   },
   "outputs": [
    {
     "data": {
      "text/plain": [
       "[('polarforschung', 9.5),\n",
       " ('awi', 4.0),\n",
       " ('die', 3.857142857142857),\n",
       " ('arktis', 3.5),\n",
       " ('der', 3.25),\n",
       " ('und', 3.197674418604651),\n",
       " ('finden', 3.0),\n",
       " ('erhöhung', 3.0),\n",
       " ('\\x84globe\\x93', 3.0),\n",
       " ('arktis-forschung', 3.0),\n",
       " ('\\x84polarstern\\x93', 3.0),\n",
       " ('arktischen', 2.5),\n",
       " ('bedeutung', 2.5),\n",
       " ('internationale', 2.5),\n",
       " ('gewalt', 2.5),\n",
       " ('für', 2.388888888888889),\n",
       " ('das', 2.3484848484848486),\n",
       " ('kind', 2.3333333333333335),\n",
       " ('in', 2.2705882352941176),\n",
       " ('deutsche', 2.25)]"
      ]
     },
     "execution_count": 165,
     "metadata": {},
     "output_type": "execute_result"
    }
   ],
   "source": [
    "sorted(party_word_usage.items(), key=lambda x: x[1], reverse=True)[:20]"
   ]
  },
  {
   "cell_type": "markdown",
   "metadata": {},
   "source": [
    "----"
   ]
  },
  {
   "cell_type": "markdown",
   "metadata": {},
   "source": [
    "`dask.bag` is an `iterable`, which means you can pass it to a `dict` constructor"
   ]
  },
  {
   "cell_type": "code",
   "execution_count": 45,
   "metadata": {
    "ExecuteTime": {
     "end_time": "2016-10-13T10:29:55.217262",
     "start_time": "2016-10-13T10:29:41.623716"
    },
    "collapsed": false
   },
   "outputs": [],
   "source": [
    "fdp_freq_words = dict(fdp_word_usage.frequencies())"
   ]
  },
  {
   "cell_type": "markdown",
   "metadata": {},
   "source": [
    "To get to the actually insightful most frequent words we need to use contextual information about what parties say. This information however is global, which makes things slightly more tricky.\n",
    "\n",
    "$$\n",
    "idf(t, D) = \\log{\\frac{N}{\\left\\vert\\left\\{ d \\in D : t \\in d \\right\\}\\right\\vert}}\n",
    "$$\n"
   ]
  },
  {
   "cell_type": "code",
   "execution_count": 66,
   "metadata": {
    "ExecuteTime": {
     "end_time": "2016-10-13T10:55:30.524174",
     "start_time": "2016-10-13T10:55:30.520660"
    },
    "collapsed": true
   },
   "outputs": [],
   "source": [
    "import math"
   ]
  },
  {
   "cell_type": "code",
   "execution_count": 102,
   "metadata": {
    "ExecuteTime": {
     "end_time": "2016-10-13T11:10:05.734403",
     "start_time": "2016-10-13T11:09:53.530688"
    },
    "collapsed": false
   },
   "outputs": [],
   "source": [
    "true_records = records.filter(lambda d: d['type'] == 'speech').filter(lambda d: d['speaker'] is not None and 0 < len(d['speaker']) < 20)\n",
    "num_docs = true_records.count().compute()\n",
    "idfs = (true_records\n",
    "        .pluck('text')\n",
    "        .map(lambda text: set(text.lower().split()))\n",
    "        .concat()\n",
    "        .frequencies()\n",
    "        .map(lambda word, doc_freq: (word, math.log2(num_docs / doc_freq)))\n",
    ")"
   ]
  },
  {
   "cell_type": "code",
   "execution_count": 122,
   "metadata": {
    "ExecuteTime": {
     "end_time": "2016-10-13T11:22:43.820548",
     "start_time": "2016-10-13T11:22:28.463171"
    },
    "collapsed": true
   },
   "outputs": [],
   "source": [
    "idfs_dict = dict(idfs)"
   ]
  },
  {
   "cell_type": "code",
   "execution_count": 124,
   "metadata": {
    "ExecuteTime": {
     "end_time": "2016-10-13T11:22:55.162590",
     "start_time": "2016-10-13T11:22:55.157548"
    },
    "collapsed": false
   },
   "outputs": [
    {
     "data": {
      "text/plain": [
       "5.90601823646768"
      ]
     },
     "execution_count": 124,
     "metadata": {},
     "output_type": "execute_result"
    }
   ],
   "source": [
    "idfs_dict['sicherheit']"
   ]
  },
  {
   "cell_type": "code",
   "execution_count": 123,
   "metadata": {
    "ExecuteTime": {
     "end_time": "2016-10-13T11:22:43.829986",
     "start_time": "2016-10-13T11:22:43.823947"
    },
    "collapsed": false
   },
   "outputs": [
    {
     "data": {
      "text/plain": [
       "(0.6907178701464926, 0.5580699050150078, 0.8246141394519536)"
      ]
     },
     "execution_count": 123,
     "metadata": {},
     "output_type": "execute_result"
    }
   ],
   "source": [
    "idfs_dict['der'], idfs_dict['die'], idfs_dict['das']"
   ]
  },
  {
   "cell_type": "code",
   "execution_count": 126,
   "metadata": {
    "ExecuteTime": {
     "end_time": "2016-10-13T11:23:19.529761",
     "start_time": "2016-10-13T11:23:19.524098"
    },
    "collapsed": false
   },
   "outputs": [
    {
     "data": {
      "text/plain": [
       "10538.282544825037"
      ]
     },
     "execution_count": 126,
     "metadata": {},
     "output_type": "execute_result"
    }
   ],
   "source": [
    "fdp_freq_words['der'] * idfs_dict['der']"
   ]
  },
  {
   "cell_type": "code",
   "execution_count": 116,
   "metadata": {
    "ExecuteTime": {
     "end_time": "2016-10-13T11:18:15.003782",
     "start_time": "2016-10-13T11:18:14.990219"
    },
    "collapsed": true
   },
   "outputs": [],
   "source": [
    "doc_freq = (true_records\n",
    "        .pluck('text')\n",
    "        .map(lambda text: set(text.lower().split()))\n",
    "        .concat()\n",
    "        .frequencies()\n",
    ")"
   ]
  },
  {
   "cell_type": "code",
   "execution_count": 118,
   "metadata": {
    "ExecuteTime": {
     "end_time": "2016-10-13T11:19:11.022993",
     "start_time": "2016-10-13T11:18:55.454218"
    },
    "collapsed": false
   },
   "outputs": [],
   "source": [
    "docfreq = dict(doc_freq)"
   ]
  },
  {
   "cell_type": "code",
   "execution_count": 120,
   "metadata": {
    "ExecuteTime": {
     "end_time": "2016-10-13T11:19:16.902949",
     "start_time": "2016-10-13T11:19:16.897758"
    },
    "collapsed": false
   },
   "outputs": [
    {
     "data": {
      "text/plain": [
       "23146"
      ]
     },
     "execution_count": 120,
     "metadata": {},
     "output_type": "execute_result"
    }
   ],
   "source": [
    "num_docs"
   ]
  },
  {
   "cell_type": "code",
   "execution_count": 119,
   "metadata": {
    "ExecuteTime": {
     "end_time": "2016-10-13T11:19:11.773304",
     "start_time": "2016-10-13T11:19:11.767736"
    },
    "collapsed": false
   },
   "outputs": [
    {
     "data": {
      "text/plain": [
       "14340"
      ]
     },
     "execution_count": 119,
     "metadata": {},
     "output_type": "execute_result"
    }
   ],
   "source": [
    "docfreq['der']"
   ]
  },
  {
   "cell_type": "code",
   "execution_count": 106,
   "metadata": {
    "ExecuteTime": {
     "end_time": "2016-10-13T11:12:31.631579",
     "start_time": "2016-10-13T11:12:17.527603"
    },
    "collapsed": false
   },
   "outputs": [],
   "source": [
    "itr = iter(idfs)"
   ]
  },
  {
   "cell_type": "code",
   "execution_count": 113,
   "metadata": {
    "ExecuteTime": {
     "end_time": "2016-10-13T11:14:10.159912",
     "start_time": "2016-10-13T11:13:55.387751"
    },
    "collapsed": false
   },
   "outputs": [],
   "source": [
    "fdp_distinctive_words = {k:fdp_freq_words[k] * idf for k,idf in idfs if k in fdp_freq_words}"
   ]
  },
  {
   "cell_type": "code",
   "execution_count": 128,
   "metadata": {
    "ExecuteTime": {
     "end_time": "2016-10-13T11:25:18.457472",
     "start_time": "2016-10-13T11:25:18.388805"
    },
    "collapsed": false
   },
   "outputs": [
    {
     "data": {
      "text/plain": [
       "[('beim', 1648.6410131057903),\n",
       " ('politik', 1647.5593348132595),\n",
       " ('machen', 1647.1900001199226),\n",
       " ('sind,', 1635.8470614864502),\n",
       " ('bereich', 1633.970372785724),\n",
       " ('sollten', 1623.8918427541932),\n",
       " ('ihren', 1618.4988221948463),\n",
       " ('dank.', 1614.3212994023997),\n",
       " ('bereits', 1614.1518485158294),\n",
       " ('nämlich', 1612.214277661252),\n",
       " ('ihrem', 1593.458710650541),\n",
       " ('weg', 1589.0354030482479),\n",
       " ('daher', 1586.249019990864),\n",
       " ('genau', 1580.5558531955362),\n",
       " ('mir', 1558.5503470525243)]"
      ]
     },
     "execution_count": 128,
     "metadata": {},
     "output_type": "execute_result"
    }
   ],
   "source": [
    "sorted(fdp_distinctive_words.items(), key=lambda x: x[1], reverse=True)[150:165]"
   ]
  },
  {
   "cell_type": "markdown",
   "metadata": {},
   "source": [
    "----"
   ]
  },
  {
   "cell_type": "markdown",
   "metadata": {},
   "source": [
    "As with almost anything there are several ways of achieving the same outcome. Here's an alternative to the above that isn't quite as good."
   ]
  },
  {
   "cell_type": "code",
   "execution_count": 6,
   "metadata": {
    "ExecuteTime": {
     "end_time": "2016-10-12T22:26:20.247680",
     "start_time": "2016-10-12T22:26:20.241756"
    },
    "collapsed": false
   },
   "outputs": [],
   "source": [
    "bag = db.from_sequence([(1, 'the dask bag'),\n",
    "                        (2, 'b b'),\n",
    "                        (3, 'c c'),\n",
    "                        (1, 'is pretty cool'),\n",
    "                        (4, 'd d'),\n",
    "                        (1, 'don\\'t you think?'),\n",
    "                        (4, 'I think so')])"
   ]
  },
  {
   "cell_type": "code",
   "execution_count": 16,
   "metadata": {
    "ExecuteTime": {
     "end_time": "2016-10-12T22:28:51.798372",
     "start_time": "2016-10-12T22:28:51.794312"
    },
    "collapsed": false
   },
   "outputs": [],
   "source": [
    "def binop(a, b):\n",
    "    print('binop', a, b)\n",
    "    return a[0], a[1] + b[1]"
   ]
  },
  {
   "cell_type": "code",
   "execution_count": 18,
   "metadata": {
    "ExecuteTime": {
     "end_time": "2016-10-12T22:29:11.718545",
     "start_time": "2016-10-12T22:29:11.714379"
    },
    "collapsed": true
   },
   "outputs": [],
   "source": [
    "def combine(a, b):\n",
    "    print('combine', a, b)\n",
    "    return a[0], a[1] + b[1]"
   ]
  },
  {
   "cell_type": "code",
   "execution_count": 9,
   "metadata": {
    "ExecuteTime": {
     "end_time": "2016-10-12T22:26:22.535679",
     "start_time": "2016-10-12T22:26:22.529932"
    },
    "collapsed": false
   },
   "outputs": [
    {
     "data": {
      "text/plain": [
       "<dask.context.set_options at 0x10c225c18>"
      ]
     },
     "execution_count": 9,
     "metadata": {},
     "output_type": "execute_result"
    }
   ],
   "source": [
    "import dask\n",
    "dask.set_options(get=dask.async.get_sync)"
   ]
  },
  {
   "cell_type": "code",
   "execution_count": 22,
   "metadata": {
    "ExecuteTime": {
     "end_time": "2016-10-12T22:29:59.841348",
     "start_time": "2016-10-12T22:29:59.829414"
    },
    "collapsed": false
   },
   "outputs": [
    {
     "name": "stdout",
     "output_type": "stream",
     "text": [
      "combine (1, [\"don't\", 'you', 'think?']) (1, ['the', 'dask', 'bag'])\n",
      "combine (1, [\"don't\", 'you', 'think?', 'the', 'dask', 'bag']) (1, ['is', 'pretty', 'cool'])\n",
      "combine (4, ['d', 'd']) (4, ['I', 'think', 'so'])\n"
     ]
    },
    {
     "data": {
      "text/plain": [
       "[(1,\n",
       "  (1,\n",
       "   [\"don't\", 'you', 'think?', 'the', 'dask', 'bag', 'is', 'pretty', 'cool'])),\n",
       " (2, (2, ['b', 'b'])),\n",
       " (3, (3, ['c', 'c'])),\n",
       " (4, (4, ['d', 'd', 'I', 'think', 'so']))]"
      ]
     },
     "execution_count": 22,
     "metadata": {},
     "output_type": "execute_result"
    }
   ],
   "source": [
    "bag.map(lambda x: (x[0], x[1].split())).foldby(0, binop=binop, combine=combine).compute()"
   ]
  },
  {
   "cell_type": "markdown",
   "metadata": {},
   "source": [
    "-----"
   ]
  },
  {
   "cell_type": "markdown",
   "metadata": {},
   "source": [
    "# What's nice\n",
    "- debugging is much easier than for instance `spark`\n",
    "- `dask.bag` is iterable\n",
    "- \n",
    "\n",
    "# What's annoying\n",
    "- can't call `.pluck(\"field_1\", \"field_2\")` (might be able to use `itemgetter`, but I haven't tested it)\n",
    "\n",
    "\n",
    "# What's difficult\n",
    "\n",
    "- functional programming\n",
    "- computations that need global state"
   ]
  },
  {
   "cell_type": "code",
   "execution_count": null,
   "metadata": {
    "collapsed": true
   },
   "outputs": [],
   "source": []
  }
 ],
 "metadata": {
  "anaconda-cloud": {},
  "kernelspec": {
   "display_name": "Python 3",
   "language": "python",
   "name": "python3"
  },
  "language_info": {
   "codemirror_mode": {
    "name": "ipython",
    "version": 3
   },
   "file_extension": ".py",
   "mimetype": "text/x-python",
   "name": "python",
   "nbconvert_exporter": "python",
   "pygments_lexer": "ipython3",
   "version": "3.5.2"
  }
 },
 "nbformat": 4,
 "nbformat_minor": 1
}
